{
 "cells": [
  {
   "cell_type": "code",
   "execution_count": null,
   "metadata": {
    "ExecuteTime": {
     "end_time": "2020-07-14T06:30:30.044843Z",
     "start_time": "2020-07-14T06:30:29.224099Z"
    }
   },
   "outputs": [],
   "source": [
    "import numpy as np\n",
    "import pandas as pd\n",
    "import matplotlib\n",
    "import matplotlib.pyplot as plt\n",
    "import AlgoLoop\n",
    "import StatisticFunc\n",
    "\n",
    "plt.style.use('Solarize_Light2')                     # 绘图风格\n",
    "matplotlib.rcParams['font.sans-serif'] = ['SimHei']  # 字体雅黑\n",
    "matplotlib.rcParams['font.family'] = 'sans-serif'\n",
    "matplotlib.rcParams['axes.unicode_minus'] = False    # 处理负号"
   ]
  },
  {
   "cell_type": "markdown",
   "metadata": {},
   "source": [
    "# 预处理（剔除原油，铜，铁矿石）"
   ]
  },
  {
   "cell_type": "markdown",
   "metadata": {},
   "source": [
    "## 提取并处理数据"
   ]
  },
  {
   "cell_type": "markdown",
   "metadata": {},
   "source": [
    "### 权益类资产换手率"
   ]
  },
  {
   "cell_type": "code",
   "execution_count": null,
   "metadata": {
    "ExecuteTime": {
     "end_time": "2020-07-14T06:30:30.230127Z",
     "start_time": "2020-07-14T06:30:30.047506Z"
    }
   },
   "outputs": [],
   "source": [
    "Turnovers = pd.read_excel(io=\"Raw/资产换手率.xlsx\")                      # 读取数据\n",
    "Turnovers = Turnovers.drop([0], axis=0)                                   # 删除多余行\n",
    "Turnovers[\"日期\"] = pd.DatetimeIndex(Turnovers[\"日期\"])                    # 类型转换\n",
    "Turnovers = Turnovers.set_index(\"日期\")                                   # 设置索引"
   ]
  },
  {
   "cell_type": "code",
   "execution_count": null,
   "metadata": {
    "ExecuteTime": {
     "end_time": "2020-07-14T06:30:30.237092Z",
     "start_time": "2020-07-14T06:30:30.233642Z"
    }
   },
   "outputs": [],
   "source": [
    "Turnovers = Turnovers[1:-1]"
   ]
  },
  {
   "cell_type": "markdown",
   "metadata": {},
   "source": [
    "### GC007利率"
   ]
  },
  {
   "cell_type": "code",
   "execution_count": null,
   "metadata": {
    "ExecuteTime": {
     "end_time": "2020-07-14T06:30:30.339518Z",
     "start_time": "2020-07-14T06:30:30.239673Z"
    }
   },
   "outputs": [],
   "source": [
    "Rates = pd.read_excel(io=\"Raw/GC007利率.xlsx\")           #  读取数据\n",
    "Rates = Rates.drop([0, 1, 2], axis=0)                   # 删除多余行\n",
    "Rates.columns = ['日期', 'GC007']                        # 修改列名\n",
    "Rates[\"日期\"] = pd.DatetimeIndex(Rates[\"日期\"])           # 类型转换\n",
    "Rates = Rates.set_index(\"日期\")                          # 设置索引"
   ]
  },
  {
   "cell_type": "code",
   "execution_count": null,
   "metadata": {
    "ExecuteTime": {
     "end_time": "2020-07-14T06:30:30.344351Z",
     "start_time": "2020-07-14T06:30:30.341236Z"
    }
   },
   "outputs": [],
   "source": [
    "Rates = Rates[1:-1]                    "
   ]
  },
  {
   "cell_type": "markdown",
   "metadata": {},
   "source": [
    "### 十年国债收益率"
   ]
  },
  {
   "cell_type": "code",
   "execution_count": null,
   "metadata": {
    "ExecuteTime": {
     "end_time": "2020-07-14T06:30:30.414203Z",
     "start_time": "2020-07-14T06:30:30.346377Z"
    }
   },
   "outputs": [],
   "source": [
    "BondRates = pd.read_excel(io=\"Raw/中债国债到期收益率(中债)(日).xls\")        # 读取数据\n",
    "BondRates.columns = ['日期', '十年国债收益率']                             # 修改列名\n",
    "BondRates = BondRates.drop([0, 3870, 3871], axis=0)                     # 删除多余行\n",
    "BondRates[\"日期\"] = pd.DatetimeIndex(BondRates[\"日期\"])                   # 类型转换\n",
    "BondRates = BondRates.set_index(\"日期\")                                  # 设置索引"
   ]
  },
  {
   "cell_type": "markdown",
   "metadata": {},
   "source": [
    "### 各资产收盘价"
   ]
  },
  {
   "cell_type": "code",
   "execution_count": null,
   "metadata": {
    "ExecuteTime": {
     "end_time": "2020-07-14T06:30:30.823482Z",
     "start_time": "2020-07-14T06:30:30.416125Z"
    }
   },
   "outputs": [],
   "source": [
    "Assets = pd.read_excel(io=\"Raw/资产收盘价.xlsx\")\n",
    "Assets = Assets.drop([0], axis=0)                                   # 删除多余行\n",
    "Assets[\"日期\"] = pd.DatetimeIndex(Assets[\"日期\"])                    # 类型转换\n",
    "Assets = Assets.set_index(\"日期\")                                   # 设置索引"
   ]
  },
  {
   "cell_type": "markdown",
   "metadata": {},
   "source": [
    "### 十年国债价格指数"
   ]
  },
  {
   "cell_type": "code",
   "execution_count": null,
   "metadata": {
    "ExecuteTime": {
     "end_time": "2020-07-14T06:30:30.831409Z",
     "start_time": "2020-07-14T06:30:30.826963Z"
    }
   },
   "outputs": [],
   "source": [
    "Data = Assets.merge(BondRates, how='left', left_index=True, right_index=True)"
   ]
  },
  {
   "cell_type": "code",
   "execution_count": null,
   "metadata": {
    "ExecuteTime": {
     "end_time": "2020-07-14T06:30:30.838694Z",
     "start_time": "2020-07-14T06:30:30.834240Z"
    }
   },
   "outputs": [],
   "source": [
    "Data = Data.merge(Rates, how='left', left_index=True, right_index=True)"
   ]
  },
  {
   "cell_type": "code",
   "execution_count": null,
   "metadata": {
    "ExecuteTime": {
     "end_time": "2020-07-14T06:30:30.852250Z",
     "start_time": "2020-07-14T06:30:30.840486Z"
    }
   },
   "outputs": [],
   "source": [
    "Data['持有时长'] = (Data.index - Data.index[0]).days\n",
    "Data['10年国债价格指数'] = 100 - (Data['十年国债收益率'] - 3.0) * 8.2 + 3.0 * Data['持有时长'] / 365.0\n",
    "Data['10年国债价格指数'] = Data['10年国债价格指数'].fillna(method='ffill')"
   ]
  },
  {
   "cell_type": "code",
   "execution_count": null,
   "metadata": {
    "ExecuteTime": {
     "end_time": "2020-07-14T06:30:30.858227Z",
     "start_time": "2020-07-14T06:30:30.854016Z"
    }
   },
   "outputs": [],
   "source": [
    "# 利用自制10年国债价格指数，替换上证10年国债\n",
    "Assets['中国10年国债'] = Data['10年国债价格指数'].values\n",
    "Assets = Assets.drop('上证10年国债', axis=1)"
   ]
  },
  {
   "cell_type": "markdown",
   "metadata": {},
   "source": [
    "## 计算各资产收益率"
   ]
  },
  {
   "cell_type": "code",
   "execution_count": null,
   "metadata": {
    "ExecuteTime": {
     "end_time": "2020-07-14T06:30:30.862449Z",
     "start_time": "2020-07-14T06:30:30.860056Z"
    }
   },
   "outputs": [],
   "source": [
    "# 去掉没有10年国债数据的日期\n",
    "Assets = Assets[:-10]"
   ]
  },
  {
   "cell_type": "markdown",
   "metadata": {},
   "source": [
    "### 日内损益"
   ]
  },
  {
   "cell_type": "code",
   "execution_count": null,
   "metadata": {
    "ExecuteTime": {
     "end_time": "2020-07-14T06:30:30.876658Z",
     "start_time": "2020-07-14T06:30:30.864214Z"
    }
   },
   "outputs": [],
   "source": [
    "Returns = Assets.pct_change(axis=0)\n",
    "Returns = Returns.dropna(axis=0, how='all')           # 删除无数据日"
   ]
  },
  {
   "cell_type": "code",
   "execution_count": null,
   "metadata": {
    "ExecuteTime": {
     "end_time": "2020-07-14T06:30:30.882570Z",
     "start_time": "2020-07-14T06:30:30.878461Z"
    }
   },
   "outputs": [],
   "source": [
    "drop_lst = ['中信证券COMEX铜期货', '中信证券WTI原油期货', '中信证券铁矿石', '标普500']\n",
    "Returns = Returns.drop(drop_lst, axis=1)"
   ]
  },
  {
   "cell_type": "code",
   "execution_count": null,
   "metadata": {
    "ExecuteTime": {
     "end_time": "2020-07-14T06:30:30.896002Z",
     "start_time": "2020-07-14T06:30:30.884661Z"
    }
   },
   "outputs": [],
   "source": [
    "Returns.tail()"
   ]
  },
  {
   "cell_type": "markdown",
   "metadata": {},
   "source": [
    "### 累计损益"
   ]
  },
  {
   "cell_type": "code",
   "execution_count": null,
   "metadata": {
    "ExecuteTime": {
     "end_time": "2020-07-14T06:30:30.903585Z",
     "start_time": "2020-07-14T06:30:30.897756Z"
    }
   },
   "outputs": [],
   "source": [
    "cumReturns = (1.0 + Returns)\n",
    "cumReturns = cumReturns.fillna(1.0)                    # 填充空值\n",
    "cumReturns = cumReturns.cumprod()                      # 计算各资产累计收益率"
   ]
  },
  {
   "cell_type": "code",
   "execution_count": null,
   "metadata": {
    "ExecuteTime": {
     "end_time": "2020-07-14T06:30:31.170777Z",
     "start_time": "2020-07-14T06:30:30.905305Z"
    }
   },
   "outputs": [],
   "source": [
    "cumReturns.plot(figsize=(16, 6))"
   ]
  },
  {
   "cell_type": "markdown",
   "metadata": {},
   "source": [
    "### 杠杆调整后的债券净值"
   ]
  },
  {
   "cell_type": "code",
   "execution_count": null,
   "metadata": {
    "ExecuteTime": {
     "end_time": "2020-07-14T06:30:31.189153Z",
     "start_time": "2020-07-14T06:30:31.172897Z"
    }
   },
   "outputs": [],
   "source": [
    "lever = 2.0                                 # 杠杆\n",
    "leverReturns = Returns.copy()               # 创建副本 \n",
    "leverCumReturns = cumReturns.copy()   \n",
    "\n",
    "# 更新杠杆调整后的债券净值\n",
    "leverReturns.loc[:, ['中国10年国债', '信用债3-5AAA']] = Returns.loc[:, ['中国10年国债', '信用债3-5AAA']] * (1.0 + lever) - Rates.values * lever / (365.0 * 100)\n",
    "\n",
    "# 更新累计净值\n",
    "leverCumReturns = (1.0 + leverReturns)\n",
    "leverCumReturns = leverCumReturns.fillna(1.0)                    # 填充空值\n",
    "leverCumReturns = leverCumReturns.cumprod()                      # 计算各资产累计收益率"
   ]
  },
  {
   "cell_type": "code",
   "execution_count": null,
   "metadata": {
    "ExecuteTime": {
     "end_time": "2020-07-14T06:30:31.200182Z",
     "start_time": "2020-07-14T06:30:31.191025Z"
    }
   },
   "outputs": [],
   "source": [
    "leverCumReturns.tail()"
   ]
  },
  {
   "cell_type": "markdown",
   "metadata": {},
   "source": [
    "# 风险平价 + 杠杆 + 指数权重"
   ]
  },
  {
   "cell_type": "markdown",
   "metadata": {},
   "source": [
    "## 程序运行"
   ]
  },
  {
   "cell_type": "code",
   "execution_count": null,
   "metadata": {
    "ExecuteTime": {
     "end_time": "2020-07-14T06:31:16.320437Z",
     "start_time": "2020-07-14T06:30:31.202265Z"
    }
   },
   "outputs": [],
   "source": [
    "tradeDF_base, weightDF_base = AlgoLoop.AlgoTrade(Assets, leverReturns, leverCumReturns, Turnovers, mode='ema')"
   ]
  },
  {
   "cell_type": "code",
   "execution_count": null,
   "metadata": {
    "ExecuteTime": {
     "end_time": "2020-07-14T06:31:16.920314Z",
     "start_time": "2020-07-14T06:31:16.322616Z"
    }
   },
   "outputs": [],
   "source": [
    "StatisticFunc.WeightPlot(tradeDF_base, weightDF_base, '杠杆+指数平均C')"
   ]
  },
  {
   "cell_type": "markdown",
   "metadata": {},
   "source": [
    "## 回测表现汇总"
   ]
  },
  {
   "cell_type": "code",
   "execution_count": null,
   "metadata": {
    "ExecuteTime": {
     "end_time": "2020-07-14T06:31:17.158433Z",
     "start_time": "2020-07-14T06:31:16.921822Z"
    }
   },
   "outputs": [],
   "source": [
    "# 表现汇总\n",
    "years = np.unique(tradeDF_base.reset_index()['日期'].apply(lambda x:str(x)[:4])) \n",
    "\n",
    "SummaryDF_base = pd.DataFrame(index=years)\n",
    "\n",
    "SummaryDF_base[\"年收益率\"] = StatisticFunc.AnnualReturns( pd.DataFrame(tradeDF_base['投资组合净值']) )\n",
    "SummaryDF_base[\"年波动率\"] = StatisticFunc.AnnualVolatility(pd.DataFrame(tradeDF_base['投资组合净值'])).values\n",
    "SummaryDF_base[\"无基准夏普比率\"] = SummaryDF_base['年收益率'] / SummaryDF_base['年波动率']\n",
    "SummaryDF_base[\"最大回撤\"] = StatisticFunc.AnnualMaxDrawdown(pd.DataFrame(tradeDF_base['最大回撤'])).values\n",
    "\n",
    "SummaryDF_base"
   ]
  },
  {
   "cell_type": "markdown",
   "metadata": {},
   "source": [
    "## 收益率贡献度"
   ]
  },
  {
   "cell_type": "code",
   "execution_count": null,
   "metadata": {
    "ExecuteTime": {
     "end_time": "2020-07-14T06:31:17.201564Z",
     "start_time": "2020-07-14T06:31:17.164517Z"
    },
    "scrolled": true
   },
   "outputs": [],
   "source": [
    "annualContrb_base = StatisticFunc.AnnualContribution(tradeDF=tradeDF_base, weightDF=weightDF_base, assetDF=leverCumReturns)"
   ]
  },
  {
   "cell_type": "code",
   "execution_count": null,
   "metadata": {
    "ExecuteTime": {
     "end_time": "2020-07-14T06:31:19.132608Z",
     "start_time": "2020-07-14T06:31:17.205392Z"
    }
   },
   "outputs": [],
   "source": [
    "StatisticFunc.BarPlot(annualContrb_base, '杠杆+指数平均C')"
   ]
  },
  {
   "cell_type": "markdown",
   "metadata": {},
   "source": [
    "## 投资组合净值曲线"
   ]
  },
  {
   "cell_type": "code",
   "execution_count": null,
   "metadata": {
    "ExecuteTime": {
     "end_time": "2020-07-14T06:31:19.442781Z",
     "start_time": "2020-07-14T06:31:19.135104Z"
    },
    "scrolled": false
   },
   "outputs": [],
   "source": [
    "fig = plt.figure(figsize=(16, 8))\n",
    "\n",
    "plt.plot(tradeDF_base.index, tradeDF_base['投资组合净值']/10000, label='每120个交易日调仓')\n",
    "    \n",
    "plt.plot(cumReturns.index, cumReturns['中证500'], label='中证500')\n",
    "plt.plot(cumReturns.index, cumReturns['信用债3-5AAA'], label='信用债3-5AAA')\n",
    "\n",
    "plt.xlabel('时间')\n",
    "plt.ylabel('净值')\n",
    "plt.ylim(0.0, 3.0)\n",
    "plt.legend(loc='upper left')\n",
    "plt.title('净值曲线（杠杆，指数平均）')\n",
    "plt.savefig('净值曲线（杠杆，指数平均）C.png')"
   ]
  },
  {
   "cell_type": "markdown",
   "metadata": {},
   "source": [
    "# 风险平价 + 杠杆 + 指数平均 + 多因子"
   ]
  },
  {
   "cell_type": "markdown",
   "metadata": {},
   "source": [
    "## 基准组合（多因子）"
   ]
  },
  {
   "cell_type": "markdown",
   "metadata": {},
   "source": [
    "### 程序运行"
   ]
  },
  {
   "cell_type": "code",
   "execution_count": null,
   "metadata": {
    "ExecuteTime": {
     "end_time": "2020-07-14T06:32:10.021588Z",
     "start_time": "2020-07-14T06:31:19.445160Z"
    }
   },
   "outputs": [],
   "source": [
    "thrds = {'Equity':0.50, 'FixedIncome':0.90, 'Commodity':0.30}\n",
    "factors = {'momentumX':True, 'momentumT':True, \n",
    "            'reverseX':False, 'reverseT':False,\n",
    "            'turnover':True, \n",
    "            'copperGold':True, 'copperGas':True}\n",
    "\n",
    "tradeDF_multi, weightDF_multi = AlgoLoop.AlgoTrade(Assets, leverReturns, leverCumReturns, Turnovers, mode='ema', \n",
    "                                       dt=120, up=0.50, thresholds=thrds, factorDict=factors)"
   ]
  },
  {
   "cell_type": "code",
   "execution_count": null,
   "metadata": {
    "ExecuteTime": {
     "end_time": "2020-07-14T06:32:10.630167Z",
     "start_time": "2020-07-14T06:32:10.023551Z"
    }
   },
   "outputs": [],
   "source": [
    "StatisticFunc.WeightPlot(tradeDF_multi, weightDF_multi, '横截面动量+时序动量+换手率+铜金+铜油C')"
   ]
  },
  {
   "cell_type": "markdown",
   "metadata": {},
   "source": [
    "### 回测表现汇总"
   ]
  },
  {
   "cell_type": "code",
   "execution_count": null,
   "metadata": {
    "ExecuteTime": {
     "end_time": "2020-07-14T06:32:10.916855Z",
     "start_time": "2020-07-14T06:32:10.631997Z"
    }
   },
   "outputs": [],
   "source": [
    "# 表现汇总\n",
    "years = np.unique(tradeDF_multi.reset_index()['日期'].apply(lambda x:str(x)[:4])) \n",
    "\n",
    "SummaryDF_multi = pd.DataFrame(index=years)\n",
    "\n",
    "SummaryDF_multi[\"年收益率\"] = StatisticFunc.AnnualReturns( pd.DataFrame(tradeDF_multi['投资组合净值']) )\n",
    "SummaryDF_multi[\"年波动率\"] = StatisticFunc.AnnualVolatility(pd.DataFrame(tradeDF_multi['投资组合净值'])).values\n",
    "SummaryDF_multi[\"无基准夏普比率\"] = SummaryDF_multi['年收益率'] / SummaryDF_multi['年波动率']\n",
    "SummaryDF_multi[\"最大回撤\"] = StatisticFunc.AnnualMaxDrawdown(pd.DataFrame(tradeDF_multi['最大回撤'])).values\n",
    "\n",
    "SummaryDF_multi"
   ]
  },
  {
   "cell_type": "markdown",
   "metadata": {},
   "source": [
    "### 收益率贡献度"
   ]
  },
  {
   "cell_type": "code",
   "execution_count": null,
   "metadata": {
    "ExecuteTime": {
     "end_time": "2020-07-14T06:32:10.956139Z",
     "start_time": "2020-07-14T06:32:10.919131Z"
    },
    "scrolled": true
   },
   "outputs": [],
   "source": [
    "annualContrb_multi = StatisticFunc.AnnualContribution(tradeDF=tradeDF_multi, weightDF=weightDF_multi, assetDF=leverCumReturns)"
   ]
  },
  {
   "cell_type": "code",
   "execution_count": null,
   "metadata": {
    "ExecuteTime": {
     "end_time": "2020-07-14T06:32:12.832085Z",
     "start_time": "2020-07-14T06:32:10.957969Z"
    }
   },
   "outputs": [],
   "source": [
    "StatisticFunc.BarPlot(annualContrb_multi, '横截面动量+时序动量+换手率+铜金+铜油C')"
   ]
  },
  {
   "cell_type": "markdown",
   "metadata": {},
   "source": [
    "### 投资组合净值曲线"
   ]
  },
  {
   "cell_type": "code",
   "execution_count": null,
   "metadata": {
    "ExecuteTime": {
     "end_time": "2020-07-14T06:32:13.132073Z",
     "start_time": "2020-07-14T06:32:12.833983Z"
    },
    "scrolled": true
   },
   "outputs": [],
   "source": [
    "fig = plt.figure(figsize=(16, 8))\n",
    "\n",
    "plt.plot(tradeDF_multi.index, tradeDF_multi['投资组合净值']/10000, label='杠杆+横截面动量+时序动量+换手率+铜金+铜油')\n",
    "    \n",
    "plt.plot(cumReturns.index, cumReturns['中证500'], label='中证500')\n",
    "plt.plot(cumReturns.index, cumReturns['信用债3-5AAA'], label='信用债3-5AAA')\n",
    "\n",
    "plt.xlabel('时间')\n",
    "plt.ylabel('净值')\n",
    "plt.ylim(0.0, 5.0)\n",
    "plt.legend(loc='upper left')\n",
    "plt.title('净值曲线（横截面动量+时序动量+换手率+铜金+铜油）')\n",
    "plt.savefig('净值曲线（横截面动量+时序动量+换手率+铜金+铜油）C.png')"
   ]
  },
  {
   "cell_type": "markdown",
   "metadata": {},
   "source": [
    "## 换手率"
   ]
  },
  {
   "cell_type": "markdown",
   "metadata": {},
   "source": [
    "### 程序运行"
   ]
  },
  {
   "cell_type": "code",
   "execution_count": null,
   "metadata": {
    "ExecuteTime": {
     "end_time": "2020-07-14T06:33:02.768767Z",
     "start_time": "2020-07-14T06:32:13.134302Z"
    }
   },
   "outputs": [],
   "source": [
    "thrds = {'Equity':0.50, 'FixedIncome':0.90, 'Commodity':0.30}\n",
    "factors = {'momentumX':False, 'momentumT':False, \n",
    "            'reverseX':False, 'reverseT':False,\n",
    "            'turnover':True, \n",
    "            'copperGold':False, 'copperGas':False}\n",
    "\n",
    "tradeDF_1, weightDF_1 = AlgoLoop.AlgoTrade(Assets, leverReturns, leverCumReturns, Turnovers, mode='ema', \n",
    "                                       dt=120, up=0.50, thresholds=thrds, factorDict=factors)"
   ]
  },
  {
   "cell_type": "code",
   "execution_count": null,
   "metadata": {
    "ExecuteTime": {
     "end_time": "2020-07-14T06:33:03.362309Z",
     "start_time": "2020-07-14T06:33:02.771033Z"
    },
    "scrolled": false
   },
   "outputs": [],
   "source": [
    "StatisticFunc.WeightPlot(tradeDF_1, weightDF_1, '换手率C')"
   ]
  },
  {
   "cell_type": "markdown",
   "metadata": {},
   "source": [
    "### 回测表现汇总"
   ]
  },
  {
   "cell_type": "code",
   "execution_count": null,
   "metadata": {
    "ExecuteTime": {
     "end_time": "2020-07-14T06:33:03.661114Z",
     "start_time": "2020-07-14T06:33:03.364519Z"
    }
   },
   "outputs": [],
   "source": [
    "# 表现汇总\n",
    "years = np.unique(tradeDF_1.reset_index()['日期'].apply(lambda x:str(x)[:4])) \n",
    "\n",
    "SummaryDF_1 = pd.DataFrame(index=years)\n",
    "\n",
    "SummaryDF_1[\"年收益率\"] = StatisticFunc.AnnualReturns( pd.DataFrame(tradeDF_1['投资组合净值']) )\n",
    "SummaryDF_1[\"年波动率\"] = StatisticFunc.AnnualVolatility(pd.DataFrame(tradeDF_1['投资组合净值'])).values\n",
    "SummaryDF_1[\"无基准夏普比率\"] = SummaryDF_1['年收益率'] / SummaryDF_1['年波动率']\n",
    "SummaryDF_1[\"最大回撤\"] = StatisticFunc.AnnualMaxDrawdown(pd.DataFrame(tradeDF_1['最大回撤'])).values\n",
    "\n",
    "SummaryDF_1"
   ]
  },
  {
   "cell_type": "markdown",
   "metadata": {},
   "source": [
    "### 收益率贡献度"
   ]
  },
  {
   "cell_type": "code",
   "execution_count": null,
   "metadata": {
    "ExecuteTime": {
     "end_time": "2020-07-14T06:33:03.701103Z",
     "start_time": "2020-07-14T06:33:03.662912Z"
    },
    "scrolled": true
   },
   "outputs": [],
   "source": [
    "annualContrb_1 = StatisticFunc.AnnualContribution(tradeDF=tradeDF_1, weightDF=weightDF_1, assetDF=leverCumReturns)"
   ]
  },
  {
   "cell_type": "code",
   "execution_count": null,
   "metadata": {
    "ExecuteTime": {
     "end_time": "2020-07-14T06:33:05.610376Z",
     "start_time": "2020-07-14T06:33:03.702694Z"
    }
   },
   "outputs": [],
   "source": [
    "StatisticFunc.BarPlot(annualContrb_1, '换手率C')"
   ]
  },
  {
   "cell_type": "markdown",
   "metadata": {},
   "source": [
    "### 投资组合净值曲线"
   ]
  },
  {
   "cell_type": "code",
   "execution_count": null,
   "metadata": {
    "ExecuteTime": {
     "end_time": "2020-07-14T06:33:05.964974Z",
     "start_time": "2020-07-14T06:33:05.612570Z"
    },
    "scrolled": false
   },
   "outputs": [],
   "source": [
    "fig = plt.figure(figsize=(16, 8))\n",
    "\n",
    "plt.plot(tradeDF_1.index, tradeDF_1['投资组合净值']/10000, label='时序动量+换手率+铜金+铜油')\n",
    "\n",
    "# 基准参考\n",
    "plt.plot(tradeDF_multi.index, tradeDF_multi['投资组合净值']/10000, ls='--', label='五因子基准组合')\n",
    "plt.plot(cumReturns.index, cumReturns['中证500'], label='中证500')\n",
    "plt.plot(cumReturns.index, cumReturns['信用债3-5AAA'], label='信用债3-5AAA')\n",
    "\n",
    "plt.xlabel('时间')\n",
    "plt.ylabel('净值')\n",
    "plt.ylim(0.0, 5.0)\n",
    "plt.legend(loc='upper left')\n",
    "plt.title('净值曲线（换手率）')\n",
    "plt.savefig('净值曲线（换手率）C.png')"
   ]
  },
  {
   "cell_type": "markdown",
   "metadata": {},
   "source": [
    "## 横截面动量"
   ]
  },
  {
   "cell_type": "markdown",
   "metadata": {},
   "source": [
    "### 程序运行"
   ]
  },
  {
   "cell_type": "code",
   "execution_count": null,
   "metadata": {
    "ExecuteTime": {
     "end_time": "2020-07-14T06:33:56.516444Z",
     "start_time": "2020-07-14T06:33:05.967149Z"
    }
   },
   "outputs": [],
   "source": [
    "thrds = {'Equity':0.50, 'FixedIncome':0.90, 'Commodity':0.30}\n",
    "factors = {'momentumX':True, 'momentumT':False, \n",
    "            'reverseX':False, 'reverseT':False,\n",
    "            'turnover':False, \n",
    "            'copperGold':False, 'copperGas':False}\n",
    "\n",
    "tradeDF_2, weightDF_2 = AlgoLoop.AlgoTrade(Assets, leverReturns, leverCumReturns, Turnovers, mode='ema', \n",
    "                                       dt=120, up=0.50, thresholds=thrds, factorDict=factors)"
   ]
  },
  {
   "cell_type": "code",
   "execution_count": null,
   "metadata": {
    "ExecuteTime": {
     "end_time": "2020-07-14T06:33:57.117426Z",
     "start_time": "2020-07-14T06:33:56.518491Z"
    }
   },
   "outputs": [],
   "source": [
    "StatisticFunc.WeightPlot(tradeDF_2, weightDF_2, '横截面动量C')"
   ]
  },
  {
   "cell_type": "markdown",
   "metadata": {},
   "source": [
    "### 回测表现汇总"
   ]
  },
  {
   "cell_type": "code",
   "execution_count": null,
   "metadata": {
    "ExecuteTime": {
     "end_time": "2020-07-14T06:33:57.362758Z",
     "start_time": "2020-07-14T06:33:57.119588Z"
    }
   },
   "outputs": [],
   "source": [
    "# 表现汇总\n",
    "years = np.unique(tradeDF_2.reset_index()['日期'].apply(lambda x:str(x)[:4])) \n",
    "\n",
    "SummaryDF_2 = pd.DataFrame(index=years)\n",
    "\n",
    "SummaryDF_2[\"年收益率\"] = StatisticFunc.AnnualReturns( pd.DataFrame(tradeDF_2['投资组合净值']) )\n",
    "SummaryDF_2[\"年波动率\"] = StatisticFunc.AnnualVolatility(pd.DataFrame(tradeDF_2['投资组合净值'])).values\n",
    "SummaryDF_2[\"无基准夏普比率\"] = SummaryDF_2['年收益率'] / SummaryDF_2['年波动率']\n",
    "SummaryDF_2[\"最大回撤\"] = StatisticFunc.AnnualMaxDrawdown(pd.DataFrame(tradeDF_2['最大回撤'])).values\n",
    "\n",
    "SummaryDF_2"
   ]
  },
  {
   "cell_type": "markdown",
   "metadata": {},
   "source": [
    "### 收益率贡献度"
   ]
  },
  {
   "cell_type": "code",
   "execution_count": null,
   "metadata": {
    "ExecuteTime": {
     "end_time": "2020-07-14T06:33:57.401974Z",
     "start_time": "2020-07-14T06:33:57.365006Z"
    },
    "scrolled": true
   },
   "outputs": [],
   "source": [
    "annualContrb_2 = StatisticFunc.AnnualContribution(tradeDF=tradeDF_2, weightDF=weightDF_2, assetDF=leverCumReturns)"
   ]
  },
  {
   "cell_type": "code",
   "execution_count": null,
   "metadata": {
    "ExecuteTime": {
     "end_time": "2020-07-14T06:33:59.340558Z",
     "start_time": "2020-07-14T06:33:57.403541Z"
    }
   },
   "outputs": [],
   "source": [
    "StatisticFunc.BarPlot(annualContrb_2, '横截面动量C')"
   ]
  },
  {
   "cell_type": "markdown",
   "metadata": {},
   "source": [
    "### 投资组合净值曲线"
   ]
  },
  {
   "cell_type": "code",
   "execution_count": null,
   "metadata": {
    "ExecuteTime": {
     "end_time": "2020-07-14T06:33:59.654796Z",
     "start_time": "2020-07-14T06:33:59.343095Z"
    },
    "scrolled": false
   },
   "outputs": [],
   "source": [
    "fig = plt.figure(figsize=(16, 8))\n",
    "\n",
    "plt.plot(tradeDF_2.index, tradeDF_2['投资组合净值']/10000, label='横截面动量+换手率+铜金+铜油')\n",
    "    \n",
    "# 基准参考\n",
    "plt.plot(tradeDF_multi.index, tradeDF_multi['投资组合净值']/10000, ls='--', label='五因子基准组合')\n",
    "plt.plot(cumReturns.index, cumReturns['中证500'], label='中证500')\n",
    "plt.plot(cumReturns.index, cumReturns['信用债3-5AAA'], label='信用债3-5AAA')\n",
    "\n",
    "plt.xlabel('时间')\n",
    "plt.ylabel('净值')\n",
    "plt.ylim(0.0, 5.0)\n",
    "plt.legend(loc='upper left')\n",
    "plt.title('净值曲线（横截面动量）')\n",
    "plt.savefig('净值曲线（横截面动量）C.png')"
   ]
  },
  {
   "cell_type": "markdown",
   "metadata": {},
   "source": [
    "## 时序动量"
   ]
  },
  {
   "cell_type": "markdown",
   "metadata": {},
   "source": [
    "### 程序运行"
   ]
  },
  {
   "cell_type": "code",
   "execution_count": null,
   "metadata": {
    "ExecuteTime": {
     "end_time": "2020-07-14T06:34:49.330025Z",
     "start_time": "2020-07-14T06:33:59.657622Z"
    }
   },
   "outputs": [],
   "source": [
    "thrds = {'Equity':0.50, 'FixedIncome':0.90, 'Commodity':0.30}\n",
    "factors = {'momentumX':False, 'momentumT':True, \n",
    "            'reverseX':False, 'reverseT':False,\n",
    "            'turnover':False, \n",
    "            'copperGold':False, 'copperGas':False}\n",
    "\n",
    "tradeDF_3, weightDF_3 = AlgoLoop.AlgoTrade(Assets, leverReturns, leverCumReturns, Turnovers, mode='ema', \n",
    "                                       dt=120, up=0.50, thresholds=thrds, factorDict=factors)"
   ]
  },
  {
   "cell_type": "code",
   "execution_count": null,
   "metadata": {
    "ExecuteTime": {
     "end_time": "2020-07-14T06:34:49.925691Z",
     "start_time": "2020-07-14T06:34:49.332195Z"
    }
   },
   "outputs": [],
   "source": [
    "StatisticFunc.WeightPlot(tradeDF_3, weightDF_3, '时序动量C')"
   ]
  },
  {
   "cell_type": "markdown",
   "metadata": {},
   "source": [
    "### 回测表现汇总"
   ]
  },
  {
   "cell_type": "code",
   "execution_count": null,
   "metadata": {
    "ExecuteTime": {
     "end_time": "2020-07-14T06:34:50.169414Z",
     "start_time": "2020-07-14T06:34:49.928072Z"
    }
   },
   "outputs": [],
   "source": [
    "# 表现汇总\n",
    "years = np.unique(tradeDF_3.reset_index()['日期'].apply(lambda x:str(x)[:4])) \n",
    "\n",
    "SummaryDF_3 = pd.DataFrame(index=years)\n",
    "\n",
    "SummaryDF_3[\"年收益率\"] = StatisticFunc.AnnualReturns( pd.DataFrame(tradeDF_3['投资组合净值']) )\n",
    "SummaryDF_3[\"年波动率\"] = StatisticFunc.AnnualVolatility(pd.DataFrame(tradeDF_3['投资组合净值'])).values\n",
    "SummaryDF_3[\"无基准夏普比率\"] = SummaryDF_3['年收益率'] / SummaryDF_3['年波动率']\n",
    "SummaryDF_3[\"最大回撤\"] = StatisticFunc.AnnualMaxDrawdown(pd.DataFrame(tradeDF_3['最大回撤'])).values\n",
    "\n",
    "SummaryDF_3"
   ]
  },
  {
   "cell_type": "markdown",
   "metadata": {},
   "source": [
    "### 收益率贡献度"
   ]
  },
  {
   "cell_type": "code",
   "execution_count": null,
   "metadata": {
    "ExecuteTime": {
     "end_time": "2020-07-14T06:34:50.207796Z",
     "start_time": "2020-07-14T06:34:50.171431Z"
    },
    "scrolled": true
   },
   "outputs": [],
   "source": [
    "annualContrb_3 = StatisticFunc.AnnualContribution(tradeDF=tradeDF_3, weightDF=weightDF_3, assetDF=leverCumReturns)"
   ]
  },
  {
   "cell_type": "code",
   "execution_count": null,
   "metadata": {
    "ExecuteTime": {
     "end_time": "2020-07-14T06:34:52.127270Z",
     "start_time": "2020-07-14T06:34:50.209870Z"
    }
   },
   "outputs": [],
   "source": [
    "StatisticFunc.BarPlot(annualContrb_3, '时序动量C')"
   ]
  },
  {
   "cell_type": "markdown",
   "metadata": {},
   "source": [
    "### 投资组合净值曲线"
   ]
  },
  {
   "cell_type": "code",
   "execution_count": null,
   "metadata": {
    "ExecuteTime": {
     "end_time": "2020-07-14T06:34:52.442305Z",
     "start_time": "2020-07-14T06:34:52.129770Z"
    },
    "scrolled": false
   },
   "outputs": [],
   "source": [
    "fig = plt.figure(figsize=(16, 8))\n",
    "\n",
    "plt.plot(tradeDF_3.index, tradeDF_3['投资组合净值']/10000, label='横截面动量+时序动量+铜金+铜油')\n",
    "    \n",
    "# 基准参考\n",
    "plt.plot(tradeDF_multi.index, tradeDF_multi['投资组合净值']/10000, ls='--', label='五因子基准组合')\n",
    "plt.plot(cumReturns.index, cumReturns['中证500'], label='中证500')\n",
    "plt.plot(cumReturns.index, cumReturns['信用债3-5AAA'], label='信用债3-5AAA')\n",
    "\n",
    "plt.xlabel('时间')\n",
    "plt.ylabel('净值')\n",
    "plt.ylim(0.0, 5.0)\n",
    "plt.legend(loc='upper left')\n",
    "plt.title('净值曲线（时序动量）')\n",
    "plt.savefig('净值曲线（时序动量）C.png')"
   ]
  },
  {
   "cell_type": "markdown",
   "metadata": {},
   "source": [
    "## 铜金"
   ]
  },
  {
   "cell_type": "markdown",
   "metadata": {},
   "source": [
    "### 程序运行"
   ]
  },
  {
   "cell_type": "code",
   "execution_count": null,
   "metadata": {
    "ExecuteTime": {
     "end_time": "2020-07-14T06:35:41.825268Z",
     "start_time": "2020-07-14T06:34:52.444383Z"
    }
   },
   "outputs": [],
   "source": [
    "thrds = {'Equity':0.50, 'FixedIncome':0.90, 'Commodity':0.30}\n",
    "factors = {'momentumX':False, 'momentumT':False, \n",
    "            'reverseX':False, 'reverseT':False,\n",
    "            'turnover':False, \n",
    "            'copperGold':True, 'copperGas':False}\n",
    "\n",
    "tradeDF_4, weightDF_4 = AlgoLoop.AlgoTrade(Assets, leverReturns, leverCumReturns, Turnovers, mode='ema', \n",
    "                                       dt=120, up=0.50, thresholds=thrds, factorDict=factors)"
   ]
  },
  {
   "cell_type": "code",
   "execution_count": null,
   "metadata": {
    "ExecuteTime": {
     "end_time": "2020-07-14T06:35:42.417342Z",
     "start_time": "2020-07-14T06:35:41.827367Z"
    }
   },
   "outputs": [],
   "source": [
    "StatisticFunc.WeightPlot(tradeDF_4, weightDF_4, '铜金比C')"
   ]
  },
  {
   "cell_type": "markdown",
   "metadata": {},
   "source": [
    "### 回测表现汇总"
   ]
  },
  {
   "cell_type": "code",
   "execution_count": null,
   "metadata": {
    "ExecuteTime": {
     "end_time": "2020-07-14T06:35:42.713619Z",
     "start_time": "2020-07-14T06:35:42.419481Z"
    }
   },
   "outputs": [],
   "source": [
    "# 表现汇总\n",
    "years = np.unique(tradeDF_4.reset_index()['日期'].apply(lambda x:str(x)[:4])) \n",
    "\n",
    "SummaryDF_4 = pd.DataFrame(index=years)\n",
    "\n",
    "SummaryDF_4[\"年收益率\"] = StatisticFunc.AnnualReturns( pd.DataFrame(tradeDF_4['投资组合净值']) )\n",
    "SummaryDF_4[\"年波动率\"] = StatisticFunc.AnnualVolatility(pd.DataFrame(tradeDF_4['投资组合净值'])).values\n",
    "SummaryDF_4[\"无基准夏普比率\"] = SummaryDF_4['年收益率'] / SummaryDF_4['年波动率']\n",
    "SummaryDF_4[\"最大回撤\"] = StatisticFunc.AnnualMaxDrawdown(pd.DataFrame(tradeDF_4['最大回撤'])).values\n",
    "\n",
    "SummaryDF_4"
   ]
  },
  {
   "cell_type": "markdown",
   "metadata": {},
   "source": [
    "### 收益率贡献度"
   ]
  },
  {
   "cell_type": "code",
   "execution_count": null,
   "metadata": {
    "ExecuteTime": {
     "end_time": "2020-07-14T06:35:42.751430Z",
     "start_time": "2020-07-14T06:35:42.715555Z"
    },
    "scrolled": true
   },
   "outputs": [],
   "source": [
    "annualContrb_4 = StatisticFunc.AnnualContribution(tradeDF=tradeDF_4, weightDF=weightDF_4, assetDF=leverCumReturns)"
   ]
  },
  {
   "cell_type": "code",
   "execution_count": null,
   "metadata": {
    "ExecuteTime": {
     "end_time": "2020-07-14T06:35:44.630804Z",
     "start_time": "2020-07-14T06:35:42.753129Z"
    }
   },
   "outputs": [],
   "source": [
    "StatisticFunc.BarPlot(annualContrb_4, '铜金比C')"
   ]
  },
  {
   "cell_type": "markdown",
   "metadata": {},
   "source": [
    "### 投资组合净值曲线"
   ]
  },
  {
   "cell_type": "code",
   "execution_count": null,
   "metadata": {
    "ExecuteTime": {
     "end_time": "2020-07-14T06:35:44.944970Z",
     "start_time": "2020-07-14T06:35:44.633394Z"
    },
    "scrolled": false
   },
   "outputs": [],
   "source": [
    "fig = plt.figure(figsize=(16, 8))\n",
    "\n",
    "plt.plot(tradeDF_4.index, tradeDF_4['投资组合净值']/10000, label='横截面动量+时序动量+换手率+铜油')\n",
    "    \n",
    "# 基准参考\n",
    "plt.plot(tradeDF_multi.index, tradeDF_multi['投资组合净值']/10000, ls='--', label='五因子基准组合')\n",
    "plt.plot(cumReturns.index, cumReturns['中证500'], label='中证500')\n",
    "plt.plot(cumReturns.index, cumReturns['信用债3-5AAA'], label='信用债3-5AAA')\n",
    "\n",
    "plt.xlabel('时间')\n",
    "plt.ylabel('净值')\n",
    "plt.ylim(0.0, 5.0)\n",
    "plt.legend(loc='upper left')\n",
    "plt.title('净值曲线（铜金比）')\n",
    "plt.savefig('净值曲线（铜金比）C.png')"
   ]
  },
  {
   "cell_type": "markdown",
   "metadata": {},
   "source": [
    "## 铜油"
   ]
  },
  {
   "cell_type": "markdown",
   "metadata": {},
   "source": [
    "### 程序运行"
   ]
  },
  {
   "cell_type": "code",
   "execution_count": null,
   "metadata": {
    "ExecuteTime": {
     "end_time": "2020-07-14T06:36:37.431626Z",
     "start_time": "2020-07-14T06:35:44.947423Z"
    }
   },
   "outputs": [],
   "source": [
    "thrds = {'Equity':0.50, 'FixedIncome':0.90, 'Commodity':0.30}\n",
    "factors = {'momentumX':False, 'momentumT':False, \n",
    "            'reverseX':False, 'reverseT':False,\n",
    "            'turnover':False, \n",
    "            'copperGold':False, 'copperGas':True}\n",
    "\n",
    "tradeDF_5, weightDF_5 = AlgoLoop.AlgoTrade(Assets, leverReturns, leverCumReturns, Turnovers, mode='ema', \n",
    "                                       dt=120, up=0.50, thresholds=thrds, factorDict=factors)"
   ]
  },
  {
   "cell_type": "code",
   "execution_count": null,
   "metadata": {
    "ExecuteTime": {
     "end_time": "2020-07-14T06:36:38.020358Z",
     "start_time": "2020-07-14T06:36:37.433754Z"
    }
   },
   "outputs": [],
   "source": [
    "StatisticFunc.WeightPlot(tradeDF_5, weightDF_5, '铜油比C')"
   ]
  },
  {
   "cell_type": "markdown",
   "metadata": {},
   "source": [
    "### 回测表现汇总"
   ]
  },
  {
   "cell_type": "code",
   "execution_count": null,
   "metadata": {
    "ExecuteTime": {
     "end_time": "2020-07-14T06:36:38.318645Z",
     "start_time": "2020-07-14T06:36:38.022553Z"
    }
   },
   "outputs": [],
   "source": [
    "# 表现汇总\n",
    "years = np.unique(tradeDF_5.reset_index()['日期'].apply(lambda x:str(x)[:4])) \n",
    "\n",
    "SummaryDF_5 = pd.DataFrame(index=years)\n",
    "\n",
    "SummaryDF_5[\"年收益率\"] = StatisticFunc.AnnualReturns( pd.DataFrame(tradeDF_5['投资组合净值']) )\n",
    "SummaryDF_5[\"年波动率\"] = StatisticFunc.AnnualVolatility(pd.DataFrame(tradeDF_5['投资组合净值'])).values\n",
    "SummaryDF_5[\"无基准夏普比率\"] = SummaryDF_5['年收益率'] / SummaryDF_5['年波动率']\n",
    "SummaryDF_5[\"最大回撤\"] = StatisticFunc.AnnualMaxDrawdown(pd.DataFrame(tradeDF_5['最大回撤'])).values\n",
    "\n",
    "SummaryDF_5"
   ]
  },
  {
   "cell_type": "markdown",
   "metadata": {},
   "source": [
    "### 收益率贡献度"
   ]
  },
  {
   "cell_type": "code",
   "execution_count": null,
   "metadata": {
    "ExecuteTime": {
     "end_time": "2020-07-14T06:36:38.357499Z",
     "start_time": "2020-07-14T06:36:38.320846Z"
    },
    "scrolled": true
   },
   "outputs": [],
   "source": [
    "annualContrb_5 = StatisticFunc.AnnualContribution(tradeDF=tradeDF_5, weightDF=weightDF_5, assetDF=leverCumReturns)"
   ]
  },
  {
   "cell_type": "code",
   "execution_count": null,
   "metadata": {
    "ExecuteTime": {
     "end_time": "2020-07-14T06:36:40.258817Z",
     "start_time": "2020-07-14T06:36:38.359530Z"
    }
   },
   "outputs": [],
   "source": [
    "StatisticFunc.BarPlot(annualContrb_5, '铜油比C')"
   ]
  },
  {
   "cell_type": "markdown",
   "metadata": {},
   "source": [
    "### 投资组合净值曲线"
   ]
  },
  {
   "cell_type": "code",
   "execution_count": null,
   "metadata": {
    "ExecuteTime": {
     "end_time": "2020-07-14T06:36:40.572956Z",
     "start_time": "2020-07-14T06:36:40.261049Z"
    },
    "scrolled": false
   },
   "outputs": [],
   "source": [
    "fig = plt.figure(figsize=(16, 8))\n",
    "\n",
    "plt.plot(tradeDF_5.index, tradeDF_5['投资组合净值']/10000, label='横截面动量+时序动量+换手率+铜金')\n",
    "    \n",
    "# 基准参考\n",
    "plt.plot(tradeDF_multi.index, tradeDF_multi['投资组合净值']/10000, ls='--', label='五因子基准组合')\n",
    "plt.plot(cumReturns.index, cumReturns['中证500'], label='中证500')\n",
    "plt.plot(cumReturns.index, cumReturns['信用债3-5AAA'], label='信用债3-5AAA')\n",
    "\n",
    "plt.xlabel('时间')\n",
    "plt.ylabel('净值')\n",
    "plt.ylim(0.0, 5.0)\n",
    "plt.legend(loc='upper left')\n",
    "plt.title('净值曲线（铜油比）')\n",
    "plt.savefig('净值曲线（铜油比）C.png')"
   ]
  },
  {
   "cell_type": "code",
   "execution_count": null,
   "metadata": {},
   "outputs": [],
   "source": []
  }
 ],
 "metadata": {
  "kernelspec": {
   "display_name": "Python 3",
   "language": "python",
   "name": "python3"
  },
  "language_info": {
   "codemirror_mode": {
    "name": "ipython",
    "version": 3
   },
   "file_extension": ".py",
   "mimetype": "text/x-python",
   "name": "python",
   "nbconvert_exporter": "python",
   "pygments_lexer": "ipython3",
   "version": "3.7.7"
  },
  "latex_envs": {
   "LaTeX_envs_menu_present": true,
   "autoclose": false,
   "autocomplete": true,
   "bibliofile": "biblio.bib",
   "cite_by": "apalike",
   "current_citInitial": 1,
   "eqLabelWithNumbers": true,
   "eqNumInitial": 1,
   "hotkeys": {
    "equation": "Ctrl-E",
    "itemize": "Ctrl-I"
   },
   "labels_anchors": false,
   "latex_user_defs": false,
   "report_style_numbering": false,
   "user_envs_cfg": false
  },
  "toc": {
   "base_numbering": 1,
   "nav_menu": {},
   "number_sections": true,
   "sideBar": true,
   "skip_h1_title": false,
   "title_cell": "Table of Contents",
   "title_sidebar": "Contents",
   "toc_cell": false,
   "toc_position": {
    "height": "calc(100% - 180px)",
    "left": "10px",
    "top": "150px",
    "width": "310px"
   },
   "toc_section_display": true,
   "toc_window_display": true
  }
 },
 "nbformat": 4,
 "nbformat_minor": 4
}
