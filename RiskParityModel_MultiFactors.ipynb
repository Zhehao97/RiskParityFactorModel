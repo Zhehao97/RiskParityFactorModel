{
 "cells": [
  {
   "cell_type": "code",
   "execution_count": null,
   "metadata": {
    "ExecuteTime": {
     "end_time": "2020-08-14T04:01:10.806039Z",
     "start_time": "2020-08-14T04:01:09.546863Z"
    }
   },
   "outputs": [],
   "source": [
    "import numpy as np\n",
    "import pandas as pd\n",
    "import matplotlib\n",
    "import matplotlib.pyplot as plt\n",
    "import AlgoLoop\n",
    "import StatisticFunc\n",
    "\n",
    "plt.style.use('seaborn-deep')                     # 绘图风格\n",
    "matplotlib.rcParams['font.sans-serif'] = ['SimHei']  # 字体雅黑\n",
    "matplotlib.rcParams['font.family'] = 'sans-serif'\n",
    "matplotlib.rcParams['axes.unicode_minus'] = False    # 处理负号"
   ]
  },
  {
   "cell_type": "markdown",
   "metadata": {},
   "source": [
    "# 预处理"
   ]
  },
  {
   "cell_type": "markdown",
   "metadata": {},
   "source": [
    "## 提取并处理数据"
   ]
  },
  {
   "cell_type": "markdown",
   "metadata": {},
   "source": [
    "### 各种利率"
   ]
  },
  {
   "cell_type": "code",
   "execution_count": null,
   "metadata": {
    "ExecuteTime": {
     "end_time": "2020-08-14T04:01:10.969304Z",
     "start_time": "2020-08-14T04:01:10.807909Z"
    }
   },
   "outputs": [],
   "source": [
    "# GC007 利率\n",
    "GCRates = pd.read_excel(io=\"Raw/GC007利率.xlsx\")              # 读取数据\n",
    "GCRates = GCRates.drop([0, 1, 2], axis=0)                    # 删除多余行\n",
    "GCRates.columns = ['日期', 'GC007']                           # 修改列名\n",
    "GCRates[\"日期\"] = pd.DatetimeIndex(GCRates[\"日期\"])           # 类型转换\n",
    "GCRates = GCRates.set_index(\"日期\")                          # 设置索引"
   ]
  },
  {
   "cell_type": "code",
   "execution_count": null,
   "metadata": {
    "ExecuteTime": {
     "end_time": "2020-08-14T04:01:26.922096Z",
     "start_time": "2020-08-14T04:01:26.846308Z"
    }
   },
   "outputs": [],
   "source": [
    "# 10年国债收益率\n",
    "CNRates = pd.read_excel(io=\"Raw/10年国债到期收益率.xls\")        # 读取数据\n",
    "CNRates.columns = ['日期', '十年国债收益率']                             # 修改列名\n",
    "CNRates = CNRates.drop([0, 3870, 3871], axis=0)                       # 删除多余行\n",
    "CNRates[\"日期\"] = pd.DatetimeIndex(CNRates[\"日期\"])                    # 类型转换\n",
    "CNRates = CNRates.set_index(\"日期\")                                   # 设置索引"
   ]
  },
  {
   "cell_type": "code",
   "execution_count": null,
   "metadata": {
    "ExecuteTime": {
     "end_time": "2020-08-14T04:01:32.625659Z",
     "start_time": "2020-08-14T04:01:32.420727Z"
    }
   },
   "outputs": [],
   "source": [
    "# 10年美债收益率\n",
    "USRates = pd.read_excel(io=\"Raw/10年美债到期收益率.xlsx\")                       # 读取数据\n",
    "USRates.columns = ['日期', '十年美债收益率']                             # 修改列名\n",
    "USRates = USRates.drop([0, 6263, 6264], axis=0)                       # 删除多余行\n",
    "USRates[\"日期\"] = pd.DatetimeIndex(USRates[\"日期\"])                    # 类型转换\n",
    "USRates = USRates.set_index(\"日期\")                                    # 设置索引"
   ]
  },
  {
   "cell_type": "code",
   "execution_count": null,
   "metadata": {
    "ExecuteTime": {
     "end_time": "2020-08-14T04:02:32.036808Z",
     "start_time": "2020-08-14T04:02:32.030640Z"
    }
   },
   "outputs": [],
   "source": [
    "# 合并利率\n",
    "Rates = GCRates.merge(CNRates, how='left', left_index=True, right_index=True)\n",
    "Rates = Rates.merge(USRates, how='left', left_index=True, right_index=True)"
   ]
  },
  {
   "cell_type": "markdown",
   "metadata": {},
   "source": [
    "### 权益类资产换手率"
   ]
  },
  {
   "cell_type": "code",
   "execution_count": null,
   "metadata": {
    "ExecuteTime": {
     "end_time": "2020-08-14T04:02:35.368208Z",
     "start_time": "2020-08-14T04:02:35.202771Z"
    }
   },
   "outputs": [],
   "source": [
    "Turnovers = pd.read_excel(io=\"Raw/资产换手率.xlsx\")                         # 读取数据\n",
    "Turnovers = Turnovers.drop([0], axis=0)                                   # 删除多余行\n",
    "Turnovers[\"日期\"] = pd.DatetimeIndex(Turnovers[\"日期\"])                    # 类型转换\n",
    "Turnovers = Turnovers.set_index(\"日期\")                                   # 设置索引"
   ]
  },
  {
   "cell_type": "code",
   "execution_count": null,
   "metadata": {
    "ExecuteTime": {
     "end_time": "2020-08-14T04:02:35.637779Z",
     "start_time": "2020-08-14T04:02:35.633959Z"
    }
   },
   "outputs": [],
   "source": [
    "# 时间对齐\n",
    "Turnovers = Turnovers.loc[Rates.index, :]"
   ]
  },
  {
   "cell_type": "markdown",
   "metadata": {},
   "source": [
    "### 铁矿石价格指数"
   ]
  },
  {
   "cell_type": "code",
   "execution_count": null,
   "metadata": {
    "ExecuteTime": {
     "end_time": "2020-08-14T04:02:36.592105Z",
     "start_time": "2020-08-14T04:02:36.533075Z"
    }
   },
   "outputs": [],
   "source": [
    "IronStone = pd.read_excel(io=\"Raw/铁矿石价格指数.xls\")                       # 读取数据\n",
    "IronStone = IronStone.drop([0, 2642, 2643], axis=0)                       # 删除多余行\n",
    "IronStone.columns=['日期', '铁矿石期货']                                     # 修改列名\n",
    "IronStone[\"日期\"] = pd.DatetimeIndex(IronStone[\"日期\"])                    # 类型转换\n",
    "IronStone = IronStone.set_index(\"日期\")                                   # 设置索引"
   ]
  },
  {
   "cell_type": "markdown",
   "metadata": {},
   "source": [
    "### 各资产收盘价"
   ]
  },
  {
   "cell_type": "code",
   "execution_count": null,
   "metadata": {
    "ExecuteTime": {
     "end_time": "2020-08-14T04:02:37.226139Z",
     "start_time": "2020-08-14T04:02:36.926112Z"
    }
   },
   "outputs": [],
   "source": [
    "Assets = pd.read_excel(io=\"Raw/资产收盘价.xlsx\")                      # 读取数据\n",
    "Assets = Assets.drop([0], axis=0)                                   # 删除多余行\n",
    "Assets[\"日期\"] = pd.DatetimeIndex(Assets[\"日期\"])                    # 类型转换\n",
    "Assets = Assets.set_index(\"日期\")                                   # 设置索引\n",
    "Assets = Assets.loc[Rates.index, :]                                # 时间对齐"
   ]
  },
  {
   "cell_type": "code",
   "execution_count": null,
   "metadata": {
    "ExecuteTime": {
     "end_time": "2020-08-14T04:02:37.250055Z",
     "start_time": "2020-08-14T04:02:37.227838Z"
    }
   },
   "outputs": [],
   "source": [
    "# 整合铁矿石数据\n",
    "Assets = Assets.drop('中信证券铁矿石', axis=1)\n",
    "Assets = Assets.merge(IronStone, how='left', left_index=True, right_index=True)\n",
    "\n",
    "# 填充铁矿石2011年前缺失数据\n",
    "Assets['铁矿石期货'] = Assets['铁矿石期货'].fillna(method='bfill')\n",
    "Assets.head()"
   ]
  },
  {
   "cell_type": "markdown",
   "metadata": {},
   "source": [
    "### 十年国债&美债价格指数"
   ]
  },
  {
   "cell_type": "code",
   "execution_count": null,
   "metadata": {
    "ExecuteTime": {
     "end_time": "2020-08-14T04:02:37.713382Z",
     "start_time": "2020-08-14T04:02:37.691688Z"
    }
   },
   "outputs": [],
   "source": [
    "HoldPeriod = (Assets.index - Assets.index[0]).days\n",
    "\n",
    "# 计算十年国债\n",
    "Assets['10年国债'] = 100 - (Rates['十年国债收益率'] - 3.0) * 8.2 + 3.0 * HoldPeriod / 365.0\n",
    "Assets['10年国债'] = Assets['10年国债'].fillna(method='ffill')\n",
    "\n",
    "#计算十年美债\n",
    "Assets['10年美债'] = 100 - (Rates['十年美债收益率'] - 3.0) * 8.2 + 3.0 * HoldPeriod / 365.0\n",
    "Assets['10年美债'] = Assets['10年美债'].fillna(method='ffill')"
   ]
  },
  {
   "cell_type": "code",
   "execution_count": null,
   "metadata": {
    "ExecuteTime": {
     "end_time": "2020-08-14T04:02:37.985823Z",
     "start_time": "2020-08-14T04:02:37.971311Z"
    }
   },
   "outputs": [],
   "source": [
    "# 替换上证十年国债指数\n",
    "Assets = Assets.drop('上证10年国债', axis=1)\n",
    "Assets.head()"
   ]
  },
  {
   "cell_type": "markdown",
   "metadata": {},
   "source": [
    "### 美元汇率"
   ]
  },
  {
   "cell_type": "code",
   "execution_count": null,
   "metadata": {
    "ExecuteTime": {
     "end_time": "2020-08-14T04:02:38.870381Z",
     "start_time": "2020-08-14T04:02:38.722693Z"
    }
   },
   "outputs": [],
   "source": [
    "FXRates = pd.read_excel(io=\"Raw/美元汇率.xlsx\")\n",
    "FXRates = FXRates.drop([0, 1, 2], axis=0)\n",
    "FXRates.columns = ['日期', '美元汇率']                        \n",
    "FXRates[\"日期\"] = pd.DatetimeIndex(FXRates[\"日期\"])\n",
    "FXRates = FXRates.set_index(\"日期\")"
   ]
  },
  {
   "cell_type": "code",
   "execution_count": null,
   "metadata": {
    "ExecuteTime": {
     "end_time": "2020-08-14T04:02:39.109598Z",
     "start_time": "2020-08-14T04:02:39.107424Z"
    }
   },
   "outputs": [],
   "source": [
    "# # 皮尔逊相关系数\n",
    "# np.corrcoef( FXRates.values.flatten().astype(np.float32)[900:-233], \n",
    "#              (Assets['10年国债'] - Assets['10年美债']).values.astype(np.float32)[900:-220] )"
   ]
  },
  {
   "cell_type": "markdown",
   "metadata": {},
   "source": [
    "## 计算各资产收益率"
   ]
  },
  {
   "cell_type": "markdown",
   "metadata": {},
   "source": [
    "### 日内损益"
   ]
  },
  {
   "cell_type": "code",
   "execution_count": null,
   "metadata": {
    "ExecuteTime": {
     "end_time": "2020-08-14T04:02:39.983444Z",
     "start_time": "2020-08-14T04:02:39.970424Z"
    }
   },
   "outputs": [],
   "source": [
    "Returns = Assets.pct_change(axis=0)\n",
    "Returns = Returns.dropna(axis=0, how='all')           # 删除无数据日"
   ]
  },
  {
   "cell_type": "markdown",
   "metadata": {},
   "source": [
    "### 累计损益"
   ]
  },
  {
   "cell_type": "code",
   "execution_count": null,
   "metadata": {
    "ExecuteTime": {
     "end_time": "2020-08-14T04:02:40.458272Z",
     "start_time": "2020-08-14T04:02:40.450143Z"
    }
   },
   "outputs": [],
   "source": [
    "cumReturns = (1.0 + Returns)\n",
    "cumReturns = cumReturns.fillna(1.0)                    # 填充空值\n",
    "cumReturns = cumReturns.cumprod()                      # 计算各资产累计收益率"
   ]
  },
  {
   "cell_type": "markdown",
   "metadata": {},
   "source": [
    "### 杠杆调整后的债券净值"
   ]
  },
  {
   "cell_type": "code",
   "execution_count": null,
   "metadata": {
    "ExecuteTime": {
     "end_time": "2020-08-14T04:02:40.836960Z",
     "start_time": "2020-08-14T04:02:40.833442Z"
    }
   },
   "outputs": [],
   "source": [
    "lever = 2.0                                 # 杠杆（额外）\n",
    "leverReturns = Returns.copy()               # 创建副本 \n",
    "leverCumReturns = cumReturns.copy()   "
   ]
  },
  {
   "cell_type": "code",
   "execution_count": null,
   "metadata": {
    "ExecuteTime": {
     "end_time": "2020-08-14T04:02:41.021039Z",
     "start_time": "2020-08-14T04:02:41.004172Z"
    }
   },
   "outputs": [],
   "source": [
    "# 更新杠杆调整后的债券净值\n",
    "leverReturns['10年国债'] = Returns['10年国债'] * (1.0 + lever) - Rates.loc[Returns.index, 'GC007'] * lever / (365.0 * 100)\n",
    "leverReturns['信用债3-5AAA'] = Returns['信用债3-5AAA'] * (1.0 + lever) - Rates.loc[Returns.index, 'GC007'] * lever / (365.0 * 100)\n",
    "\n",
    "# 更新累计净值\n",
    "leverCumReturns = (1.0 + leverReturns)\n",
    "leverCumReturns = leverCumReturns.fillna(1.0)                    # 填充空值\n",
    "leverCumReturns = leverCumReturns.cumprod()                      # 计算各资产累计收益率"
   ]
  },
  {
   "cell_type": "markdown",
   "metadata": {},
   "source": [
    "### 剔除美元资产"
   ]
  },
  {
   "cell_type": "code",
   "execution_count": null,
   "metadata": {
    "ExecuteTime": {
     "end_time": "2020-08-14T04:02:41.326764Z",
     "start_time": "2020-08-14T04:02:41.322344Z"
    }
   },
   "outputs": [],
   "source": [
    "leverReturns_Domestic    = leverReturns.drop(['标普500', '10年美债'], axis=1)\n",
    "leverCumReturns_Domestic = leverCumReturns.drop(['标普500', '10年美债'], axis=1)"
   ]
  },
  {
   "cell_type": "code",
   "execution_count": null,
   "metadata": {
    "ExecuteTime": {
     "end_time": "2020-08-14T04:02:41.788101Z",
     "start_time": "2020-08-14T04:02:41.485934Z"
    }
   },
   "outputs": [],
   "source": [
    "leverCumReturns_Domestic.plot(figsize=(16, 6))"
   ]
  },
  {
   "cell_type": "markdown",
   "metadata": {},
   "source": [
    "# 风险平价 （杠杆+指数平均）"
   ]
  },
  {
   "cell_type": "markdown",
   "metadata": {},
   "source": [
    "## 程序运行"
   ]
  },
  {
   "cell_type": "code",
   "execution_count": null,
   "metadata": {
    "ExecuteTime": {
     "end_time": "2020-08-14T04:03:53.225176Z",
     "start_time": "2020-08-14T04:02:43.602117Z"
    }
   },
   "outputs": [],
   "source": [
    "tradeDF, weightDF = AlgoLoop.AlgoTrade(Assets, leverReturns_Domestic, leverCumReturns_Domestic, \n",
    "                                       Turnovers, FXRates, mode='ema')"
   ]
  },
  {
   "cell_type": "code",
   "execution_count": null,
   "metadata": {
    "ExecuteTime": {
     "end_time": "2020-08-14T04:03:53.823461Z",
     "start_time": "2020-08-14T04:03:53.227397Z"
    }
   },
   "outputs": [],
   "source": [
    "StatisticFunc.WeightPlot(tradeDF, weightDF, '基准模型')"
   ]
  },
  {
   "cell_type": "markdown",
   "metadata": {},
   "source": [
    "## 回测表现汇总"
   ]
  },
  {
   "cell_type": "code",
   "execution_count": null,
   "metadata": {
    "ExecuteTime": {
     "end_time": "2020-08-14T04:03:53.862397Z",
     "start_time": "2020-08-14T04:03:53.826334Z"
    }
   },
   "outputs": [],
   "source": [
    "smryDF = StatisticFunc.summaryDF(tradeDF)\n",
    "pfmcDF = StatisticFunc.performanceDF(smryDF, tradeDF, name='基准模型')"
   ]
  },
  {
   "cell_type": "code",
   "execution_count": null,
   "metadata": {
    "ExecuteTime": {
     "end_time": "2020-08-14T04:03:53.873926Z",
     "start_time": "2020-08-14T04:03:53.864646Z"
    }
   },
   "outputs": [],
   "source": [
    "smryDF"
   ]
  },
  {
   "cell_type": "code",
   "execution_count": null,
   "metadata": {
    "ExecuteTime": {
     "end_time": "2020-08-14T04:03:53.884055Z",
     "start_time": "2020-08-14T04:03:53.875720Z"
    }
   },
   "outputs": [],
   "source": [
    "pfmcDF"
   ]
  },
  {
   "cell_type": "markdown",
   "metadata": {},
   "source": [
    "## 收益率贡献度"
   ]
  },
  {
   "cell_type": "code",
   "execution_count": null,
   "metadata": {
    "ExecuteTime": {
     "end_time": "2020-08-14T04:03:53.908394Z",
     "start_time": "2020-08-14T04:03:53.887289Z"
    },
    "scrolled": true
   },
   "outputs": [],
   "source": [
    "annualContrb = StatisticFunc.AnnualContribution(tradeDF)"
   ]
  },
  {
   "cell_type": "code",
   "execution_count": null,
   "metadata": {
    "ExecuteTime": {
     "end_time": "2020-08-14T04:03:56.262700Z",
     "start_time": "2020-08-14T04:03:53.909877Z"
    }
   },
   "outputs": [],
   "source": [
    "StatisticFunc.BarPlot(annualContrb, '基准模型')"
   ]
  },
  {
   "cell_type": "markdown",
   "metadata": {},
   "source": [
    "## 投资组合净值曲线"
   ]
  },
  {
   "cell_type": "code",
   "execution_count": null,
   "metadata": {
    "ExecuteTime": {
     "end_time": "2020-08-14T04:03:56.610154Z",
     "start_time": "2020-08-14T04:03:56.268403Z"
    },
    "scrolled": false
   },
   "outputs": [],
   "source": [
    "fig = plt.figure(figsize=(16, 6))\n",
    "\n",
    "plt.plot(tradeDF.index, tradeDF['投资组合净值']/10000, label='基准模型')\n",
    "    \n",
    "plt.plot(cumReturns.index, cumReturns['中证500'], lw=0.8, label='中证500')\n",
    "plt.plot(cumReturns.index, cumReturns['标普500'], lw=0.8, label='标普500')\n",
    "plt.plot(cumReturns.index, cumReturns['10年国债'], lw=0.8, label='10年国债')\n",
    "\n",
    "plt.xlabel('时间')\n",
    "plt.ylabel('净值')\n",
    "plt.ylim(0.0, 3.0)\n",
    "plt.legend(loc='upper left')\n",
    "plt.title('净值曲线（杠杆，指数平均）')\n",
    "plt.savefig('Pics/净值曲线（杠杆，指数平均）.png')"
   ]
  },
  {
   "cell_type": "markdown",
   "metadata": {},
   "source": [
    "# 风险平价 + 单因子策略（杠杆+指数平均）"
   ]
  },
  {
   "cell_type": "markdown",
   "metadata": {},
   "source": [
    "## 换手率"
   ]
  },
  {
   "cell_type": "markdown",
   "metadata": {},
   "source": [
    "### 程序运行"
   ]
  },
  {
   "cell_type": "code",
   "execution_count": null,
   "metadata": {
    "ExecuteTime": {
     "end_time": "2020-08-14T04:05:16.858998Z",
     "start_time": "2020-08-14T04:03:56.614588Z"
    }
   },
   "outputs": [],
   "source": [
    "thrds = {'Equity':0.50, 'FixedIncome':0.90, 'Commodity':0.30}\n",
    "factors = {'momentumX':False, 'momentumT':False, \n",
    "            'reverseX':False, 'reverseT':False,\n",
    "            'turnover':True, 'fxRate':False,\n",
    "            'copperGold':False, 'copperGas':False}\n",
    "\n",
    "tradeDF_1, weightDF_1 = AlgoLoop.AlgoTrade(Assets, leverReturns_Domestic, leverCumReturns_Domestic, \n",
    "                                           Turnovers, FXRates, mode='ema', dt=120, up=0.50, \n",
    "                                           thresholds=thrds, factorDict=factors)"
   ]
  },
  {
   "cell_type": "code",
   "execution_count": null,
   "metadata": {
    "ExecuteTime": {
     "end_time": "2020-08-14T04:05:17.469917Z",
     "start_time": "2020-08-14T04:05:16.861646Z"
    }
   },
   "outputs": [],
   "source": [
    "StatisticFunc.WeightPlot(tradeDF_1, weightDF_1, '换手率')"
   ]
  },
  {
   "cell_type": "markdown",
   "metadata": {},
   "source": [
    "### 回测表现汇总"
   ]
  },
  {
   "cell_type": "code",
   "execution_count": null,
   "metadata": {
    "ExecuteTime": {
     "end_time": "2020-08-14T04:05:17.508922Z",
     "start_time": "2020-08-14T04:05:17.471889Z"
    }
   },
   "outputs": [],
   "source": [
    "smryDF_1 = StatisticFunc.summaryDF(tradeDF_1)\n",
    "pfmcDF_1 = StatisticFunc.performanceDF(smryDF_1, tradeDF_1, name='换手率')"
   ]
  },
  {
   "cell_type": "code",
   "execution_count": null,
   "metadata": {
    "ExecuteTime": {
     "end_time": "2020-08-14T04:05:17.519888Z",
     "start_time": "2020-08-14T04:05:17.510994Z"
    }
   },
   "outputs": [],
   "source": [
    "smryDF_1"
   ]
  },
  {
   "cell_type": "code",
   "execution_count": null,
   "metadata": {
    "ExecuteTime": {
     "end_time": "2020-08-14T04:05:17.532308Z",
     "start_time": "2020-08-14T04:05:17.522195Z"
    }
   },
   "outputs": [],
   "source": [
    "pfmcDF_1"
   ]
  },
  {
   "cell_type": "markdown",
   "metadata": {},
   "source": [
    "### 收益率贡献度"
   ]
  },
  {
   "cell_type": "code",
   "execution_count": null,
   "metadata": {
    "ExecuteTime": {
     "end_time": "2020-08-14T04:05:17.555744Z",
     "start_time": "2020-08-14T04:05:17.534377Z"
    },
    "scrolled": true
   },
   "outputs": [],
   "source": [
    "annualContrb_1 = StatisticFunc.AnnualContribution(tradeDF_1)"
   ]
  },
  {
   "cell_type": "code",
   "execution_count": null,
   "metadata": {
    "ExecuteTime": {
     "end_time": "2020-08-14T04:05:19.920851Z",
     "start_time": "2020-08-14T04:05:17.557550Z"
    }
   },
   "outputs": [],
   "source": [
    "StatisticFunc.BarPlot(annualContrb_1, '换手率')"
   ]
  },
  {
   "cell_type": "markdown",
   "metadata": {},
   "source": [
    "### 投资组合净值曲线"
   ]
  },
  {
   "cell_type": "code",
   "execution_count": null,
   "metadata": {
    "ExecuteTime": {
     "end_time": "2020-08-14T04:05:20.218337Z",
     "start_time": "2020-08-14T04:05:19.923094Z"
    },
    "scrolled": false
   },
   "outputs": [],
   "source": [
    "fig = plt.figure(figsize=(16, 8))\n",
    "\n",
    "plt.plot(tradeDF_1.index, tradeDF_1['投资组合净值']/10000, label='换手率')\n",
    "\n",
    "# 基准参考\n",
    "plt.plot(tradeDF.index, tradeDF['投资组合净值']/10000, ls='--', label='基准组合')     \n",
    "plt.plot(cumReturns.index, cumReturns['中证500'], label='中证500')\n",
    "plt.plot(cumReturns.index, cumReturns['10年国债'], label='中国10年国债')\n",
    "\n",
    "plt.xlabel('时间')\n",
    "plt.ylabel('净值')\n",
    "plt.ylim(0.0, 5.0)\n",
    "plt.legend(loc='upper left')\n",
    "plt.title('净值曲线（换手率）')\n",
    "plt.savefig('Pics/净值曲线（换手率）.png')"
   ]
  },
  {
   "cell_type": "markdown",
   "metadata": {},
   "source": [
    "## 横截面动量"
   ]
  },
  {
   "cell_type": "markdown",
   "metadata": {},
   "source": [
    "### 程序运行"
   ]
  },
  {
   "cell_type": "code",
   "execution_count": null,
   "metadata": {
    "ExecuteTime": {
     "end_time": "2020-08-14T04:06:39.416901Z",
     "start_time": "2020-08-14T04:05:20.220602Z"
    }
   },
   "outputs": [],
   "source": [
    "thrds = {'Equity':0.50, 'FixedIncome':0.90, 'Commodity':0.30}\n",
    "factors = {'momentumX':True, 'momentumT':False, \n",
    "            'reverseX':False, 'reverseT':False,\n",
    "            'turnover':False, 'fxRate':False,\n",
    "            'copperGold':False, 'copperGas':False}\n",
    "\n",
    "tradeDF_2, weightDF_2 = AlgoLoop.AlgoTrade(Assets, leverReturns_Domestic, leverCumReturns_Domestic, \n",
    "                                           Turnovers, FXRates, mode='ema', dt=120, up=0.50, \n",
    "                                           thresholds=thrds, factorDict=factors)"
   ]
  },
  {
   "cell_type": "code",
   "execution_count": null,
   "metadata": {
    "ExecuteTime": {
     "end_time": "2020-08-14T04:06:40.025286Z",
     "start_time": "2020-08-14T04:06:39.419422Z"
    }
   },
   "outputs": [],
   "source": [
    "StatisticFunc.WeightPlot(tradeDF_2, weightDF_2, '横截面动量')"
   ]
  },
  {
   "cell_type": "markdown",
   "metadata": {},
   "source": [
    "### 回测表现汇总"
   ]
  },
  {
   "cell_type": "code",
   "execution_count": null,
   "metadata": {
    "ExecuteTime": {
     "end_time": "2020-08-14T04:06:40.063853Z",
     "start_time": "2020-08-14T04:06:40.027539Z"
    }
   },
   "outputs": [],
   "source": [
    "smryDF_2 = StatisticFunc.summaryDF(tradeDF_2)\n",
    "pfmcDF_2 = StatisticFunc.performanceDF(smryDF_2, tradeDF_2, name='横截面动量')"
   ]
  },
  {
   "cell_type": "code",
   "execution_count": null,
   "metadata": {
    "ExecuteTime": {
     "end_time": "2020-08-14T04:06:40.076046Z",
     "start_time": "2020-08-14T04:06:40.065806Z"
    }
   },
   "outputs": [],
   "source": [
    "smryDF_2"
   ]
  },
  {
   "cell_type": "code",
   "execution_count": null,
   "metadata": {
    "ExecuteTime": {
     "end_time": "2020-08-14T04:06:40.088629Z",
     "start_time": "2020-08-14T04:06:40.077782Z"
    }
   },
   "outputs": [],
   "source": [
    "pfmcDF_2"
   ]
  },
  {
   "cell_type": "markdown",
   "metadata": {},
   "source": [
    "### 收益率贡献度"
   ]
  },
  {
   "cell_type": "code",
   "execution_count": null,
   "metadata": {
    "ExecuteTime": {
     "end_time": "2020-08-14T04:06:40.115397Z",
     "start_time": "2020-08-14T04:06:40.090843Z"
    },
    "scrolled": true
   },
   "outputs": [],
   "source": [
    "annualContrb_2 = StatisticFunc.AnnualContribution(tradeDF_2)"
   ]
  },
  {
   "cell_type": "code",
   "execution_count": null,
   "metadata": {
    "ExecuteTime": {
     "end_time": "2020-08-14T04:06:42.499970Z",
     "start_time": "2020-08-14T04:06:40.124185Z"
    }
   },
   "outputs": [],
   "source": [
    "StatisticFunc.BarPlot(annualContrb_2, '横截面动量')"
   ]
  },
  {
   "cell_type": "markdown",
   "metadata": {},
   "source": [
    "### 投资组合净值曲线"
   ]
  },
  {
   "cell_type": "code",
   "execution_count": null,
   "metadata": {
    "ExecuteTime": {
     "end_time": "2020-08-14T04:06:42.824788Z",
     "start_time": "2020-08-14T04:06:42.505963Z"
    },
    "scrolled": false
   },
   "outputs": [],
   "source": [
    "fig = plt.figure(figsize=(16, 8))\n",
    "\n",
    "plt.plot(tradeDF_2.index, tradeDF_2['投资组合净值']/10000, label='横截面动量')\n",
    "        \n",
    "# 基准参考\n",
    "plt.plot(tradeDF.index, tradeDF['投资组合净值']/10000, ls='--', label='基准组合')\n",
    "plt.plot(cumReturns.index, cumReturns['中证500'], lw=0.8, label='中证500')\n",
    "plt.plot(cumReturns.index, cumReturns['标普500'], lw=0.8, label='标普500')\n",
    "plt.plot(cumReturns.index, cumReturns['10年国债'], lw=0.8, label='10年国债')\n",
    "\n",
    "plt.xlabel('时间')\n",
    "plt.ylabel('净值')\n",
    "plt.ylim(0.0, 3.0)\n",
    "plt.legend(loc='upper left')\n",
    "plt.title('净值曲线（横截面动量）')\n",
    "plt.savefig('Pics/净值曲线（横截面动量）.png')"
   ]
  },
  {
   "cell_type": "markdown",
   "metadata": {},
   "source": [
    "## 时序动量"
   ]
  },
  {
   "cell_type": "markdown",
   "metadata": {},
   "source": [
    "### 程序运行"
   ]
  },
  {
   "cell_type": "code",
   "execution_count": null,
   "metadata": {
    "ExecuteTime": {
     "end_time": "2020-08-14T04:08:01.678391Z",
     "start_time": "2020-08-14T04:06:42.828035Z"
    }
   },
   "outputs": [],
   "source": [
    "thrds = {'Equity':0.50, 'FixedIncome':0.90, 'Commodity':0.30}\n",
    "factors = {'momentumX':False, 'momentumT':True, \n",
    "            'reverseX':False, 'reverseT':False,\n",
    "            'turnover':False, 'fxRate':False,\n",
    "            'copperGold':False, 'copperGas':False}\n",
    "\n",
    "tradeDF_3, weightDF_3 = AlgoLoop.AlgoTrade(Assets, leverReturns_Domestic, leverCumReturns_Domestic, \n",
    "                                           Turnovers, FXRates, mode='ema', dt=120, up=0.50, \n",
    "                                           thresholds=thrds, factorDict=factors)"
   ]
  },
  {
   "cell_type": "code",
   "execution_count": null,
   "metadata": {
    "ExecuteTime": {
     "end_time": "2020-08-14T04:08:02.292394Z",
     "start_time": "2020-08-14T04:08:01.680569Z"
    }
   },
   "outputs": [],
   "source": [
    "StatisticFunc.WeightPlot(tradeDF_3, weightDF_3, '时序动量')"
   ]
  },
  {
   "cell_type": "markdown",
   "metadata": {},
   "source": [
    "### 回测表现汇总"
   ]
  },
  {
   "cell_type": "code",
   "execution_count": null,
   "metadata": {
    "ExecuteTime": {
     "end_time": "2020-08-14T04:08:02.330807Z",
     "start_time": "2020-08-14T04:08:02.294670Z"
    }
   },
   "outputs": [],
   "source": [
    "smryDF_3 = StatisticFunc.summaryDF(tradeDF_3)\n",
    "pfmcDF_3 = StatisticFunc.performanceDF(smryDF_3, tradeDF_3, name='时序动量')"
   ]
  },
  {
   "cell_type": "code",
   "execution_count": null,
   "metadata": {
    "ExecuteTime": {
     "end_time": "2020-08-14T04:08:02.343797Z",
     "start_time": "2020-08-14T04:08:02.332960Z"
    }
   },
   "outputs": [],
   "source": [
    "smryDF_3"
   ]
  },
  {
   "cell_type": "code",
   "execution_count": null,
   "metadata": {
    "ExecuteTime": {
     "end_time": "2020-08-14T04:08:02.355094Z",
     "start_time": "2020-08-14T04:08:02.345825Z"
    }
   },
   "outputs": [],
   "source": [
    "pfmcDF_3"
   ]
  },
  {
   "cell_type": "markdown",
   "metadata": {},
   "source": [
    "### 收益率贡献度"
   ]
  },
  {
   "cell_type": "code",
   "execution_count": null,
   "metadata": {
    "ExecuteTime": {
     "end_time": "2020-08-14T04:08:02.382473Z",
     "start_time": "2020-08-14T04:08:02.357314Z"
    },
    "scrolled": true
   },
   "outputs": [],
   "source": [
    "annualContrb_3 = StatisticFunc.AnnualContribution(tradeDF_3)"
   ]
  },
  {
   "cell_type": "code",
   "execution_count": null,
   "metadata": {
    "ExecuteTime": {
     "end_time": "2020-08-14T04:08:04.719772Z",
     "start_time": "2020-08-14T04:08:02.384538Z"
    }
   },
   "outputs": [],
   "source": [
    "StatisticFunc.BarPlot(annualContrb_3, '时序动量')"
   ]
  },
  {
   "cell_type": "markdown",
   "metadata": {},
   "source": [
    "### 投资组合净值曲线"
   ]
  },
  {
   "cell_type": "code",
   "execution_count": null,
   "metadata": {
    "ExecuteTime": {
     "end_time": "2020-08-14T04:08:05.045672Z",
     "start_time": "2020-08-14T04:08:04.721913Z"
    },
    "scrolled": false
   },
   "outputs": [],
   "source": [
    "fig = plt.figure(figsize=(16, 8))\n",
    "\n",
    "plt.plot(tradeDF_3.index, tradeDF_3['投资组合净值']/10000, label='时序动量')\n",
    "    \n",
    "# 基准参考\n",
    "plt.plot(tradeDF.index, tradeDF['投资组合净值']/10000, ls='--', label='基准组合') \n",
    "plt.plot(cumReturns.index, cumReturns['中证500'], lw=0.8, label='中证500')\n",
    "plt.plot(cumReturns.index, cumReturns['标普500'], lw=0.8, label='标普500')\n",
    "plt.plot(cumReturns.index, cumReturns['10年国债'], lw=0.8, label='10年国债')\n",
    "\n",
    "plt.xlabel('时间')\n",
    "plt.ylabel('净值')\n",
    "plt.ylim(0.0, 3.0)\n",
    "plt.legend(loc='upper left')\n",
    "plt.title('净值曲线（时序动量）')\n",
    "plt.savefig('Pics/净值曲线（时序动量）D.png')"
   ]
  },
  {
   "cell_type": "markdown",
   "metadata": {},
   "source": [
    "## 汇率因子"
   ]
  },
  {
   "cell_type": "markdown",
   "metadata": {},
   "source": [
    "### 程序运行"
   ]
  },
  {
   "cell_type": "code",
   "execution_count": null,
   "metadata": {
    "ExecuteTime": {
     "end_time": "2020-08-14T04:08:05.050433Z",
     "start_time": "2020-08-14T04:08:05.047693Z"
    }
   },
   "outputs": [],
   "source": [
    "# thrds = {'Equity':0.50, 'FixedIncome':0.90, 'Commodity':0.30}\n",
    "# factors = {'momentumX':False, 'momentumT':False, \n",
    "#             'reverseX':False, 'reverseT':False,\n",
    "#             'turnover':False, 'fxRate':True,\n",
    "#             'copperGold':True, 'copperGas':False}\n",
    "\n",
    "# tradeDF_4, weightDF_4 = AlgoLoop.AlgoTrade(Assets, leverReturns, leverCumReturns, \n",
    "#                                            Turnovers, FXRates, mode='ema', dt=120, up=0.50, \n",
    "#                                            thresholds=thrds, factorDict=factors)"
   ]
  },
  {
   "cell_type": "code",
   "execution_count": null,
   "metadata": {
    "ExecuteTime": {
     "end_time": "2020-08-14T04:08:05.057936Z",
     "start_time": "2020-08-14T04:08:05.052981Z"
    }
   },
   "outputs": [],
   "source": [
    "# StatisticFunc.WeightPlot(tradeDF_4, weightDF_4, '汇率因子')"
   ]
  },
  {
   "cell_type": "markdown",
   "metadata": {},
   "source": [
    "### 回测表现汇总"
   ]
  },
  {
   "cell_type": "code",
   "execution_count": null,
   "metadata": {
    "ExecuteTime": {
     "end_time": "2020-08-14T04:08:05.062466Z",
     "start_time": "2020-08-14T04:08:05.060078Z"
    }
   },
   "outputs": [],
   "source": [
    "# smryDF_4 = StatisticFunc.summaryDF(tradeDF_4)\n",
    "# pfmcDF_4 = StatisticFunc.performanceDF(smryDF_4, tradeDF_4, name='汇率因子')"
   ]
  },
  {
   "cell_type": "code",
   "execution_count": null,
   "metadata": {
    "ExecuteTime": {
     "end_time": "2020-08-14T04:08:05.066386Z",
     "start_time": "2020-08-14T04:08:05.064215Z"
    }
   },
   "outputs": [],
   "source": [
    "# smryDF_4"
   ]
  },
  {
   "cell_type": "code",
   "execution_count": null,
   "metadata": {
    "ExecuteTime": {
     "end_time": "2020-08-14T04:08:05.070136Z",
     "start_time": "2020-08-14T04:08:05.068139Z"
    }
   },
   "outputs": [],
   "source": [
    "# pfmcDF_4"
   ]
  },
  {
   "cell_type": "markdown",
   "metadata": {},
   "source": [
    "### 收益率贡献度"
   ]
  },
  {
   "cell_type": "code",
   "execution_count": null,
   "metadata": {
    "ExecuteTime": {
     "end_time": "2020-08-14T04:08:05.074095Z",
     "start_time": "2020-08-14T04:08:05.071993Z"
    },
    "scrolled": true
   },
   "outputs": [],
   "source": [
    "# annualContrb_4 = StatisticFunc.AnnualContribution(tradeDF_4)"
   ]
  },
  {
   "cell_type": "code",
   "execution_count": null,
   "metadata": {
    "ExecuteTime": {
     "end_time": "2020-08-14T04:08:05.077826Z",
     "start_time": "2020-08-14T04:08:05.075921Z"
    }
   },
   "outputs": [],
   "source": [
    "# StatisticFunc.BarPlot(annualContrb_4, '汇率因子')"
   ]
  },
  {
   "cell_type": "markdown",
   "metadata": {},
   "source": [
    "### 投资组合净值曲线"
   ]
  },
  {
   "cell_type": "code",
   "execution_count": null,
   "metadata": {
    "ExecuteTime": {
     "end_time": "2020-08-14T04:08:05.081837Z",
     "start_time": "2020-08-14T04:08:05.079674Z"
    },
    "scrolled": false
   },
   "outputs": [],
   "source": [
    "# fig = plt.figure(figsize=(16, 8))\n",
    "\n",
    "# plt.plot(tradeDF_4.index, tradeDF_4['投资组合净值']/10000, label='汇率因子')\n",
    "    \n",
    "    \n",
    "# # 基准参考\n",
    "# plt.plot(tradeDF.index, tradeDF['投资组合净值']/10000, ls='--', label='基准组合') \n",
    "# plt.plot(cumReturns.index, cumReturns['中证500'], lw=0.8, label='中证500')\n",
    "# plt.plot(cumReturns.index, cumReturns['标普500'], lw=0.8, label='标普500')\n",
    "# plt.plot(cumReturns.index, cumReturns['10年国债'], lw=0.8, label='10年国债')\n",
    "\n",
    "# plt.xlabel('时间')\n",
    "# plt.ylabel('净值')\n",
    "# plt.ylim(0.0, 3.0)\n",
    "# plt.legend(loc='upper left')\n",
    "# plt.title('净值曲线（汇率因子）')\n",
    "# plt.savefig('Pics/净值曲线（汇率因子）.png')"
   ]
  },
  {
   "cell_type": "markdown",
   "metadata": {},
   "source": [
    "## 铜金"
   ]
  },
  {
   "cell_type": "markdown",
   "metadata": {},
   "source": [
    "### 程序运行"
   ]
  },
  {
   "cell_type": "code",
   "execution_count": null,
   "metadata": {
    "ExecuteTime": {
     "end_time": "2020-08-14T04:09:24.187828Z",
     "start_time": "2020-08-14T04:08:05.083718Z"
    }
   },
   "outputs": [],
   "source": [
    "thrds = {'Equity':0.50, 'FixedIncome':0.90, 'Commodity':0.30}\n",
    "factors = {'momentumX':False, 'momentumT':False, \n",
    "            'reverseX':False, 'reverseT':False,\n",
    "            'turnover':False, 'fxRate':False,\n",
    "            'copperGold':True, 'copperGas':False}\n",
    "\n",
    "tradeDF_5, weightDF_5 = AlgoLoop.AlgoTrade(Assets, leverReturns_Domestic, leverCumReturns_Domestic, \n",
    "                                           Turnovers, FXRates, mode='ema', dt=120, up=0.50, thresholds=thrds, factorDict=factors)"
   ]
  },
  {
   "cell_type": "code",
   "execution_count": null,
   "metadata": {
    "ExecuteTime": {
     "end_time": "2020-08-14T04:09:24.797495Z",
     "start_time": "2020-08-14T04:09:24.190150Z"
    }
   },
   "outputs": [],
   "source": [
    "StatisticFunc.WeightPlot(tradeDF_5, weightDF_5, '铜金比')"
   ]
  },
  {
   "cell_type": "markdown",
   "metadata": {},
   "source": [
    "### 回测表现汇总"
   ]
  },
  {
   "cell_type": "code",
   "execution_count": null,
   "metadata": {
    "ExecuteTime": {
     "end_time": "2020-08-14T04:09:24.835597Z",
     "start_time": "2020-08-14T04:09:24.799775Z"
    }
   },
   "outputs": [],
   "source": [
    "smryDF_5 = StatisticFunc.summaryDF(tradeDF_5)\n",
    "pfmcDF_5 = StatisticFunc.performanceDF(smryDF_5, tradeDF_5, name='铜金比')"
   ]
  },
  {
   "cell_type": "code",
   "execution_count": null,
   "metadata": {
    "ExecuteTime": {
     "end_time": "2020-08-14T04:09:24.848386Z",
     "start_time": "2020-08-14T04:09:24.837530Z"
    }
   },
   "outputs": [],
   "source": [
    "smryDF_5"
   ]
  },
  {
   "cell_type": "code",
   "execution_count": null,
   "metadata": {
    "ExecuteTime": {
     "end_time": "2020-08-14T04:09:24.860588Z",
     "start_time": "2020-08-14T04:09:24.850716Z"
    }
   },
   "outputs": [],
   "source": [
    "pfmcDF_5"
   ]
  },
  {
   "cell_type": "markdown",
   "metadata": {},
   "source": [
    "### 收益率贡献度"
   ]
  },
  {
   "cell_type": "code",
   "execution_count": null,
   "metadata": {
    "ExecuteTime": {
     "end_time": "2020-08-14T04:09:24.888706Z",
     "start_time": "2020-08-14T04:09:24.862814Z"
    },
    "scrolled": true
   },
   "outputs": [],
   "source": [
    "annualContrb_5 = StatisticFunc.AnnualContribution(tradeDF_5)"
   ]
  },
  {
   "cell_type": "code",
   "execution_count": null,
   "metadata": {
    "ExecuteTime": {
     "end_time": "2020-08-14T04:09:27.235585Z",
     "start_time": "2020-08-14T04:09:24.890490Z"
    }
   },
   "outputs": [],
   "source": [
    "StatisticFunc.BarPlot(annualContrb_5, '铜金比')"
   ]
  },
  {
   "cell_type": "markdown",
   "metadata": {},
   "source": [
    "### 投资组合净值曲线"
   ]
  },
  {
   "cell_type": "code",
   "execution_count": null,
   "metadata": {
    "ExecuteTime": {
     "end_time": "2020-08-14T04:09:27.562572Z",
     "start_time": "2020-08-14T04:09:27.238039Z"
    },
    "scrolled": false
   },
   "outputs": [],
   "source": [
    "fig = plt.figure(figsize=(16, 8))\n",
    "\n",
    "plt.plot(tradeDF_5.index, tradeDF_5['投资组合净值']/10000, label='铜金比')\n",
    "    \n",
    "# 基准参考\n",
    "plt.plot(tradeDF.index, tradeDF['投资组合净值']/10000, ls='--', label='基准组合')   \n",
    "plt.plot(cumReturns.index, cumReturns['中证500'], lw=0.8, label='中证500')\n",
    "plt.plot(cumReturns.index, cumReturns['标普500'], lw=0.8, label='标普500')\n",
    "plt.plot(cumReturns.index, cumReturns['10年国债'], lw=0.8, label='10年国债')\n",
    "\n",
    "plt.xlabel('时间')\n",
    "plt.ylabel('净值')\n",
    "plt.ylim(0.0, 3.0)\n",
    "plt.legend(loc='upper left')\n",
    "plt.title('净值曲线（铜金比）')\n",
    "plt.savefig('Pics/净值曲线（铜金比）.png')"
   ]
  },
  {
   "cell_type": "markdown",
   "metadata": {},
   "source": [
    "## 铜油"
   ]
  },
  {
   "cell_type": "markdown",
   "metadata": {},
   "source": [
    "### 程序运行"
   ]
  },
  {
   "cell_type": "code",
   "execution_count": null,
   "metadata": {
    "ExecuteTime": {
     "end_time": "2020-08-14T04:10:47.171649Z",
     "start_time": "2020-08-14T04:09:27.564811Z"
    }
   },
   "outputs": [],
   "source": [
    "thrds = {'Equity':0.50, 'FixedIncome':0.90, 'Commodity':0.30}\n",
    "factors = {'momentumX':False, 'momentumT':False, \n",
    "            'reverseX':False, 'reverseT':False,\n",
    "            'turnover':False, 'fxRate':False,\n",
    "            'copperGold':False, 'copperGas':True}\n",
    "\n",
    "tradeDF_6, weightDF_6 = AlgoLoop.AlgoTrade(Assets, leverReturns_Domestic, leverCumReturns_Domestic, \n",
    "                                           Turnovers, FXRates, mode='ema', dt=120, up=0.50, \n",
    "                                           thresholds=thrds, factorDict=factors)"
   ]
  },
  {
   "cell_type": "code",
   "execution_count": null,
   "metadata": {
    "ExecuteTime": {
     "end_time": "2020-08-14T04:10:47.780622Z",
     "start_time": "2020-08-14T04:10:47.174148Z"
    }
   },
   "outputs": [],
   "source": [
    "StatisticFunc.WeightPlot(tradeDF_6, weightDF_6, '铜油比')"
   ]
  },
  {
   "cell_type": "markdown",
   "metadata": {},
   "source": [
    "### 回测表现汇总"
   ]
  },
  {
   "cell_type": "code",
   "execution_count": null,
   "metadata": {
    "ExecuteTime": {
     "end_time": "2020-08-14T04:10:47.817977Z",
     "start_time": "2020-08-14T04:10:47.782835Z"
    }
   },
   "outputs": [],
   "source": [
    "smryDF_6 = StatisticFunc.summaryDF(tradeDF_6)\n",
    "pfmcDF_6 = StatisticFunc.performanceDF(smryDF_6, tradeDF_6, name='铜油比')"
   ]
  },
  {
   "cell_type": "code",
   "execution_count": null,
   "metadata": {
    "ExecuteTime": {
     "end_time": "2020-08-14T04:10:47.829652Z",
     "start_time": "2020-08-14T04:10:47.819930Z"
    }
   },
   "outputs": [],
   "source": [
    "smryDF_6"
   ]
  },
  {
   "cell_type": "code",
   "execution_count": null,
   "metadata": {
    "ExecuteTime": {
     "end_time": "2020-08-14T04:10:47.839143Z",
     "start_time": "2020-08-14T04:10:47.831602Z"
    }
   },
   "outputs": [],
   "source": [
    "pfmcDF_6"
   ]
  },
  {
   "cell_type": "markdown",
   "metadata": {},
   "source": [
    "### 收益率贡献度"
   ]
  },
  {
   "cell_type": "code",
   "execution_count": null,
   "metadata": {
    "ExecuteTime": {
     "end_time": "2020-08-14T04:10:47.859357Z",
     "start_time": "2020-08-14T04:10:47.841293Z"
    },
    "scrolled": true
   },
   "outputs": [],
   "source": [
    "annualContrb_6 = StatisticFunc.AnnualContribution(tradeDF_6)"
   ]
  },
  {
   "cell_type": "code",
   "execution_count": null,
   "metadata": {
    "ExecuteTime": {
     "end_time": "2020-08-14T04:10:50.197549Z",
     "start_time": "2020-08-14T04:10:47.860837Z"
    }
   },
   "outputs": [],
   "source": [
    "StatisticFunc.BarPlot(annualContrb_6, '铜油比')"
   ]
  },
  {
   "cell_type": "markdown",
   "metadata": {},
   "source": [
    "### 投资组合净值曲线"
   ]
  },
  {
   "cell_type": "code",
   "execution_count": null,
   "metadata": {
    "ExecuteTime": {
     "end_time": "2020-08-14T04:10:50.523514Z",
     "start_time": "2020-08-14T04:10:50.200284Z"
    },
    "scrolled": false
   },
   "outputs": [],
   "source": [
    "fig = plt.figure(figsize=(16, 8))\n",
    "\n",
    "plt.plot(tradeDF_6.index, tradeDF_6['投资组合净值']/10000, label='铜油比')\n",
    "\n",
    "# 基准参考\n",
    "plt.plot(tradeDF.index, tradeDF['投资组合净值']/10000, ls='--', label='基准组合') \n",
    "plt.plot(cumReturns.index, cumReturns['中证500'], lw=0.8, label='中证500')\n",
    "plt.plot(cumReturns.index, cumReturns['标普500'], lw=0.8, label='标普500')\n",
    "plt.plot(cumReturns.index, cumReturns['10年国债'], lw=0.8, label='10年国债')\n",
    "\n",
    "plt.xlabel('时间')\n",
    "plt.ylabel('净值')\n",
    "plt.ylim(0.0, 3.0)\n",
    "plt.legend(loc='upper left')\n",
    "plt.title('净值曲线（铜油比）')\n",
    "plt.savefig('Pics/净值曲线（铜油比).png')"
   ]
  },
  {
   "cell_type": "markdown",
   "metadata": {},
   "source": [
    "## 汇总比较"
   ]
  },
  {
   "cell_type": "code",
   "execution_count": null,
   "metadata": {
    "ExecuteTime": {
     "end_time": "2020-08-14T04:10:50.540326Z",
     "start_time": "2020-08-14T04:10:50.525563Z"
    }
   },
   "outputs": [],
   "source": [
    "pd.concat([pfmcDF, pfmcDF_1, pfmcDF_2, pfmcDF_3, pfmcDF_5, pfmcDF_6])"
   ]
  },
  {
   "cell_type": "code",
   "execution_count": null,
   "metadata": {},
   "outputs": [],
   "source": []
  }
 ],
 "metadata": {
  "kernelspec": {
   "display_name": "Python 3",
   "language": "python",
   "name": "python3"
  },
  "language_info": {
   "codemirror_mode": {
    "name": "ipython",
    "version": 3
   },
   "file_extension": ".py",
   "mimetype": "text/x-python",
   "name": "python",
   "nbconvert_exporter": "python",
   "pygments_lexer": "ipython3",
   "version": "3.7.7"
  },
  "latex_envs": {
   "LaTeX_envs_menu_present": true,
   "autoclose": false,
   "autocomplete": true,
   "bibliofile": "biblio.bib",
   "cite_by": "apalike",
   "current_citInitial": 1,
   "eqLabelWithNumbers": true,
   "eqNumInitial": 1,
   "hotkeys": {
    "equation": "Ctrl-E",
    "itemize": "Ctrl-I"
   },
   "labels_anchors": false,
   "latex_user_defs": false,
   "report_style_numbering": false,
   "user_envs_cfg": false
  },
  "toc": {
   "base_numbering": 1,
   "nav_menu": {},
   "number_sections": true,
   "sideBar": true,
   "skip_h1_title": false,
   "title_cell": "Table of Contents",
   "title_sidebar": "Contents",
   "toc_cell": false,
   "toc_position": {
    "height": "calc(100% - 180px)",
    "left": "10px",
    "top": "150px",
    "width": "366px"
   },
   "toc_section_display": true,
   "toc_window_display": true
  }
 },
 "nbformat": 4,
 "nbformat_minor": 4
}
