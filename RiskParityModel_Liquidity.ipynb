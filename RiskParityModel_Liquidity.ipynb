{
 "cells": [
  {
   "cell_type": "code",
   "execution_count": null,
   "metadata": {
    "ExecuteTime": {
     "end_time": "2020-08-21T01:49:38.009737Z",
     "start_time": "2020-08-21T01:49:36.506631Z"
    }
   },
   "outputs": [],
   "source": [
    "import numpy as np\n",
    "import pandas as pd\n",
    "import matplotlib\n",
    "import matplotlib.pyplot as plt\n",
    "import AlgoLoop\n",
    "import StatisticFunc\n",
    "\n",
    "plt.style.use('seaborn-deep')                        # 绘图风格\n",
    "matplotlib.rcParams['font.sans-serif'] = ['SimHei']  # 字体雅黑\n",
    "matplotlib.rcParams['font.family'] = 'sans-serif'\n",
    "matplotlib.rcParams['axes.unicode_minus'] = False    # 处理负号"
   ]
  },
  {
   "cell_type": "code",
   "execution_count": null,
   "metadata": {
    "ExecuteTime": {
     "end_time": "2020-08-21T01:49:38.014628Z",
     "start_time": "2020-08-21T01:49:38.011693Z"
    }
   },
   "outputs": [],
   "source": [
    "print(plt.style.available)"
   ]
  },
  {
   "cell_type": "markdown",
   "metadata": {},
   "source": [
    "# 预处理"
   ]
  },
  {
   "cell_type": "markdown",
   "metadata": {},
   "source": [
    "## 提取并处理数据"
   ]
  },
  {
   "cell_type": "markdown",
   "metadata": {},
   "source": [
    "### 各种利率"
   ]
  },
  {
   "cell_type": "code",
   "execution_count": null,
   "metadata": {
    "ExecuteTime": {
     "end_time": "2020-08-21T01:49:38.183073Z",
     "start_time": "2020-08-21T01:49:38.017797Z"
    }
   },
   "outputs": [],
   "source": [
    "# GC007 利率\n",
    "GCRates = pd.read_excel(io=\"Raw/GC007利率.xlsx\")              \n",
    "GCRates = GCRates.drop([0, 1, 2], axis=0)                    \n",
    "GCRates.columns = ['日期', 'GC007']                           \n",
    "GCRates[\"日期\"] = pd.DatetimeIndex(GCRates[\"日期\"])           \n",
    "GCRates = GCRates.set_index(\"日期\")                          "
   ]
  },
  {
   "cell_type": "code",
   "execution_count": null,
   "metadata": {
    "ExecuteTime": {
     "end_time": "2020-08-21T01:49:38.258973Z",
     "start_time": "2020-08-21T01:49:38.186101Z"
    }
   },
   "outputs": [],
   "source": [
    "# 10年国债收益率\n",
    "CNRates = pd.read_excel(io=\"Raw/10年国债到期收益率.xls\")        \n",
    "CNRates.columns = ['日期', '十年国债收益率']                    \n",
    "CNRates = CNRates.drop([0, 3870, 3871], axis=0)              \n",
    "CNRates[\"日期\"] = pd.DatetimeIndex(CNRates[\"日期\"])           \n",
    "CNRates = CNRates.set_index(\"日期\")                          "
   ]
  },
  {
   "cell_type": "code",
   "execution_count": null,
   "metadata": {
    "ExecuteTime": {
     "end_time": "2020-08-21T01:49:38.457282Z",
     "start_time": "2020-08-21T01:49:38.260962Z"
    }
   },
   "outputs": [],
   "source": [
    "# 10年美债收益率\n",
    "USRates = pd.read_excel(io=\"Raw/10年美债到期收益率.xlsx\")                \n",
    "USRates.columns = ['日期', '十年美债收益率']                             \n",
    "USRates = USRates.drop([0, 6263, 6264], axis=0)                       \n",
    "USRates[\"日期\"] = pd.DatetimeIndex(USRates[\"日期\"])                    \n",
    "USRates = USRates.set_index(\"日期\")                                   "
   ]
  },
  {
   "cell_type": "code",
   "execution_count": null,
   "metadata": {
    "ExecuteTime": {
     "end_time": "2020-08-21T01:49:38.465101Z",
     "start_time": "2020-08-21T01:49:38.459068Z"
    }
   },
   "outputs": [],
   "source": [
    "# 合并利率\n",
    "Rates = GCRates.merge(CNRates, how='left', left_index=True, right_index=True)\n",
    "Rates = Rates.merge(USRates, how='left', left_index=True, right_index=True)"
   ]
  },
  {
   "cell_type": "markdown",
   "metadata": {},
   "source": [
    "### 权益类资产换手率"
   ]
  },
  {
   "cell_type": "code",
   "execution_count": null,
   "metadata": {
    "ExecuteTime": {
     "end_time": "2020-08-21T01:49:38.588350Z",
     "start_time": "2020-08-21T01:49:38.467237Z"
    }
   },
   "outputs": [],
   "source": [
    "Turnovers = pd.read_excel(io=\"Raw/资产换手率.xlsx\")                         \n",
    "Turnovers = Turnovers.drop([0], axis=0)                                   \n",
    "Turnovers[\"日期\"] = pd.DatetimeIndex(Turnovers[\"日期\"])                    \n",
    "Turnovers = Turnovers.set_index(\"日期\")                                   "
   ]
  },
  {
   "cell_type": "code",
   "execution_count": null,
   "metadata": {
    "ExecuteTime": {
     "end_time": "2020-08-21T01:49:38.595136Z",
     "start_time": "2020-08-21T01:49:38.591855Z"
    }
   },
   "outputs": [],
   "source": [
    "# 时间对齐\n",
    "Turnovers = Turnovers.loc[Rates.index, :]"
   ]
  },
  {
   "cell_type": "markdown",
   "metadata": {},
   "source": [
    "### 铁矿石价格指数"
   ]
  },
  {
   "cell_type": "code",
   "execution_count": null,
   "metadata": {
    "ExecuteTime": {
     "end_time": "2020-08-21T01:49:38.700331Z",
     "start_time": "2020-08-21T01:49:38.598117Z"
    }
   },
   "outputs": [],
   "source": [
    "IronStone = pd.read_excel(io=\"Raw/铁矿石价格指数.xls\")                      \n",
    "IronStone = IronStone.drop([0, 2642, 2643], axis=0)                       \n",
    "IronStone.columns=['日期', '铁矿石期货']                                    \n",
    "IronStone[\"日期\"] = pd.DatetimeIndex(IronStone[\"日期\"])                    \n",
    "IronStone = IronStone.set_index(\"日期\")                                   "
   ]
  },
  {
   "cell_type": "markdown",
   "metadata": {},
   "source": [
    "### 各资产收盘价"
   ]
  },
  {
   "cell_type": "code",
   "execution_count": null,
   "metadata": {
    "ExecuteTime": {
     "end_time": "2020-08-21T01:49:39.005439Z",
     "start_time": "2020-08-21T01:49:38.702534Z"
    }
   },
   "outputs": [],
   "source": [
    "Assets = pd.read_excel(io=\"Raw/资产收盘价.xlsx\")                      \n",
    "Assets = Assets.drop([0], axis=0)                                   \n",
    "Assets[\"日期\"] = pd.DatetimeIndex(Assets[\"日期\"])                    \n",
    "Assets = Assets.set_index(\"日期\")                                   \n",
    "Assets = Assets.loc[Rates.index, :]                                "
   ]
  },
  {
   "cell_type": "code",
   "execution_count": null,
   "metadata": {
    "ExecuteTime": {
     "end_time": "2020-08-21T01:49:39.015146Z",
     "start_time": "2020-08-21T01:49:39.007592Z"
    }
   },
   "outputs": [],
   "source": [
    "# 整合铁矿石数据\n",
    "Assets = Assets.drop('中信证券铁矿石', axis=1)\n",
    "Assets = Assets.merge(IronStone, how='left', left_index=True, right_index=True)\n",
    "\n",
    "# 填充铁矿石2011年前缺失数据\n",
    "Assets['铁矿石期货'] = Assets['铁矿石期货'].fillna(method='bfill')"
   ]
  },
  {
   "cell_type": "markdown",
   "metadata": {},
   "source": [
    "### 十年国债&美债价格指数"
   ]
  },
  {
   "cell_type": "code",
   "execution_count": null,
   "metadata": {
    "ExecuteTime": {
     "end_time": "2020-08-21T01:49:39.034125Z",
     "start_time": "2020-08-21T01:49:39.017037Z"
    }
   },
   "outputs": [],
   "source": [
    "# 计算持债时间\n",
    "HoldPeriod = (Assets.index - Assets.index[0]).days\n",
    "\n",
    "# 计算十年国债\n",
    "Assets['10年国债'] = 100 - (Rates['十年国债收益率'] - 3.0) * 8.2 + 3.0 * HoldPeriod / 365.0\n",
    "Assets['10年国债'] = Assets['10年国债'].fillna(method='ffill')\n",
    "\n",
    "#计算十年美债\n",
    "Assets['10年美债'] = 100 - (Rates['十年美债收益率'] - 3.0) * 8.2 + 3.0 * HoldPeriod / 365.0\n",
    "Assets['10年美债'] = Assets['10年美债'].fillna(method='ffill')"
   ]
  },
  {
   "cell_type": "code",
   "execution_count": null,
   "metadata": {
    "ExecuteTime": {
     "end_time": "2020-08-21T01:49:39.041167Z",
     "start_time": "2020-08-21T01:49:39.035886Z"
    }
   },
   "outputs": [],
   "source": [
    "# 替换上证十年国债指数\n",
    "Assets = Assets.drop('上证10年国债', axis=1)"
   ]
  },
  {
   "cell_type": "code",
   "execution_count": null,
   "metadata": {
    "ExecuteTime": {
     "end_time": "2020-08-21T01:49:39.059132Z",
     "start_time": "2020-08-21T01:49:39.042997Z"
    }
   },
   "outputs": [],
   "source": [
    "Assets.head()"
   ]
  },
  {
   "cell_type": "markdown",
   "metadata": {},
   "source": [
    "### 美元汇率"
   ]
  },
  {
   "cell_type": "code",
   "execution_count": null,
   "metadata": {
    "ExecuteTime": {
     "end_time": "2020-08-21T01:49:39.194805Z",
     "start_time": "2020-08-21T01:49:39.061175Z"
    }
   },
   "outputs": [],
   "source": [
    "FXRates = pd.read_excel(io=\"Raw/美元汇率.xlsx\")\n",
    "FXRates = FXRates.drop([0, 1, 2], axis=0)\n",
    "FXRates.columns = ['日期', '美元指数', '美元汇率']                        \n",
    "FXRates['日期'] = pd.DatetimeIndex(FXRates['日期'])\n",
    "FXRates = FXRates.set_index('日期')"
   ]
  },
  {
   "cell_type": "code",
   "execution_count": null,
   "metadata": {
    "ExecuteTime": {
     "end_time": "2020-08-21T01:49:39.198438Z",
     "start_time": "2020-08-21T01:49:39.196429Z"
    }
   },
   "outputs": [],
   "source": [
    "# # 皮尔逊相关系数\n",
    "# np.corrcoef( FXRates['美元汇率'].values.flatten().astype(np.float32)[900:-233], \n",
    "#              (Assets['10年国债'] - Assets['10年美债']).values.astype(np.float32)[900:-220] )"
   ]
  },
  {
   "cell_type": "code",
   "execution_count": null,
   "metadata": {
    "ExecuteTime": {
     "end_time": "2020-08-21T01:49:39.208060Z",
     "start_time": "2020-08-21T01:49:39.200091Z"
    }
   },
   "outputs": [],
   "source": [
    "FXRates"
   ]
  },
  {
   "cell_type": "markdown",
   "metadata": {},
   "source": [
    "## 计算各资产收益率"
   ]
  },
  {
   "cell_type": "markdown",
   "metadata": {},
   "source": [
    "### 日内损益"
   ]
  },
  {
   "cell_type": "code",
   "execution_count": null,
   "metadata": {
    "ExecuteTime": {
     "end_time": "2020-08-21T01:49:39.222342Z",
     "start_time": "2020-08-21T01:49:39.209728Z"
    }
   },
   "outputs": [],
   "source": [
    "Returns = Assets.pct_change(axis=0)\n",
    "Returns = Returns.dropna(axis=0, how='all')           # 删除无数据日"
   ]
  },
  {
   "cell_type": "markdown",
   "metadata": {},
   "source": [
    "### 累计损益"
   ]
  },
  {
   "cell_type": "code",
   "execution_count": null,
   "metadata": {
    "ExecuteTime": {
     "end_time": "2020-08-21T01:49:39.232476Z",
     "start_time": "2020-08-21T01:49:39.224546Z"
    }
   },
   "outputs": [],
   "source": [
    "cumReturns = (1.0 + Returns)\n",
    "cumReturns = cumReturns.fillna(1.0)                    # 填充空值\n",
    "cumReturns = cumReturns.cumprod()                      # 计算各资产累计收益率"
   ]
  },
  {
   "cell_type": "markdown",
   "metadata": {},
   "source": [
    "### 杠杆调整后的债券净值"
   ]
  },
  {
   "cell_type": "code",
   "execution_count": null,
   "metadata": {
    "ExecuteTime": {
     "end_time": "2020-08-21T01:49:39.238457Z",
     "start_time": "2020-08-21T01:49:39.234714Z"
    }
   },
   "outputs": [],
   "source": [
    "lever = 2.0                                 # 杠杆（额外）\n",
    "leverReturns = Returns.copy()               # 创建副本 \n",
    "leverCumReturns = cumReturns.copy()   "
   ]
  },
  {
   "cell_type": "code",
   "execution_count": null,
   "metadata": {
    "ExecuteTime": {
     "end_time": "2020-08-21T01:49:39.261645Z",
     "start_time": "2020-08-21T01:49:39.241292Z"
    }
   },
   "outputs": [],
   "source": [
    "# 更新杠杆调整后的债券净值\n",
    "leverReturns['10年国债'] = Returns['10年国债'] * (1.0 + lever) - Rates.loc[Returns.index, 'GC007'] * lever / (365.0 * 100)\n",
    "leverReturns['信用债3-5AAA'] = Returns['信用债3-5AAA'] * (1.0 + lever) - Rates.loc[Returns.index, 'GC007'] * lever / (365.0 * 100)\n",
    "\n",
    "# 更新累计净值\n",
    "leverCumReturns = (1.0 + leverReturns)\n",
    "leverCumReturns = leverCumReturns.fillna(1.0)                    # 填充空值\n",
    "leverCumReturns = leverCumReturns.cumprod()                      # 计算各资产累计收益率"
   ]
  },
  {
   "cell_type": "markdown",
   "metadata": {},
   "source": [
    "### 剔除美元资产"
   ]
  },
  {
   "cell_type": "code",
   "execution_count": null,
   "metadata": {
    "ExecuteTime": {
     "end_time": "2020-08-21T01:49:39.271675Z",
     "start_time": "2020-08-21T01:49:39.264448Z"
    }
   },
   "outputs": [],
   "source": [
    "leverReturns_Domestic    = leverReturns.drop(['标普500', '10年美债'], axis=1)\n",
    "leverCumReturns_Domestic = leverCumReturns.drop(['标普500', '10年美债'], axis=1)"
   ]
  },
  {
   "cell_type": "code",
   "execution_count": null,
   "metadata": {
    "ExecuteTime": {
     "end_time": "2020-08-21T01:49:39.628510Z",
     "start_time": "2020-08-21T01:49:39.279391Z"
    }
   },
   "outputs": [],
   "source": [
    "leverCumReturns_Domestic.plot(figsize=(16, 6))"
   ]
  },
  {
   "cell_type": "markdown",
   "metadata": {},
   "source": [
    "# 风险平价 （杠杆+指数平均）"
   ]
  },
  {
   "cell_type": "markdown",
   "metadata": {},
   "source": [
    "## 程序运行"
   ]
  },
  {
   "cell_type": "code",
   "execution_count": null,
   "metadata": {
    "ExecuteTime": {
     "end_time": "2020-08-21T01:50:52.013973Z",
     "start_time": "2020-08-21T01:49:39.632589Z"
    }
   },
   "outputs": [],
   "source": [
    "tradeDF, weightDF = AlgoLoop.AlgoTrade(Assets, leverReturns_Domestic, leverCumReturns_Domestic, \n",
    "                                       Turnovers, FXRates['美元汇率'], mode='ema')"
   ]
  },
  {
   "cell_type": "code",
   "execution_count": null,
   "metadata": {
    "ExecuteTime": {
     "end_time": "2020-08-21T01:50:52.557322Z",
     "start_time": "2020-08-21T01:50:52.016823Z"
    }
   },
   "outputs": [],
   "source": [
    "StatisticFunc.WeightPlot(tradeDF, weightDF, '基准模型')"
   ]
  },
  {
   "cell_type": "markdown",
   "metadata": {},
   "source": [
    "## 回测表现汇总"
   ]
  },
  {
   "cell_type": "code",
   "execution_count": null,
   "metadata": {
    "ExecuteTime": {
     "end_time": "2020-08-21T01:50:52.646385Z",
     "start_time": "2020-08-21T01:50:52.559827Z"
    }
   },
   "outputs": [],
   "source": [
    "smryDF = StatisticFunc.summaryDF(tradeDF)\n",
    "pfmcDF = StatisticFunc.performanceDF(smryDF, tradeDF, name='基准模型')"
   ]
  },
  {
   "cell_type": "code",
   "execution_count": null,
   "metadata": {
    "ExecuteTime": {
     "end_time": "2020-08-21T01:50:52.660984Z",
     "start_time": "2020-08-21T01:50:52.649068Z"
    }
   },
   "outputs": [],
   "source": [
    "smryDF"
   ]
  },
  {
   "cell_type": "code",
   "execution_count": null,
   "metadata": {
    "ExecuteTime": {
     "end_time": "2020-08-21T01:50:52.677552Z",
     "start_time": "2020-08-21T01:50:52.664677Z"
    }
   },
   "outputs": [],
   "source": [
    "pfmcDF"
   ]
  },
  {
   "cell_type": "markdown",
   "metadata": {},
   "source": [
    "## 收益率贡献度"
   ]
  },
  {
   "cell_type": "code",
   "execution_count": null,
   "metadata": {
    "ExecuteTime": {
     "end_time": "2020-08-21T01:50:52.712206Z",
     "start_time": "2020-08-21T01:50:52.680374Z"
    },
    "scrolled": true
   },
   "outputs": [],
   "source": [
    "annualContrb = StatisticFunc.AnnualContribution(tradeDF)"
   ]
  },
  {
   "cell_type": "code",
   "execution_count": null,
   "metadata": {
    "ExecuteTime": {
     "end_time": "2020-08-21T01:50:55.315465Z",
     "start_time": "2020-08-21T01:50:52.714034Z"
    }
   },
   "outputs": [],
   "source": [
    "StatisticFunc.BarPlot(annualContrb, '基准模型')"
   ]
  },
  {
   "cell_type": "markdown",
   "metadata": {},
   "source": [
    "## 投资组合净值曲线"
   ]
  },
  {
   "cell_type": "code",
   "execution_count": null,
   "metadata": {
    "ExecuteTime": {
     "end_time": "2020-08-21T01:50:55.626630Z",
     "start_time": "2020-08-21T01:50:55.317839Z"
    },
    "scrolled": false
   },
   "outputs": [],
   "source": [
    "fig = plt.figure(figsize=(16, 6))\n",
    "\n",
    "plt.plot(tradeDF.index, tradeDF['投资组合净值']/10000, label='基准模型')\n",
    "    \n",
    "plt.plot(cumReturns.index, cumReturns['中证500'], label='中证500')\n",
    "plt.plot(cumReturns.index, cumReturns['标普500'], label='标普500')\n",
    "plt.plot(cumReturns.index, cumReturns['10年国债'], label='10年国债')\n",
    "\n",
    "plt.xlabel('时间')\n",
    "plt.ylabel('净值')\n",
    "plt.ylim(0.0, 3.0)\n",
    "plt.legend(loc='upper left')\n",
    "plt.title('净值曲线（杠杆，指数平均）')\n",
    "\n",
    "plt.savefig('Pics/净值曲线（杠杆，指数平均）.png')"
   ]
  },
  {
   "cell_type": "markdown",
   "metadata": {},
   "source": [
    "# 流动性与投资组合表现的关系"
   ]
  },
  {
   "cell_type": "code",
   "execution_count": null,
   "metadata": {
    "ExecuteTime": {
     "end_time": "2020-08-21T01:50:55.632946Z",
     "start_time": "2020-08-21T01:50:55.628364Z"
    }
   },
   "outputs": [],
   "source": [
    "# 投资组合日收益率\n",
    "PnL = tradeDF['投资组合净值'] / tradeDF['投资组合净值'].shift(1, axis=0) - 1.0\n",
    "PnL = PnL.dropna()"
   ]
  },
  {
   "cell_type": "markdown",
   "metadata": {},
   "source": [
    "## 二级市场流动性\n",
    "\n",
    "- A股成交量、换手率\n",
    "- 美股成交量、换手率"
   ]
  },
  {
   "cell_type": "code",
   "execution_count": null,
   "metadata": {
    "ExecuteTime": {
     "end_time": "2020-08-21T01:50:55.998624Z",
     "start_time": "2020-08-21T01:50:55.634553Z"
    }
   },
   "outputs": [],
   "source": [
    "# 基本处理与拆分数据\n",
    "StockData = pd.read_excel(io=\"Raw/二级市场流动性.xlsx\")\n",
    "StockData.columns = StockData.iloc[1, :]\n",
    "\n",
    "Volume = StockData.iloc[:, :4]\n",
    "Volume = Volume.drop(index=[0, 1, 2])\n",
    "Volume = Volume.set_index(['日期'])\n",
    "\n",
    "Turnover = StockData.iloc[:, 5:]\n",
    "Turnover = Turnover.drop(index=[0, 1, 2])\n",
    "Turnover = Turnover.set_index(['日期'])"
   ]
  },
  {
   "cell_type": "code",
   "execution_count": null,
   "metadata": {
    "ExecuteTime": {
     "end_time": "2020-08-21T01:50:56.011113Z",
     "start_time": "2020-08-21T01:50:56.000811Z"
    }
   },
   "outputs": [],
   "source": [
    "# 成交量相关系数\n",
    "data1 = Volume.loc[PnL.index, '沪深300'].ewm(120).mean()\n",
    "data2 = PnL.ewm(120).mean()\n",
    "\n",
    "np.corrcoef(data1, data2)"
   ]
  },
  {
   "cell_type": "code",
   "execution_count": null,
   "metadata": {
    "ExecuteTime": {
     "end_time": "2020-08-21T01:51:00.213376Z",
     "start_time": "2020-08-21T01:50:56.013115Z"
    }
   },
   "outputs": [],
   "source": [
    "# 成交量\n",
    "fig, ax1 = plt.subplots(1, 1, figsize=(16,6), dpi=150)\n",
    "\n",
    "ax1.plot(Volume.index, Volume['沪深300'].ewm(120).mean(), label='沪深300（20移动平均）', zorder=0)\n",
    "ax1.plot(Volume.index, Volume['中证500'].ewm(120).mean(), label='中证500（20移动平均）', zorder=1)\n",
    "\n",
    "ax1.legend(loc='upper left')\n",
    "ax1.set_xlabel('时间')\n",
    "ax1.set_ylabel('成交量')\n",
    "ax1.grid(True)\n",
    "\n",
    "ax2 = ax1.twinx()  \n",
    "# ax2.plot(tradeDF.index, tradeDF['投资组合净值']/10000, label='模型A_净值', color='tab:red')\n",
    "ax2.bar(PnL.index, PnL.ewm(120).mean(), label='模型A_日收益率（20移动平均）', color='tab:orange')\n",
    "\n",
    "ax2.legend(loc='upper right')\n",
    "ax2.set_ylabel('投资组合日收益率')\n",
    "\n",
    "plt.title('成交量变化与投资组合收益率的关系')\n",
    "plt.show()"
   ]
  },
  {
   "cell_type": "code",
   "execution_count": null,
   "metadata": {
    "ExecuteTime": {
     "end_time": "2020-08-21T01:51:00.225322Z",
     "start_time": "2020-08-21T01:51:00.215237Z"
    }
   },
   "outputs": [],
   "source": [
    "# 换手率相关系数\n",
    "data1 = Turnover.loc[PnL.index, '沪深300'].ewm(120).mean()\n",
    "data2 = PnL.ewm(120).mean()\n",
    "\n",
    "np.corrcoef(data1, data2)"
   ]
  },
  {
   "cell_type": "code",
   "execution_count": null,
   "metadata": {
    "ExecuteTime": {
     "end_time": "2020-08-21T01:51:04.414932Z",
     "start_time": "2020-08-21T01:51:00.227269Z"
    }
   },
   "outputs": [],
   "source": [
    "# 换手率\n",
    "fig, ax1 = plt.subplots(1, 1, figsize=(16,6), dpi=100)\n",
    "\n",
    "ax1.plot(Turnover.index, Turnover['沪深300'].ewm(120).mean(), label='沪深300（20移动平均）', zorder=1)\n",
    "ax1.plot(Turnover.index, Turnover['中证500'].ewm(120).mean(), label='中证500（20移动平均）', zorder=0)\n",
    "\n",
    "ax1.legend(loc='upper left')\n",
    "ax1.set_xlabel('时间')\n",
    "ax1.set_ylabel('换手率')\n",
    "ax1.grid(True)\n",
    "\n",
    "ax2 = ax1.twinx()  \n",
    "# ax2.plot(tradeDF.index, tradeDF['投资组合净值']/10000, label='模型A_净值', color='tab:red')\n",
    "ax2.bar(PnL.index, PnL.ewm(120).mean(), label='模型A_日收益率（20移动平均）', color='tab:orange')\n",
    "\n",
    "ax2.legend(loc='upper right')\n",
    "ax2.set_ylabel('投资组合日收益率')\n",
    "\n",
    "plt.title('换手率变化与投资组合收益率的关系')\n",
    "plt.show()"
   ]
  },
  {
   "cell_type": "markdown",
   "metadata": {
    "ExecuteTime": {
     "end_time": "2020-08-13T02:42:12.112486Z",
     "start_time": "2020-08-13T02:42:12.012466Z"
    }
   },
   "source": [
    "## 广义信贷市场流动性\n",
    "\n",
    "- 社会融资规模累计同比 - m2同比\n",
    "- m2同比 - 名义GDP"
   ]
  },
  {
   "cell_type": "code",
   "execution_count": null,
   "metadata": {
    "ExecuteTime": {
     "end_time": "2020-08-21T01:51:04.518931Z",
     "start_time": "2020-08-21T01:51:04.417200Z"
    }
   },
   "outputs": [],
   "source": [
    "# 基本处理\n",
    "CredData = pd.read_excel(io='Raw/广义信贷市场流动性.xls')\n",
    "CredData = CredData.drop([0, 3841, 3842], axis=0)\n",
    "CredData.columns = ['日期', 'M2同比 - GDP同比', '10年美债收益率', 'M2同比', 'M1同比', 'M1同比 - M2同比', '社会融资规模同比 - M2同比']\n",
    "CredData = CredData.set_index('日期')\n",
    "\n",
    "# 用季度数据填充日数据\n",
    "CredData = CredData.fillna(method='bfill', axis=0)"
   ]
  },
  {
   "cell_type": "code",
   "execution_count": null,
   "metadata": {
    "ExecuteTime": {
     "end_time": "2020-08-21T01:51:04.536664Z",
     "start_time": "2020-08-21T01:51:04.520876Z"
    }
   },
   "outputs": [],
   "source": [
    "# M2同比 - GDP同比 相关系数\n",
    "data1 = CredData.loc[PnL.index, 'M2同比 - GDP同比'].ewm(120).mean()\n",
    "data2 = PnL.ewm(120).mean()\n",
    "\n",
    "np.corrcoef(data1, data2)"
   ]
  },
  {
   "cell_type": "code",
   "execution_count": null,
   "metadata": {
    "ExecuteTime": {
     "end_time": "2020-08-21T01:51:04.546831Z",
     "start_time": "2020-08-21T01:51:04.538694Z"
    }
   },
   "outputs": [],
   "source": [
    "# 社融规模 - M2同比 相关系数\n",
    "data1 = CredData.loc[PnL.index, '社会融资规模同比 - M2同比'].ewm(120).mean()\n",
    "data2 = PnL.ewm(120).mean()\n",
    "\n",
    "np.corrcoef(data1, data2)"
   ]
  },
  {
   "cell_type": "code",
   "execution_count": null,
   "metadata": {
    "ExecuteTime": {
     "end_time": "2020-08-21T01:51:08.739168Z",
     "start_time": "2020-08-21T01:51:04.548771Z"
    }
   },
   "outputs": [],
   "source": [
    "# 广义信贷市场流动性\n",
    "fig, ax1 = plt.subplots(1,1,figsize=(16,6), dpi=150)\n",
    "\n",
    "ax1.plot(CredData.index, CredData['M2同比 - GDP同比'].ewm(120).mean(), \n",
    "         label='M2同比 - GDP同比（移动平均120）', zorder=0)\n",
    "ax1.plot(CredData.index, CredData['社会融资规模同比 - M2同比'].ewm(120).mean(), \n",
    "         label='社会融资规模同比 - M2同比（移动平均120）', zorder=1)\n",
    "\n",
    "ax1.legend(loc='upper left')\n",
    "ax1.set_xlabel('时间')\n",
    "ax1.set_ylabel('社会融资规模同比 - M2同比')\n",
    "ax1.grid(True)\n",
    "\n",
    "ax2 = ax1.twinx()  \n",
    "# ax2.plot(tradeDF.index, tradeDF['投资组合净值']/10000, label='净值(模型A)', color='tab:red')\n",
    "ax2.bar(PnL.index, PnL.ewm(120).mean(), label='模型A_日收益率（120移动平均）', color='tab:orange')\n",
    "\n",
    "ax2.legend(loc='upper right')\n",
    "ax2.set_ylabel('投资组合净值')\n",
    "\n",
    "plt.title('社会融资规模同比 - M2同比变化与投资组合净值')\n",
    "plt.show()"
   ]
  },
  {
   "cell_type": "markdown",
   "metadata": {
    "ExecuteTime": {
     "end_time": "2020-08-13T02:42:12.273361Z",
     "start_time": "2020-08-13T02:42:12.269893Z"
    }
   },
   "source": [
    "## 狭义金融市场流动性（利率）\n",
    "\n",
    "- 超储率：超额存款准备金占存款的比例称为超额存款准备金率\n",
    "\n",
    "- 10年国债收益率\n",
    "\n",
    "- 10年美债收益率\n",
    "\n",
    "- 美元指数"
   ]
  },
  {
   "cell_type": "code",
   "execution_count": null,
   "metadata": {
    "ExecuteTime": {
     "end_time": "2020-08-21T01:51:08.909688Z",
     "start_time": "2020-08-21T01:51:08.741210Z"
    }
   },
   "outputs": [],
   "source": [
    "# 基本处理\n",
    "FinData = pd.read_excel(io='Raw/狭义金融市场流动性.xlsx')\n",
    "FinData.columns = FinData.iloc[1, :]\n",
    "FinData = FinData.drop([0, 1, 2], axis=0)\n",
    "FinData = FinData.set_index('日期')\n",
    "\n",
    "# 填充日数据\n",
    "FinData = FinData.fillna(method='bfill', axis=0)"
   ]
  },
  {
   "cell_type": "code",
   "execution_count": null,
   "metadata": {
    "ExecuteTime": {
     "end_time": "2020-08-21T01:51:08.932662Z",
     "start_time": "2020-08-21T01:51:08.923072Z"
    }
   },
   "outputs": [],
   "source": [
    "# 超储率相关系数\n",
    "data1 = FinData.loc[PnL.index, '超额存款准备金率(超储率):金融机构'].ewm(120).mean()\n",
    "data2 = PnL.ewm(120).mean()\n",
    "\n",
    "np.corrcoef(data1, data2)"
   ]
  },
  {
   "cell_type": "code",
   "execution_count": null,
   "metadata": {
    "ExecuteTime": {
     "end_time": "2020-08-21T01:59:15.193004Z",
     "start_time": "2020-08-21T01:59:15.185061Z"
    }
   },
   "outputs": [],
   "source": [
    "# 10年国债收益率\n",
    "data1 = Returns.loc[PnL.index, '10年国债'].ewm(120).mean()\n",
    "data2 = PnL.ewm(120).mean()\n",
    "\n",
    "np.corrcoef(data1, data2)"
   ]
  },
  {
   "cell_type": "code",
   "execution_count": null,
   "metadata": {
    "ExecuteTime": {
     "end_time": "2020-08-21T01:59:24.090234Z",
     "start_time": "2020-08-21T01:59:24.081787Z"
    }
   },
   "outputs": [],
   "source": [
    "# 10年美债收益率\n",
    "data1 = Returns.loc[PnL.index, '10年美债'].ewm(120).mean()\n",
    "data2 = PnL.ewm(120).mean()\n",
    "\n",
    "np.corrcoef(data1, data2)"
   ]
  },
  {
   "cell_type": "code",
   "execution_count": null,
   "metadata": {
    "ExecuteTime": {
     "end_time": "2020-08-21T02:01:52.340685Z",
     "start_time": "2020-08-21T02:01:52.332294Z"
    }
   },
   "outputs": [],
   "source": [
    "# 美元价格指数\n",
    "data1 = FXRates.loc[PnL.index, '美元指数'].ewm(120).mean()\n",
    "data2 = PnL.ewm(120).mean()\n",
    "\n",
    "np.corrcoef(data1, data2)"
   ]
  },
  {
   "cell_type": "code",
   "execution_count": null,
   "metadata": {
    "ExecuteTime": {
     "end_time": "2020-08-21T02:02:18.255109Z",
     "start_time": "2020-08-21T02:02:13.247932Z"
    }
   },
   "outputs": [],
   "source": [
    "# 超储率\n",
    "fig, ax1 = plt.subplots(1,1,figsize=(16,6), dpi=150)\n",
    "\n",
    "ax1.plot(FinData.index, FinData['超额存款准备金率(超储率):金融机构'].ewm(120).mean(), label='超储率（120移动平均）', zorder=0)\n",
    "\n",
    "\n",
    "ax1.legend(loc='upper left')\n",
    "ax1.set_xlabel('时间')\n",
    "ax1.set_ylabel('比率')\n",
    "ax1.grid(True)\n",
    "\n",
    "ax2 = ax1.twinx()  \n",
    "ax2.bar(PnL.index, PnL.ewm(120).mean(), label='模型A_日收益率（120移动平均）', color='tab:orange')\n",
    "\n",
    "ax2.legend(loc='upper right')\n",
    "ax2.set_ylabel('投资组合净值')\n",
    "\n",
    "plt.title('狭义金融市场流动性与投资组合收益率变化')\n",
    "plt.show()"
   ]
  },
  {
   "cell_type": "code",
   "execution_count": null,
   "metadata": {
    "ExecuteTime": {
     "end_time": "2020-08-21T02:30:18.541541Z",
     "start_time": "2020-08-21T02:30:13.992604Z"
    }
   },
   "outputs": [],
   "source": [
    "# 10年国债\n",
    "fig, ax1 = plt.subplots(1,1,figsize=(16,6), dpi=150)\n",
    "\n",
    "ax1.plot(Returns.index, Returns['10年国债'].ewm(120).mean(), label='10年国债_日收益率（120移动平均）', zorder=0)\n",
    "\n",
    "ax1.legend(loc='upper left')\n",
    "ax1.set_xlabel('时间')\n",
    "ax1.set_ylabel('比率')\n",
    "ax1.grid(True)\n",
    "\n",
    "ax2 = ax1.twinx()  \n",
    "ax2.bar(PnL.index, PnL.ewm(120).mean(), label='模型A_日收益率（120移动平均）', color='tab:orange')\n",
    "\n",
    "ax2.legend(loc='upper right')\n",
    "ax2.set_ylabel('投资组合净值')\n",
    "\n",
    "plt.title('狭义金融市场流动性与投资组合收益率变化')\n",
    "plt.show()"
   ]
  },
  {
   "cell_type": "code",
   "execution_count": null,
   "metadata": {
    "ExecuteTime": {
     "end_time": "2020-08-21T02:30:23.533467Z",
     "start_time": "2020-08-21T02:30:18.544003Z"
    }
   },
   "outputs": [],
   "source": [
    "# 10年美债\n",
    "fig, ax1 = plt.subplots(1,1,figsize=(16,6), dpi=150)\n",
    "\n",
    "ax1.plot(Returns.index, Returns['10年美债'].ewm(120).mean(), label='10年美债_日收益率（120移动平均）', zorder=1)\n",
    "\n",
    "ax1.legend(loc='upper left')\n",
    "ax1.set_xlabel('时间')\n",
    "ax1.set_ylabel('比率')\n",
    "ax1.grid(True)\n",
    "\n",
    "ax2 = ax1.twinx()  \n",
    "ax2.bar(PnL.index, PnL.ewm(120).mean(), label='模型A_日收益率（120移动平均）', color='tab:orange')\n",
    "\n",
    "ax2.legend(loc='upper right')\n",
    "ax2.set_ylabel('投资组合净值')\n",
    "\n",
    "plt.title('狭义金融市场流动性与投资组合收益率变化')\n",
    "plt.show()"
   ]
  },
  {
   "cell_type": "code",
   "execution_count": null,
   "metadata": {
    "ExecuteTime": {
     "end_time": "2020-08-21T02:29:28.661494Z",
     "start_time": "2020-08-21T02:29:24.201846Z"
    }
   },
   "outputs": [],
   "source": [
    "# 美元价格指数\n",
    "fig, ax1 = plt.subplots(1,1,figsize=(16,6), dpi=150)\n",
    "\n",
    "ax1.plot(FXRates.index, FXRates['美元指数'].ewm(120).mean(), label='美元指数（120移动平均）', zorder=0)\n",
    "\n",
    "ax1.legend(loc='upper left')\n",
    "ax1.set_xlabel('时间')\n",
    "ax1.set_ylabel('比率')\n",
    "ax1.grid(True)\n",
    "\n",
    "ax2 = ax1.twinx()  \n",
    "ax2.bar(PnL.index, PnL.ewm(120).mean(), label='模型A_日收益率（120移动平均）', color='tab:orange')\n",
    "\n",
    "ax2.legend(loc='upper right')\n",
    "ax2.set_ylabel('投资组合净值')\n",
    "\n",
    "plt.title('狭义金融市场流动性与投资组合收益率变化')\n",
    "plt.show()"
   ]
  },
  {
   "cell_type": "code",
   "execution_count": null,
   "metadata": {},
   "outputs": [],
   "source": []
  }
 ],
 "metadata": {
  "kernelspec": {
   "display_name": "Python 3",
   "language": "python",
   "name": "python3"
  },
  "language_info": {
   "codemirror_mode": {
    "name": "ipython",
    "version": 3
   },
   "file_extension": ".py",
   "mimetype": "text/x-python",
   "name": "python",
   "nbconvert_exporter": "python",
   "pygments_lexer": "ipython3",
   "version": "3.7.7"
  },
  "latex_envs": {
   "LaTeX_envs_menu_present": true,
   "autoclose": false,
   "autocomplete": true,
   "bibliofile": "biblio.bib",
   "cite_by": "apalike",
   "current_citInitial": 1,
   "eqLabelWithNumbers": true,
   "eqNumInitial": 1,
   "hotkeys": {
    "equation": "Ctrl-E",
    "itemize": "Ctrl-I"
   },
   "labels_anchors": false,
   "latex_user_defs": false,
   "report_style_numbering": false,
   "user_envs_cfg": false
  },
  "toc": {
   "base_numbering": 1,
   "nav_menu": {},
   "number_sections": true,
   "sideBar": true,
   "skip_h1_title": false,
   "title_cell": "Table of Contents",
   "title_sidebar": "Contents",
   "toc_cell": false,
   "toc_position": {
    "height": "calc(100% - 180px)",
    "left": "10px",
    "top": "150px",
    "width": "314px"
   },
   "toc_section_display": true,
   "toc_window_display": true
  }
 },
 "nbformat": 4,
 "nbformat_minor": 4
}
