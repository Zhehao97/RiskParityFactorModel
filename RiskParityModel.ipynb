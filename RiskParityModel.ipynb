{
 "cells": [
  {
   "cell_type": "code",
   "execution_count": null,
   "metadata": {
    "ExecuteTime": {
     "end_time": "2020-07-07T02:01:52.804706Z",
     "start_time": "2020-07-07T02:01:51.512052Z"
    }
   },
   "outputs": [],
   "source": [
    "import numpy as np\n",
    "import pandas as pd\n",
    "import matplotlib\n",
    "import matplotlib.pyplot as plt\n",
    "import AlgoLoop\n",
    "import StatisticFunc\n",
    "\n",
    "plt.style.use('Solarize_Light2')                     # 绘图风格\n",
    "matplotlib.rcParams['font.sans-serif'] = ['SimHei']  # 字体雅黑\n",
    "matplotlib.rcParams['font.family'] = 'sans-serif'\n",
    "matplotlib.rcParams['axes.unicode_minus'] = False    # 处理负号"
   ]
  },
  {
   "cell_type": "markdown",
   "metadata": {},
   "source": [
    "# 预处理"
   ]
  },
  {
   "cell_type": "markdown",
   "metadata": {},
   "source": [
    "## 提取并处理数据"
   ]
  },
  {
   "cell_type": "markdown",
   "metadata": {},
   "source": [
    "### 权益类资产换手率"
   ]
  },
  {
   "cell_type": "code",
   "execution_count": null,
   "metadata": {
    "ExecuteTime": {
     "end_time": "2020-07-07T02:01:54.186753Z",
     "start_time": "2020-07-07T02:01:53.995900Z"
    }
   },
   "outputs": [],
   "source": [
    "Turnovers = pd.read_excel(io=\"Raw/国内资产换手率.xlsx\")                      # 读取数据\n",
    "Turnovers = Turnovers.drop([0], axis=0)                                   # 删除多余行\n",
    "Turnovers[\"日期\"] = pd.DatetimeIndex(Turnovers[\"日期\"])                    # 类型转换\n",
    "Turnovers = Turnovers.set_index(\"日期\")                                   # 设置索引"
   ]
  },
  {
   "cell_type": "code",
   "execution_count": null,
   "metadata": {
    "ExecuteTime": {
     "end_time": "2020-07-07T02:01:54.465375Z",
     "start_time": "2020-07-07T02:01:54.460746Z"
    }
   },
   "outputs": [],
   "source": [
    "Turnovers = Turnovers.drop(Turnovers.index[0], axis=0)                   # 日期对齐"
   ]
  },
  {
   "cell_type": "markdown",
   "metadata": {},
   "source": [
    "### GC007利率"
   ]
  },
  {
   "cell_type": "code",
   "execution_count": null,
   "metadata": {
    "ExecuteTime": {
     "end_time": "2020-07-07T02:01:55.521362Z",
     "start_time": "2020-07-07T02:01:55.415877Z"
    }
   },
   "outputs": [],
   "source": [
    "Rates = pd.read_excel(io=\"Raw/GC007利率.xlsx\")           #  读取数据\n",
    "Rates = Rates.drop([0, 1, 2], axis=0)                   # 删除多余行\n",
    "Rates.columns = ['日期', 'GC007']                        # 修改列名\n",
    "Rates[\"日期\"] = pd.DatetimeIndex(Rates[\"日期\"])           # 类型转换\n",
    "Rates = Rates.set_index(\"日期\")                          # 设置索引"
   ]
  },
  {
   "cell_type": "code",
   "execution_count": null,
   "metadata": {
    "ExecuteTime": {
     "end_time": "2020-07-07T02:01:55.770842Z",
     "start_time": "2020-07-07T02:01:55.766670Z"
    }
   },
   "outputs": [],
   "source": [
    "Rates = Rates.drop(Rates.index[0], axis=0)                     # 日期对齐"
   ]
  },
  {
   "cell_type": "markdown",
   "metadata": {},
   "source": [
    "### 十年国债收益率"
   ]
  },
  {
   "cell_type": "code",
   "execution_count": null,
   "metadata": {
    "ExecuteTime": {
     "end_time": "2020-07-07T02:01:56.404188Z",
     "start_time": "2020-07-07T02:01:56.327447Z"
    }
   },
   "outputs": [],
   "source": [
    "BondRates = pd.read_excel(io=\"Raw/中债国债到期收益率(中债)(日).xls\")        # 读取数据\n",
    "BondRates.columns = ['日期', '十年国债收益率']                             # 修改列名\n",
    "BondRates = BondRates.drop([0, 3870, 3871], axis=0)                     # 删除多余行\n",
    "BondRates[\"日期\"] = pd.DatetimeIndex(BondRates[\"日期\"])                   # 类型转换\n",
    "BondRates = BondRates.set_index(\"日期\")                                  # 设置索引"
   ]
  },
  {
   "cell_type": "markdown",
   "metadata": {},
   "source": [
    "### 各资产收盘价"
   ]
  },
  {
   "cell_type": "code",
   "execution_count": null,
   "metadata": {
    "ExecuteTime": {
     "end_time": "2020-07-07T02:01:57.109623Z",
     "start_time": "2020-07-07T02:01:56.783404Z"
    }
   },
   "outputs": [],
   "source": [
    "Assets = pd.read_excel(io=\"Raw/国内资产收盘价.xlsx\")\n",
    "Assets = Assets.drop([0], axis=0)                                   # 删除多余行\n",
    "Assets[\"日期\"] = pd.DatetimeIndex(Assets[\"日期\"])                    # 类型转换\n",
    "Assets = Assets.set_index(\"日期\")                                   # 设置索引"
   ]
  },
  {
   "cell_type": "markdown",
   "metadata": {},
   "source": [
    "## 衍生数据生成"
   ]
  },
  {
   "cell_type": "markdown",
   "metadata": {},
   "source": [
    "### 铜金价格比 & 铜油价格比"
   ]
  },
  {
   "cell_type": "code",
   "execution_count": null,
   "metadata": {
    "ExecuteTime": {
     "end_time": "2020-07-07T02:01:57.519771Z",
     "start_time": "2020-07-07T02:01:57.514547Z"
    }
   },
   "outputs": [],
   "source": [
    "Data = Assets.merge(BondRates, how='left', left_index=True, right_index=True)"
   ]
  },
  {
   "cell_type": "code",
   "execution_count": null,
   "metadata": {
    "ExecuteTime": {
     "end_time": "2020-07-07T02:01:57.889272Z",
     "start_time": "2020-07-07T02:01:57.884619Z"
    }
   },
   "outputs": [],
   "source": [
    "Data = Data.merge(Rates, how='left', left_index=True, right_index=True)"
   ]
  },
  {
   "cell_type": "code",
   "execution_count": null,
   "metadata": {
    "ExecuteTime": {
     "end_time": "2020-07-07T02:01:58.167257Z",
     "start_time": "2020-07-07T02:01:58.151262Z"
    }
   },
   "outputs": [],
   "source": [
    "Data['铜金价格比'] = Data['中信证券COMEX铜期货'] / Data['中信证券COMEX黄金期货']\n",
    "Data['铜油价格比'] = Data['中信证券COMEX铜期货'] / Data['中信证券WTI原油期货']"
   ]
  },
  {
   "cell_type": "markdown",
   "metadata": {},
   "source": [
    "### 十年国债价格指数"
   ]
  },
  {
   "cell_type": "code",
   "execution_count": null,
   "metadata": {
    "ExecuteTime": {
     "end_time": "2020-07-07T02:01:58.770677Z",
     "start_time": "2020-07-07T02:01:58.759729Z"
    }
   },
   "outputs": [],
   "source": [
    "Data['持有时长'] = (Data.index - Data.index[0]).days\n",
    "Data['10年国债价格指数'] = 100 - (Data['十年国债收益率'] - 3.0) * 8.2 + 3.0 * Data['持有时长'] / 365.0\n",
    "Data['10年国债价格指数'] = Data['10年国债价格指数'].fillna(method='ffill')"
   ]
  },
  {
   "cell_type": "markdown",
   "metadata": {},
   "source": [
    "## 相关性测试"
   ]
  },
  {
   "cell_type": "markdown",
   "metadata": {},
   "source": [
    "### 铜金价格比值与10年国债，信用债的相关性"
   ]
  },
  {
   "cell_type": "code",
   "execution_count": null,
   "metadata": {
    "ExecuteTime": {
     "end_time": "2020-07-07T02:01:59.894480Z",
     "start_time": "2020-07-07T02:01:59.883789Z"
    }
   },
   "outputs": [],
   "source": [
    "# 皮尔逊相关系数\n",
    "np.corrcoef(Data['10年国债价格指数'].values.astype(np.float32), Data['铜金价格比'].values.astype(np.float32))"
   ]
  },
  {
   "cell_type": "code",
   "execution_count": null,
   "metadata": {
    "ExecuteTime": {
     "end_time": "2020-07-06T01:51:54.960387Z",
     "start_time": "2020-07-06T01:51:54.953881Z"
    }
   },
   "outputs": [],
   "source": [
    "# 皮尔逊相关系数\n",
    "np.corrcoef(Data['信用债3-5AAA'].values.astype(np.float32), Data['铜金价格比'].values.astype(np.float32))"
   ]
  },
  {
   "cell_type": "code",
   "execution_count": null,
   "metadata": {
    "ExecuteTime": {
     "end_time": "2020-07-02T09:33:11.764396Z",
     "start_time": "2020-07-02T09:33:11.447417Z"
    }
   },
   "outputs": [],
   "source": [
    "fig, axs = plt.subplots(2, 1, figsize=(10, 6))\n",
    "\n",
    "axs[0].plot(Data.index, Data['10年国债价格指数'], label='10年国债价格指数')\n",
    "axs[0].plot(Data.index, Data['信用债3-5AAA'], label='信用债3-5AAA')\n",
    "axs[0].set_xlabel('time')\n",
    "axs[0].set_ylabel('债券价格指数')\n",
    "axs[0].grid(True)\n",
    "\n",
    "axs[1].plot(Data.index, Data['铜金价格比'])\n",
    "axs[1].set_xlabel('time')\n",
    "axs[1].set_ylabel('铜金价格比')\n",
    "axs[1].grid(True)\n",
    "\n",
    "fig.tight_layout()\n",
    "plt.show()"
   ]
  },
  {
   "cell_type": "markdown",
   "metadata": {},
   "source": [
    "### 铜油价格比值与沪深300，中证500的相关性"
   ]
  },
  {
   "cell_type": "code",
   "execution_count": null,
   "metadata": {
    "ExecuteTime": {
     "end_time": "2020-07-07T05:11:47.344658Z",
     "start_time": "2020-07-07T05:11:47.335810Z"
    }
   },
   "outputs": [],
   "source": [
    "Tmp1 = Data[['沪深300', '中证500', '铜油价格比']].dropna(how='any')\n",
    "Tmp1 = Tmp1[200:-100]"
   ]
  },
  {
   "cell_type": "code",
   "execution_count": null,
   "metadata": {
    "ExecuteTime": {
     "end_time": "2020-07-07T05:11:48.019616Z",
     "start_time": "2020-07-07T05:11:48.012286Z"
    }
   },
   "outputs": [],
   "source": [
    "# 皮尔逊相关系数\n",
    "np.corrcoef(Tmp1['沪深300'].values.astype(np.float32), Tmp1['铜油价格比'].values.astype(np.float32))"
   ]
  },
  {
   "cell_type": "code",
   "execution_count": null,
   "metadata": {
    "ExecuteTime": {
     "end_time": "2020-07-07T05:11:48.549167Z",
     "start_time": "2020-07-07T05:11:48.543320Z"
    }
   },
   "outputs": [],
   "source": [
    "# 皮尔逊相关系数\n",
    "np.corrcoef(Tmp1['中证500'].values.astype(np.float32), Tmp1['铜油价格比'].values.astype(np.float32))"
   ]
  },
  {
   "cell_type": "code",
   "execution_count": null,
   "metadata": {
    "ExecuteTime": {
     "end_time": "2020-07-02T08:38:04.346882Z",
     "start_time": "2020-07-02T08:38:04.053303Z"
    }
   },
   "outputs": [],
   "source": [
    "fig, axs = plt.subplots(2, 1, figsize=(10, 6))\n",
    "\n",
    "axs[0].plot(Tmp1.index, Tmp1['沪深300'], label='沪深300')\n",
    "axs[0].plot(Tmp1.index, Tmp1['中证500'], label='中证500')\n",
    "axs[0].set_xlabel('time')\n",
    "axs[0].set_ylabel('股指')\n",
    "axs[0].legend()\n",
    "axs[0].grid(True)\n",
    "\n",
    "axs[1].plot(Tmp1.index, Tmp1['铜油价格比'])\n",
    "axs[1].set_xlabel('time')\n",
    "axs[1].set_ylabel('铜油价格比')\n",
    "axs[1].grid(True)\n",
    "\n",
    "fig.tight_layout()\n",
    "plt.show()"
   ]
  },
  {
   "cell_type": "markdown",
   "metadata": {},
   "source": [
    "## 计算各资产收益率"
   ]
  },
  {
   "cell_type": "markdown",
   "metadata": {},
   "source": [
    "### 日内损益"
   ]
  },
  {
   "cell_type": "code",
   "execution_count": null,
   "metadata": {
    "ExecuteTime": {
     "end_time": "2020-07-07T02:02:04.178569Z",
     "start_time": "2020-07-07T02:02:04.175513Z"
    }
   },
   "outputs": [],
   "source": [
    "# 利用自制10年国债价格指数，替换上证10年国债\n",
    "Assets['上证10年国债'] = Data['10年国债价格指数'].values"
   ]
  },
  {
   "cell_type": "code",
   "execution_count": null,
   "metadata": {
    "ExecuteTime": {
     "end_time": "2020-07-07T02:02:04.361827Z",
     "start_time": "2020-07-07T02:02:04.348453Z"
    }
   },
   "outputs": [],
   "source": [
    "Returns = Assets.pct_change(axis=0)\n",
    "Returns = Returns.dropna(axis=0, how='all')           # 删除无数据日"
   ]
  },
  {
   "cell_type": "markdown",
   "metadata": {},
   "source": [
    "### 累计损益"
   ]
  },
  {
   "cell_type": "code",
   "execution_count": null,
   "metadata": {
    "ExecuteTime": {
     "end_time": "2020-07-07T02:02:05.481563Z",
     "start_time": "2020-07-07T02:02:05.474355Z"
    }
   },
   "outputs": [],
   "source": [
    "cumReturns = (1.0 + Returns)\n",
    "cumReturns = cumReturns.fillna(1.0)                    # 填充空值\n",
    "cumReturns = cumReturns.cumprod()                      # 计算各资产累计收益率"
   ]
  },
  {
   "cell_type": "code",
   "execution_count": null,
   "metadata": {
    "ExecuteTime": {
     "end_time": "2020-07-07T02:02:06.460441Z",
     "start_time": "2020-07-07T02:02:06.139999Z"
    }
   },
   "outputs": [],
   "source": [
    "cumReturns.plot(figsize=(16, 8))"
   ]
  },
  {
   "cell_type": "markdown",
   "metadata": {},
   "source": [
    "# 风险平价 （普通权重）\n",
    "\n",
    "**资产明细**\n",
    "- 沪深300指数\n",
    "- 中证500指数\n",
    "- 三年期3A信用债全价指数\n",
    "- 十年期国债全价指数(自制)\n",
    "- COMEX铜\n",
    "- COMEX黄金\n",
    "- NYMEX原油\n",
    "- 铁矿石期货\n",
    "\n",
    "回溯时间：2008年初-至今\n",
    "\n",
    "买卖单笔手续费：千1"
   ]
  },
  {
   "cell_type": "markdown",
   "metadata": {},
   "source": [
    "## 程序运行"
   ]
  },
  {
   "cell_type": "code",
   "execution_count": null,
   "metadata": {
    "ExecuteTime": {
     "end_time": "2020-07-07T02:08:24.385937Z",
     "start_time": "2020-07-07T02:02:09.225092Z"
    }
   },
   "outputs": [],
   "source": [
    "# 运行\n",
    "timeWindow = [20, 60, 120, 180, 240]           # 调仓周期\n",
    "\n",
    "NetValueDF = pd.DataFrame(index=Returns.index)\n",
    "DailyPnlDF = pd.DataFrame(index=Returns.index) \n",
    "DrawDownDF = pd.DataFrame(index=Returns.index)\n",
    "\n",
    "for dtime in timeWindow:\n",
    "    tradeDF, weightDF = AlgoLoop.AlgoTrade(Assets, Returns, cumReturns, Turnovers, mode='plain', dt=dtime)\n",
    "    \n",
    "    StatisticFunc.WeightPlot(tradeDF, weightDF, '普通权重' + str(dtime))\n",
    "    \n",
    "    NetValueDF[str(dtime)+'组合净值'] = tradeDF['投资组合净值'] / 10000  \n",
    "    DailyPnlDF[str(dtime)+'组合日收益率'] = tradeDF['投资组合净值'] / tradeDF['投资组合净值'].shift(1) - 1.0\n",
    "    DrawDownDF[str(dtime)+'最大回撤'] = tradeDF['最大回撤']   \n"
   ]
  },
  {
   "cell_type": "markdown",
   "metadata": {},
   "source": [
    "## 回测表现汇总"
   ]
  },
  {
   "cell_type": "code",
   "execution_count": null,
   "metadata": {
    "ExecuteTime": {
     "end_time": "2020-07-07T02:08:24.412711Z",
     "start_time": "2020-07-07T02:08:24.388158Z"
    }
   },
   "outputs": [],
   "source": [
    "# 汇总\n",
    "summaryDF = pd.DataFrame(index=['每月调仓', '每季度调仓', '每半年调仓', \n",
    "                                '每三季度调仓', '每年调仓'])\n",
    "\n",
    "summaryDF[\"年平均收益率\"] = DailyPnlDF.mean(axis=0).values * 250\n",
    "summaryDF[\"年平均标准差\"] = DailyPnlDF.std(axis=0).values * np.sqrt(250)\n",
    "summaryDF[\"无基准夏普比率\"] = summaryDF[\"年平均收益率\"] / summaryDF[\"年平均标准差\"]\n",
    "summaryDF[\"最大回撤\"] = DrawDownDF.min(axis=0).values\n",
    "summaryDF"
   ]
  },
  {
   "cell_type": "markdown",
   "metadata": {},
   "source": [
    "## 各投资组合净值曲线"
   ]
  },
  {
   "cell_type": "code",
   "execution_count": null,
   "metadata": {
    "ExecuteTime": {
     "end_time": "2020-07-07T02:08:24.830646Z",
     "start_time": "2020-07-07T02:08:24.415603Z"
    }
   },
   "outputs": [],
   "source": [
    "fig = plt.figure(figsize=(16, 8))\n",
    "\n",
    "for col in NetValueDF.columns:\n",
    "    plt.plot(NetValueDF.index, NetValueDF[col], lw=1.0, label=col)\n",
    "\n",
    "plt.plot(cumReturns.index, cumReturns['信用债3-5AAA'], lw=3.0, label='信用债3-5AAA')\n",
    "\n",
    "plt.xlabel('时间')\n",
    "plt.ylabel('净值')\n",
    "plt.ylim(0.0, 3.0)\n",
    "plt.legend(loc='upper left')\n",
    "plt.title('净值曲线')\n",
    "plt.show()"
   ]
  },
  {
   "cell_type": "markdown",
   "metadata": {},
   "source": [
    "## 年间收益率分布"
   ]
  },
  {
   "cell_type": "code",
   "execution_count": null,
   "metadata": {
    "ExecuteTime": {
     "end_time": "2020-07-07T01:58:33.407797Z",
     "start_time": "2020-07-07T01:58:33.210337Z"
    }
   },
   "outputs": [],
   "source": [
    "yearReturns = StatisticFunc.annualReturns(NetValueDF)"
   ]
  },
  {
   "cell_type": "code",
   "execution_count": null,
   "metadata": {
    "ExecuteTime": {
     "end_time": "2020-07-07T01:58:34.590569Z",
     "start_time": "2020-07-07T01:58:33.409697Z"
    }
   },
   "outputs": [],
   "source": [
    "StatisticFunc.ReturnDist(yearReturns, 2)"
   ]
  },
  {
   "cell_type": "markdown",
   "metadata": {},
   "source": [
    "## 月间收益率分布"
   ]
  },
  {
   "cell_type": "code",
   "execution_count": null,
   "metadata": {
    "ExecuteTime": {
     "end_time": "2020-07-07T01:58:36.633294Z",
     "start_time": "2020-07-07T01:58:34.592882Z"
    }
   },
   "outputs": [],
   "source": [
    "monthlyReturns = StatisticFunc.monthlyReturns(NetValueDF)"
   ]
  },
  {
   "cell_type": "code",
   "execution_count": null,
   "metadata": {
    "ExecuteTime": {
     "end_time": "2020-07-07T01:58:37.758568Z",
     "start_time": "2020-07-07T01:58:36.635271Z"
    },
    "scrolled": true
   },
   "outputs": [],
   "source": [
    "StatisticFunc.ReturnDist(monthlyReturns, 2)"
   ]
  },
  {
   "cell_type": "markdown",
   "metadata": {},
   "source": [
    "# 风险平价 + 杠杆策略（普通权重）"
   ]
  },
  {
   "cell_type": "markdown",
   "metadata": {},
   "source": [
    "## 杠杆调整后的债券净值"
   ]
  },
  {
   "cell_type": "code",
   "execution_count": null,
   "metadata": {
    "ExecuteTime": {
     "end_time": "2020-07-07T02:08:24.854593Z",
     "start_time": "2020-07-07T02:08:24.834128Z"
    }
   },
   "outputs": [],
   "source": [
    "lever = 2.0                                 # 杠杆\n",
    "leverReturns = Returns.copy()               # 创建副本 \n",
    "leverCumReturns = cumReturns.copy()   \n",
    "\n",
    "# 更新杠杆调整后的债券净值\n",
    "leverReturns.loc[:, ['上证10年国债', '信用债3-5AAA']] = Returns.loc[:, ['上证10年国债', '信用债3-5AAA']] * (1.0 + lever) - Rates.values * lever / (365.0 * 100)\n",
    "\n",
    "# 更新累计净值\n",
    "leverCumReturns = (1.0 + leverReturns)\n",
    "leverCumReturns = leverCumReturns.fillna(1.0)                    # 填充空值\n",
    "leverCumReturns = leverCumReturns.cumprod()                      # 计算各资产累计收益率"
   ]
  },
  {
   "cell_type": "code",
   "execution_count": null,
   "metadata": {
    "ExecuteTime": {
     "end_time": "2020-07-07T02:08:24.874613Z",
     "start_time": "2020-07-07T02:08:24.856525Z"
    }
   },
   "outputs": [],
   "source": [
    "leverReturns"
   ]
  },
  {
   "cell_type": "markdown",
   "metadata": {},
   "source": [
    "## 程序运行"
   ]
  },
  {
   "cell_type": "code",
   "execution_count": null,
   "metadata": {
    "ExecuteTime": {
     "end_time": "2020-07-07T02:14:13.059072Z",
     "start_time": "2020-07-07T02:08:24.876984Z"
    }
   },
   "outputs": [],
   "source": [
    "# 运行\n",
    "timeWindow = [20, 60, 120, 180, 240]           # 调仓周期\n",
    "\n",
    "leverNetValueDF = pd.DataFrame(index=Returns.index)\n",
    "leverDailyPnlDF = pd.DataFrame(index=Returns.index) \n",
    "leverDrawDownDF = pd.DataFrame(index=Returns.index)\n",
    "\n",
    "for dtime in timeWindow:\n",
    "    tradeDF, weightDF = AlgoLoop.AlgoTrade(Assets, leverReturns, leverCumReturns, Turnovers, mode='plain', dt=dtime)\n",
    "    StatisticFunc.WeightPlot(tradeDF, weightDF, '杠杆普通权重'+str(dtime))\n",
    "    \n",
    "    leverNetValueDF[str(dtime)+'组合净值'] = tradeDF['投资组合净值'] / 10000\n",
    "    leverDailyPnlDF[str(dtime)+'组合日收益率'] = tradeDF['投资组合净值'] / tradeDF['投资组合净值'].shift(1) - 1.0\n",
    "    leverDrawDownDF[str(dtime)+'最大回撤'] = tradeDF['最大回撤']   \n"
   ]
  },
  {
   "cell_type": "markdown",
   "metadata": {},
   "source": [
    "## 回测表现汇总"
   ]
  },
  {
   "cell_type": "code",
   "execution_count": null,
   "metadata": {
    "ExecuteTime": {
     "end_time": "2020-07-07T02:14:13.080563Z",
     "start_time": "2020-07-07T02:14:13.061511Z"
    }
   },
   "outputs": [],
   "source": [
    "# 汇总\n",
    "leverSummaryDF = pd.DataFrame(index=['每月调仓', '每季度调仓', '每半年调仓', \n",
    "                                '每三季度调仓', '每年调仓'])\n",
    "\n",
    "leverSummaryDF[\"年平均收益率\"] = leverDailyPnlDF.mean(axis=0).values * 250\n",
    "leverSummaryDF[\"年平均标准差\"] = leverDailyPnlDF.std(axis=0).values * np.sqrt(250)\n",
    "leverSummaryDF[\"无基准夏普比率\"] = leverSummaryDF[\"年平均收益率\"] / leverSummaryDF[\"年平均标准差\"]\n",
    "leverSummaryDF[\"最大回撤\"] = leverDrawDownDF.min(axis=0).values\n",
    "leverSummaryDF"
   ]
  },
  {
   "cell_type": "markdown",
   "metadata": {},
   "source": [
    "## 各投资组合净值曲线"
   ]
  },
  {
   "cell_type": "code",
   "execution_count": null,
   "metadata": {
    "ExecuteTime": {
     "end_time": "2020-07-07T02:14:13.358593Z",
     "start_time": "2020-07-07T02:14:13.084423Z"
    }
   },
   "outputs": [],
   "source": [
    "fig = plt.figure(figsize=(16, 8))\n",
    "\n",
    "for col in leverNetValueDF.columns:\n",
    "    plt.plot(leverNetValueDF.index, leverNetValueDF[col], lw=1.0, label=col)\n",
    "\n",
    "# plt.plot(cumReturns.index, cumReturns['中证500'], lw=1.5, label='中证500')\n",
    "plt.plot(cumReturns.index, cumReturns['信用债3-5AAA'], lw=3.0, label='信用债3-5AAA')\n",
    "\n",
    "plt.xlabel('时间')\n",
    "plt.ylabel('净值')\n",
    "plt.ylim(0.0, 6.0)\n",
    "plt.legend(loc='upper left')\n",
    "plt.title('净值曲线（杠杆）')\n",
    "plt.show()"
   ]
  },
  {
   "cell_type": "markdown",
   "metadata": {},
   "source": [
    "## 年间收益率分布"
   ]
  },
  {
   "cell_type": "code",
   "execution_count": null,
   "metadata": {
    "ExecuteTime": {
     "end_time": "2020-06-20T09:33:11.925646Z",
     "start_time": "2020-06-20T09:33:09.199Z"
    }
   },
   "outputs": [],
   "source": [
    "yearReturns = StatisticFunc.annualReturns(NetValueDF)"
   ]
  },
  {
   "cell_type": "code",
   "execution_count": null,
   "metadata": {
    "ExecuteTime": {
     "end_time": "2020-06-20T09:33:11.926730Z",
     "start_time": "2020-06-20T09:33:09.201Z"
    }
   },
   "outputs": [],
   "source": [
    "StatisticFunc.ReturnDist(yearReturns, 2)"
   ]
  },
  {
   "cell_type": "markdown",
   "metadata": {},
   "source": [
    "## 月间收益率分布"
   ]
  },
  {
   "cell_type": "code",
   "execution_count": null,
   "metadata": {
    "ExecuteTime": {
     "end_time": "2020-06-20T09:33:11.927851Z",
     "start_time": "2020-06-20T09:33:09.234Z"
    }
   },
   "outputs": [],
   "source": [
    "monthlyReturns = StatisticFunc.monthlyReturns(NetValueDF)"
   ]
  },
  {
   "cell_type": "code",
   "execution_count": null,
   "metadata": {
    "ExecuteTime": {
     "end_time": "2020-06-20T09:33:11.928797Z",
     "start_time": "2020-06-20T09:33:09.236Z"
    },
    "scrolled": true
   },
   "outputs": [],
   "source": [
    "StatisticFunc.ReturnDist(monthlyReturns, 2)"
   ]
  },
  {
   "cell_type": "markdown",
   "metadata": {},
   "source": [
    "# 风险平价 + 杠杆 + 因子策略（普通权重）"
   ]
  },
  {
   "cell_type": "markdown",
   "metadata": {},
   "source": [
    "## 动量因子（横向比较）"
   ]
  },
  {
   "cell_type": "markdown",
   "metadata": {},
   "source": [
    "### 程序运行"
   ]
  },
  {
   "cell_type": "code",
   "execution_count": null,
   "metadata": {
    "ExecuteTime": {
     "end_time": "2020-07-07T02:54:12.588826Z",
     "start_time": "2020-07-07T02:54:12.562550Z"
    }
   },
   "outputs": [],
   "source": [
    "# 运行\n",
    "timeWindow = [20, 60, 120, 180, 240]        # 调仓周期\n",
    "ups = [0.50, 1.00]        # 上调幅度\n",
    "\n",
    "multiIDX = pd.MultiIndex.from_product([timeWindow, ups], names=['交易周期', '上调幅度'])\n",
    "leverNetValueDF_momentumX = pd.DataFrame(index=Returns.index, columns=multiIDX)\n",
    "leverDailyPnlDF_momentumX = pd.DataFrame(index=Returns.index, columns=multiIDX) \n",
    "leverDrawDownDF_momentumX = pd.DataFrame(index=Returns.index, columns=multiIDX)"
   ]
  },
  {
   "cell_type": "code",
   "execution_count": null,
   "metadata": {
    "ExecuteTime": {
     "end_time": "2020-07-07T03:05:59.436575Z",
     "start_time": "2020-07-07T02:54:12.940095Z"
    }
   },
   "outputs": [],
   "source": [
    "thrds = {'Equity':0.50, 'FixedIncome':0.90, 'Commodity':0.30}\n",
    "factors = {'momentumX':True, 'momentumT':False, \n",
    "           'reverseX':False, 'reverseT':False, \n",
    "           'turnover':False,  \n",
    "           'copperGold':False, 'copperGas':False}\n",
    "\n",
    "for t in timeWindow:\n",
    "    for u in ups:\n",
    "        tradeDF, weightDF = AlgoLoop.AlgoTrade(Assets, leverReturns, leverCumReturns, Turnovers, \n",
    "                                               mode='plain', dt=t, up=u, thresholds=thrds,\n",
    "                                               factorDict=factors)\n",
    "        StatisticFunc.WeightPlot(tradeDF, weightDF, '杠杆横截面动量（裸权重）'+str(t+u))\n",
    "\n",
    "        leverNetValueDF_momentumX.loc[:, (t, u)] = tradeDF['投资组合净值'] / 10000\n",
    "        leverDailyPnlDF_momentumX.loc[:, (t, u)] = tradeDF['投资组合净值'] / tradeDF['投资组合净值'].shift(1) - 1.0\n",
    "        leverDrawDownDF_momentumX.loc[:, (t, u)] = tradeDF['最大回撤']                      "
   ]
  },
  {
   "cell_type": "markdown",
   "metadata": {},
   "source": [
    "### 回测表现汇总"
   ]
  },
  {
   "cell_type": "code",
   "execution_count": null,
   "metadata": {
    "ExecuteTime": {
     "end_time": "2020-07-07T03:05:59.456313Z",
     "start_time": "2020-07-07T03:05:59.439342Z"
    }
   },
   "outputs": [],
   "source": [
    "# 汇总\n",
    "leverSummaryDF_momentumX = pd.DataFrame(index=multiIDX)\n",
    "\n",
    "leverSummaryDF_momentumX[\"年平均收益率\"] = leverDailyPnlDF_momentumX.mean(axis=0).values * 250\n",
    "leverSummaryDF_momentumX[\"年平均标准差\"] = leverDailyPnlDF_momentumX.std(axis=0).values * np.sqrt(250)\n",
    "leverSummaryDF_momentumX[\"无基准夏普比率\"] = leverSummaryDF_momentumX[\"年平均收益率\"] / leverSummaryDF_momentumX[\"年平均标准差\"]\n",
    "leverSummaryDF_momentumX[\"最大回撤\"] = leverDrawDownDF_momentumX.min(axis=0).values\n",
    "\n",
    "leverSummaryDF_momentumX"
   ]
  },
  {
   "cell_type": "markdown",
   "metadata": {},
   "source": [
    "### 各投资组合净值曲线"
   ]
  },
  {
   "cell_type": "code",
   "execution_count": null,
   "metadata": {
    "ExecuteTime": {
     "end_time": "2020-07-07T03:06:00.236602Z",
     "start_time": "2020-07-07T03:05:59.458608Z"
    }
   },
   "outputs": [],
   "source": [
    "fig = plt.figure(figsize=(16, 8), dpi=200)\n",
    "\n",
    "for col in leverNetValueDF_momentumX.columns:\n",
    "    plt.plot(leverNetValueDF_momentumX.index, leverNetValueDF_momentumX[col], label=col)\n",
    "    \n",
    "plt.plot(cumReturns.index, cumReturns['信用债3-5AAA'], lw=3.5, label='信用债3-5AAA')\n",
    "\n",
    "plt.xlabel('时间')\n",
    "plt.ylabel('净值')\n",
    "plt.ylim(0.0, 5.0)\n",
    "plt.legend(loc='upper left')\n",
    "plt.title('杠杆横截面动量因子（裸权重）')\n",
    "plt.show()"
   ]
  },
  {
   "cell_type": "markdown",
   "metadata": {},
   "source": [
    "## 动量因子（时序比较）"
   ]
  },
  {
   "cell_type": "markdown",
   "metadata": {},
   "source": [
    "### 程序运行"
   ]
  },
  {
   "cell_type": "code",
   "execution_count": null,
   "metadata": {
    "ExecuteTime": {
     "end_time": "2020-07-03T09:17:12.986168Z",
     "start_time": "2020-07-03T09:17:12.962836Z"
    }
   },
   "outputs": [],
   "source": [
    "# 运行\n",
    "timeWindow = [20, 60, 120, 180, 240]        # 调仓周期\n",
    "ups = [0.50, 1.00]                          # 上调幅度\n",
    "\n",
    "multiIDX = pd.MultiIndex.from_product([timeWindow, ups], names=['交易周期', '上调幅度'])\n",
    "leverNetValueDF_momentumT = pd.DataFrame(index=Returns.index, columns=multiIDX)\n",
    "leverDailyPnlDF_momentumT = pd.DataFrame(index=Returns.index, columns=multiIDX) \n",
    "leverDrawDownDF_momentumT = pd.DataFrame(index=Returns.index, columns=multiIDX)"
   ]
  },
  {
   "cell_type": "code",
   "execution_count": null,
   "metadata": {
    "ExecuteTime": {
     "end_time": "2020-07-03T09:30:43.212860Z",
     "start_time": "2020-07-03T09:17:12.988016Z"
    }
   },
   "outputs": [],
   "source": [
    "thrds = {'Equity':0.50, 'FixedIncome':0.90, 'Commodity':0.30}\n",
    "factors = {'momentumX':False, 'momentumT':True, \n",
    "           'reverseX':False, 'reverseT':False, \n",
    "           'turnover':False,  \n",
    "           'copperGold':False, 'copperGas':False}\n",
    "\n",
    "for t in timeWindow:\n",
    "    for u in ups:\n",
    "        tradeDF, weightDF = AlgoLoop.AlgoTrade(Assets, leverReturns, leverCumReturns, Turnovers, \n",
    "                                               mode='plain', dt=t, up=u, thresholds=thrds, \n",
    "                                               factorDict=factors)\n",
    "        StatisticFunc.WeightPlot(tradeDF, weightDF, '杠杆时序动量（裸权重）'+str(t+u))\n",
    "\n",
    "        leverNetValueDF_momentumT.loc[:, (t, u)] = tradeDF['投资组合净值'] / 10000  \n",
    "        leverDailyPnlDF_momentumT.loc[:, (t, u)] = tradeDF['投资组合净值'] / tradeDF['投资组合净值'].shift(1) - 1.0\n",
    "        leverDrawDownDF_momentumT.loc[:, (t, u)] = tradeDF['最大回撤']                      "
   ]
  },
  {
   "cell_type": "markdown",
   "metadata": {},
   "source": [
    "### 回测表现汇总"
   ]
  },
  {
   "cell_type": "code",
   "execution_count": null,
   "metadata": {
    "ExecuteTime": {
     "end_time": "2020-07-03T09:30:43.235378Z",
     "start_time": "2020-07-03T09:30:43.215659Z"
    }
   },
   "outputs": [],
   "source": [
    "# 汇总\n",
    "leverSummaryDF_momentumT = pd.DataFrame(index=multiIDX)\n",
    "\n",
    "leverSummaryDF_momentumT[\"年平均收益率\"] = leverDailyPnlDF_momentumT.mean(axis=0).values * 250\n",
    "leverSummaryDF_momentumT[\"年平均标准差\"] = leverDailyPnlDF_momentumT.std(axis=0).values * np.sqrt(250)\n",
    "leverSummaryDF_momentumT[\"无基准夏普比率\"] = leverSummaryDF_momentumT[\"年平均收益率\"] / leverSummaryDF_momentumT[\"年平均标准差\"]\n",
    "leverSummaryDF_momentumT[\"最大回撤\"] = leverDrawDownDF_momentumT.min(axis=0).values\n",
    "\n",
    "leverSummaryDF_momentumT"
   ]
  },
  {
   "cell_type": "markdown",
   "metadata": {},
   "source": [
    "### 各投资组合净值曲线"
   ]
  },
  {
   "cell_type": "code",
   "execution_count": null,
   "metadata": {
    "ExecuteTime": {
     "end_time": "2020-07-03T09:30:44.075058Z",
     "start_time": "2020-07-03T09:30:43.237682Z"
    },
    "scrolled": true
   },
   "outputs": [],
   "source": [
    "fig = plt.figure(figsize=(16, 8), dpi=200)\n",
    "\n",
    "for col in leverNetValueDF_momentumT.columns:\n",
    "    plt.plot(leverNetValueDF_momentumT.index, leverNetValueDF_momentumT[col], label=col)\n",
    "\n",
    "plt.plot(cumReturns.index, cumReturns['信用债3-5AAA'], lw=3.0, label='信用债3-5AAA')\n",
    "    \n",
    "plt.xlabel('时间')\n",
    "plt.ylabel('净值')\n",
    "plt.ylim(0.0, 5.0)\n",
    "plt.legend(loc='upper left')\n",
    "plt.title('杠杆时间序列动量因子（裸权重）')\n",
    "plt.show()"
   ]
  },
  {
   "cell_type": "markdown",
   "metadata": {},
   "source": [
    "## 反转因子（横向比较）"
   ]
  },
  {
   "cell_type": "markdown",
   "metadata": {},
   "source": [
    "### 程序运行"
   ]
  },
  {
   "cell_type": "code",
   "execution_count": null,
   "metadata": {
    "ExecuteTime": {
     "end_time": "2020-07-03T09:30:44.109163Z",
     "start_time": "2020-07-03T09:30:44.078673Z"
    }
   },
   "outputs": [],
   "source": [
    "# 运行\n",
    "timeWindow = [20, 60, 120, 180, 240]        # 调仓周期\n",
    "ups = [0.50, 1.00]                          # 上调幅度\n",
    "\n",
    "multiIDX = pd.MultiIndex.from_product([timeWindow, ups], names=['交易周期', '上调幅度'])\n",
    "leverNetValueDF_reverseX = pd.DataFrame(index=Returns.index, columns=multiIDX)\n",
    "leverDailyPnlDF_reverseX = pd.DataFrame(index=Returns.index, columns=multiIDX) \n",
    "leverDrawDownDF_reverseX = pd.DataFrame(index=Returns.index, columns=multiIDX)"
   ]
  },
  {
   "cell_type": "code",
   "execution_count": null,
   "metadata": {
    "ExecuteTime": {
     "end_time": "2020-07-03T09:43:09.584510Z",
     "start_time": "2020-07-03T09:30:44.112800Z"
    }
   },
   "outputs": [],
   "source": [
    "thrds = {'Equity':0.50, 'FixedIncome':0.90, 'Commodity':0.30}\n",
    "factors = {'momentumX':False, 'momentumT':False, \n",
    "           'reverseX':True, 'reverseT':False, \n",
    "           'turnover':False, \n",
    "           'copperGold':False, 'copperGas':False}\n",
    "\n",
    "for t in timeWindow:\n",
    "    for u in ups:\n",
    "        tradeDF, weightDF = AlgoLoop.AlgoTrade(Assets, leverReturns, leverCumReturns, Turnovers, \n",
    "                                               mode='plain', dt=t, up=u, thresholds=thrds, \n",
    "                                               factorDict=factors)\n",
    "        StatisticFunc.WeightPlot(tradeDF, weightDF, '杠杆横截面反转（裸权重）'+str(t+u))\n",
    "\n",
    "        leverNetValueDF_reverseX.loc[:, (t, u)] = tradeDF['投资组合净值'] / 10000  \n",
    "        leverDailyPnlDF_reverseX.loc[:, (t, u)] = tradeDF['投资组合净值'] / tradeDF['投资组合净值'].shift(1) - 1.0\n",
    "        leverDrawDownDF_reverseX.loc[:, (t, u)] = tradeDF['最大回撤']                      "
   ]
  },
  {
   "cell_type": "markdown",
   "metadata": {},
   "source": [
    "### 回测表现汇总"
   ]
  },
  {
   "cell_type": "code",
   "execution_count": null,
   "metadata": {
    "ExecuteTime": {
     "end_time": "2020-07-03T09:43:09.603516Z",
     "start_time": "2020-07-03T09:43:09.587338Z"
    }
   },
   "outputs": [],
   "source": [
    "# 汇总\n",
    "leverSummaryDF_reverseX = pd.DataFrame(index=multiIDX)\n",
    "\n",
    "leverSummaryDF_reverseX[\"年平均收益率\"] = leverDailyPnlDF_reverseX.mean(axis=0).values * 250\n",
    "leverSummaryDF_reverseX[\"年平均标准差\"] = leverDailyPnlDF_reverseX.std(axis=0).values * np.sqrt(250)\n",
    "leverSummaryDF_reverseX[\"无基准夏普比率\"] = leverSummaryDF_reverseX[\"年平均收益率\"] / leverSummaryDF_reverseX[\"年平均标准差\"]\n",
    "leverSummaryDF_reverseX[\"最大回撤\"] = leverDrawDownDF_reverseX.min(axis=0).values\n",
    "\n",
    "leverSummaryDF_reverseX"
   ]
  },
  {
   "cell_type": "markdown",
   "metadata": {},
   "source": [
    "### 各投资组合净值曲线"
   ]
  },
  {
   "cell_type": "code",
   "execution_count": null,
   "metadata": {
    "ExecuteTime": {
     "end_time": "2020-07-03T09:43:10.398865Z",
     "start_time": "2020-07-03T09:43:09.605229Z"
    }
   },
   "outputs": [],
   "source": [
    "fig = plt.figure(figsize=(16, 8), dpi=200)\n",
    "\n",
    "for col in leverNetValueDF_reverseX.columns:\n",
    "    plt.plot(leverNetValueDF_reverseX.index, leverNetValueDF_reverseX[col], label=col)\n",
    "    \n",
    "plt.plot(cumReturns.index, cumReturns['信用债3-5AAA'], lw=3.0, label='信用债3-5AAA')\n",
    "\n",
    "plt.xlabel('时间')\n",
    "plt.ylabel('净值')\n",
    "plt.ylim(0.0, 5.0)\n",
    "plt.legend(loc='upper left')\n",
    "plt.title('杠杆横截面反转因子（裸权重）')\n",
    "plt.show()"
   ]
  },
  {
   "cell_type": "markdown",
   "metadata": {},
   "source": [
    "## 反转因子 （时序比较）"
   ]
  },
  {
   "cell_type": "markdown",
   "metadata": {},
   "source": [
    "### 程序运行"
   ]
  },
  {
   "cell_type": "code",
   "execution_count": null,
   "metadata": {
    "ExecuteTime": {
     "end_time": "2020-07-03T09:43:10.426984Z",
     "start_time": "2020-07-03T09:43:10.401098Z"
    }
   },
   "outputs": [],
   "source": [
    "# 运行\n",
    "timeWindow = [20, 60, 120, 180, 240]        # 调仓周期\n",
    "ups = [0.50, 1.00]                          # 上调幅度\n",
    "\n",
    "multiIDX = pd.MultiIndex.from_product([timeWindow, ups], names=['交易周期', '上调幅度'])\n",
    "leverNetValueDF_reverseT = pd.DataFrame(index=Returns.index, columns=multiIDX)\n",
    "leverDailyPnlDF_reverseT = pd.DataFrame(index=Returns.index, columns=multiIDX) \n",
    "leverDrawDownDF_reverseT = pd.DataFrame(index=Returns.index, columns=multiIDX)"
   ]
  },
  {
   "cell_type": "code",
   "execution_count": null,
   "metadata": {
    "ExecuteTime": {
     "end_time": "2020-07-03T09:55:25.448260Z",
     "start_time": "2020-07-03T09:43:10.428738Z"
    }
   },
   "outputs": [],
   "source": [
    "thrds = {'Equity':0.50, 'FixedIncome':0.90, 'Commodity':0.30}\n",
    "factors = {'momentumX':False, 'momentumT':False, \n",
    "           'reverseX':False, 'reverseT':True, \n",
    "           'turnover':False, \n",
    "           'copperGold':False, 'copperGas':False}\n",
    "\n",
    "for t in timeWindow:\n",
    "    for u in ups:\n",
    "        tradeDF, weightDF = AlgoLoop.AlgoTrade(Assets, leverReturns, leverCumReturns, Turnovers, \n",
    "                                               mode='plain', dt=t, up=u, thresholds=thrds, \n",
    "                                               factorDict=factors)\n",
    "        StatisticFunc.WeightPlot(tradeDF, weightDF, '杠杆时序反转（裸权重）'+str(t+u))\n",
    "\n",
    "        leverNetValueDF_reverseT.loc[:, (t, u)] = tradeDF['投资组合净值'] / 10000  \n",
    "        leverDailyPnlDF_reverseT.loc[:, (t, u)] = tradeDF['投资组合净值'] / tradeDF['投资组合净值'].shift(1) - 1.0\n",
    "        leverDrawDownDF_reverseT.loc[:, (t, u)] = tradeDF['最大回撤']                      "
   ]
  },
  {
   "cell_type": "markdown",
   "metadata": {},
   "source": [
    "### 回测表现汇总"
   ]
  },
  {
   "cell_type": "code",
   "execution_count": null,
   "metadata": {
    "ExecuteTime": {
     "end_time": "2020-07-03T09:55:25.467854Z",
     "start_time": "2020-07-03T09:55:25.450601Z"
    }
   },
   "outputs": [],
   "source": [
    "# 汇总\n",
    "leverSummaryDF_reverseT = pd.DataFrame(index=multiIDX)\n",
    "\n",
    "leverSummaryDF_reverseT[\"年平均收益率\"] = leverDailyPnlDF_reverseT.mean(axis=0).values * 250\n",
    "leverSummaryDF_reverseT[\"年平均标准差\"] = leverDailyPnlDF_reverseT.std(axis=0).values * np.sqrt(250)\n",
    "leverSummaryDF_reverseT[\"无基准夏普比率\"] = leverSummaryDF_reverseT[\"年平均收益率\"] / leverSummaryDF_reverseT[\"年平均标准差\"]\n",
    "leverSummaryDF_reverseT[\"最大回撤\"] = leverDrawDownDF_reverseT.min(axis=0).values\n",
    "\n",
    "leverSummaryDF_reverseT"
   ]
  },
  {
   "cell_type": "markdown",
   "metadata": {},
   "source": [
    "### 各投资组合净值曲线"
   ]
  },
  {
   "cell_type": "code",
   "execution_count": null,
   "metadata": {
    "ExecuteTime": {
     "end_time": "2020-07-03T09:55:26.175218Z",
     "start_time": "2020-07-03T09:55:25.469843Z"
    }
   },
   "outputs": [],
   "source": [
    "fig = plt.figure(figsize=(16, 8), dpi=200)\n",
    "\n",
    "for col in leverNetValueDF_reverseT.columns:\n",
    "    plt.plot(leverNetValueDF_reverseT.index, leverNetValueDF_reverseT[col], label=col)\n",
    "\n",
    "plt.plot(cumReturns.index, cumReturns['信用债3-5AAA'], lw=3.0, label='信用债3-5AAA')\n",
    "    \n",
    "plt.xlabel('时间')\n",
    "plt.ylabel('净值')\n",
    "plt.ylim(0.0, 5.0)\n",
    "plt.legend(loc='upper left')\n",
    "plt.title('杠杆时序反转因子（裸权重）')\n",
    "plt.show()"
   ]
  },
  {
   "cell_type": "markdown",
   "metadata": {},
   "source": [
    "## 情绪因子（股指换手率）"
   ]
  },
  {
   "cell_type": "markdown",
   "metadata": {},
   "source": [
    "### 程序运行"
   ]
  },
  {
   "cell_type": "code",
   "execution_count": null,
   "metadata": {
    "ExecuteTime": {
     "end_time": "2020-07-03T09:55:26.201045Z",
     "start_time": "2020-07-03T09:55:26.176667Z"
    }
   },
   "outputs": [],
   "source": [
    "# 运行\n",
    "timeWindow = [20, 60, 120, 180, 240]        # 调仓周期\n",
    "ups = [0.50, 1.00]                          # 上调幅度\n",
    "\n",
    "multiIDX = pd.MultiIndex.from_product([timeWindow, ups], names=['交易周期', '上调幅度'])\n",
    "leverNetValueDF_turnover = pd.DataFrame(index=Returns.index, columns=multiIDX)\n",
    "leverDailyPnlDF_turnover = pd.DataFrame(index=Returns.index, columns=multiIDX) \n",
    "leverDrawDownDF_turnover = pd.DataFrame(index=Returns.index, columns=multiIDX)"
   ]
  },
  {
   "cell_type": "code",
   "execution_count": null,
   "metadata": {
    "ExecuteTime": {
     "end_time": "2020-07-03T10:07:33.940293Z",
     "start_time": "2020-07-03T09:55:26.203054Z"
    }
   },
   "outputs": [],
   "source": [
    "thrds = {'Equity':0.50, 'FixedIncome':0.90, 'Commodity':0.30}\n",
    "factors = {'momentumX':False, 'momentumT':False, \n",
    "           'reverseX':False, 'reverseT':False, \n",
    "           'turnover':True, \n",
    "           'copperGold':False, 'copperGas':False}\n",
    "\n",
    "for t in timeWindow:\n",
    "    for u in ups:\n",
    "        tradeDF, weightDF = AlgoLoop.AlgoTrade(Assets, leverReturns, leverCumReturns, Turnovers, \n",
    "                                               mode='plain', dt=t, up=u, thresholds=thrds, \n",
    "                                               factorDict=factors)\n",
    "        StatisticFunc.WeightPlot(tradeDF, weightDF, '杠杆换手率（裸权重）'+str(t+u))\n",
    "\n",
    "        leverNetValueDF_turnover.loc[:, (t, u)] = tradeDF['投资组合净值'] / 10000  \n",
    "        leverDailyPnlDF_turnover.loc[:, (t, u)] = tradeDF['投资组合净值'] / tradeDF['投资组合净值'].shift(1) - 1.0\n",
    "        leverDrawDownDF_turnover.loc[:, (t, u)] = tradeDF['最大回撤']                      "
   ]
  },
  {
   "cell_type": "markdown",
   "metadata": {},
   "source": [
    "### 回测表现汇总"
   ]
  },
  {
   "cell_type": "code",
   "execution_count": null,
   "metadata": {
    "ExecuteTime": {
     "end_time": "2020-07-03T10:07:33.962656Z",
     "start_time": "2020-07-03T10:07:33.942935Z"
    },
    "scrolled": false
   },
   "outputs": [],
   "source": [
    "# 汇总\n",
    "leverSummaryDF_turnover = pd.DataFrame(index=multiIDX)\n",
    "\n",
    "leverSummaryDF_turnover[\"年平均收益率\"] = leverDailyPnlDF_turnover.mean(axis=0).values * 250\n",
    "leverSummaryDF_turnover[\"年平均标准差\"] = leverDailyPnlDF_turnover.std(axis=0).values * np.sqrt(250)\n",
    "leverSummaryDF_turnover[\"无基准夏普比率\"] = leverSummaryDF_turnover[\"年平均收益率\"] / leverSummaryDF_turnover[\"年平均标准差\"]\n",
    "leverSummaryDF_turnover[\"最大回撤\"] = leverDrawDownDF_turnover.min(axis=0).values\n",
    "\n",
    "leverSummaryDF_turnover"
   ]
  },
  {
   "cell_type": "markdown",
   "metadata": {},
   "source": [
    "### 各投资组合净值曲线"
   ]
  },
  {
   "cell_type": "code",
   "execution_count": null,
   "metadata": {
    "ExecuteTime": {
     "end_time": "2020-07-03T10:07:34.675319Z",
     "start_time": "2020-07-03T10:07:33.964197Z"
    },
    "scrolled": false
   },
   "outputs": [],
   "source": [
    "fig = plt.figure(figsize=(16, 8), dpi=200)\n",
    "\n",
    "for col in leverNetValueDF_turnover.columns:\n",
    "    plt.plot(leverNetValueDF_turnover.index, leverNetValueDF_turnover[col], label=col)\n",
    "    \n",
    "plt.plot(cumReturns.index, cumReturns['信用债3-5AAA'], lw=3.0, label='信用债3-5AAA')\n",
    "\n",
    "plt.xlabel('时间')\n",
    "plt.ylabel('净值')\n",
    "plt.ylim(0.0, 5.0)\n",
    "plt.legend(loc='upper left')\n",
    "plt.title('杠杆股指换手率因子（裸权重）')\n",
    "plt.show()"
   ]
  },
  {
   "cell_type": "markdown",
   "metadata": {},
   "source": [
    "## 铜金价格比因子（十年国债反转）"
   ]
  },
  {
   "cell_type": "markdown",
   "metadata": {},
   "source": [
    "### 程序运行"
   ]
  },
  {
   "cell_type": "code",
   "execution_count": null,
   "metadata": {
    "ExecuteTime": {
     "end_time": "2020-07-03T10:07:34.700651Z",
     "start_time": "2020-07-03T10:07:34.677378Z"
    }
   },
   "outputs": [],
   "source": [
    "# 运行\n",
    "timeWindow = [20, 60, 120, 180, 240]        # 调仓周期\n",
    "ups = [0.50, 1.00]                          # 上调幅度\n",
    "\n",
    "multiIDX = pd.MultiIndex.from_product([timeWindow, ups], names=['交易周期', '上调幅度'])\n",
    "leverNetValueDF_copperGold = pd.DataFrame(index=Returns.index, columns=multiIDX)\n",
    "leverDailyPnlDF_copperGold = pd.DataFrame(index=Returns.index, columns=multiIDX) \n",
    "leverDrawDownDF_copperGold = pd.DataFrame(index=Returns.index, columns=multiIDX)"
   ]
  },
  {
   "cell_type": "code",
   "execution_count": null,
   "metadata": {
    "ExecuteTime": {
     "end_time": "2020-07-03T10:19:40.072515Z",
     "start_time": "2020-07-03T10:07:34.702547Z"
    }
   },
   "outputs": [],
   "source": [
    "thrds = {'Equity':0.50, 'FixedIncome':0.90, 'Commodity':0.30}\n",
    "factors = {'momentumX':False, 'momentumT':False, \n",
    "            'reverseX':False, 'reverseT':False,\n",
    "            'turnover':False, \n",
    "            'copperGold':True, 'copperGas':False}\n",
    "\n",
    "for t in timeWindow:\n",
    "    for u in ups:\n",
    "        tradeDF, weightDF = AlgoLoop.AlgoTrade(Assets, leverReturns, leverCumReturns, Turnovers, \n",
    "                                               mode='plain', dt=t, up=u, thresholds=thrds, \n",
    "                                               factorDict=factors)\n",
    "        StatisticFunc.WeightPlot(tradeDF, weightDF, '杠杆铜金价格比（裸权重）'+str(t+u))\n",
    "\n",
    "        leverNetValueDF_copperGold.loc[:, (t, u)] = tradeDF['投资组合净值'] / 10000  \n",
    "        leverDailyPnlDF_copperGold.loc[:, (t, u)] = tradeDF['投资组合净值'] / tradeDF['投资组合净值'].shift(1) - 1.0\n",
    "        leverDrawDownDF_copperGold.loc[:, (t, u)] = tradeDF['最大回撤']                      "
   ]
  },
  {
   "cell_type": "markdown",
   "metadata": {},
   "source": [
    "### 回测表现汇总"
   ]
  },
  {
   "cell_type": "code",
   "execution_count": null,
   "metadata": {
    "ExecuteTime": {
     "end_time": "2020-07-03T10:19:40.091789Z",
     "start_time": "2020-07-03T10:19:40.075435Z"
    },
    "scrolled": false
   },
   "outputs": [],
   "source": [
    "# 汇总\n",
    "leverSummaryDF_copperGold = pd.DataFrame(index=multiIDX)\n",
    "\n",
    "leverSummaryDF_copperGold[\"年平均收益率\"] = leverDailyPnlDF_copperGold.mean(axis=0).values * 250\n",
    "leverSummaryDF_copperGold[\"年平均标准差\"] = leverDailyPnlDF_copperGold.std(axis=0).values * np.sqrt(250)\n",
    "leverSummaryDF_copperGold[\"无基准夏普比率\"] = leverSummaryDF_copperGold[\"年平均收益率\"] / leverSummaryDF_copperGold[\"年平均标准差\"]\n",
    "leverSummaryDF_copperGold[\"最大回撤\"] = leverDrawDownDF_copperGold.min(axis=0).values\n",
    "\n",
    "leverSummaryDF_copperGold"
   ]
  },
  {
   "cell_type": "markdown",
   "metadata": {},
   "source": [
    "### 各投资组合净值曲线"
   ]
  },
  {
   "cell_type": "code",
   "execution_count": null,
   "metadata": {
    "ExecuteTime": {
     "end_time": "2020-07-03T10:19:40.785201Z",
     "start_time": "2020-07-03T10:19:40.096706Z"
    },
    "scrolled": false
   },
   "outputs": [],
   "source": [
    "fig = plt.figure(figsize=(16, 8), dpi=200)\n",
    "\n",
    "for col in leverNetValueDF_copperGold.columns:\n",
    "    plt.plot(leverNetValueDF_copperGold.index, leverNetValueDF_copperGold[col], label=col)\n",
    "    \n",
    "plt.plot(cumReturns.index, cumReturns['信用债3-5AAA'], lw=3.0, label='信用债3-5AAA')\n",
    "\n",
    "plt.xlabel('时间')\n",
    "plt.ylabel('净值')\n",
    "plt.ylim(0.0, 5.0)\n",
    "plt.legend(loc='upper left')\n",
    "plt.title('杠杆铜金价格比因子（裸权重）')\n",
    "plt.show()"
   ]
  },
  {
   "cell_type": "markdown",
   "metadata": {},
   "source": [
    "## 铜油价格比因子（沪深300动量）"
   ]
  },
  {
   "cell_type": "markdown",
   "metadata": {},
   "source": [
    "### 程序运行"
   ]
  },
  {
   "cell_type": "code",
   "execution_count": null,
   "metadata": {
    "ExecuteTime": {
     "end_time": "2020-07-06T02:05:56.623777Z",
     "start_time": "2020-07-06T02:05:56.603604Z"
    }
   },
   "outputs": [],
   "source": [
    "# 运行\n",
    "timeWindow = [20, 60, 120, 180, 240]        # 调仓周期\n",
    "ups = [0.50, 1.00]                          # 上调幅度\n",
    "\n",
    "multiIDX = pd.MultiIndex.from_product([timeWindow, ups], names=['交易周期', '上调幅度'])\n",
    "leverNetValueDF_copperGas = pd.DataFrame(index=Returns.index, columns=multiIDX)\n",
    "leverDailyPnlDF_copperGas = pd.DataFrame(index=Returns.index, columns=multiIDX) \n",
    "leverDrawDownDF_copperGas = pd.DataFrame(index=Returns.index, columns=multiIDX)"
   ]
  },
  {
   "cell_type": "code",
   "execution_count": null,
   "metadata": {
    "ExecuteTime": {
     "end_time": "2020-07-06T02:19:33.737566Z",
     "start_time": "2020-07-06T02:05:56.625371Z"
    }
   },
   "outputs": [],
   "source": [
    "thrds = {'Equity':0.50, 'FixedIncome':0.90, 'Commodity':0.30}\n",
    "factors = {'momentumX':False, 'momentumT':False, \n",
    "            'reverseX':False, 'reverseT':False,\n",
    "            'turnover':False, \n",
    "            'copperGold':False, 'copperGas':True}\n",
    "\n",
    "for t in timeWindow:\n",
    "    for u in ups:\n",
    "        tradeDF, weightDF = AlgoLoop.AlgoTrade(Assets, leverReturns, leverCumReturns, Turnovers, \n",
    "                                               mode='plain', dt=t, up=u, thresholds=thrds, \n",
    "                                               factorDict=factors)\n",
    "        StatisticFunc.WeightPlot(tradeDF, weightDF, '杠杆铜油价格比（裸权重）'+str(t+u))\n",
    "\n",
    "        leverNetValueDF_copperGas.loc[:, (t, u)] = tradeDF['投资组合净值'] / 10000  \n",
    "        leverDailyPnlDF_copperGas.loc[:, (t, u)] = tradeDF['投资组合净值'] / tradeDF['投资组合净值'].shift(1) - 1.0\n",
    "        leverDrawDownDF_copperGas.loc[:, (t, u)] = tradeDF['最大回撤']                      "
   ]
  },
  {
   "cell_type": "markdown",
   "metadata": {},
   "source": [
    "### 回测表现汇总"
   ]
  },
  {
   "cell_type": "code",
   "execution_count": null,
   "metadata": {
    "ExecuteTime": {
     "end_time": "2020-07-06T02:19:33.759302Z",
     "start_time": "2020-07-06T02:19:33.739634Z"
    },
    "scrolled": false
   },
   "outputs": [],
   "source": [
    "# 汇总\n",
    "leverSummaryDF_copperGas = pd.DataFrame(index=multiIDX)\n",
    "\n",
    "leverSummaryDF_copperGas[\"年平均收益率\"] = leverDailyPnlDF_copperGas.mean(axis=0).values * 250\n",
    "leverSummaryDF_copperGas[\"年平均标准差\"] = leverDailyPnlDF_copperGas.std(axis=0).values * np.sqrt(250)\n",
    "leverSummaryDF_copperGas[\"无基准夏普比率\"] = leverSummaryDF_copperGas[\"年平均收益率\"] / leverSummaryDF_copperGas[\"年平均标准差\"]\n",
    "leverSummaryDF_copperGas[\"最大回撤\"] = leverDrawDownDF_copperGas.min(axis=0).values\n",
    "\n",
    "leverSummaryDF_copperGas"
   ]
  },
  {
   "cell_type": "markdown",
   "metadata": {},
   "source": [
    "### 各投资组合净值曲线"
   ]
  },
  {
   "cell_type": "code",
   "execution_count": null,
   "metadata": {
    "ExecuteTime": {
     "end_time": "2020-07-06T02:19:34.569259Z",
     "start_time": "2020-07-06T02:19:33.762108Z"
    },
    "scrolled": false
   },
   "outputs": [],
   "source": [
    "fig = plt.figure(figsize=(16, 8), dpi=200)\n",
    "\n",
    "for col in leverNetValueDF_copperGas.columns:\n",
    "    plt.plot(leverNetValueDF_copperGas.index, leverNetValueDF_copperGas[col], label=col)\n",
    "    \n",
    "plt.plot(cumReturns.index, cumReturns['信用债3-5AAA'], lw=3.0, label='信用债3-5AAA')\n",
    "\n",
    "plt.xlabel('时间')\n",
    "plt.ylabel('净值')\n",
    "plt.ylim(0.0, 5.0)\n",
    "plt.legend(loc='upper left')\n",
    "plt.title('杠杆铜油价格比因子（裸权重）')\n",
    "plt.show()"
   ]
  }
 ],
 "metadata": {
  "kernelspec": {
   "display_name": "Python 3",
   "language": "python",
   "name": "python3"
  },
  "language_info": {
   "codemirror_mode": {
    "name": "ipython",
    "version": 3
   },
   "file_extension": ".py",
   "mimetype": "text/x-python",
   "name": "python",
   "nbconvert_exporter": "python",
   "pygments_lexer": "ipython3",
   "version": "3.7.7"
  },
  "latex_envs": {
   "LaTeX_envs_menu_present": true,
   "autoclose": false,
   "autocomplete": true,
   "bibliofile": "biblio.bib",
   "cite_by": "apalike",
   "current_citInitial": 1,
   "eqLabelWithNumbers": true,
   "eqNumInitial": 1,
   "hotkeys": {
    "equation": "Ctrl-E",
    "itemize": "Ctrl-I"
   },
   "labels_anchors": false,
   "latex_user_defs": false,
   "report_style_numbering": false,
   "user_envs_cfg": false
  },
  "toc": {
   "base_numbering": 1,
   "nav_menu": {},
   "number_sections": true,
   "sideBar": true,
   "skip_h1_title": false,
   "title_cell": "Table of Contents",
   "title_sidebar": "Contents",
   "toc_cell": false,
   "toc_position": {
    "height": "calc(100% - 180px)",
    "left": "10px",
    "top": "150px",
    "width": "298px"
   },
   "toc_section_display": true,
   "toc_window_display": true
  }
 },
 "nbformat": 4,
 "nbformat_minor": 4
}
