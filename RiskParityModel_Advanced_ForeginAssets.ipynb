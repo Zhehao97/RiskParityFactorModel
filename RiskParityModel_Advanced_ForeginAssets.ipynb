{
 "cells": [
  {
   "cell_type": "code",
   "execution_count": null,
   "metadata": {
    "ExecuteTime": {
     "end_time": "2020-07-15T09:10:14.910909Z",
     "start_time": "2020-07-15T09:10:13.735933Z"
    }
   },
   "outputs": [],
   "source": [
    "import numpy as np\n",
    "import pandas as pd\n",
    "import matplotlib\n",
    "import matplotlib.pyplot as plt\n",
    "import AlgoLoop\n",
    "import StatisticFunc\n",
    "\n",
    "plt.style.use('Solarize_Light2')                     # 绘图风格\n",
    "matplotlib.rcParams['font.sans-serif'] = ['SimHei']  # 字体雅黑\n",
    "matplotlib.rcParams['font.family'] = 'sans-serif'\n",
    "matplotlib.rcParams['axes.unicode_minus'] = False    # 处理负号"
   ]
  },
  {
   "cell_type": "markdown",
   "metadata": {},
   "source": [
    "# 预处理（剔除原油，铜，铁矿石）"
   ]
  },
  {
   "cell_type": "markdown",
   "metadata": {},
   "source": [
    "## 提取并处理数据"
   ]
  },
  {
   "cell_type": "markdown",
   "metadata": {},
   "source": [
    "### 权益类资产换手率"
   ]
  },
  {
   "cell_type": "code",
   "execution_count": null,
   "metadata": {
    "ExecuteTime": {
     "end_time": "2020-07-15T09:11:40.727352Z",
     "start_time": "2020-07-15T09:11:40.597731Z"
    }
   },
   "outputs": [],
   "source": [
    "Turnovers = pd.read_excel(io=\"Raw/资产换手率.xlsx\")                      # 读取数据\n",
    "Turnovers = Turnovers.drop([0], axis=0)                                   # 删除多余行\n",
    "Turnovers[\"日期\"] = pd.DatetimeIndex(Turnovers[\"日期\"])                    # 类型转换\n",
    "Turnovers = Turnovers.set_index(\"日期\")                                   # 设置索引"
   ]
  },
  {
   "cell_type": "code",
   "execution_count": null,
   "metadata": {
    "ExecuteTime": {
     "end_time": "2020-07-15T09:11:43.291429Z",
     "start_time": "2020-07-15T09:11:43.283508Z"
    }
   },
   "outputs": [],
   "source": [
    "Turnovers"
   ]
  },
  {
   "cell_type": "markdown",
   "metadata": {},
   "source": [
    "### GC007利率"
   ]
  },
  {
   "cell_type": "code",
   "execution_count": null,
   "metadata": {
    "ExecuteTime": {
     "end_time": "2020-07-15T09:11:11.980278Z",
     "start_time": "2020-07-15T09:11:11.882031Z"
    }
   },
   "outputs": [],
   "source": [
    "Rates = pd.read_excel(io=\"Raw/GC007利率.xlsx\")           #  读取数据\n",
    "Rates = Rates.drop([0, 1, 2], axis=0)                   # 删除多余行\n",
    "Rates.columns = ['日期', 'GC007']                        # 修改列名\n",
    "Rates[\"日期\"] = pd.DatetimeIndex(Rates[\"日期\"])           # 类型转换\n",
    "Rates = Rates.set_index(\"日期\")                          # 设置索引"
   ]
  },
  {
   "cell_type": "code",
   "execution_count": null,
   "metadata": {
    "ExecuteTime": {
     "end_time": "2020-07-15T09:11:33.467016Z",
     "start_time": "2020-07-15T09:11:33.458355Z"
    }
   },
   "outputs": [],
   "source": [
    "Rates"
   ]
  },
  {
   "cell_type": "markdown",
   "metadata": {},
   "source": [
    "### 美元汇率"
   ]
  },
  {
   "cell_type": "code",
   "execution_count": null,
   "metadata": {
    "ExecuteTime": {
     "end_time": "2020-07-15T09:12:51.897427Z",
     "start_time": "2020-07-15T09:12:51.798693Z"
    }
   },
   "outputs": [],
   "source": [
    "FXRates = pd.read_excel(io=\"Raw/美元汇率.xlsx\")\n",
    "FXRates = FXRates.drop([0, 1, 2], axis=0)\n",
    "FXRates.columns = ['日期', '美元汇率']                        \n",
    "FXRates[\"日期\"] = pd.DatetimeIndex(FXRates[\"日期\"])\n",
    "FXRates = FXRates.set_index(\"日期\")"
   ]
  },
  {
   "cell_type": "code",
   "execution_count": null,
   "metadata": {
    "ExecuteTime": {
     "end_time": "2020-07-15T09:12:52.102228Z",
     "start_time": "2020-07-15T09:12:52.094476Z"
    },
    "scrolled": false
   },
   "outputs": [],
   "source": [
    "FXRates"
   ]
  },
  {
   "cell_type": "markdown",
   "metadata": {},
   "source": [
    "### 各资产收盘价"
   ]
  },
  {
   "cell_type": "code",
   "execution_count": null,
   "metadata": {
    "ExecuteTime": {
     "end_time": "2020-07-15T09:12:48.670891Z",
     "start_time": "2020-07-15T09:12:48.335511Z"
    }
   },
   "outputs": [],
   "source": [
    "Assets = pd.read_excel(io=\"Raw/资产收盘价.xlsx\")\n",
    "Assets = Assets.drop([0], axis=0)                                   # 删除多余行\n",
    "Assets[\"日期\"] = pd.DatetimeIndex(Assets[\"日期\"])                    # 类型转换\n",
    "Assets = Assets.set_index(\"日期\")                                   # 设置索引"
   ]
  },
  {
   "cell_type": "code",
   "execution_count": null,
   "metadata": {
    "ExecuteTime": {
     "end_time": "2020-07-15T09:12:48.716989Z",
     "start_time": "2020-07-15T09:12:48.705956Z"
    },
    "scrolled": true
   },
   "outputs": [],
   "source": [
    "Assets.tail()"
   ]
  },
  {
   "cell_type": "markdown",
   "metadata": {},
   "source": [
    "### 十年国债&美债收益率"
   ]
  },
  {
   "cell_type": "code",
   "execution_count": null,
   "metadata": {
    "ExecuteTime": {
     "end_time": "2020-07-15T09:13:07.482447Z",
     "start_time": "2020-07-15T09:13:07.416660Z"
    }
   },
   "outputs": [],
   "source": [
    "CNRates = pd.read_excel(io=\"Raw/中债国债到期收益率(中债)(日).xls\")        # 读取数据\n",
    "CNRates.columns = ['日期', '十年国债收益率']                             # 修改列名\n",
    "CNRates = CNRates.drop([0, 3870, 3871], axis=0)                       # 删除多余行\n",
    "CNRates[\"日期\"] = pd.DatetimeIndex(CNRates[\"日期\"])                    # 类型转换\n",
    "CNRates = CNRates.set_index(\"日期\")                                   # 设置索引"
   ]
  },
  {
   "cell_type": "code",
   "execution_count": null,
   "metadata": {
    "ExecuteTime": {
     "end_time": "2020-07-15T09:13:07.975493Z",
     "start_time": "2020-07-15T09:13:07.784023Z"
    }
   },
   "outputs": [],
   "source": [
    "USRates = pd.read_excel(io=\"Raw/美债收益率.xlsx\")                       # 读取数据\n",
    "USRates.columns = ['日期', '十年美债收益率']                             # 修改列名\n",
    "USRates = USRates.drop([0, 6263, 6264], axis=0)                       # 删除多余行\n",
    "USRates[\"日期\"] = pd.DatetimeIndex(USRates[\"日期\"])                    # 类型转换\n",
    "USRates = USRates.set_index(\"日期\")                                    # 设置索引"
   ]
  },
  {
   "cell_type": "markdown",
   "metadata": {},
   "source": [
    "### 十年国债&美债价格指数"
   ]
  },
  {
   "cell_type": "code",
   "execution_count": null,
   "metadata": {
    "ExecuteTime": {
     "end_time": "2020-07-15T09:13:08.809559Z",
     "start_time": "2020-07-15T09:13:08.799630Z"
    }
   },
   "outputs": [],
   "source": [
    "Data = Assets.merge(Rates, how='left', left_index=True, right_index=True)\n",
    "Data = Data.merge(CNRates, how='left', left_index=True, right_index=True)\n",
    "Data = Data.merge(USRates, how='left', left_index=True, right_index=True)\n",
    "Data = Data.merge(FXRates, how='left', left_index=True, right_index=True)"
   ]
  },
  {
   "cell_type": "code",
   "execution_count": null,
   "metadata": {
    "ExecuteTime": {
     "end_time": "2020-07-15T09:13:10.477217Z",
     "start_time": "2020-07-15T09:13:10.464617Z"
    }
   },
   "outputs": [],
   "source": [
    "Data['持有时长'] = (Data.index - Data.index[0]).days\n",
    "\n",
    "# 计算十年国债\n",
    "Data['10年国债价格指数'] = 100 - (Data['十年国债收益率'] - 3.0) * 8.2 + 3.0 * Data['持有时长'] / 365.0\n",
    "Data['10年国债价格指数'] = Data['10年国债价格指数'].fillna(method='ffill')\n",
    "\n",
    "#计算十年美债\n",
    "Data['10年美债价格指数'] = 100 - (Data['十年美债收益率'] - 3.0) * 8.2 + 3.0 * Data['持有时长'] / 365.0\n",
    "Data['10年美债价格指数'] = Data['10年美债价格指数'].fillna(method='ffill')"
   ]
  },
  {
   "cell_type": "code",
   "execution_count": null,
   "metadata": {
    "ExecuteTime": {
     "end_time": "2020-07-15T09:13:11.008441Z",
     "start_time": "2020-07-15T09:13:11.002697Z"
    }
   },
   "outputs": [],
   "source": [
    "# 利用自制10年国债价格指数，替换上证10年国债\n",
    "Assets['中国10年国债'] = Data['10年国债价格指数'].values\n",
    "Assets['美国10年国债'] = Data['10年美债价格指数'].values\n",
    "Assets = Assets.drop('上证10年国债', axis=1)"
   ]
  },
  {
   "cell_type": "code",
   "execution_count": null,
   "metadata": {
    "ExecuteTime": {
     "end_time": "2020-07-15T09:13:12.623091Z",
     "start_time": "2020-07-15T09:13:12.603903Z"
    }
   },
   "outputs": [],
   "source": [
    "Data"
   ]
  },
  {
   "cell_type": "code",
   "execution_count": null,
   "metadata": {
    "ExecuteTime": {
     "end_time": "2020-07-15T09:15:01.349783Z",
     "start_time": "2020-07-15T09:15:01.343309Z"
    }
   },
   "outputs": [],
   "source": [
    "# 皮尔逊相关系数\n",
    "np.corrcoef(Data['美元汇率'][1:-1].values.astype(np.float32), Data['10年国债价格指数'][1:-1].values.astype(np.float32))"
   ]
  },
  {
   "cell_type": "markdown",
   "metadata": {},
   "source": [
    "## 计算各资产收益率"
   ]
  },
  {
   "cell_type": "code",
   "execution_count": null,
   "metadata": {
    "ExecuteTime": {
     "end_time": "2020-07-15T09:13:45.014311Z",
     "start_time": "2020-07-15T09:13:45.011113Z"
    }
   },
   "outputs": [],
   "source": [
    "# 去掉没有10年国债数据的日期\n",
    "Assets = Assets[:-10]"
   ]
  },
  {
   "cell_type": "code",
   "execution_count": null,
   "metadata": {
    "ExecuteTime": {
     "end_time": "2020-07-15T09:13:52.984467Z",
     "start_time": "2020-07-15T09:13:52.968847Z"
    }
   },
   "outputs": [],
   "source": [
    "Assets"
   ]
  },
  {
   "cell_type": "markdown",
   "metadata": {},
   "source": [
    "### 日内损益\n",
    "\n",
    "- 去除WTI原油期货\n",
    "- 去除COMEX铜期货\n",
    "- 去除铁矿石期货"
   ]
  },
  {
   "cell_type": "code",
   "execution_count": null,
   "metadata": {
    "ExecuteTime": {
     "end_time": "2020-07-14T06:30:44.219283Z",
     "start_time": "2020-07-14T06:30:44.202791Z"
    }
   },
   "outputs": [],
   "source": [
    "Returns = Assets.pct_change(axis=0)\n",
    "Returns = Returns.dropna(axis=0, how='all')           # 删除无数据日"
   ]
  },
  {
   "cell_type": "code",
   "execution_count": null,
   "metadata": {
    "ExecuteTime": {
     "end_time": "2020-07-14T06:30:44.227520Z",
     "start_time": "2020-07-14T06:30:44.221569Z"
    }
   },
   "outputs": [],
   "source": [
    "Returns = Returns.drop('中信证券WTI原油期货', axis=1)\n",
    "Returns = Returns.drop('中信证券COMEX铜期货', axis=1)\n",
    "Returns = Returns.drop('中信证券铁矿石', axis=1)"
   ]
  },
  {
   "cell_type": "markdown",
   "metadata": {},
   "source": [
    "### 累计损益"
   ]
  },
  {
   "cell_type": "code",
   "execution_count": null,
   "metadata": {
    "ExecuteTime": {
     "end_time": "2020-07-14T06:30:44.239001Z",
     "start_time": "2020-07-14T06:30:44.230834Z"
    }
   },
   "outputs": [],
   "source": [
    "cumReturns = (1.0 + Returns)\n",
    "cumReturns = cumReturns.fillna(1.0)                    # 填充空值\n",
    "cumReturns = cumReturns.cumprod()                      # 计算各资产累计收益率"
   ]
  },
  {
   "cell_type": "code",
   "execution_count": null,
   "metadata": {
    "ExecuteTime": {
     "end_time": "2020-07-15T04:13:39.300875Z",
     "start_time": "2020-07-15T04:13:39.014455Z"
    }
   },
   "outputs": [],
   "source": [
    "cumReturns.plot(figsize=(16, 6))"
   ]
  },
  {
   "cell_type": "markdown",
   "metadata": {},
   "source": [
    "### 杠杆调整后的债券净值"
   ]
  },
  {
   "cell_type": "code",
   "execution_count": null,
   "metadata": {
    "ExecuteTime": {
     "end_time": "2020-07-14T06:30:44.593416Z",
     "start_time": "2020-07-14T06:30:44.573840Z"
    }
   },
   "outputs": [],
   "source": [
    "lever = 2.0                                 # 杠杆\n",
    "leverReturns = Returns.copy()               # 创建副本 \n",
    "leverCumReturns = cumReturns.copy()   \n",
    "\n",
    "# 更新杠杆调整后的债券净值\n",
    "leverReturns.loc[:, ['中国10年国债', '信用债3-5AAA']] = Returns.loc[:, ['中国10年国债', '信用债3-5AAA']] * (1.0 + lever) - Rates.values * lever / (365.0 * 100)\n",
    "\n",
    "# 更新累计净值\n",
    "leverCumReturns = (1.0 + leverReturns)\n",
    "leverCumReturns = leverCumReturns.fillna(1.0)                    # 填充空值\n",
    "leverCumReturns = leverCumReturns.cumprod()                      # 计算各资产累计收益率"
   ]
  },
  {
   "cell_type": "code",
   "execution_count": null,
   "metadata": {
    "ExecuteTime": {
     "end_time": "2020-07-14T06:30:44.606204Z",
     "start_time": "2020-07-14T06:30:44.595230Z"
    }
   },
   "outputs": [],
   "source": [
    "leverCumReturns.tail()"
   ]
  },
  {
   "cell_type": "markdown",
   "metadata": {},
   "source": [
    "# 风险平价 + 杠杆策略（指数权重EMA）"
   ]
  },
  {
   "cell_type": "markdown",
   "metadata": {},
   "source": [
    "## 程序运行"
   ]
  },
  {
   "cell_type": "code",
   "execution_count": null,
   "metadata": {
    "ExecuteTime": {
     "end_time": "2020-07-14T06:31:54.091374Z",
     "start_time": "2020-07-14T06:30:44.608380Z"
    }
   },
   "outputs": [],
   "source": [
    "tradeDF, weightDF = AlgoLoop.AlgoTrade(Assets, leverReturns, leverCumReturns, Turnovers, mode='ema')"
   ]
  },
  {
   "cell_type": "code",
   "execution_count": null,
   "metadata": {
    "ExecuteTime": {
     "end_time": "2020-07-14T06:31:54.712708Z",
     "start_time": "2020-07-14T06:31:54.093239Z"
    }
   },
   "outputs": [],
   "source": [
    "StatisticFunc.WeightPlot(tradeDF, weightDF, '杠杆+指数平均D')"
   ]
  },
  {
   "cell_type": "markdown",
   "metadata": {},
   "source": [
    "## 回测表现汇总"
   ]
  },
  {
   "cell_type": "code",
   "execution_count": null,
   "metadata": {
    "ExecuteTime": {
     "end_time": "2020-07-14T06:31:54.978090Z",
     "start_time": "2020-07-14T06:31:54.714348Z"
    }
   },
   "outputs": [],
   "source": [
    "# 表现汇总\n",
    "years = np.unique(tradeDF.reset_index()['日期'].apply(lambda x:str(x)[:4])) \n",
    "\n",
    "SummaryDF = pd.DataFrame(index=years)\n",
    "\n",
    "SummaryDF[\"年收益率\"] = StatisticFunc.AnnualReturns( pd.DataFrame(tradeDF['投资组合净值']) )\n",
    "SummaryDF[\"年波动率\"] = StatisticFunc.AnnualVolatility(pd.DataFrame(tradeDF['投资组合净值'])).values\n",
    "SummaryDF[\"无基准夏普比率\"] = SummaryDF['年收益率'] / SummaryDF['年波动率']\n",
    "SummaryDF[\"最大回撤\"] = StatisticFunc.AnnualMaxDrawdown(pd.DataFrame(tradeDF['最大回撤'])).values\n",
    "\n",
    "SummaryDF"
   ]
  },
  {
   "cell_type": "markdown",
   "metadata": {},
   "source": [
    "## 收益率贡献度"
   ]
  },
  {
   "cell_type": "code",
   "execution_count": null,
   "metadata": {
    "ExecuteTime": {
     "end_time": "2020-07-14T06:31:55.031146Z",
     "start_time": "2020-07-14T06:31:54.984630Z"
    },
    "scrolled": true
   },
   "outputs": [],
   "source": [
    "annualContrb = StatisticFunc.AnnualContribution(tradeDF=tradeDF, weightDF=weightDF, assetDF=leverCumReturns)"
   ]
  },
  {
   "cell_type": "code",
   "execution_count": null,
   "metadata": {
    "ExecuteTime": {
     "end_time": "2020-07-14T06:31:57.484750Z",
     "start_time": "2020-07-14T06:31:55.035016Z"
    }
   },
   "outputs": [],
   "source": [
    "StatisticFunc.BarPlot(annualContrb, '杠杆+指数平均D')"
   ]
  },
  {
   "cell_type": "markdown",
   "metadata": {},
   "source": [
    "## 投资组合净值曲线"
   ]
  },
  {
   "cell_type": "code",
   "execution_count": null,
   "metadata": {
    "ExecuteTime": {
     "end_time": "2020-07-15T04:15:29.647292Z",
     "start_time": "2020-07-15T04:15:29.291850Z"
    },
    "scrolled": false
   },
   "outputs": [],
   "source": [
    "fig = plt.figure(figsize=(16, 8))\n",
    "\n",
    "plt.plot(tradeDF.index, tradeDF['投资组合净值']/10000, label='每120个交易日调仓')\n",
    "    \n",
    "plt.plot(cumReturns.index, cumReturns['中证500'], label='中证500')\n",
    "plt.plot(cumReturns.index, cumReturns['标普500'], label='标普500')\n",
    "plt.plot(cumReturns.index, cumReturns['中国10年国债'], label='中国10年国债')\n",
    "plt.plot(cumReturns.index, cumReturns['美国10年国债'], label='美国10年国债')\n",
    "\n",
    "plt.xlabel('时间')\n",
    "plt.ylabel('净值')\n",
    "plt.ylim(0.0, 3.0)\n",
    "plt.legend(loc='upper left')\n",
    "plt.title('净值曲线（杠杆，指数平均）')\n",
    "plt.savefig('净值曲线（杠杆，指数平均）D.png')"
   ]
  },
  {
   "cell_type": "markdown",
   "metadata": {},
   "source": [
    "# 风险平价 + 杠杆 + 多因子策略（指数平均）"
   ]
  },
  {
   "cell_type": "markdown",
   "metadata": {},
   "source": [
    "## 基准组合（多因子）"
   ]
  },
  {
   "cell_type": "markdown",
   "metadata": {},
   "source": [
    "### 程序运行"
   ]
  },
  {
   "cell_type": "code",
   "execution_count": null,
   "metadata": {
    "ExecuteTime": {
     "end_time": "2020-07-14T06:33:14.457885Z",
     "start_time": "2020-07-14T06:31:57.848326Z"
    }
   },
   "outputs": [],
   "source": [
    "thrds = {'Equity':0.50, 'FixedIncome':0.90, 'Commodity':0.30}\n",
    "factors = {'momentumX':True, 'momentumT':False, \n",
    "            'reverseX':False, 'reverseT':False,\n",
    "            'turnover':True, \n",
    "            'copperGold':True, 'copperGas':True}\n",
    "\n",
    "tradeDF_multi, weightDF_multi = AlgoLoop.AlgoTrade(Assets, leverReturns, leverCumReturns, Turnovers, mode='ema', \n",
    "                                       dt=120, up=0.50, thresholds=thrds, factorDict=factors)"
   ]
  },
  {
   "cell_type": "code",
   "execution_count": null,
   "metadata": {
    "ExecuteTime": {
     "end_time": "2020-07-14T06:33:15.100642Z",
     "start_time": "2020-07-14T06:33:14.459900Z"
    }
   },
   "outputs": [],
   "source": [
    "StatisticFunc.WeightPlot(tradeDF_multi, weightDF_multi, '横截面动量+时序动量+换手率+铜金+铜油D')"
   ]
  },
  {
   "cell_type": "markdown",
   "metadata": {},
   "source": [
    "### 回测表现汇总"
   ]
  },
  {
   "cell_type": "code",
   "execution_count": null,
   "metadata": {
    "ExecuteTime": {
     "end_time": "2020-07-14T06:33:15.335216Z",
     "start_time": "2020-07-14T06:33:15.103091Z"
    }
   },
   "outputs": [],
   "source": [
    "# 表现汇总\n",
    "years = np.unique(tradeDF_multi.reset_index()['日期'].apply(lambda x:str(x)[:4])) \n",
    "\n",
    "SummaryDF_multi = pd.DataFrame(index=years)\n",
    "\n",
    "SummaryDF_multi[\"年收益率\"] = StatisticFunc.AnnualReturns( pd.DataFrame(tradeDF_multi['投资组合净值']) )\n",
    "SummaryDF_multi[\"年波动率\"] = StatisticFunc.AnnualVolatility(pd.DataFrame(tradeDF_multi['投资组合净值'])).values\n",
    "SummaryDF_multi[\"无基准夏普比率\"] = SummaryDF_multi['年收益率'] / SummaryDF_multi['年波动率']\n",
    "SummaryDF_multi[\"最大回撤\"] = StatisticFunc.AnnualMaxDrawdown(pd.DataFrame(tradeDF_multi['最大回撤'])).values\n",
    "\n",
    "SummaryDF_multi"
   ]
  },
  {
   "cell_type": "markdown",
   "metadata": {},
   "source": [
    "### 收益率贡献度"
   ]
  },
  {
   "cell_type": "code",
   "execution_count": null,
   "metadata": {
    "ExecuteTime": {
     "end_time": "2020-07-14T06:33:15.384001Z",
     "start_time": "2020-07-14T06:33:15.337065Z"
    },
    "scrolled": true
   },
   "outputs": [],
   "source": [
    "annualContrb_multi = StatisticFunc.AnnualContribution(tradeDF=tradeDF_multi, \n",
    "                                                      weightDF=weightDF_multi, \n",
    "                                                      assetDF=leverCumReturns)"
   ]
  },
  {
   "cell_type": "code",
   "execution_count": null,
   "metadata": {
    "ExecuteTime": {
     "end_time": "2020-07-14T06:33:17.835487Z",
     "start_time": "2020-07-14T06:33:15.385690Z"
    }
   },
   "outputs": [],
   "source": [
    "StatisticFunc.BarPlot(annualContrb_multi, '横截面动量+时序动量+换手率+铜金+铜油D')"
   ]
  },
  {
   "cell_type": "markdown",
   "metadata": {},
   "source": [
    "### 投资组合净值曲线"
   ]
  },
  {
   "cell_type": "code",
   "execution_count": null,
   "metadata": {
    "ExecuteTime": {
     "end_time": "2020-07-15T04:15:18.957115Z",
     "start_time": "2020-07-15T04:15:18.557472Z"
    },
    "scrolled": false
   },
   "outputs": [],
   "source": [
    "fig = plt.figure(figsize=(16, 8))\n",
    "\n",
    "plt.plot(tradeDF_multi.index, tradeDF_multi['投资组合净值']/10000, label='横截面动量+时序动量+换手率+铜金+铜油')\n",
    "    \n",
    "plt.plot(cumReturns.index, cumReturns['中证500'], label='中证500')\n",
    "plt.plot(cumReturns.index, cumReturns['标普500'], label='标普500')\n",
    "plt.plot(cumReturns.index, cumReturns['中国10年国债'], label='中国10年国债')\n",
    "plt.plot(cumReturns.index, cumReturns['美国10年国债'], label='美国10年国债')\n",
    "\n",
    "\n",
    "plt.xlabel('时间')\n",
    "plt.ylabel('净值')\n",
    "plt.ylim(0.0, 5.0)\n",
    "plt.legend(loc='upper left')\n",
    "plt.title('净值曲线（横截面动量+时序动量+换手率+铜金+铜油）')\n",
    "plt.savefig('净值曲线（横截面动量+时序动量+换手率+铜金+铜油）D.png')"
   ]
  },
  {
   "cell_type": "markdown",
   "metadata": {},
   "source": [
    "## 换手率"
   ]
  },
  {
   "cell_type": "markdown",
   "metadata": {},
   "source": [
    "### 程序运行"
   ]
  },
  {
   "cell_type": "code",
   "execution_count": null,
   "metadata": {
    "ExecuteTime": {
     "end_time": "2020-07-14T06:34:33.666103Z",
     "start_time": "2020-07-14T06:33:18.130281Z"
    }
   },
   "outputs": [],
   "source": [
    "thrds = {'Equity':0.50, 'FixedIncome':0.90, 'Commodity':0.30}\n",
    "factors = {'momentumX':False, 'momentumT':False, \n",
    "            'reverseX':False, 'reverseT':False,\n",
    "            'turnover':True, \n",
    "            'copperGold':False, 'copperGas':False}\n",
    "\n",
    "tradeDF_1, weightDF_1 = AlgoLoop.AlgoTrade(Assets, leverReturns, leverCumReturns, Turnovers, mode='ema', \n",
    "                                       dt=120, up=0.50, thresholds=thrds, factorDict=factors)"
   ]
  },
  {
   "cell_type": "code",
   "execution_count": null,
   "metadata": {
    "ExecuteTime": {
     "end_time": "2020-07-14T06:34:34.293194Z",
     "start_time": "2020-07-14T06:34:33.668214Z"
    }
   },
   "outputs": [],
   "source": [
    "StatisticFunc.WeightPlot(tradeDF_1, weightDF_1, '换手率D')"
   ]
  },
  {
   "cell_type": "markdown",
   "metadata": {},
   "source": [
    "### 回测表现汇总"
   ]
  },
  {
   "cell_type": "code",
   "execution_count": null,
   "metadata": {
    "ExecuteTime": {
     "end_time": "2020-07-14T06:34:34.526866Z",
     "start_time": "2020-07-14T06:34:34.295107Z"
    }
   },
   "outputs": [],
   "source": [
    "# 表现汇总\n",
    "years = np.unique(tradeDF_1.reset_index()['日期'].apply(lambda x:str(x)[:4])) \n",
    "\n",
    "SummaryDF_1 = pd.DataFrame(index=years)\n",
    "\n",
    "SummaryDF_1[\"年收益率\"] = StatisticFunc.AnnualReturns( pd.DataFrame(tradeDF_1['投资组合净值']) )\n",
    "SummaryDF_1[\"年波动率\"] = StatisticFunc.AnnualVolatility(pd.DataFrame(tradeDF_1['投资组合净值'])).values\n",
    "SummaryDF_1[\"无基准夏普比率\"] = SummaryDF_1['年收益率'] / SummaryDF_1['年波动率']\n",
    "SummaryDF_1[\"最大回撤\"] = StatisticFunc.AnnualMaxDrawdown(pd.DataFrame(tradeDF_1['最大回撤'])).values\n",
    "\n",
    "SummaryDF_1"
   ]
  },
  {
   "cell_type": "markdown",
   "metadata": {},
   "source": [
    "### 收益率贡献度"
   ]
  },
  {
   "cell_type": "code",
   "execution_count": null,
   "metadata": {
    "ExecuteTime": {
     "end_time": "2020-07-14T06:34:34.576193Z",
     "start_time": "2020-07-14T06:34:34.529558Z"
    },
    "scrolled": true
   },
   "outputs": [],
   "source": [
    "annualContrb_1 = StatisticFunc.AnnualContribution(tradeDF=tradeDF_1, weightDF=weightDF_1, assetDF=leverCumReturns)"
   ]
  },
  {
   "cell_type": "code",
   "execution_count": null,
   "metadata": {
    "ExecuteTime": {
     "end_time": "2020-07-14T06:34:37.027472Z",
     "start_time": "2020-07-14T06:34:34.578231Z"
    }
   },
   "outputs": [],
   "source": [
    "StatisticFunc.BarPlot(annualContrb_1, '换手率D')"
   ]
  },
  {
   "cell_type": "markdown",
   "metadata": {},
   "source": [
    "### 投资组合净值曲线"
   ]
  },
  {
   "cell_type": "code",
   "execution_count": null,
   "metadata": {
    "ExecuteTime": {
     "end_time": "2020-07-15T03:11:34.120469Z",
     "start_time": "2020-07-15T03:11:33.774639Z"
    },
    "scrolled": false
   },
   "outputs": [],
   "source": [
    "fig = plt.figure(figsize=(16, 8))\n",
    "\n",
    "plt.plot(tradeDF_1.index, tradeDF_1['投资组合净值']/10000, label='时序动量+换手率+铜金+铜油')\n",
    "\n",
    "# 基准参考\n",
    "plt.plot(tradeDF_multi.index, tradeDF_multi['投资组合净值']/10000, ls='--', label='五因子基准组合')    \n",
    "plt.plot(cumReturns.index, cumReturns['中证500'], label='中证500')\n",
    "plt.plot(cumReturns.index, cumReturns['中国10年国债'], label='中国10年国债')\n",
    "plt.plot(cumReturns.index, cumReturns['美国10年国债'], label='美国10年国债')\n",
    "\n",
    "plt.xlabel('时间')\n",
    "plt.ylabel('净值')\n",
    "plt.ylim(0.0, 5.0)\n",
    "plt.legend(loc='upper left')\n",
    "plt.title('净值曲线（换手率）')\n",
    "plt.savefig('净值曲线（换手率）D.png')"
   ]
  },
  {
   "cell_type": "markdown",
   "metadata": {},
   "source": [
    "## 横截面动量"
   ]
  },
  {
   "cell_type": "markdown",
   "metadata": {},
   "source": [
    "### 程序运行"
   ]
  },
  {
   "cell_type": "code",
   "execution_count": null,
   "metadata": {
    "ExecuteTime": {
     "end_time": "2020-07-14T06:35:52.399217Z",
     "start_time": "2020-07-14T06:34:37.332458Z"
    }
   },
   "outputs": [],
   "source": [
    "thrds = {'Equity':0.50, 'FixedIncome':0.90, 'Commodity':0.30}\n",
    "factors = {'momentumX':True, 'momentumT':False, \n",
    "            'reverseX':False, 'reverseT':False,\n",
    "            'turnover':False, \n",
    "            'copperGold':False, 'copperGas':False}\n",
    "\n",
    "tradeDF_2, weightDF_2 = AlgoLoop.AlgoTrade(Assets, leverReturns, leverCumReturns, Turnovers, mode='ema', \n",
    "                                       dt=120, up=0.50, thresholds=thrds, factorDict=factors)"
   ]
  },
  {
   "cell_type": "code",
   "execution_count": null,
   "metadata": {
    "ExecuteTime": {
     "end_time": "2020-07-14T06:35:53.020266Z",
     "start_time": "2020-07-14T06:35:52.401318Z"
    }
   },
   "outputs": [],
   "source": [
    "StatisticFunc.WeightPlot(tradeDF_2, weightDF_2, '横截面动量D')"
   ]
  },
  {
   "cell_type": "markdown",
   "metadata": {},
   "source": [
    "### 回测表现汇总"
   ]
  },
  {
   "cell_type": "code",
   "execution_count": null,
   "metadata": {
    "ExecuteTime": {
     "end_time": "2020-07-14T06:35:53.313552Z",
     "start_time": "2020-07-14T06:35:53.022284Z"
    }
   },
   "outputs": [],
   "source": [
    "# 表现汇总\n",
    "years = np.unique(tradeDF_2.reset_index()['日期'].apply(lambda x:str(x)[:4])) \n",
    "\n",
    "SummaryDF_2 = pd.DataFrame(index=years)\n",
    "\n",
    "SummaryDF_2[\"年收益率\"] = StatisticFunc.AnnualReturns( pd.DataFrame(tradeDF_2['投资组合净值']) )\n",
    "SummaryDF_2[\"年波动率\"] = StatisticFunc.AnnualVolatility(pd.DataFrame(tradeDF_2['投资组合净值'])).values\n",
    "SummaryDF_2[\"无基准夏普比率\"] = SummaryDF_2['年收益率'] / SummaryDF_2['年波动率']\n",
    "SummaryDF_2[\"最大回撤\"] = StatisticFunc.AnnualMaxDrawdown(pd.DataFrame(tradeDF_2['最大回撤'])).values\n",
    "\n",
    "SummaryDF_2"
   ]
  },
  {
   "cell_type": "markdown",
   "metadata": {},
   "source": [
    "### 收益率贡献度"
   ]
  },
  {
   "cell_type": "code",
   "execution_count": null,
   "metadata": {
    "ExecuteTime": {
     "end_time": "2020-07-14T06:35:53.361571Z",
     "start_time": "2020-07-14T06:35:53.315512Z"
    },
    "scrolled": true
   },
   "outputs": [],
   "source": [
    "annualContrb_2 = StatisticFunc.AnnualContribution(tradeDF=tradeDF_2, weightDF=weightDF_2, assetDF=leverCumReturns)"
   ]
  },
  {
   "cell_type": "code",
   "execution_count": null,
   "metadata": {
    "ExecuteTime": {
     "end_time": "2020-07-14T06:35:55.783543Z",
     "start_time": "2020-07-14T06:35:53.363525Z"
    }
   },
   "outputs": [],
   "source": [
    "StatisticFunc.BarPlot(annualContrb_2, '横截面动量D')"
   ]
  },
  {
   "cell_type": "markdown",
   "metadata": {},
   "source": [
    "### 投资组合净值曲线"
   ]
  },
  {
   "cell_type": "code",
   "execution_count": null,
   "metadata": {
    "ExecuteTime": {
     "end_time": "2020-07-15T03:11:41.974647Z",
     "start_time": "2020-07-15T03:11:41.643439Z"
    },
    "scrolled": false
   },
   "outputs": [],
   "source": [
    "fig = plt.figure(figsize=(16, 8))\n",
    "\n",
    "plt.plot(tradeDF_2.index, tradeDF_2['投资组合净值']/10000, label='横截面动量+换手率+铜金+铜油')\n",
    "        \n",
    "# 基准参考\n",
    "plt.plot(tradeDF_multi.index, tradeDF_multi['投资组合净值']/10000, ls='--', label='五因子基准组合')  \n",
    "plt.plot(cumReturns.index, cumReturns['中证500'], label='中证500')\n",
    "plt.plot(cumReturns.index, cumReturns['中国10年国债'], label='中国10年国债')\n",
    "plt.plot(cumReturns.index, cumReturns['美国10年国债'], label='美国10年国债')\n",
    "\n",
    "plt.xlabel('时间')\n",
    "plt.ylabel('净值')\n",
    "plt.ylim(0.0, 5.0)\n",
    "plt.legend(loc='upper left')\n",
    "plt.title('净值曲线（横截面动量）')\n",
    "plt.savefig('净值曲线（横截面动量）D.png')"
   ]
  },
  {
   "cell_type": "markdown",
   "metadata": {},
   "source": [
    "## 时序动量"
   ]
  },
  {
   "cell_type": "markdown",
   "metadata": {},
   "source": [
    "### 程序运行"
   ]
  },
  {
   "cell_type": "code",
   "execution_count": null,
   "metadata": {
    "ExecuteTime": {
     "end_time": "2020-07-14T06:37:14.769122Z",
     "start_time": "2020-07-14T06:35:56.137271Z"
    }
   },
   "outputs": [],
   "source": [
    "thrds = {'Equity':0.50, 'FixedIncome':0.90, 'Commodity':0.30}\n",
    "factors = {'momentumX':False, 'momentumT':True, \n",
    "            'reverseX':False, 'reverseT':False,\n",
    "            'turnover':False, \n",
    "            'copperGold':False, 'copperGas':False}\n",
    "\n",
    "tradeDF_3, weightDF_3 = AlgoLoop.AlgoTrade(Assets, leverReturns, leverCumReturns, Turnovers, mode='ema', \n",
    "                                       dt=120, up=0.50, thresholds=thrds, factorDict=factors)"
   ]
  },
  {
   "cell_type": "code",
   "execution_count": null,
   "metadata": {
    "ExecuteTime": {
     "end_time": "2020-07-14T06:37:15.389342Z",
     "start_time": "2020-07-14T06:37:14.770870Z"
    }
   },
   "outputs": [],
   "source": [
    "StatisticFunc.WeightPlot(tradeDF_3, weightDF_3, '时序动量D')"
   ]
  },
  {
   "cell_type": "markdown",
   "metadata": {},
   "source": [
    "### 回测表现汇总"
   ]
  },
  {
   "cell_type": "code",
   "execution_count": null,
   "metadata": {
    "ExecuteTime": {
     "end_time": "2020-07-14T06:37:15.613378Z",
     "start_time": "2020-07-14T06:37:15.391401Z"
    }
   },
   "outputs": [],
   "source": [
    "# 表现汇总\n",
    "years = np.unique(tradeDF_3.reset_index()['日期'].apply(lambda x:str(x)[:4])) \n",
    "\n",
    "SummaryDF_3 = pd.DataFrame(index=years)\n",
    "\n",
    "SummaryDF_3[\"年收益率\"] = StatisticFunc.AnnualReturns( pd.DataFrame(tradeDF_3['投资组合净值']) )\n",
    "SummaryDF_3[\"年波动率\"] = StatisticFunc.AnnualVolatility(pd.DataFrame(tradeDF_3['投资组合净值'])).values\n",
    "SummaryDF_3[\"无基准夏普比率\"] = SummaryDF_3['年收益率'] / SummaryDF_3['年波动率']\n",
    "SummaryDF_3[\"最大回撤\"] = StatisticFunc.AnnualMaxDrawdown(pd.DataFrame(tradeDF_3['最大回撤'])).values\n",
    "\n",
    "SummaryDF_3"
   ]
  },
  {
   "cell_type": "markdown",
   "metadata": {},
   "source": [
    "### 收益率贡献度"
   ]
  },
  {
   "cell_type": "code",
   "execution_count": null,
   "metadata": {
    "ExecuteTime": {
     "end_time": "2020-07-14T06:37:15.662137Z",
     "start_time": "2020-07-14T06:37:15.615784Z"
    },
    "scrolled": true
   },
   "outputs": [],
   "source": [
    "annualContrb_3 = StatisticFunc.AnnualContribution(tradeDF=tradeDF_3, weightDF=weightDF_3, assetDF=leverCumReturns)"
   ]
  },
  {
   "cell_type": "code",
   "execution_count": null,
   "metadata": {
    "ExecuteTime": {
     "end_time": "2020-07-14T06:37:18.024871Z",
     "start_time": "2020-07-14T06:37:15.663905Z"
    }
   },
   "outputs": [],
   "source": [
    "StatisticFunc.BarPlot(annualContrb_3, '时序动量D')"
   ]
  },
  {
   "cell_type": "markdown",
   "metadata": {},
   "source": [
    "### 投资组合净值曲线"
   ]
  },
  {
   "cell_type": "code",
   "execution_count": null,
   "metadata": {
    "ExecuteTime": {
     "end_time": "2020-07-15T03:11:47.347493Z",
     "start_time": "2020-07-15T03:11:47.014405Z"
    },
    "scrolled": false
   },
   "outputs": [],
   "source": [
    "fig = plt.figure(figsize=(16, 8))\n",
    "\n",
    "plt.plot(tradeDF_3.index, tradeDF_3['投资组合净值']/10000, label='横截面动量+时序动量+铜金+铜油')\n",
    "    \n",
    "# 基准参考\n",
    "plt.plot(tradeDF_multi.index, tradeDF_multi['投资组合净值']/10000, ls='--', label='五因子基准组合')  \n",
    "plt.plot(cumReturns.index, cumReturns['中证500'], label='中证500')\n",
    "plt.plot(cumReturns.index, cumReturns['中国10年国债'], label='中国10年国债')\n",
    "plt.plot(cumReturns.index, cumReturns['美国10年国债'], label='美国10年国债')\n",
    "\n",
    "plt.xlabel('时间')\n",
    "plt.ylabel('净值')\n",
    "plt.ylim(0.0, 5.0)\n",
    "plt.legend(loc='upper left')\n",
    "plt.title('净值曲线（时序动量）')\n",
    "plt.savefig('净值曲线（时序动量）D.png')"
   ]
  },
  {
   "cell_type": "markdown",
   "metadata": {},
   "source": [
    "## 铜金"
   ]
  },
  {
   "cell_type": "markdown",
   "metadata": {},
   "source": [
    "### 程序运行"
   ]
  },
  {
   "cell_type": "code",
   "execution_count": null,
   "metadata": {
    "ExecuteTime": {
     "end_time": "2020-07-14T06:38:33.151810Z",
     "start_time": "2020-07-14T06:37:18.317834Z"
    }
   },
   "outputs": [],
   "source": [
    "thrds = {'Equity':0.50, 'FixedIncome':0.90, 'Commodity':0.30}\n",
    "factors = {'momentumX':False, 'momentumT':False, \n",
    "            'reverseX':False, 'reverseT':False,\n",
    "            'turnover':False, \n",
    "            'copperGold':True, 'copperGas':False}\n",
    "\n",
    "tradeDF_4, weightDF_4 = AlgoLoop.AlgoTrade(Assets, leverReturns, leverCumReturns, Turnovers, mode='ema', \n",
    "                                       dt=120, up=0.50, thresholds=thrds, factorDict=factors)"
   ]
  },
  {
   "cell_type": "code",
   "execution_count": null,
   "metadata": {
    "ExecuteTime": {
     "end_time": "2020-07-14T06:38:33.777784Z",
     "start_time": "2020-07-14T06:38:33.154364Z"
    }
   },
   "outputs": [],
   "source": [
    "StatisticFunc.WeightPlot(tradeDF_4, weightDF_4, '铜金比D')"
   ]
  },
  {
   "cell_type": "markdown",
   "metadata": {},
   "source": [
    "### 回测表现汇总"
   ]
  },
  {
   "cell_type": "code",
   "execution_count": null,
   "metadata": {
    "ExecuteTime": {
     "end_time": "2020-07-14T06:38:34.005802Z",
     "start_time": "2020-07-14T06:38:33.779794Z"
    }
   },
   "outputs": [],
   "source": [
    "# 表现汇总\n",
    "years = np.unique(tradeDF_4.reset_index()['日期'].apply(lambda x:str(x)[:4])) \n",
    "\n",
    "SummaryDF_4 = pd.DataFrame(index=years)\n",
    "\n",
    "SummaryDF_4[\"年收益率\"] = StatisticFunc.AnnualReturns( pd.DataFrame(tradeDF_4['投资组合净值']) )\n",
    "SummaryDF_4[\"年波动率\"] = StatisticFunc.AnnualVolatility(pd.DataFrame(tradeDF_4['投资组合净值'])).values\n",
    "SummaryDF_4[\"无基准夏普比率\"] = SummaryDF_4['年收益率'] / SummaryDF_4['年波动率']\n",
    "SummaryDF_4[\"最大回撤\"] = StatisticFunc.AnnualMaxDrawdown(pd.DataFrame(tradeDF_4['最大回撤'])).values\n",
    "\n",
    "SummaryDF_4"
   ]
  },
  {
   "cell_type": "markdown",
   "metadata": {},
   "source": [
    "### 收益率贡献度"
   ]
  },
  {
   "cell_type": "code",
   "execution_count": null,
   "metadata": {
    "ExecuteTime": {
     "end_time": "2020-07-14T06:38:34.054134Z",
     "start_time": "2020-07-14T06:38:34.008102Z"
    },
    "scrolled": true
   },
   "outputs": [],
   "source": [
    "annualContrb_4 = StatisticFunc.AnnualContribution(tradeDF=tradeDF_4, weightDF=weightDF_4, assetDF=leverCumReturns)"
   ]
  },
  {
   "cell_type": "code",
   "execution_count": null,
   "metadata": {
    "ExecuteTime": {
     "end_time": "2020-07-14T06:38:36.502240Z",
     "start_time": "2020-07-14T06:38:34.055764Z"
    }
   },
   "outputs": [],
   "source": [
    "StatisticFunc.BarPlot(annualContrb_4, '铜金比D')"
   ]
  },
  {
   "cell_type": "markdown",
   "metadata": {},
   "source": [
    "### 投资组合净值曲线"
   ]
  },
  {
   "cell_type": "code",
   "execution_count": null,
   "metadata": {
    "ExecuteTime": {
     "end_time": "2020-07-15T03:11:51.892679Z",
     "start_time": "2020-07-15T03:11:51.561456Z"
    },
    "scrolled": false
   },
   "outputs": [],
   "source": [
    "fig = plt.figure(figsize=(16, 8))\n",
    "\n",
    "plt.plot(tradeDF_4.index, tradeDF_4['投资组合净值']/10000, label='横截面动量+时序动量+换手率+铜油')\n",
    "    \n",
    "    \n",
    "# 基准参考\n",
    "plt.plot(tradeDF_multi.index, tradeDF_multi['投资组合净值']/10000, ls='--', label='五因子基准组合')  \n",
    "plt.plot(cumReturns.index, cumReturns['中证500'], label='中证500')\n",
    "plt.plot(cumReturns.index, cumReturns['中国10年国债'], label='中国10年国债')\n",
    "plt.plot(cumReturns.index, cumReturns['美国10年国债'], label='美国10年国债')\n",
    "\n",
    "plt.xlabel('时间')\n",
    "plt.ylabel('净值')\n",
    "plt.ylim(0.0, 5.0)\n",
    "plt.legend(loc='upper left')\n",
    "plt.title('净值曲线（铜金比）')\n",
    "plt.savefig('净值曲线（铜金比）D.png')"
   ]
  },
  {
   "cell_type": "markdown",
   "metadata": {},
   "source": [
    "## 铜油"
   ]
  },
  {
   "cell_type": "markdown",
   "metadata": {},
   "source": [
    "### 程序运行"
   ]
  },
  {
   "cell_type": "code",
   "execution_count": null,
   "metadata": {
    "ExecuteTime": {
     "end_time": "2020-07-14T06:39:50.321107Z",
     "start_time": "2020-07-14T06:38:36.808687Z"
    }
   },
   "outputs": [],
   "source": [
    "thrds = {'Equity':0.50, 'FixedIncome':0.90, 'Commodity':0.30}\n",
    "factors = {'momentumX':False, 'momentumT':False, \n",
    "            'reverseX':False, 'reverseT':False,\n",
    "            'turnover':False, \n",
    "            'copperGold':False, 'copperGas':True}\n",
    "\n",
    "tradeDF_5, weightDF_5 = AlgoLoop.AlgoTrade(Assets, leverReturns, leverCumReturns, Turnovers, mode='ema', \n",
    "                                       dt=120, up=0.50, thresholds=thrds, factorDict=factors)"
   ]
  },
  {
   "cell_type": "code",
   "execution_count": null,
   "metadata": {
    "ExecuteTime": {
     "end_time": "2020-07-14T06:39:50.937210Z",
     "start_time": "2020-07-14T06:39:50.323423Z"
    }
   },
   "outputs": [],
   "source": [
    "StatisticFunc.WeightPlot(tradeDF_5, weightDF_5, '铜油比D')"
   ]
  },
  {
   "cell_type": "markdown",
   "metadata": {},
   "source": [
    "### 回测表现汇总"
   ]
  },
  {
   "cell_type": "code",
   "execution_count": null,
   "metadata": {
    "ExecuteTime": {
     "end_time": "2020-07-14T06:39:51.223404Z",
     "start_time": "2020-07-14T06:39:50.939674Z"
    }
   },
   "outputs": [],
   "source": [
    "# 表现汇总\n",
    "years = np.unique(tradeDF_5.reset_index()['日期'].apply(lambda x:str(x)[:4])) \n",
    "\n",
    "SummaryDF_5 = pd.DataFrame(index=years)\n",
    "\n",
    "SummaryDF_5[\"年收益率\"] = StatisticFunc.AnnualReturns( pd.DataFrame(tradeDF_5['投资组合净值']) )\n",
    "SummaryDF_5[\"年波动率\"] = StatisticFunc.AnnualVolatility(pd.DataFrame(tradeDF_5['投资组合净值'])).values\n",
    "SummaryDF_5[\"无基准夏普比率\"] = SummaryDF_5['年收益率'] / SummaryDF_5['年波动率']\n",
    "SummaryDF_5[\"最大回撤\"] = StatisticFunc.AnnualMaxDrawdown(pd.DataFrame(tradeDF_5['最大回撤'])).values\n",
    "\n",
    "SummaryDF_5"
   ]
  },
  {
   "cell_type": "markdown",
   "metadata": {},
   "source": [
    "### 收益率贡献度"
   ]
  },
  {
   "cell_type": "code",
   "execution_count": null,
   "metadata": {
    "ExecuteTime": {
     "end_time": "2020-07-14T06:39:51.272463Z",
     "start_time": "2020-07-14T06:39:51.225630Z"
    },
    "scrolled": true
   },
   "outputs": [],
   "source": [
    "annualContrb_5 = StatisticFunc.AnnualContribution(tradeDF=tradeDF_5, weightDF=weightDF_5, assetDF=leverCumReturns)"
   ]
  },
  {
   "cell_type": "code",
   "execution_count": null,
   "metadata": {
    "ExecuteTime": {
     "end_time": "2020-07-14T06:39:53.620310Z",
     "start_time": "2020-07-14T06:39:51.274016Z"
    }
   },
   "outputs": [],
   "source": [
    "StatisticFunc.BarPlot(annualContrb_5, '铜油比D')"
   ]
  },
  {
   "cell_type": "markdown",
   "metadata": {},
   "source": [
    "### 投资组合净值曲线"
   ]
  },
  {
   "cell_type": "code",
   "execution_count": null,
   "metadata": {
    "ExecuteTime": {
     "end_time": "2020-07-15T03:11:56.663302Z",
     "start_time": "2020-07-15T03:11:56.235814Z"
    },
    "scrolled": false
   },
   "outputs": [],
   "source": [
    "fig = plt.figure(figsize=(16, 8))\n",
    "\n",
    "plt.plot(tradeDF_5.index, tradeDF_5['投资组合净值']/10000, label='横截面动量+时序动量+换手率+铜金')\n",
    "\n",
    "# 基准参考\n",
    "plt.plot(tradeDF_multi.index, tradeDF_multi['投资组合净值']/10000, ls='--', label='五因子基准组合')  \n",
    "plt.plot(cumReturns.index, cumReturns['中证500'], label='中证500')\n",
    "plt.plot(cumReturns.index, cumReturns['中国10年国债'], label='中国10年国债')\n",
    "plt.plot(cumReturns.index, cumReturns['美国10年国债'], label='美国10年国债')\n",
    "\n",
    "plt.xlabel('时间')\n",
    "plt.ylabel('净值')\n",
    "plt.ylim(0.0, 5.0)\n",
    "plt.legend(loc='upper left')\n",
    "plt.title('净值曲线（铜油比）')\n",
    "plt.savefig('净值曲线（铜油比)D.png')"
   ]
  },
  {
   "cell_type": "markdown",
   "metadata": {},
   "source": [
    "# 汇总比较"
   ]
  },
  {
   "cell_type": "code",
   "execution_count": null,
   "metadata": {
    "ExecuteTime": {
     "end_time": "2020-07-14T06:39:54.322189Z",
     "start_time": "2020-07-14T06:39:53.979188Z"
    }
   },
   "outputs": [],
   "source": [
    "fig = plt.figure(figsize=(16, 8))\n",
    "\n",
    "\n",
    "plt.plot(tradeDF.index, tradeDF['投资组合净值']/10000, ls='--', label='五因子基准组合')\n",
    "\n",
    "plt.plot(tradeDF_1.index, tradeDF_1['投资组合净值']/10000, label='换手率')\n",
    "plt.plot(tradeDF_2.index, tradeDF_2['投资组合净值']/10000, label='横截面动量')\n",
    "plt.plot(tradeDF_3.index, tradeDF_3['投资组合净值']/10000, label='时序动量')\n",
    "plt.plot(tradeDF_5.index, tradeDF_4['投资组合净值']/10000, label='铜金')\n",
    "plt.plot(tradeDF_5.index, tradeDF_5['投资组合净值']/10000, label='铜油')\n",
    "\n",
    "\n",
    "plt.xlabel('时间')\n",
    "plt.ylabel('净值')\n",
    "plt.legend(loc='upper left')\n",
    "plt.title('各多因子模型净值曲线')\n",
    "plt.savefig('各多因子模型净值曲线D.png')"
   ]
  },
  {
   "cell_type": "code",
   "execution_count": null,
   "metadata": {},
   "outputs": [],
   "source": []
  }
 ],
 "metadata": {
  "kernelspec": {
   "display_name": "Python 3",
   "language": "python",
   "name": "python3"
  },
  "language_info": {
   "codemirror_mode": {
    "name": "ipython",
    "version": 3
   },
   "file_extension": ".py",
   "mimetype": "text/x-python",
   "name": "python",
   "nbconvert_exporter": "python",
   "pygments_lexer": "ipython3",
   "version": "3.7.7"
  },
  "latex_envs": {
   "LaTeX_envs_menu_present": true,
   "autoclose": false,
   "autocomplete": true,
   "bibliofile": "biblio.bib",
   "cite_by": "apalike",
   "current_citInitial": 1,
   "eqLabelWithNumbers": true,
   "eqNumInitial": 1,
   "hotkeys": {
    "equation": "Ctrl-E",
    "itemize": "Ctrl-I"
   },
   "labels_anchors": false,
   "latex_user_defs": false,
   "report_style_numbering": false,
   "user_envs_cfg": false
  },
  "toc": {
   "base_numbering": 1,
   "nav_menu": {},
   "number_sections": true,
   "sideBar": true,
   "skip_h1_title": false,
   "title_cell": "Table of Contents",
   "title_sidebar": "Contents",
   "toc_cell": false,
   "toc_position": {
    "height": "calc(100% - 180px)",
    "left": "10px",
    "top": "150px",
    "width": "362px"
   },
   "toc_section_display": true,
   "toc_window_display": true
  }
 },
 "nbformat": 4,
 "nbformat_minor": 4
}
