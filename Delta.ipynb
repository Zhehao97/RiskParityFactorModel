{
 "cells": [
  {
   "cell_type": "code",
   "execution_count": 1,
   "metadata": {
    "ExecuteTime": {
     "end_time": "2020-07-10T09:26:59.578478Z",
     "start_time": "2020-07-10T09:26:58.324027Z"
    }
   },
   "outputs": [],
   "source": [
    "import numpy as np\n",
    "import pandas as pd\n",
    "import matplotlib\n",
    "import matplotlib.pyplot as plt\n",
    "import AlgoLoop\n",
    "import StatisticFunc\n",
    "\n",
    "plt.style.use('Solarize_Light2')                     # 绘图风格\n",
    "matplotlib.rcParams['font.sans-serif'] = ['SimHei']  # 字体雅黑\n",
    "matplotlib.rcParams['font.family'] = 'sans-serif'\n",
    "matplotlib.rcParams['axes.unicode_minus'] = False    # 处理负号"
   ]
  },
  {
   "cell_type": "markdown",
   "metadata": {},
   "source": [
    "# 预处理（不考虑WTI原油期货）"
   ]
  },
  {
   "cell_type": "markdown",
   "metadata": {},
   "source": [
    "## 提取并处理数据"
   ]
  },
  {
   "cell_type": "markdown",
   "metadata": {},
   "source": [
    "### 权益类资产换手率"
   ]
  },
  {
   "cell_type": "code",
   "execution_count": 2,
   "metadata": {
    "ExecuteTime": {
     "end_time": "2020-07-10T09:26:59.784588Z",
     "start_time": "2020-07-10T09:26:59.580269Z"
    }
   },
   "outputs": [
    {
     "ename": "FileNotFoundError",
     "evalue": "[Errno 2] No such file or directory: 'Raw/国内资产换手率.xlsx'",
     "output_type": "error",
     "traceback": [
      "\u001b[0;31m---------------------------------------------------------------------------\u001b[0m",
      "\u001b[0;31mFileNotFoundError\u001b[0m                         Traceback (most recent call last)",
      "\u001b[0;32m<ipython-input-2-02d7c18120ac>\u001b[0m in \u001b[0;36m<module>\u001b[0;34m\u001b[0m\n\u001b[0;32m----> 1\u001b[0;31m \u001b[0mTurnovers\u001b[0m \u001b[0;34m=\u001b[0m \u001b[0mpd\u001b[0m\u001b[0;34m.\u001b[0m\u001b[0mread_excel\u001b[0m\u001b[0;34m(\u001b[0m\u001b[0mio\u001b[0m\u001b[0;34m=\u001b[0m\u001b[0;34m\"Raw/国内资产换手率.xlsx\"\u001b[0m\u001b[0;34m)\u001b[0m                      \u001b[0;31m# 读取数据\u001b[0m\u001b[0;34m\u001b[0m\u001b[0;34m\u001b[0m\u001b[0m\n\u001b[0m\u001b[1;32m      2\u001b[0m \u001b[0mTurnovers\u001b[0m \u001b[0;34m=\u001b[0m \u001b[0mTurnovers\u001b[0m\u001b[0;34m.\u001b[0m\u001b[0mdrop\u001b[0m\u001b[0;34m(\u001b[0m\u001b[0;34m[\u001b[0m\u001b[0;36m0\u001b[0m\u001b[0;34m]\u001b[0m\u001b[0;34m,\u001b[0m \u001b[0maxis\u001b[0m\u001b[0;34m=\u001b[0m\u001b[0;36m0\u001b[0m\u001b[0;34m)\u001b[0m                                   \u001b[0;31m# 删除多余行\u001b[0m\u001b[0;34m\u001b[0m\u001b[0;34m\u001b[0m\u001b[0m\n\u001b[1;32m      3\u001b[0m \u001b[0mTurnovers\u001b[0m\u001b[0;34m[\u001b[0m\u001b[0;34m\"日期\"\u001b[0m\u001b[0;34m]\u001b[0m \u001b[0;34m=\u001b[0m \u001b[0mpd\u001b[0m\u001b[0;34m.\u001b[0m\u001b[0mDatetimeIndex\u001b[0m\u001b[0;34m(\u001b[0m\u001b[0mTurnovers\u001b[0m\u001b[0;34m[\u001b[0m\u001b[0;34m\"日期\"\u001b[0m\u001b[0;34m]\u001b[0m\u001b[0;34m)\u001b[0m                    \u001b[0;31m# 类型转换\u001b[0m\u001b[0;34m\u001b[0m\u001b[0;34m\u001b[0m\u001b[0m\n\u001b[1;32m      4\u001b[0m \u001b[0mTurnovers\u001b[0m \u001b[0;34m=\u001b[0m \u001b[0mTurnovers\u001b[0m\u001b[0;34m.\u001b[0m\u001b[0mset_index\u001b[0m\u001b[0;34m(\u001b[0m\u001b[0;34m\"日期\"\u001b[0m\u001b[0;34m)\u001b[0m                                   \u001b[0;31m# 设置索引\u001b[0m\u001b[0;34m\u001b[0m\u001b[0;34m\u001b[0m\u001b[0m\n",
      "\u001b[0;32m~/anaconda3/envs/myTensorflow/lib/python3.7/site-packages/pandas/util/_decorators.py\u001b[0m in \u001b[0;36mwrapper\u001b[0;34m(*args, **kwargs)\u001b[0m\n\u001b[1;32m    206\u001b[0m                 \u001b[0;32melse\u001b[0m\u001b[0;34m:\u001b[0m\u001b[0;34m\u001b[0m\u001b[0;34m\u001b[0m\u001b[0m\n\u001b[1;32m    207\u001b[0m                     \u001b[0mkwargs\u001b[0m\u001b[0;34m[\u001b[0m\u001b[0mnew_arg_name\u001b[0m\u001b[0;34m]\u001b[0m \u001b[0;34m=\u001b[0m \u001b[0mnew_arg_value\u001b[0m\u001b[0;34m\u001b[0m\u001b[0;34m\u001b[0m\u001b[0m\n\u001b[0;32m--> 208\u001b[0;31m             \u001b[0;32mreturn\u001b[0m \u001b[0mfunc\u001b[0m\u001b[0;34m(\u001b[0m\u001b[0;34m*\u001b[0m\u001b[0margs\u001b[0m\u001b[0;34m,\u001b[0m \u001b[0;34m**\u001b[0m\u001b[0mkwargs\u001b[0m\u001b[0;34m)\u001b[0m\u001b[0;34m\u001b[0m\u001b[0;34m\u001b[0m\u001b[0m\n\u001b[0m\u001b[1;32m    209\u001b[0m \u001b[0;34m\u001b[0m\u001b[0m\n\u001b[1;32m    210\u001b[0m         \u001b[0;32mreturn\u001b[0m \u001b[0mwrapper\u001b[0m\u001b[0;34m\u001b[0m\u001b[0;34m\u001b[0m\u001b[0m\n",
      "\u001b[0;32m~/anaconda3/envs/myTensorflow/lib/python3.7/site-packages/pandas/io/excel/_base.py\u001b[0m in \u001b[0;36mread_excel\u001b[0;34m(io, sheet_name, header, names, index_col, usecols, squeeze, dtype, engine, converters, true_values, false_values, skiprows, nrows, na_values, keep_default_na, verbose, parse_dates, date_parser, thousands, comment, skip_footer, skipfooter, convert_float, mangle_dupe_cols, **kwds)\u001b[0m\n\u001b[1;32m    308\u001b[0m \u001b[0;34m\u001b[0m\u001b[0m\n\u001b[1;32m    309\u001b[0m     \u001b[0;32mif\u001b[0m \u001b[0;32mnot\u001b[0m \u001b[0misinstance\u001b[0m\u001b[0;34m(\u001b[0m\u001b[0mio\u001b[0m\u001b[0;34m,\u001b[0m \u001b[0mExcelFile\u001b[0m\u001b[0;34m)\u001b[0m\u001b[0;34m:\u001b[0m\u001b[0;34m\u001b[0m\u001b[0;34m\u001b[0m\u001b[0m\n\u001b[0;32m--> 310\u001b[0;31m         \u001b[0mio\u001b[0m \u001b[0;34m=\u001b[0m \u001b[0mExcelFile\u001b[0m\u001b[0;34m(\u001b[0m\u001b[0mio\u001b[0m\u001b[0;34m,\u001b[0m \u001b[0mengine\u001b[0m\u001b[0;34m=\u001b[0m\u001b[0mengine\u001b[0m\u001b[0;34m)\u001b[0m\u001b[0;34m\u001b[0m\u001b[0;34m\u001b[0m\u001b[0m\n\u001b[0m\u001b[1;32m    311\u001b[0m     \u001b[0;32melif\u001b[0m \u001b[0mengine\u001b[0m \u001b[0;32mand\u001b[0m \u001b[0mengine\u001b[0m \u001b[0;34m!=\u001b[0m \u001b[0mio\u001b[0m\u001b[0;34m.\u001b[0m\u001b[0mengine\u001b[0m\u001b[0;34m:\u001b[0m\u001b[0;34m\u001b[0m\u001b[0;34m\u001b[0m\u001b[0m\n\u001b[1;32m    312\u001b[0m         raise ValueError(\n",
      "\u001b[0;32m~/anaconda3/envs/myTensorflow/lib/python3.7/site-packages/pandas/io/excel/_base.py\u001b[0m in \u001b[0;36m__init__\u001b[0;34m(self, io, engine)\u001b[0m\n\u001b[1;32m    817\u001b[0m         \u001b[0mself\u001b[0m\u001b[0;34m.\u001b[0m\u001b[0m_io\u001b[0m \u001b[0;34m=\u001b[0m \u001b[0m_stringify_path\u001b[0m\u001b[0;34m(\u001b[0m\u001b[0mio\u001b[0m\u001b[0;34m)\u001b[0m\u001b[0;34m\u001b[0m\u001b[0;34m\u001b[0m\u001b[0m\n\u001b[1;32m    818\u001b[0m \u001b[0;34m\u001b[0m\u001b[0m\n\u001b[0;32m--> 819\u001b[0;31m         \u001b[0mself\u001b[0m\u001b[0;34m.\u001b[0m\u001b[0m_reader\u001b[0m \u001b[0;34m=\u001b[0m \u001b[0mself\u001b[0m\u001b[0;34m.\u001b[0m\u001b[0m_engines\u001b[0m\u001b[0;34m[\u001b[0m\u001b[0mengine\u001b[0m\u001b[0;34m]\u001b[0m\u001b[0;34m(\u001b[0m\u001b[0mself\u001b[0m\u001b[0;34m.\u001b[0m\u001b[0m_io\u001b[0m\u001b[0;34m)\u001b[0m\u001b[0;34m\u001b[0m\u001b[0;34m\u001b[0m\u001b[0m\n\u001b[0m\u001b[1;32m    820\u001b[0m \u001b[0;34m\u001b[0m\u001b[0m\n\u001b[1;32m    821\u001b[0m     \u001b[0;32mdef\u001b[0m \u001b[0m__fspath__\u001b[0m\u001b[0;34m(\u001b[0m\u001b[0mself\u001b[0m\u001b[0;34m)\u001b[0m\u001b[0;34m:\u001b[0m\u001b[0;34m\u001b[0m\u001b[0;34m\u001b[0m\u001b[0m\n",
      "\u001b[0;32m~/anaconda3/envs/myTensorflow/lib/python3.7/site-packages/pandas/io/excel/_xlrd.py\u001b[0m in \u001b[0;36m__init__\u001b[0;34m(self, filepath_or_buffer)\u001b[0m\n\u001b[1;32m     19\u001b[0m         \u001b[0merr_msg\u001b[0m \u001b[0;34m=\u001b[0m \u001b[0;34m\"Install xlrd >= 1.0.0 for Excel support\"\u001b[0m\u001b[0;34m\u001b[0m\u001b[0;34m\u001b[0m\u001b[0m\n\u001b[1;32m     20\u001b[0m         \u001b[0mimport_optional_dependency\u001b[0m\u001b[0;34m(\u001b[0m\u001b[0;34m\"xlrd\"\u001b[0m\u001b[0;34m,\u001b[0m \u001b[0mextra\u001b[0m\u001b[0;34m=\u001b[0m\u001b[0merr_msg\u001b[0m\u001b[0;34m)\u001b[0m\u001b[0;34m\u001b[0m\u001b[0;34m\u001b[0m\u001b[0m\n\u001b[0;32m---> 21\u001b[0;31m         \u001b[0msuper\u001b[0m\u001b[0;34m(\u001b[0m\u001b[0;34m)\u001b[0m\u001b[0;34m.\u001b[0m\u001b[0m__init__\u001b[0m\u001b[0;34m(\u001b[0m\u001b[0mfilepath_or_buffer\u001b[0m\u001b[0;34m)\u001b[0m\u001b[0;34m\u001b[0m\u001b[0;34m\u001b[0m\u001b[0m\n\u001b[0m\u001b[1;32m     22\u001b[0m \u001b[0;34m\u001b[0m\u001b[0m\n\u001b[1;32m     23\u001b[0m     \u001b[0;34m@\u001b[0m\u001b[0mproperty\u001b[0m\u001b[0;34m\u001b[0m\u001b[0;34m\u001b[0m\u001b[0m\n",
      "\u001b[0;32m~/anaconda3/envs/myTensorflow/lib/python3.7/site-packages/pandas/io/excel/_base.py\u001b[0m in \u001b[0;36m__init__\u001b[0;34m(self, filepath_or_buffer)\u001b[0m\n\u001b[1;32m    357\u001b[0m             \u001b[0mself\u001b[0m\u001b[0;34m.\u001b[0m\u001b[0mbook\u001b[0m \u001b[0;34m=\u001b[0m \u001b[0mself\u001b[0m\u001b[0;34m.\u001b[0m\u001b[0mload_workbook\u001b[0m\u001b[0;34m(\u001b[0m\u001b[0mfilepath_or_buffer\u001b[0m\u001b[0;34m)\u001b[0m\u001b[0;34m\u001b[0m\u001b[0;34m\u001b[0m\u001b[0m\n\u001b[1;32m    358\u001b[0m         \u001b[0;32melif\u001b[0m \u001b[0misinstance\u001b[0m\u001b[0;34m(\u001b[0m\u001b[0mfilepath_or_buffer\u001b[0m\u001b[0;34m,\u001b[0m \u001b[0mstr\u001b[0m\u001b[0;34m)\u001b[0m\u001b[0;34m:\u001b[0m\u001b[0;34m\u001b[0m\u001b[0;34m\u001b[0m\u001b[0m\n\u001b[0;32m--> 359\u001b[0;31m             \u001b[0mself\u001b[0m\u001b[0;34m.\u001b[0m\u001b[0mbook\u001b[0m \u001b[0;34m=\u001b[0m \u001b[0mself\u001b[0m\u001b[0;34m.\u001b[0m\u001b[0mload_workbook\u001b[0m\u001b[0;34m(\u001b[0m\u001b[0mfilepath_or_buffer\u001b[0m\u001b[0;34m)\u001b[0m\u001b[0;34m\u001b[0m\u001b[0;34m\u001b[0m\u001b[0m\n\u001b[0m\u001b[1;32m    360\u001b[0m         \u001b[0;32melse\u001b[0m\u001b[0;34m:\u001b[0m\u001b[0;34m\u001b[0m\u001b[0;34m\u001b[0m\u001b[0m\n\u001b[1;32m    361\u001b[0m             raise ValueError(\n",
      "\u001b[0;32m~/anaconda3/envs/myTensorflow/lib/python3.7/site-packages/pandas/io/excel/_xlrd.py\u001b[0m in \u001b[0;36mload_workbook\u001b[0;34m(self, filepath_or_buffer)\u001b[0m\n\u001b[1;32m     34\u001b[0m             \u001b[0;32mreturn\u001b[0m \u001b[0mopen_workbook\u001b[0m\u001b[0;34m(\u001b[0m\u001b[0mfile_contents\u001b[0m\u001b[0;34m=\u001b[0m\u001b[0mdata\u001b[0m\u001b[0;34m)\u001b[0m\u001b[0;34m\u001b[0m\u001b[0;34m\u001b[0m\u001b[0m\n\u001b[1;32m     35\u001b[0m         \u001b[0;32melse\u001b[0m\u001b[0;34m:\u001b[0m\u001b[0;34m\u001b[0m\u001b[0;34m\u001b[0m\u001b[0m\n\u001b[0;32m---> 36\u001b[0;31m             \u001b[0;32mreturn\u001b[0m \u001b[0mopen_workbook\u001b[0m\u001b[0;34m(\u001b[0m\u001b[0mfilepath_or_buffer\u001b[0m\u001b[0;34m)\u001b[0m\u001b[0;34m\u001b[0m\u001b[0;34m\u001b[0m\u001b[0m\n\u001b[0m\u001b[1;32m     37\u001b[0m \u001b[0;34m\u001b[0m\u001b[0m\n\u001b[1;32m     38\u001b[0m     \u001b[0;34m@\u001b[0m\u001b[0mproperty\u001b[0m\u001b[0;34m\u001b[0m\u001b[0;34m\u001b[0m\u001b[0m\n",
      "\u001b[0;32m~/anaconda3/envs/myTensorflow/lib/python3.7/site-packages/xlrd/__init__.py\u001b[0m in \u001b[0;36mopen_workbook\u001b[0;34m(filename, logfile, verbosity, use_mmap, file_contents, encoding_override, formatting_info, on_demand, ragged_rows)\u001b[0m\n\u001b[1;32m    109\u001b[0m     \u001b[0;32melse\u001b[0m\u001b[0;34m:\u001b[0m\u001b[0;34m\u001b[0m\u001b[0;34m\u001b[0m\u001b[0m\n\u001b[1;32m    110\u001b[0m         \u001b[0mfilename\u001b[0m \u001b[0;34m=\u001b[0m \u001b[0mos\u001b[0m\u001b[0;34m.\u001b[0m\u001b[0mpath\u001b[0m\u001b[0;34m.\u001b[0m\u001b[0mexpanduser\u001b[0m\u001b[0;34m(\u001b[0m\u001b[0mfilename\u001b[0m\u001b[0;34m)\u001b[0m\u001b[0;34m\u001b[0m\u001b[0;34m\u001b[0m\u001b[0m\n\u001b[0;32m--> 111\u001b[0;31m         \u001b[0;32mwith\u001b[0m \u001b[0mopen\u001b[0m\u001b[0;34m(\u001b[0m\u001b[0mfilename\u001b[0m\u001b[0;34m,\u001b[0m \u001b[0;34m\"rb\"\u001b[0m\u001b[0;34m)\u001b[0m \u001b[0;32mas\u001b[0m \u001b[0mf\u001b[0m\u001b[0;34m:\u001b[0m\u001b[0;34m\u001b[0m\u001b[0;34m\u001b[0m\u001b[0m\n\u001b[0m\u001b[1;32m    112\u001b[0m             \u001b[0mpeek\u001b[0m \u001b[0;34m=\u001b[0m \u001b[0mf\u001b[0m\u001b[0;34m.\u001b[0m\u001b[0mread\u001b[0m\u001b[0;34m(\u001b[0m\u001b[0mpeeksz\u001b[0m\u001b[0;34m)\u001b[0m\u001b[0;34m\u001b[0m\u001b[0;34m\u001b[0m\u001b[0m\n\u001b[1;32m    113\u001b[0m     \u001b[0;32mif\u001b[0m \u001b[0mpeek\u001b[0m \u001b[0;34m==\u001b[0m \u001b[0;34mb\"PK\\x03\\x04\"\u001b[0m\u001b[0;34m:\u001b[0m \u001b[0;31m# a ZIP file\u001b[0m\u001b[0;34m\u001b[0m\u001b[0;34m\u001b[0m\u001b[0m\n",
      "\u001b[0;31mFileNotFoundError\u001b[0m: [Errno 2] No such file or directory: 'Raw/国内资产换手率.xlsx'"
     ]
    }
   ],
   "source": [
    "Turnovers = pd.read_excel(io=\"Raw/资产换手率.xlsx\")                      # 读取数据\n",
    "Turnovers = Turnovers.drop([0], axis=0)                                   # 删除多余行\n",
    "Turnovers[\"日期\"] = pd.DatetimeIndex(Turnovers[\"日期\"])                    # 类型转换\n",
    "Turnovers = Turnovers.set_index(\"日期\")                                   # 设置索引"
   ]
  },
  {
   "cell_type": "code",
   "execution_count": null,
   "metadata": {
    "ExecuteTime": {
     "end_time": "2020-07-10T09:26:59.787113Z",
     "start_time": "2020-07-10T09:26:59.196Z"
    }
   },
   "outputs": [],
   "source": [
    "Turnovers = Turnovers.drop(Turnovers.index[0], axis=0)                   # 日期对齐"
   ]
  },
  {
   "cell_type": "markdown",
   "metadata": {},
   "source": [
    "### GC007利率"
   ]
  },
  {
   "cell_type": "code",
   "execution_count": null,
   "metadata": {
    "ExecuteTime": {
     "end_time": "2020-07-10T09:26:59.788592Z",
     "start_time": "2020-07-10T09:26:59.664Z"
    }
   },
   "outputs": [],
   "source": [
    "Rates = pd.read_excel(io=\"Raw/GC007利率.xlsx\")           #  读取数据\n",
    "Rates = Rates.drop([0, 1, 2], axis=0)                   # 删除多余行\n",
    "Rates.columns = ['日期', 'GC007']                        # 修改列名\n",
    "Rates[\"日期\"] = pd.DatetimeIndex(Rates[\"日期\"])           # 类型转换\n",
    "Rates = Rates.set_index(\"日期\")                          # 设置索引"
   ]
  },
  {
   "cell_type": "code",
   "execution_count": 3,
   "metadata": {
    "ExecuteTime": {
     "end_time": "2020-07-10T09:26:59.903324Z",
     "start_time": "2020-07-10T09:26:59.892580Z"
    }
   },
   "outputs": [
    {
     "ename": "NameError",
     "evalue": "name 'Rates' is not defined",
     "output_type": "error",
     "traceback": [
      "\u001b[0;31m---------------------------------------------------------------------------\u001b[0m",
      "\u001b[0;31mNameError\u001b[0m                                 Traceback (most recent call last)",
      "\u001b[0;32m<ipython-input-3-68af22b4e238>\u001b[0m in \u001b[0;36m<module>\u001b[0;34m\u001b[0m\n\u001b[0;32m----> 1\u001b[0;31m \u001b[0mRates\u001b[0m \u001b[0;34m=\u001b[0m \u001b[0mRates\u001b[0m\u001b[0;34m.\u001b[0m\u001b[0mdrop\u001b[0m\u001b[0;34m(\u001b[0m\u001b[0mRates\u001b[0m\u001b[0;34m.\u001b[0m\u001b[0mindex\u001b[0m\u001b[0;34m[\u001b[0m\u001b[0;36m0\u001b[0m\u001b[0;34m]\u001b[0m\u001b[0;34m,\u001b[0m \u001b[0maxis\u001b[0m\u001b[0;34m=\u001b[0m\u001b[0;36m0\u001b[0m\u001b[0;34m)\u001b[0m                     \u001b[0;31m# 日期对齐\u001b[0m\u001b[0;34m\u001b[0m\u001b[0;34m\u001b[0m\u001b[0m\n\u001b[0m",
      "\u001b[0;31mNameError\u001b[0m: name 'Rates' is not defined"
     ]
    }
   ],
   "source": [
    "Rates = Rates.drop(Rates.index[0], axis=0)                     # 日期对齐"
   ]
  },
  {
   "cell_type": "markdown",
   "metadata": {},
   "source": [
    "### 十年国债收益率"
   ]
  },
  {
   "cell_type": "code",
   "execution_count": null,
   "metadata": {
    "ExecuteTime": {
     "end_time": "2020-07-10T06:44:30.859060Z",
     "start_time": "2020-07-10T06:44:30.782118Z"
    }
   },
   "outputs": [],
   "source": [
    "BondRates = pd.read_excel(io=\"Raw/中债国债到期收益率(中债)(日).xls\")        # 读取数据\n",
    "BondRates.columns = ['日期', '十年国债收益率']                             # 修改列名\n",
    "BondRates = BondRates.drop([0, 3870, 3871], axis=0)                     # 删除多余行\n",
    "BondRates[\"日期\"] = pd.DatetimeIndex(BondRates[\"日期\"])                   # 类型转换\n",
    "BondRates = BondRates.set_index(\"日期\")                                  # 设置索引"
   ]
  },
  {
   "cell_type": "markdown",
   "metadata": {},
   "source": [
    "### 各资产收盘价"
   ]
  },
  {
   "cell_type": "code",
   "execution_count": null,
   "metadata": {
    "ExecuteTime": {
     "end_time": "2020-07-10T06:44:31.366656Z",
     "start_time": "2020-07-10T06:44:31.058549Z"
    }
   },
   "outputs": [],
   "source": [
    "Assets = pd.read_excel(io=\"Raw/国内资产收盘价.xlsx\")\n",
    "Assets = Assets.drop([0], axis=0)                                   # 删除多余行\n",
    "Assets[\"日期\"] = pd.DatetimeIndex(Assets[\"日期\"])                    # 类型转换\n",
    "Assets = Assets.set_index(\"日期\")                                   # 设置索引"
   ]
  },
  {
   "cell_type": "code",
   "execution_count": null,
   "metadata": {
    "ExecuteTime": {
     "end_time": "2020-07-10T06:44:31.388071Z",
     "start_time": "2020-07-10T06:44:31.369094Z"
    }
   },
   "outputs": [],
   "source": [
    "Assets.head()"
   ]
  },
  {
   "cell_type": "markdown",
   "metadata": {},
   "source": [
    "### 十年国债价格指数"
   ]
  },
  {
   "cell_type": "code",
   "execution_count": null,
   "metadata": {
    "ExecuteTime": {
     "end_time": "2020-07-10T06:44:31.711867Z",
     "start_time": "2020-07-10T06:44:31.704608Z"
    }
   },
   "outputs": [],
   "source": [
    "Data = Assets.merge(BondRates, how='left', left_index=True, right_index=True)"
   ]
  },
  {
   "cell_type": "code",
   "execution_count": null,
   "metadata": {
    "ExecuteTime": {
     "end_time": "2020-07-10T06:44:31.808491Z",
     "start_time": "2020-07-10T06:44:31.802828Z"
    }
   },
   "outputs": [],
   "source": [
    "Data = Data.merge(Rates, how='left', left_index=True, right_index=True)"
   ]
  },
  {
   "cell_type": "code",
   "execution_count": null,
   "metadata": {
    "ExecuteTime": {
     "end_time": "2020-07-10T06:44:31.906746Z",
     "start_time": "2020-07-10T06:44:31.892842Z"
    }
   },
   "outputs": [],
   "source": [
    "Data['持有时长'] = (Data.index - Data.index[0]).days\n",
    "Data['10年国债价格指数'] = 100 - (Data['十年国债收益率'] - 3.0) * 8.2 + 3.0 * Data['持有时长'] / 365.0\n",
    "Data['10年国债价格指数'] = Data['10年国债价格指数'].fillna(method='ffill')"
   ]
  },
  {
   "cell_type": "markdown",
   "metadata": {},
   "source": [
    "## 计算各资产收益率\n",
    "\n",
    "- 去除WTI原油期货"
   ]
  },
  {
   "cell_type": "markdown",
   "metadata": {},
   "source": [
    "### 日内损益"
   ]
  },
  {
   "cell_type": "code",
   "execution_count": null,
   "metadata": {
    "ExecuteTime": {
     "end_time": "2020-07-10T06:44:32.332280Z",
     "start_time": "2020-07-10T06:44:32.328354Z"
    }
   },
   "outputs": [],
   "source": [
    "# 利用自制10年国债价格指数，替换上证10年国债\n",
    "Assets['上证10年国债'] = Data['10年国债价格指数'].values"
   ]
  },
  {
   "cell_type": "code",
   "execution_count": null,
   "metadata": {
    "ExecuteTime": {
     "end_time": "2020-07-10T06:44:32.569337Z",
     "start_time": "2020-07-10T06:44:32.556247Z"
    }
   },
   "outputs": [],
   "source": [
    "Returns = Assets.pct_change(axis=0)\n",
    "Returns = Returns.dropna(axis=0, how='all')           # 删除无数据日"
   ]
  },
  {
   "cell_type": "code",
   "execution_count": null,
   "metadata": {
    "ExecuteTime": {
     "end_time": "2020-07-10T06:44:32.750151Z",
     "start_time": "2020-07-10T06:44:32.737655Z"
    }
   },
   "outputs": [],
   "source": [
    "Returns = Returns.drop('中信证券WTI原油期货', axis=1)\n",
    "Returns.head()"
   ]
  },
  {
   "cell_type": "markdown",
   "metadata": {},
   "source": [
    "### 累计损益"
   ]
  },
  {
   "cell_type": "code",
   "execution_count": null,
   "metadata": {
    "ExecuteTime": {
     "end_time": "2020-07-10T06:44:33.371501Z",
     "start_time": "2020-07-10T06:44:33.363311Z"
    }
   },
   "outputs": [],
   "source": [
    "cumReturns = (1.0 + Returns)\n",
    "cumReturns = cumReturns.fillna(1.0)                    # 填充空值\n",
    "cumReturns = cumReturns.cumprod()                      # 计算各资产累计收益率"
   ]
  },
  {
   "cell_type": "code",
   "execution_count": null,
   "metadata": {
    "ExecuteTime": {
     "end_time": "2020-07-10T06:44:33.924942Z",
     "start_time": "2020-07-10T06:44:33.606010Z"
    }
   },
   "outputs": [],
   "source": [
    "cumReturns.plot(figsize=(16, 8))"
   ]
  },
  {
   "cell_type": "markdown",
   "metadata": {},
   "source": [
    "### 杠杆调整后的债券净值"
   ]
  },
  {
   "cell_type": "code",
   "execution_count": null,
   "metadata": {
    "ExecuteTime": {
     "end_time": "2020-07-10T06:44:34.522052Z",
     "start_time": "2020-07-10T06:44:34.502901Z"
    }
   },
   "outputs": [],
   "source": [
    "lever = 2.0                                 # 杠杆\n",
    "leverReturns = Returns.copy()               # 创建副本 \n",
    "leverCumReturns = cumReturns.copy()   \n",
    "\n",
    "# 更新杠杆调整后的债券净值\n",
    "leverReturns.loc[:, ['上证10年国债', '信用债3-5AAA']] = Returns.loc[:, ['上证10年国债', '信用债3-5AAA']] * (1.0 + lever) - Rates.values * lever / (365.0 * 100)\n",
    "\n",
    "# 更新累计净值\n",
    "leverCumReturns = (1.0 + leverReturns)\n",
    "leverCumReturns = leverCumReturns.fillna(1.0)                    # 填充空值\n",
    "leverCumReturns = leverCumReturns.cumprod()                      # 计算各资产累计收益率"
   ]
  },
  {
   "cell_type": "markdown",
   "metadata": {},
   "source": [
    "# 风险平价 + 杠杆策略（指数权重EMA）"
   ]
  },
  {
   "cell_type": "markdown",
   "metadata": {},
   "source": [
    "## 程序运行"
   ]
  },
  {
   "cell_type": "code",
   "execution_count": null,
   "metadata": {
    "ExecuteTime": {
     "end_time": "2020-07-10T04:58:37.707967Z",
     "start_time": "2020-07-10T04:57:32.621606Z"
    }
   },
   "outputs": [],
   "source": [
    "tradeDF, weightDF = AlgoLoop.AlgoTrade(Assets, leverReturns, leverCumReturns, Turnovers, mode='ema')"
   ]
  },
  {
   "cell_type": "code",
   "execution_count": null,
   "metadata": {
    "ExecuteTime": {
     "end_time": "2020-07-10T04:02:03.457662Z",
     "start_time": "2020-07-10T04:02:02.863216Z"
    }
   },
   "outputs": [],
   "source": [
    "StatisticFunc.WeightPlot(tradeDF, weightDF, 'D')"
   ]
  },
  {
   "cell_type": "markdown",
   "metadata": {},
   "source": [
    "## 回测表现汇总"
   ]
  },
  {
   "cell_type": "code",
   "execution_count": null,
   "metadata": {
    "ExecuteTime": {
     "end_time": "2020-07-10T04:02:03.704556Z",
     "start_time": "2020-07-10T04:02:03.459860Z"
    }
   },
   "outputs": [],
   "source": [
    "# 表现汇总\n",
    "years = np.unique(tradeDF.reset_index()['日期'].apply(lambda x:str(x)[:4])) \n",
    "\n",
    "SummaryDF = pd.DataFrame(index=years)\n",
    "\n",
    "SummaryDF[\"年收益率\"] = StatisticFunc.AnnualReturns( pd.DataFrame(tradeDF['投资组合净值']) )\n",
    "SummaryDF[\"年波动率\"] = StatisticFunc.AnnualVolatility(pd.DataFrame(tradeDF['投资组合净值'])).values\n",
    "SummaryDF[\"无基准夏普比率\"] = SummaryDF['年收益率'] / SummaryDF['年波动率']\n",
    "SummaryDF[\"最大回撤\"] = StatisticFunc.AnnualMaxDrawdown(pd.DataFrame(tradeDF['最大回撤'])).values\n",
    "\n",
    "SummaryDF"
   ]
  },
  {
   "cell_type": "markdown",
   "metadata": {},
   "source": [
    "## 收益率贡献度"
   ]
  },
  {
   "cell_type": "code",
   "execution_count": null,
   "metadata": {
    "ExecuteTime": {
     "end_time": "2020-07-10T04:58:37.757001Z",
     "start_time": "2020-07-10T04:58:37.710346Z"
    },
    "scrolled": true
   },
   "outputs": [],
   "source": [
    "annualContrb = StatisticFunc.AnnualContribution(tradeDF=tradeDF, weightDF=weightDF, assetDF=leverCumReturns)"
   ]
  },
  {
   "cell_type": "code",
   "execution_count": null,
   "metadata": {
    "ExecuteTime": {
     "end_time": "2020-07-10T04:58:40.202587Z",
     "start_time": "2020-07-10T04:58:37.759637Z"
    }
   },
   "outputs": [],
   "source": [
    "StatisticFunc.BarPlot(annualContrb, 'D')"
   ]
  },
  {
   "cell_type": "markdown",
   "metadata": {},
   "source": [
    "## 投资组合净值曲线"
   ]
  },
  {
   "cell_type": "code",
   "execution_count": null,
   "metadata": {
    "ExecuteTime": {
     "end_time": "2020-07-10T04:02:06.367079Z",
     "start_time": "2020-07-10T04:02:06.077357Z"
    },
    "scrolled": false
   },
   "outputs": [],
   "source": [
    "fig = plt.figure(figsize=(16, 8))\n",
    "\n",
    "plt.plot(tradeDF.index, tradeDF['投资组合净值']/10000, label='每120个交易日调仓')\n",
    "    \n",
    "plt.plot(cumReturns.index, cumReturns['中证500'], label='中证500')\n",
    "plt.plot(cumReturns.index, cumReturns['信用债3-5AAA'], label='信用债3-5AAA')\n",
    "\n",
    "plt.xlabel('时间')\n",
    "plt.ylabel('净值')\n",
    "plt.ylim(0.0, 3.0)\n",
    "plt.legend(loc='upper left')\n",
    "plt.title('净值曲线（杠杆，指数平均）')\n",
    "plt.savefig('净值曲线（杠杆，指数平均）D.png')"
   ]
  },
  {
   "cell_type": "markdown",
   "metadata": {},
   "source": [
    "# 基准组合（横截面动量+时序动量+换手率+铜金+铜油）"
   ]
  },
  {
   "cell_type": "markdown",
   "metadata": {},
   "source": [
    "## 程序运行"
   ]
  },
  {
   "cell_type": "code",
   "execution_count": null,
   "metadata": {
    "ExecuteTime": {
     "end_time": "2020-07-10T06:45:43.628452Z",
     "start_time": "2020-07-10T06:44:38.048594Z"
    }
   },
   "outputs": [],
   "source": [
    "thrds = {'Equity':0.50, 'FixedIncome':0.90, 'Commodity':0.30}\n",
    "factors = {'momentumX':True, 'momentumT':False, \n",
    "            'reverseX':False, 'reverseT':False,\n",
    "            'turnover':True, \n",
    "            'copperGold':True, 'copperGas':True}\n",
    "\n",
    "tradeDF, weightDF = AlgoLoop.AlgoTrade(Assets, leverReturns, leverCumReturns, Turnovers, mode='ema', \n",
    "                                       dt=120, up=0.50, thresholds=thrds, factorDict=factors)"
   ]
  },
  {
   "cell_type": "code",
   "execution_count": null,
   "metadata": {
    "ExecuteTime": {
     "end_time": "2020-07-10T04:03:08.848883Z",
     "start_time": "2020-07-10T04:03:08.230230Z"
    }
   },
   "outputs": [],
   "source": [
    "StatisticFunc.WeightPlot(tradeDF, weightDF, '杠杆+横截面动量+时序动量+换手率+铜金+铜油D')"
   ]
  },
  {
   "cell_type": "markdown",
   "metadata": {},
   "source": [
    "## 回测表现汇总"
   ]
  },
  {
   "cell_type": "code",
   "execution_count": null,
   "metadata": {
    "ExecuteTime": {
     "end_time": "2020-07-10T04:03:09.150072Z",
     "start_time": "2020-07-10T04:03:08.851029Z"
    }
   },
   "outputs": [],
   "source": [
    "# 表现汇总\n",
    "years = np.unique(tradeDF.reset_index()['日期'].apply(lambda x:str(x)[:4])) \n",
    "\n",
    "SummaryDF = pd.DataFrame(index=years)\n",
    "\n",
    "SummaryDF[\"年收益率\"] = StatisticFunc.AnnualReturns( pd.DataFrame(tradeDF['投资组合净值']) )\n",
    "SummaryDF[\"年波动率\"] = StatisticFunc.AnnualVolatility(pd.DataFrame(tradeDF['投资组合净值'])).values\n",
    "SummaryDF[\"无基准夏普比率\"] = SummaryDF['年收益率'] / SummaryDF['年波动率']\n",
    "SummaryDF[\"最大回撤\"] = StatisticFunc.AnnualMaxDrawdown(pd.DataFrame(tradeDF['最大回撤'])).values\n",
    "\n",
    "SummaryDF"
   ]
  },
  {
   "cell_type": "markdown",
   "metadata": {},
   "source": [
    "## 收益率贡献度"
   ]
  },
  {
   "cell_type": "code",
   "execution_count": null,
   "metadata": {
    "ExecuteTime": {
     "end_time": "2020-07-10T04:59:46.089663Z",
     "start_time": "2020-07-10T04:59:46.041606Z"
    },
    "scrolled": true
   },
   "outputs": [],
   "source": [
    "annualContrb = StatisticFunc.AnnualContribution(tradeDF=tradeDF, weightDF=weightDF, assetDF=leverCumReturns)"
   ]
  },
  {
   "cell_type": "code",
   "execution_count": null,
   "metadata": {
    "ExecuteTime": {
     "end_time": "2020-07-10T04:59:48.479980Z",
     "start_time": "2020-07-10T04:59:46.091293Z"
    }
   },
   "outputs": [],
   "source": [
    "StatisticFunc.BarPlot(annualContrb, '横截面动量+时序动量+换手率+铜金+铜油D')"
   ]
  },
  {
   "cell_type": "markdown",
   "metadata": {},
   "source": [
    "## 投资组合净值曲线"
   ]
  },
  {
   "cell_type": "code",
   "execution_count": null,
   "metadata": {
    "ExecuteTime": {
     "end_time": "2020-07-10T04:03:11.803376Z",
     "start_time": "2020-07-10T04:03:11.512690Z"
    },
    "scrolled": false
   },
   "outputs": [],
   "source": [
    "fig = plt.figure(figsize=(16, 8))\n",
    "\n",
    "plt.plot(tradeDF.index, tradeDF['投资组合净值']/10000, label='横截面动量+时序动量+换手率+铜金+铜油')\n",
    "    \n",
    "plt.plot(cumReturns.index, cumReturns['中证500'], label='中证500')\n",
    "plt.plot(cumReturns.index, cumReturns['信用债3-5AAA'], label='信用债3-5AAA')\n",
    "\n",
    "plt.xlabel('时间')\n",
    "plt.ylabel('净值')\n",
    "plt.ylim(0.0, 5.0)\n",
    "plt.legend(loc='upper left')\n",
    "plt.title('净值曲线（杠杆，指数平均，横截面动量+时序动量+换手率+铜金+铜油）')\n",
    "plt.savefig('净值曲线（杠杆，指数平均，横截面动量+时序动量+换手率+铜金+铜油）D.png')"
   ]
  },
  {
   "cell_type": "markdown",
   "metadata": {},
   "source": [
    "# 风险平价 + 杠杆 + 多因子策略（指数平均）"
   ]
  },
  {
   "cell_type": "markdown",
   "metadata": {},
   "source": [
    "## 时序动量+换手率+铜金+铜油"
   ]
  },
  {
   "cell_type": "markdown",
   "metadata": {},
   "source": [
    "### 程序运行"
   ]
  },
  {
   "cell_type": "code",
   "execution_count": null,
   "metadata": {
    "ExecuteTime": {
     "end_time": "2020-07-10T05:00:54.195749Z",
     "start_time": "2020-07-10T04:59:48.482049Z"
    }
   },
   "outputs": [],
   "source": [
    "thrds = {'Equity':0.50, 'FixedIncome':0.90, 'Commodity':0.30}\n",
    "factors = {'momentumX':False, 'momentumT':True, \n",
    "            'reverseX':False, 'reverseT':False,\n",
    "            'turnover':True, \n",
    "            'copperGold':True, 'copperGas':True}\n",
    "\n",
    "tradeDF_1, weightDF_1 = AlgoLoop.AlgoTrade(Assets, leverReturns, leverCumReturns, Turnovers, mode='ema', \n",
    "                                       dt=120, up=0.50, thresholds=thrds, factorDict=factors)"
   ]
  },
  {
   "cell_type": "code",
   "execution_count": null,
   "metadata": {
    "ExecuteTime": {
     "end_time": "2020-07-10T04:04:14.755488Z",
     "start_time": "2020-07-10T04:04:14.122445Z"
    }
   },
   "outputs": [],
   "source": [
    "StatisticFunc.WeightPlot(tradeDF_1, weightDF_1, '杠杆+时序动量+换手率+铜金+铜油D')"
   ]
  },
  {
   "cell_type": "markdown",
   "metadata": {},
   "source": [
    "### 回测表现汇总"
   ]
  },
  {
   "cell_type": "code",
   "execution_count": null,
   "metadata": {
    "ExecuteTime": {
     "end_time": "2020-07-10T04:04:15.001617Z",
     "start_time": "2020-07-10T04:04:14.757021Z"
    }
   },
   "outputs": [],
   "source": [
    "# 表现汇总\n",
    "years = np.unique(tradeDF_1.reset_index()['日期'].apply(lambda x:str(x)[:4])) \n",
    "\n",
    "SummaryDF_1 = pd.DataFrame(index=years)\n",
    "\n",
    "SummaryDF_1[\"年收益率\"] = StatisticFunc.AnnualReturns( pd.DataFrame(tradeDF_1['投资组合净值']) )\n",
    "SummaryDF_1[\"年波动率\"] = StatisticFunc.AnnualVolatility(pd.DataFrame(tradeDF_1['投资组合净值'])).values\n",
    "SummaryDF_1[\"无基准夏普比率\"] = SummaryDF_1['年收益率'] / SummaryDF_1['年波动率']\n",
    "SummaryDF_1[\"最大回撤\"] = StatisticFunc.AnnualMaxDrawdown(pd.DataFrame(tradeDF_1['最大回撤'])).values\n",
    "\n",
    "SummaryDF_1"
   ]
  },
  {
   "cell_type": "markdown",
   "metadata": {},
   "source": [
    "### 收益率贡献度"
   ]
  },
  {
   "cell_type": "code",
   "execution_count": null,
   "metadata": {
    "ExecuteTime": {
     "end_time": "2020-07-10T05:00:54.244775Z",
     "start_time": "2020-07-10T05:00:54.199856Z"
    },
    "scrolled": true
   },
   "outputs": [],
   "source": [
    "annualContrb_1 = StatisticFunc.AnnualContribution(tradeDF=tradeDF_1, weightDF=weightDF_1, assetDF=leverCumReturns)"
   ]
  },
  {
   "cell_type": "code",
   "execution_count": null,
   "metadata": {
    "ExecuteTime": {
     "end_time": "2020-07-10T05:00:56.562410Z",
     "start_time": "2020-07-10T05:00:54.247120Z"
    }
   },
   "outputs": [],
   "source": [
    "StatisticFunc.BarPlot(annualContrb_1, '时序动量+换手率+铜金+铜油D')"
   ]
  },
  {
   "cell_type": "markdown",
   "metadata": {},
   "source": [
    "### 投资组合净值曲线"
   ]
  },
  {
   "cell_type": "code",
   "execution_count": null,
   "metadata": {
    "ExecuteTime": {
     "end_time": "2020-07-10T04:04:17.735729Z",
     "start_time": "2020-07-10T04:04:17.429016Z"
    },
    "scrolled": false
   },
   "outputs": [],
   "source": [
    "fig = plt.figure(figsize=(16, 8))\n",
    "\n",
    "plt.plot(tradeDF_1.index, tradeDF_1['投资组合净值']/10000, label='时序动量+换手率+铜金+铜油')\n",
    "\n",
    "# 基准参考\n",
    "plt.plot(tradeDF.index, tradeDF['投资组合净值']/10000, ls='--', label='五因子基准组合')    \n",
    "plt.plot(cumReturns.index, cumReturns['中证500'], label='中证500')\n",
    "plt.plot(cumReturns.index, cumReturns['信用债3-5AAA'], label='信用债3-5AAA')\n",
    "\n",
    "plt.xlabel('时间')\n",
    "plt.ylabel('净值')\n",
    "plt.ylim(0.0, 5.0)\n",
    "plt.legend(loc='upper left')\n",
    "plt.title('净值曲线（杠杆，指数平均，时序动量+换手率+铜金+铜油）')\n",
    "plt.savefig('净值曲线（杠杆，指数平均，时序动量+换手率+铜金+铜油）D.png')"
   ]
  },
  {
   "cell_type": "markdown",
   "metadata": {},
   "source": [
    "## 横截面动量+换手率+铜金+铜油"
   ]
  },
  {
   "cell_type": "markdown",
   "metadata": {},
   "source": [
    "### 程序运行"
   ]
  },
  {
   "cell_type": "code",
   "execution_count": null,
   "metadata": {
    "ExecuteTime": {
     "end_time": "2020-07-10T05:02:01.482598Z",
     "start_time": "2020-07-10T05:00:56.564534Z"
    }
   },
   "outputs": [],
   "source": [
    "thrds = {'Equity':0.50, 'FixedIncome':0.90, 'Commodity':0.30}\n",
    "factors = {'momentumX':True, 'momentumT':False, \n",
    "            'reverseX':False, 'reverseT':False,\n",
    "            'turnover':True, \n",
    "            'copperGold':True, 'copperGas':True}\n",
    "\n",
    "tradeDF_2, weightDF_2 = AlgoLoop.AlgoTrade(Assets, leverReturns, leverCumReturns, Turnovers, mode='ema', \n",
    "                                       dt=120, up=0.50, thresholds=thrds, factorDict=factors)"
   ]
  },
  {
   "cell_type": "code",
   "execution_count": null,
   "metadata": {
    "ExecuteTime": {
     "end_time": "2020-07-10T04:05:19.674269Z",
     "start_time": "2020-07-10T04:05:19.066286Z"
    }
   },
   "outputs": [],
   "source": [
    "StatisticFunc.WeightPlot(tradeDF_2, weightDF_2, '杠杆+横截面动量+换手率+铜金+铜油D')"
   ]
  },
  {
   "cell_type": "markdown",
   "metadata": {},
   "source": [
    "### 回测表现汇总"
   ]
  },
  {
   "cell_type": "code",
   "execution_count": null,
   "metadata": {
    "ExecuteTime": {
     "end_time": "2020-07-10T04:05:19.930503Z",
     "start_time": "2020-07-10T04:05:19.676283Z"
    }
   },
   "outputs": [],
   "source": [
    "# 表现汇总\n",
    "years = np.unique(tradeDF_2.reset_index()['日期'].apply(lambda x:str(x)[:4])) \n",
    "\n",
    "SummaryDF_2 = pd.DataFrame(index=years)\n",
    "\n",
    "SummaryDF_2[\"年收益率\"] = StatisticFunc.AnnualReturns( pd.DataFrame(tradeDF_2['投资组合净值']) )\n",
    "SummaryDF_2[\"年波动率\"] = StatisticFunc.AnnualVolatility(pd.DataFrame(tradeDF_2['投资组合净值'])).values\n",
    "SummaryDF_2[\"无基准夏普比率\"] = SummaryDF_2['年收益率'] / SummaryDF_2['年波动率']\n",
    "SummaryDF_2[\"最大回撤\"] = StatisticFunc.AnnualMaxDrawdown(pd.DataFrame(tradeDF_2['最大回撤'])).values\n",
    "\n",
    "SummaryDF_2"
   ]
  },
  {
   "cell_type": "markdown",
   "metadata": {},
   "source": [
    "### 收益率贡献度"
   ]
  },
  {
   "cell_type": "code",
   "execution_count": null,
   "metadata": {
    "ExecuteTime": {
     "end_time": "2020-07-10T05:02:01.533482Z",
     "start_time": "2020-07-10T05:02:01.484847Z"
    },
    "scrolled": true
   },
   "outputs": [],
   "source": [
    "annualContrb_2 = StatisticFunc.AnnualContribution(tradeDF=tradeDF_2, weightDF=weightDF_2, assetDF=leverCumReturns)"
   ]
  },
  {
   "cell_type": "code",
   "execution_count": null,
   "metadata": {
    "ExecuteTime": {
     "end_time": "2020-07-10T05:02:03.943870Z",
     "start_time": "2020-07-10T05:02:01.535590Z"
    }
   },
   "outputs": [],
   "source": [
    "StatisticFunc.BarPlot(annualContrb_2, '横截面动量+换手率+铜金+铜油D')"
   ]
  },
  {
   "cell_type": "markdown",
   "metadata": {},
   "source": [
    "### 投资组合净值曲线"
   ]
  },
  {
   "cell_type": "code",
   "execution_count": null,
   "metadata": {
    "ExecuteTime": {
     "end_time": "2020-07-10T04:05:22.612408Z",
     "start_time": "2020-07-10T04:05:22.305890Z"
    },
    "scrolled": false
   },
   "outputs": [],
   "source": [
    "fig = plt.figure(figsize=(16, 8))\n",
    "\n",
    "plt.plot(tradeDF_2.index, tradeDF_2['投资组合净值']/10000, label='横截面动量+换手率+铜金+铜油')\n",
    "        \n",
    "# 基准参考\n",
    "plt.plot(tradeDF.index, tradeDF['投资组合净值']/10000, ls='--', label='五因子基准组合')  \n",
    "plt.plot(cumReturns.index, cumReturns['中证500'], label='中证500')\n",
    "plt.plot(cumReturns.index, cumReturns['信用债3-5AAA'], label='信用债3-5AAA')\n",
    "\n",
    "plt.xlabel('时间')\n",
    "plt.ylabel('净值')\n",
    "plt.ylim(0.0, 5.0)\n",
    "plt.legend(loc='upper left')\n",
    "plt.title('净值曲线（杠杆，指数平均，横截面动量+换手率+铜金+铜油）')\n",
    "plt.savefig('净值曲线（杠杆，指数平均，横截面动量+换手率+铜金+铜油）D.png')"
   ]
  },
  {
   "cell_type": "markdown",
   "metadata": {},
   "source": [
    "## 横截面动量+时序动量+铜金+铜油"
   ]
  },
  {
   "cell_type": "markdown",
   "metadata": {},
   "source": [
    "### 程序运行"
   ]
  },
  {
   "cell_type": "code",
   "execution_count": null,
   "metadata": {
    "ExecuteTime": {
     "end_time": "2020-07-10T05:03:10.136502Z",
     "start_time": "2020-07-10T05:02:03.945871Z"
    }
   },
   "outputs": [],
   "source": [
    "thrds = {'Equity':0.50, 'FixedIncome':0.90, 'Commodity':0.30}\n",
    "factors = {'momentumX':True, 'momentumT':True, \n",
    "            'reverseX':False, 'reverseT':False,\n",
    "            'turnover':False, \n",
    "            'copperGold':True, 'copperGas':True}\n",
    "\n",
    "tradeDF_3, weightDF_3 = AlgoLoop.AlgoTrade(Assets, leverReturns, leverCumReturns, Turnovers, mode='ema', \n",
    "                                       dt=120, up=0.50, thresholds=thrds, factorDict=factors)"
   ]
  },
  {
   "cell_type": "code",
   "execution_count": null,
   "metadata": {
    "ExecuteTime": {
     "end_time": "2020-07-10T04:06:25.134279Z",
     "start_time": "2020-07-10T04:06:24.487349Z"
    }
   },
   "outputs": [],
   "source": [
    "StatisticFunc.WeightPlot(tradeDF_3, weightDF_3, '杠杆+横截面动量+时序动量+铜金+铜油D')"
   ]
  },
  {
   "cell_type": "markdown",
   "metadata": {},
   "source": [
    "### 回测表现汇总"
   ]
  },
  {
   "cell_type": "code",
   "execution_count": null,
   "metadata": {
    "ExecuteTime": {
     "end_time": "2020-07-10T04:06:25.455972Z",
     "start_time": "2020-07-10T04:06:25.135896Z"
    }
   },
   "outputs": [],
   "source": [
    "# 表现汇总\n",
    "years = np.unique(tradeDF_3.reset_index()['日期'].apply(lambda x:str(x)[:4])) \n",
    "\n",
    "SummaryDF_3 = pd.DataFrame(index=years)\n",
    "\n",
    "SummaryDF_3[\"年收益率\"] = StatisticFunc.AnnualReturns( pd.DataFrame(tradeDF_3['投资组合净值']) )\n",
    "SummaryDF_3[\"年波动率\"] = StatisticFunc.AnnualVolatility(pd.DataFrame(tradeDF_3['投资组合净值'])).values\n",
    "SummaryDF_3[\"无基准夏普比率\"] = SummaryDF_3['年收益率'] / SummaryDF_3['年波动率']\n",
    "SummaryDF_3[\"最大回撤\"] = StatisticFunc.AnnualMaxDrawdown(pd.DataFrame(tradeDF_3['最大回撤'])).values\n",
    "\n",
    "SummaryDF_3"
   ]
  },
  {
   "cell_type": "markdown",
   "metadata": {},
   "source": [
    "### 收益率贡献度"
   ]
  },
  {
   "cell_type": "code",
   "execution_count": null,
   "metadata": {
    "ExecuteTime": {
     "end_time": "2020-07-10T05:03:10.185236Z",
     "start_time": "2020-07-10T05:03:10.138709Z"
    },
    "scrolled": true
   },
   "outputs": [],
   "source": [
    "annualContrb_3 = StatisticFunc.AnnualContribution(tradeDF=tradeDF_3, weightDF=weightDF_3, assetDF=leverCumReturns)"
   ]
  },
  {
   "cell_type": "code",
   "execution_count": null,
   "metadata": {
    "ExecuteTime": {
     "end_time": "2020-07-10T05:03:12.795678Z",
     "start_time": "2020-07-10T05:03:10.186705Z"
    }
   },
   "outputs": [],
   "source": [
    "StatisticFunc.BarPlot(annualContrb_3, '横截面动量+时序动量+铜金+铜油D')"
   ]
  },
  {
   "cell_type": "markdown",
   "metadata": {},
   "source": [
    "### 投资组合净值曲线"
   ]
  },
  {
   "cell_type": "code",
   "execution_count": null,
   "metadata": {
    "ExecuteTime": {
     "end_time": "2020-07-10T04:06:28.078805Z",
     "start_time": "2020-07-10T04:06:27.771942Z"
    },
    "scrolled": false
   },
   "outputs": [],
   "source": [
    "fig = plt.figure(figsize=(16, 8))\n",
    "\n",
    "plt.plot(tradeDF_3.index, tradeDF_3['投资组合净值']/10000, label='横截面动量+时序动量+铜金+铜油')\n",
    "    \n",
    "# 基准参考\n",
    "plt.plot(tradeDF.index, tradeDF['投资组合净值']/10000, ls='--', label='五因子基准组合')  \n",
    "plt.plot(cumReturns.index, cumReturns['中证500'], label='中证500')\n",
    "plt.plot(cumReturns.index, cumReturns['信用债3-5AAA'], label='信用债3-5AAA')\n",
    "\n",
    "plt.xlabel('时间')\n",
    "plt.ylabel('净值')\n",
    "plt.ylim(0.0, 5.0)\n",
    "plt.legend(loc='upper left')\n",
    "plt.title('净值曲线（杠杆，指数平均，横截面动量+时序动量+铜金+铜油）')\n",
    "plt.savefig('净值曲线（杠杆，指数平均，横截面动量+时序动量+铜金+铜油）D.png')"
   ]
  },
  {
   "cell_type": "markdown",
   "metadata": {},
   "source": [
    "## 横截面动量+时序动量+换手率+铜油"
   ]
  },
  {
   "cell_type": "markdown",
   "metadata": {},
   "source": [
    "### 程序运行"
   ]
  },
  {
   "cell_type": "code",
   "execution_count": null,
   "metadata": {
    "ExecuteTime": {
     "end_time": "2020-07-10T05:04:29.661248Z",
     "start_time": "2020-07-10T05:03:12.799822Z"
    }
   },
   "outputs": [],
   "source": [
    "thrds = {'Equity':0.50, 'FixedIncome':0.90, 'Commodity':0.30}\n",
    "factors = {'momentumX':True, 'momentumT':True, \n",
    "            'reverseX':False, 'reverseT':False,\n",
    "            'turnover':True, \n",
    "            'copperGold':False, 'copperGas':True}\n",
    "\n",
    "tradeDF_4, weightDF_4 = AlgoLoop.AlgoTrade(Assets, leverReturns, leverCumReturns, Turnovers, mode='ema', \n",
    "                                       dt=120, up=0.50, thresholds=thrds, factorDict=factors)"
   ]
  },
  {
   "cell_type": "code",
   "execution_count": null,
   "metadata": {
    "ExecuteTime": {
     "end_time": "2020-07-10T04:07:30.184339Z",
     "start_time": "2020-07-10T04:07:29.517937Z"
    }
   },
   "outputs": [],
   "source": [
    "StatisticFunc.WeightPlot(tradeDF_4, weightDF_4, '杠杆+横截面动量+时序动量+换手率+铜油D')"
   ]
  },
  {
   "cell_type": "markdown",
   "metadata": {},
   "source": [
    "### 回测表现汇总"
   ]
  },
  {
   "cell_type": "code",
   "execution_count": null,
   "metadata": {
    "ExecuteTime": {
     "end_time": "2020-07-10T04:07:30.428254Z",
     "start_time": "2020-07-10T04:07:30.186165Z"
    }
   },
   "outputs": [],
   "source": [
    "# 表现汇总\n",
    "years = np.unique(tradeDF_4.reset_index()['日期'].apply(lambda x:str(x)[:4])) \n",
    "\n",
    "SummaryDF_4 = pd.DataFrame(index=years)\n",
    "\n",
    "SummaryDF_4[\"年收益率\"] = StatisticFunc.AnnualReturns( pd.DataFrame(tradeDF_4['投资组合净值']) )\n",
    "SummaryDF_4[\"年波动率\"] = StatisticFunc.AnnualVolatility(pd.DataFrame(tradeDF_4['投资组合净值'])).values\n",
    "SummaryDF_4[\"无基准夏普比率\"] = SummaryDF_4['年收益率'] / SummaryDF_4['年波动率']\n",
    "SummaryDF_4[\"最大回撤\"] = StatisticFunc.AnnualMaxDrawdown(pd.DataFrame(tradeDF_4['最大回撤'])).values\n",
    "\n",
    "SummaryDF_4"
   ]
  },
  {
   "cell_type": "markdown",
   "metadata": {},
   "source": [
    "### 收益率贡献度"
   ]
  },
  {
   "cell_type": "code",
   "execution_count": null,
   "metadata": {
    "ExecuteTime": {
     "end_time": "2020-07-10T05:04:29.715240Z",
     "start_time": "2020-07-10T05:04:29.662917Z"
    },
    "scrolled": true
   },
   "outputs": [],
   "source": [
    "annualContrb_4 = StatisticFunc.AnnualContribution(tradeDF=tradeDF_4, weightDF=weightDF_4, assetDF=leverCumReturns)"
   ]
  },
  {
   "cell_type": "code",
   "execution_count": null,
   "metadata": {
    "ExecuteTime": {
     "end_time": "2020-07-10T05:04:32.547908Z",
     "start_time": "2020-07-10T05:04:29.717546Z"
    }
   },
   "outputs": [],
   "source": [
    "StatisticFunc.BarPlot(annualContrb_4, '横截面动量+时序动量+换手率+铜油D')"
   ]
  },
  {
   "cell_type": "markdown",
   "metadata": {},
   "source": [
    "### 投资组合净值曲线"
   ]
  },
  {
   "cell_type": "code",
   "execution_count": null,
   "metadata": {
    "ExecuteTime": {
     "end_time": "2020-07-10T04:07:33.180262Z",
     "start_time": "2020-07-10T04:07:32.866075Z"
    },
    "scrolled": false
   },
   "outputs": [],
   "source": [
    "fig = plt.figure(figsize=(16, 8))\n",
    "\n",
    "plt.plot(tradeDF_4.index, tradeDF_4['投资组合净值']/10000, label='横截面动量+时序动量+换手率+铜油')\n",
    "    \n",
    "    \n",
    "# 基准参考\n",
    "plt.plot(tradeDF.index, tradeDF['投资组合净值']/10000, ls='--', label='五因子基准组合')  \n",
    "plt.plot(cumReturns.index, cumReturns['中证500'], label='中证500')\n",
    "plt.plot(cumReturns.index, cumReturns['信用债3-5AAA'], label='信用债3-5AAA')\n",
    "\n",
    "plt.xlabel('时间')\n",
    "plt.ylabel('净值')\n",
    "plt.ylim(0.0, 5.0)\n",
    "plt.legend(loc='upper left')\n",
    "plt.title('净值曲线（杠杆，指数平均，横截面动量+时序动量+换手率+铜油）')\n",
    "plt.savefig('净值曲线（杠杆，指数平均，横截面动量+时序动量+换手率+铜油）D.png')"
   ]
  },
  {
   "cell_type": "markdown",
   "metadata": {},
   "source": [
    "## 横截面动量+时序动量+换手率+铜金"
   ]
  },
  {
   "cell_type": "markdown",
   "metadata": {},
   "source": [
    "### 程序运行"
   ]
  },
  {
   "cell_type": "code",
   "execution_count": null,
   "metadata": {
    "ExecuteTime": {
     "end_time": "2020-07-10T05:05:40.698559Z",
     "start_time": "2020-07-10T05:04:32.550246Z"
    }
   },
   "outputs": [],
   "source": [
    "thrds = {'Equity':0.50, 'FixedIncome':0.90, 'Commodity':0.30}\n",
    "factors = {'momentumX':True, 'momentumT':True, \n",
    "            'reverseX':False, 'reverseT':False,\n",
    "            'turnover':True, \n",
    "            'copperGold':True, 'copperGas':False}\n",
    "\n",
    "tradeDF_5, weightDF_5 = AlgoLoop.AlgoTrade(Assets, leverReturns, leverCumReturns, Turnovers, mode='ema', \n",
    "                                       dt=120, up=0.50, thresholds=thrds, factorDict=factors)"
   ]
  },
  {
   "cell_type": "code",
   "execution_count": null,
   "metadata": {
    "ExecuteTime": {
     "end_time": "2020-07-10T04:08:35.147845Z",
     "start_time": "2020-07-10T04:08:34.532719Z"
    }
   },
   "outputs": [],
   "source": [
    "StatisticFunc.WeightPlot(tradeDF_5, weightDF_5, '杠杆+横截面动量+时序动量+换手率+铜金D')"
   ]
  },
  {
   "cell_type": "markdown",
   "metadata": {},
   "source": [
    "### 回测表现汇总"
   ]
  },
  {
   "cell_type": "code",
   "execution_count": null,
   "metadata": {
    "ExecuteTime": {
     "end_time": "2020-07-10T04:08:35.395611Z",
     "start_time": "2020-07-10T04:08:35.149748Z"
    }
   },
   "outputs": [],
   "source": [
    "# 表现汇总\n",
    "years = np.unique(tradeDF_5.reset_index()['日期'].apply(lambda x:str(x)[:4])) \n",
    "\n",
    "SummaryDF_5 = pd.DataFrame(index=years)\n",
    "\n",
    "SummaryDF_5[\"年收益率\"] = StatisticFunc.AnnualReturns( pd.DataFrame(tradeDF_5['投资组合净值']) )\n",
    "SummaryDF_5[\"年波动率\"] = StatisticFunc.AnnualVolatility(pd.DataFrame(tradeDF_5['投资组合净值'])).values\n",
    "SummaryDF_5[\"无基准夏普比率\"] = SummaryDF_5['年收益率'] / SummaryDF_5['年波动率']\n",
    "SummaryDF_5[\"最大回撤\"] = StatisticFunc.AnnualMaxDrawdown(pd.DataFrame(tradeDF_5['最大回撤'])).values\n",
    "\n",
    "SummaryDF_5"
   ]
  },
  {
   "cell_type": "markdown",
   "metadata": {},
   "source": [
    "### 收益率贡献度"
   ]
  },
  {
   "cell_type": "code",
   "execution_count": null,
   "metadata": {
    "ExecuteTime": {
     "end_time": "2020-07-10T05:05:40.746503Z",
     "start_time": "2020-07-10T05:05:40.700706Z"
    },
    "scrolled": true
   },
   "outputs": [],
   "source": [
    "annualContrb_5 = StatisticFunc.AnnualContribution(tradeDF=tradeDF_5, weightDF=weightDF_5, assetDF=leverCumReturns)"
   ]
  },
  {
   "cell_type": "code",
   "execution_count": null,
   "metadata": {
    "ExecuteTime": {
     "end_time": "2020-07-10T05:05:43.175938Z",
     "start_time": "2020-07-10T05:05:40.748729Z"
    }
   },
   "outputs": [],
   "source": [
    "StatisticFunc.BarPlot(annualContrb_5, '横截面动量+时序动量+换手率+铜金D')"
   ]
  },
  {
   "cell_type": "markdown",
   "metadata": {},
   "source": [
    "### 投资组合净值曲线"
   ]
  },
  {
   "cell_type": "code",
   "execution_count": null,
   "metadata": {
    "ExecuteTime": {
     "end_time": "2020-07-10T04:08:38.072120Z",
     "start_time": "2020-07-10T04:08:37.762602Z"
    },
    "scrolled": false
   },
   "outputs": [],
   "source": [
    "fig = plt.figure(figsize=(16, 8))\n",
    "\n",
    "plt.plot(tradeDF_5.index, tradeDF_5['投资组合净值']/10000, label='横截面动量+时序动量+换手率+铜金')\n",
    "\n",
    "# 基准参考\n",
    "plt.plot(tradeDF.index, tradeDF['投资组合净值']/10000, ls='--', label='五因子基准组合')  \n",
    "plt.plot(cumReturns.index, cumReturns['中证500'], label='中证500')\n",
    "plt.plot(cumReturns.index, cumReturns['信用债3-5AAA'], label='信用债3-5AAA')\n",
    "\n",
    "plt.xlabel('时间')\n",
    "plt.ylabel('净值')\n",
    "plt.ylim(0.0, 5.0)\n",
    "plt.legend(loc='upper left')\n",
    "plt.title('净值曲线（杠杆，指数平均，横截面动量+时序动量+换手率+铜金）')\n",
    "plt.savefig('净值曲线（杠杆，指数平均，横截面动量+时序动量+换手率+铜金)D.png')"
   ]
  },
  {
   "cell_type": "markdown",
   "metadata": {},
   "source": [
    "# 汇总比较"
   ]
  },
  {
   "cell_type": "code",
   "execution_count": null,
   "metadata": {
    "ExecuteTime": {
     "end_time": "2020-07-10T04:08:38.432864Z",
     "start_time": "2020-07-10T04:08:38.074374Z"
    }
   },
   "outputs": [],
   "source": [
    "fig = plt.figure(figsize=(16, 8))\n",
    "\n",
    "\n",
    "\n",
    "plt.plot(tradeDF.index, tradeDF['投资组合净值']/10000, ls='--', label='五因子基准组合')\n",
    "\n",
    "plt.plot(tradeDF_1.index, tradeDF_1['投资组合净值']/10000, label='时序动量+换手率+铜金+铜油')\n",
    "plt.plot(tradeDF_2.index, tradeDF_2['投资组合净值']/10000, label='横截面动量+换手率+铜金+铜油')\n",
    "plt.plot(tradeDF_3.index, tradeDF_3['投资组合净值']/10000, label='横截面动量+时序动量+铜金+铜油')\n",
    "plt.plot(tradeDF_5.index, tradeDF_4['投资组合净值']/10000, label='横截面动量+时序动量+换手率+铜油')\n",
    "plt.plot(tradeDF_5.index, tradeDF_5['投资组合净值']/10000, label='横截面动量+时序动量+换手率+铜金')\n",
    "\n",
    "\n",
    "plt.xlabel('时间')\n",
    "plt.ylabel('净值')\n",
    "plt.legend(loc='upper left')\n",
    "plt.title('各多因子模型净值曲线')\n",
    "plt.savefig('各多因子模型净值曲线D.png')"
   ]
  },
  {
   "cell_type": "code",
   "execution_count": null,
   "metadata": {},
   "outputs": [],
   "source": []
  }
 ],
 "metadata": {
  "kernelspec": {
   "display_name": "Python 3",
   "language": "python",
   "name": "python3"
  },
  "language_info": {
   "codemirror_mode": {
    "name": "ipython",
    "version": 3
   },
   "file_extension": ".py",
   "mimetype": "text/x-python",
   "name": "python",
   "nbconvert_exporter": "python",
   "pygments_lexer": "ipython3",
   "version": "3.7.7"
  },
  "latex_envs": {
   "LaTeX_envs_menu_present": true,
   "autoclose": false,
   "autocomplete": true,
   "bibliofile": "biblio.bib",
   "cite_by": "apalike",
   "current_citInitial": 1,
   "eqLabelWithNumbers": true,
   "eqNumInitial": 1,
   "hotkeys": {
    "equation": "Ctrl-E",
    "itemize": "Ctrl-I"
   },
   "labels_anchors": false,
   "latex_user_defs": false,
   "report_style_numbering": false,
   "user_envs_cfg": false
  },
  "toc": {
   "base_numbering": 1,
   "nav_menu": {},
   "number_sections": true,
   "sideBar": true,
   "skip_h1_title": false,
   "title_cell": "Table of Contents",
   "title_sidebar": "Contents",
   "toc_cell": false,
   "toc_position": {
    "height": "calc(100% - 180px)",
    "left": "10px",
    "top": "150px",
    "width": "367px"
   },
   "toc_section_display": true,
   "toc_window_display": true
  }
 },
 "nbformat": 4,
 "nbformat_minor": 4
}
