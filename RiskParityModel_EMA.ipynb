{
 "cells": [
  {
   "cell_type": "code",
   "execution_count": null,
   "metadata": {
    "ExecuteTime": {
     "end_time": "2020-07-07T02:02:29.061135Z",
     "start_time": "2020-07-07T02:02:28.366020Z"
    }
   },
   "outputs": [],
   "source": [
    "import numpy as np\n",
    "import pandas as pd\n",
    "import matplotlib\n",
    "import matplotlib.pyplot as plt\n",
    "import AlgoLoop\n",
    "import StatisticFunc\n",
    "\n",
    "plt.style.use('Solarize_Light2')                     # 绘图风格\n",
    "matplotlib.rcParams['font.sans-serif'] = ['SimHei']  # 字体雅黑\n",
    "matplotlib.rcParams['font.family'] = 'sans-serif'\n",
    "matplotlib.rcParams['axes.unicode_minus'] = False    # 处理负号"
   ]
  },
  {
   "cell_type": "markdown",
   "metadata": {},
   "source": [
    "# 预处理"
   ]
  },
  {
   "cell_type": "markdown",
   "metadata": {},
   "source": [
    "## 提取并处理数据"
   ]
  },
  {
   "cell_type": "markdown",
   "metadata": {},
   "source": [
    "### 权益类资产换手率"
   ]
  },
  {
   "cell_type": "code",
   "execution_count": null,
   "metadata": {
    "ExecuteTime": {
     "end_time": "2020-07-07T02:02:30.448228Z",
     "start_time": "2020-07-07T02:02:30.276711Z"
    }
   },
   "outputs": [],
   "source": [
    "Turnovers = pd.read_excel(io=\"Raw/国内资产换手率.xlsx\")                      # 读取数据\n",
    "Turnovers = Turnovers.drop([0], axis=0)                                   # 删除多余行\n",
    "Turnovers[\"日期\"] = pd.DatetimeIndex(Turnovers[\"日期\"])                    # 类型转换\n",
    "Turnovers = Turnovers.set_index(\"日期\")                                   # 设置索引"
   ]
  },
  {
   "cell_type": "code",
   "execution_count": null,
   "metadata": {
    "ExecuteTime": {
     "end_time": "2020-07-07T02:02:30.721621Z",
     "start_time": "2020-07-07T02:02:30.717964Z"
    }
   },
   "outputs": [],
   "source": [
    "Turnovers = Turnovers.drop(Turnovers.index[0], axis=0)                   # 日期对齐"
   ]
  },
  {
   "cell_type": "markdown",
   "metadata": {},
   "source": [
    "### GC007利率"
   ]
  },
  {
   "cell_type": "code",
   "execution_count": null,
   "metadata": {
    "ExecuteTime": {
     "end_time": "2020-07-07T02:02:31.530418Z",
     "start_time": "2020-07-07T02:02:31.434533Z"
    }
   },
   "outputs": [],
   "source": [
    "Rates = pd.read_excel(io=\"Raw/GC007利率.xlsx\")           #  读取数据\n",
    "Rates = Rates.drop([0, 1, 2], axis=0)                   # 删除多余行\n",
    "Rates.columns = ['日期', 'GC007']                        # 修改列名\n",
    "Rates[\"日期\"] = pd.DatetimeIndex(Rates[\"日期\"])           # 类型转换\n",
    "Rates = Rates.set_index(\"日期\")                          # 设置索引"
   ]
  },
  {
   "cell_type": "code",
   "execution_count": null,
   "metadata": {
    "ExecuteTime": {
     "end_time": "2020-07-07T02:02:31.774065Z",
     "start_time": "2020-07-07T02:02:31.770473Z"
    }
   },
   "outputs": [],
   "source": [
    "Rates = Rates.drop(Rates.index[0], axis=0)                     # 日期对齐"
   ]
  },
  {
   "cell_type": "markdown",
   "metadata": {},
   "source": [
    "### 十年国债收益率"
   ]
  },
  {
   "cell_type": "code",
   "execution_count": null,
   "metadata": {
    "ExecuteTime": {
     "end_time": "2020-07-07T02:02:33.927567Z",
     "start_time": "2020-07-07T02:02:33.855114Z"
    }
   },
   "outputs": [],
   "source": [
    "BondRates = pd.read_excel(io=\"Raw/中债国债到期收益率(中债)(日).xls\")        # 读取数据\n",
    "BondRates.columns = ['日期', '十年国债收益率']                             # 修改列名\n",
    "BondRates = BondRates.drop([0, 3870, 3871], axis=0)                     # 删除多余行\n",
    "BondRates[\"日期\"] = pd.DatetimeIndex(BondRates[\"日期\"])                   # 类型转换\n",
    "BondRates = BondRates.set_index(\"日期\")                                  # 设置索引"
   ]
  },
  {
   "cell_type": "markdown",
   "metadata": {},
   "source": [
    "### 各资产收盘价"
   ]
  },
  {
   "cell_type": "code",
   "execution_count": null,
   "metadata": {
    "ExecuteTime": {
     "end_time": "2020-07-07T02:02:34.782843Z",
     "start_time": "2020-07-07T02:02:34.471417Z"
    }
   },
   "outputs": [],
   "source": [
    "Assets = pd.read_excel(io=\"Raw/国内资产收盘价.xlsx\")\n",
    "Assets = Assets.drop([0], axis=0)                                   # 删除多余行\n",
    "Assets[\"日期\"] = pd.DatetimeIndex(Assets[\"日期\"])                    # 类型转换\n",
    "Assets = Assets.set_index(\"日期\")                                   # 设置索引"
   ]
  },
  {
   "cell_type": "markdown",
   "metadata": {},
   "source": [
    "## 衍生数据生成"
   ]
  },
  {
   "cell_type": "markdown",
   "metadata": {},
   "source": [
    "### 铜金价格比 & 铜油价格比"
   ]
  },
  {
   "cell_type": "code",
   "execution_count": null,
   "metadata": {
    "ExecuteTime": {
     "end_time": "2020-07-07T02:02:35.219781Z",
     "start_time": "2020-07-07T02:02:35.214761Z"
    }
   },
   "outputs": [],
   "source": [
    "Data = Assets.merge(BondRates, how='left', left_index=True, right_index=True)"
   ]
  },
  {
   "cell_type": "code",
   "execution_count": null,
   "metadata": {
    "ExecuteTime": {
     "end_time": "2020-07-07T02:02:35.525955Z",
     "start_time": "2020-07-07T02:02:35.521823Z"
    }
   },
   "outputs": [],
   "source": [
    "Data = Data.merge(Rates, how='left', left_index=True, right_index=True)"
   ]
  },
  {
   "cell_type": "code",
   "execution_count": null,
   "metadata": {
    "ExecuteTime": {
     "end_time": "2020-07-07T02:02:35.820337Z",
     "start_time": "2020-07-07T02:02:35.812470Z"
    }
   },
   "outputs": [],
   "source": [
    "Data['铜金价格比'] = Data['中信证券COMEX铜期货'] / Data['中信证券COMEX黄金期货']\n",
    "Data['铜油价格比'] = Data['中信证券COMEX铜期货'] / Data['中信证券WTI原油期货']"
   ]
  },
  {
   "cell_type": "markdown",
   "metadata": {},
   "source": [
    "### 十年国债价格指数"
   ]
  },
  {
   "cell_type": "code",
   "execution_count": null,
   "metadata": {
    "ExecuteTime": {
     "end_time": "2020-07-07T02:02:36.397832Z",
     "start_time": "2020-07-07T02:02:36.388819Z"
    }
   },
   "outputs": [],
   "source": [
    "Data['持有时长'] = (Data.index - Data.index[0]).days\n",
    "Data['10年国债价格指数'] = 100 - (Data['十年国债收益率'] - 3.0) * 8.2 + 3.0 * Data['持有时长'] / 365.0\n",
    "Data['10年国债价格指数'] = Data['10年国债价格指数'].fillna(method='ffill')"
   ]
  },
  {
   "cell_type": "markdown",
   "metadata": {},
   "source": [
    "## 计算各资产收益率"
   ]
  },
  {
   "cell_type": "markdown",
   "metadata": {},
   "source": [
    "### 日内损益"
   ]
  },
  {
   "cell_type": "code",
   "execution_count": null,
   "metadata": {
    "ExecuteTime": {
     "end_time": "2020-07-07T02:02:38.637209Z",
     "start_time": "2020-07-07T02:02:38.633929Z"
    }
   },
   "outputs": [],
   "source": [
    "# 利用自制10年国债价格指数，替换上证10年国债\n",
    "Assets['上证10年国债'] = Data['10年国债价格指数'].values"
   ]
  },
  {
   "cell_type": "code",
   "execution_count": null,
   "metadata": {
    "ExecuteTime": {
     "end_time": "2020-07-07T02:02:39.070750Z",
     "start_time": "2020-07-07T02:02:39.058434Z"
    }
   },
   "outputs": [],
   "source": [
    "Returns = Assets.pct_change(axis=0)\n",
    "Returns = Returns.dropna(axis=0, how='all')           # 删除无数据日"
   ]
  },
  {
   "cell_type": "markdown",
   "metadata": {},
   "source": [
    "### 累计损益"
   ]
  },
  {
   "cell_type": "code",
   "execution_count": null,
   "metadata": {
    "ExecuteTime": {
     "end_time": "2020-07-07T02:02:39.655393Z",
     "start_time": "2020-07-07T02:02:39.648812Z"
    }
   },
   "outputs": [],
   "source": [
    "cumReturns = (1.0 + Returns)\n",
    "cumReturns = cumReturns.fillna(1.0)                    # 填充空值\n",
    "cumReturns = cumReturns.cumprod()                      # 计算各资产累计收益率"
   ]
  },
  {
   "cell_type": "code",
   "execution_count": null,
   "metadata": {
    "ExecuteTime": {
     "end_time": "2020-07-07T02:02:40.253937Z",
     "start_time": "2020-07-07T02:02:39.919082Z"
    }
   },
   "outputs": [],
   "source": [
    "cumReturns.plot(figsize=(16, 8))"
   ]
  },
  {
   "cell_type": "markdown",
   "metadata": {},
   "source": [
    "# 风险平价 （指数权重EMA）\n",
    "\n",
    "**资产明细**\n",
    "- 沪深300指数\n",
    "- 中证500指数\n",
    "- 三年期3A信用债全价指数\n",
    "- 十年期国债全价指数(自制)\n",
    "- COMEX铜\n",
    "- COMEX黄金\n",
    "- NYMEX原油\n",
    "- 铁矿石期货\n",
    "\n",
    "回溯时间：2008年初-至今\n",
    "\n",
    "买卖单笔手续费：千1"
   ]
  },
  {
   "cell_type": "markdown",
   "metadata": {},
   "source": [
    "## 程序运行"
   ]
  },
  {
   "cell_type": "code",
   "execution_count": null,
   "metadata": {
    "ExecuteTime": {
     "end_time": "2020-07-07T02:09:00.743737Z",
     "start_time": "2020-07-07T02:02:42.953840Z"
    }
   },
   "outputs": [],
   "source": [
    "# 运行\n",
    "timeWindow = [20, 60, 120, 180, 240]           # 调仓周期\n",
    "\n",
    "NetValueDF_ema = pd.DataFrame(index=Returns.index)\n",
    "DailyPnlDF_ema = pd.DataFrame(index=Returns.index) \n",
    "DrawDownDF_ema = pd.DataFrame(index=Returns.index)\n",
    "\n",
    "for dtime in timeWindow:\n",
    "    tradeDF, weightDF = AlgoLoop.AlgoTrade(Assets, Returns, cumReturns, Turnovers, mode='ema', dt=dtime)\n",
    "    StatisticFunc.WeightPlot(tradeDF, weightDF, 'EMA'+str(dtime))\n",
    "    \n",
    "    NetValueDF_ema[str(dtime)+'组合净值'] = tradeDF['投资组合净值'] / 10000  \n",
    "    DailyPnlDF_ema[str(dtime)+'组合日收益率'] = tradeDF['投资组合净值'] / tradeDF['投资组合净值'].shift(1) - 1.0\n",
    "    DrawDownDF_ema[str(dtime)+'最大回撤'] = tradeDF['最大回撤']                      "
   ]
  },
  {
   "cell_type": "markdown",
   "metadata": {},
   "source": [
    "## 回测表现汇总"
   ]
  },
  {
   "cell_type": "code",
   "execution_count": null,
   "metadata": {
    "ExecuteTime": {
     "end_time": "2020-07-07T02:09:00.768919Z",
     "start_time": "2020-07-07T02:09:00.747606Z"
    }
   },
   "outputs": [],
   "source": [
    "# 汇总\n",
    "summaryDF_ema = pd.DataFrame(index=['每月调仓', '每季度调仓', '每半年调仓', \n",
    "                                    '每三季度调仓', '每年调仓'])\n",
    "\n",
    "summaryDF_ema[\"年平均收益率\"] = DailyPnlDF_ema.mean(axis=0).values * 250\n",
    "summaryDF_ema[\"年平均标准差\"] = DailyPnlDF_ema.std(axis=0).values * np.sqrt(250)\n",
    "summaryDF_ema[\"无基准夏普比率\"] = summaryDF_ema[\"年平均收益率\"] / summaryDF_ema[\"年平均标准差\"]\n",
    "summaryDF_ema[\"最大回撤\"] = DrawDownDF_ema.min(axis=0).values\n",
    "summaryDF_ema"
   ]
  },
  {
   "cell_type": "markdown",
   "metadata": {},
   "source": [
    "## 各投资组合净值曲线"
   ]
  },
  {
   "cell_type": "code",
   "execution_count": null,
   "metadata": {
    "ExecuteTime": {
     "end_time": "2020-07-07T02:09:01.101141Z",
     "start_time": "2020-07-07T02:09:00.771308Z"
    },
    "scrolled": false
   },
   "outputs": [],
   "source": [
    "fig = plt.figure(figsize=(16, 8))\n",
    "\n",
    "for col in NetValueDF_ema.columns:\n",
    "    plt.plot(NetValueDF_ema.index, NetValueDF_ema[col], lw=0.8, label=col)\n",
    "    \n",
    "plt.plot(cumReturns.index, cumReturns['信用债3-5AAA'], lw=3.0, label='信用债3-5AAA')\n",
    "\n",
    "plt.xlabel('时间')\n",
    "plt.ylabel('净值')\n",
    "plt.ylim(0.0, 3.0)\n",
    "plt.legend(loc='upper left')\n",
    "plt.title('净值曲线（指数平均）')\n",
    "plt.show()"
   ]
  },
  {
   "cell_type": "markdown",
   "metadata": {},
   "source": [
    "## 年间收益率分布"
   ]
  },
  {
   "cell_type": "code",
   "execution_count": null,
   "metadata": {
    "ExecuteTime": {
     "end_time": "2020-06-20T09:33:11.915685Z",
     "start_time": "2020-06-20T09:33:08.873Z"
    }
   },
   "outputs": [],
   "source": [
    "yearReturns_ema = StatisticFunc.annualReturns(NetValueDF_ema)"
   ]
  },
  {
   "cell_type": "code",
   "execution_count": null,
   "metadata": {
    "ExecuteTime": {
     "end_time": "2020-06-20T09:33:11.917029Z",
     "start_time": "2020-06-20T09:33:08.875Z"
    }
   },
   "outputs": [],
   "source": [
    "StatisticFunc.ReturnDist(yearReturns_ema, 2)"
   ]
  },
  {
   "cell_type": "markdown",
   "metadata": {},
   "source": [
    "## 月间收益率分布"
   ]
  },
  {
   "cell_type": "code",
   "execution_count": null,
   "metadata": {
    "ExecuteTime": {
     "end_time": "2020-06-20T09:33:11.918144Z",
     "start_time": "2020-06-20T09:33:08.911Z"
    }
   },
   "outputs": [],
   "source": [
    "monthlyReturns_ema = StatisticFunc.monthlyReturns(NetValueDF_ema)"
   ]
  },
  {
   "cell_type": "code",
   "execution_count": null,
   "metadata": {
    "ExecuteTime": {
     "end_time": "2020-06-20T09:33:11.919205Z",
     "start_time": "2020-06-20T09:33:08.913Z"
    },
    "scrolled": true
   },
   "outputs": [],
   "source": [
    "StatisticFunc.ReturnDist(monthlyReturns_ema, 2)"
   ]
  },
  {
   "cell_type": "markdown",
   "metadata": {},
   "source": [
    "# 风险平价 + 杠杆策略（指数权重EMA）"
   ]
  },
  {
   "cell_type": "markdown",
   "metadata": {},
   "source": [
    "## 杠杆调整后的债券净值"
   ]
  },
  {
   "cell_type": "code",
   "execution_count": null,
   "metadata": {
    "ExecuteTime": {
     "end_time": "2020-07-07T02:09:01.121187Z",
     "start_time": "2020-07-07T02:09:01.103788Z"
    }
   },
   "outputs": [],
   "source": [
    "lever = 2.0                                 # 杠杆\n",
    "leverReturns = Returns.copy()               # 创建副本 \n",
    "leverCumReturns = cumReturns.copy()   \n",
    "\n",
    "# 更新杠杆调整后的债券净值\n",
    "leverReturns.loc[:, ['上证10年国债', '信用债3-5AAA']] = Returns.loc[:, ['上证10年国债', '信用债3-5AAA']] * (1.0 + lever) - Rates.values * lever / (365.0 * 100)\n",
    "\n",
    "# 更新累计净值\n",
    "leverCumReturns = (1.0 + leverReturns)\n",
    "leverCumReturns = leverCumReturns.fillna(1.0)                    # 填充空值\n",
    "leverCumReturns = leverCumReturns.cumprod()                      # 计算各资产累计收益率"
   ]
  },
  {
   "cell_type": "code",
   "execution_count": null,
   "metadata": {
    "ExecuteTime": {
     "end_time": "2020-07-07T02:09:01.137590Z",
     "start_time": "2020-07-07T02:09:01.122823Z"
    }
   },
   "outputs": [],
   "source": [
    "leverReturns"
   ]
  },
  {
   "cell_type": "markdown",
   "metadata": {},
   "source": [
    "## 程序运行"
   ]
  },
  {
   "cell_type": "code",
   "execution_count": null,
   "metadata": {
    "ExecuteTime": {
     "end_time": "2020-07-07T02:14:40.047218Z",
     "start_time": "2020-07-07T02:09:01.139477Z"
    }
   },
   "outputs": [],
   "source": [
    "# 运行\n",
    "timeWindow = [20, 60, 120, 180, 240]           # 调仓周期\n",
    "\n",
    "leverNetValueDF_ema = pd.DataFrame(index=Returns.index)\n",
    "leverDailyPnlDF_ema = pd.DataFrame(index=Returns.index) \n",
    "leverDrawDownDF_ema = pd.DataFrame(index=Returns.index)\n",
    "\n",
    "for dtime in timeWindow:\n",
    "    tradeDF, weightDF = AlgoLoop.AlgoTrade(Assets, leverReturns, leverCumReturns, Turnovers, mode='ema', dt=dtime)\n",
    "    StatisticFunc.WeightPlot(tradeDF, weightDF, '杠杆EMA'+str(dtime))\n",
    "    \n",
    "    leverNetValueDF_ema[str(dtime)+'组合净值'] = tradeDF['投资组合净值'] / 10000  \n",
    "    leverDailyPnlDF_ema[str(dtime)+'组合日收益率'] = tradeDF['投资组合净值'] / tradeDF['投资组合净值'].shift(1) - 1.0\n",
    "    leverDrawDownDF_ema[str(dtime)+'最大回撤'] = tradeDF['最大回撤']                      "
   ]
  },
  {
   "cell_type": "markdown",
   "metadata": {},
   "source": [
    "## 回测表现汇总"
   ]
  },
  {
   "cell_type": "code",
   "execution_count": null,
   "metadata": {
    "ExecuteTime": {
     "end_time": "2020-07-07T02:14:40.065962Z",
     "start_time": "2020-07-07T02:14:40.049459Z"
    }
   },
   "outputs": [],
   "source": [
    "# 汇总\n",
    "leverSummaryDF_ema = pd.DataFrame(index=['每月调仓', '每季度调仓', '每半年调仓', \n",
    "                                    '每三季度调仓', '每年调仓'])\n",
    "\n",
    "leverSummaryDF_ema[\"年平均收益率\"] = leverDailyPnlDF_ema.mean(axis=0).values * 250\n",
    "leverSummaryDF_ema[\"年平均标准差\"] = leverDailyPnlDF_ema.std(axis=0).values * np.sqrt(250)\n",
    "leverSummaryDF_ema[\"无基准夏普比率\"] = leverSummaryDF_ema[\"年平均收益率\"] / leverSummaryDF_ema[\"年平均标准差\"]\n",
    "leverSummaryDF_ema[\"最大回撤\"] = leverDrawDownDF_ema.min(axis=0).values\n",
    "leverSummaryDF_ema"
   ]
  },
  {
   "cell_type": "markdown",
   "metadata": {},
   "source": [
    "## 各投资组合净值曲线"
   ]
  },
  {
   "cell_type": "code",
   "execution_count": null,
   "metadata": {
    "ExecuteTime": {
     "end_time": "2020-07-07T02:14:40.299184Z",
     "start_time": "2020-07-07T02:14:40.069191Z"
    },
    "scrolled": false
   },
   "outputs": [],
   "source": [
    "fig = plt.figure(figsize=(16, 8))\n",
    "\n",
    "for col in leverNetValueDF_ema.columns:\n",
    "    plt.plot(leverNetValueDF_ema.index, leverNetValueDF_ema[col], lw=0.8, label=col)\n",
    "    \n",
    "# plt.plot(cumReturns.index, cumReturns['中证500'], lw=1.5, label='中证500')\n",
    "plt.plot(cumReturns.index, cumReturns['信用债3-5AAA'], lw=3.0, label='信用债3-5AAA')\n",
    "\n",
    "plt.xlabel('时间')\n",
    "plt.ylabel('净值')\n",
    "plt.ylim(0.0, 5.0)\n",
    "plt.legend(loc='upper left')\n",
    "plt.title('净值曲线（杠杆，指数平均）')\n",
    "plt.show()"
   ]
  },
  {
   "cell_type": "markdown",
   "metadata": {},
   "source": [
    "## 年间收益率分布"
   ]
  },
  {
   "cell_type": "code",
   "execution_count": null,
   "metadata": {
    "ExecuteTime": {
     "end_time": "2020-06-20T09:33:11.933158Z",
     "start_time": "2020-06-20T09:33:09.412Z"
    }
   },
   "outputs": [],
   "source": [
    "yearReturns_ema = StatisticFunc.annualReturns(NetValueDF_ema)"
   ]
  },
  {
   "cell_type": "code",
   "execution_count": null,
   "metadata": {
    "ExecuteTime": {
     "end_time": "2020-06-20T09:33:11.934317Z",
     "start_time": "2020-06-20T09:33:09.415Z"
    }
   },
   "outputs": [],
   "source": [
    "StatisticFunc.ReturnDist(yearReturns_ema, 2)"
   ]
  },
  {
   "cell_type": "markdown",
   "metadata": {},
   "source": [
    "## 月间收益率分布"
   ]
  },
  {
   "cell_type": "code",
   "execution_count": null,
   "metadata": {
    "ExecuteTime": {
     "end_time": "2020-06-20T09:33:11.935398Z",
     "start_time": "2020-06-20T09:33:09.453Z"
    }
   },
   "outputs": [],
   "source": [
    "monthlyReturns_ema = StatisticFunc.monthlyReturns(NetValueDF_ema)"
   ]
  },
  {
   "cell_type": "code",
   "execution_count": null,
   "metadata": {
    "ExecuteTime": {
     "end_time": "2020-06-20T09:33:11.936561Z",
     "start_time": "2020-06-20T09:33:09.456Z"
    },
    "scrolled": true
   },
   "outputs": [],
   "source": [
    "StatisticFunc.ReturnDist(monthlyReturns_ema, 2)"
   ]
  },
  {
   "cell_type": "markdown",
   "metadata": {},
   "source": [
    "# 风险平价 + 杠杆 + 因子策略（指数权重EMA）"
   ]
  },
  {
   "cell_type": "markdown",
   "metadata": {},
   "source": [
    "## 动量因子（横向比较）"
   ]
  },
  {
   "cell_type": "markdown",
   "metadata": {},
   "source": [
    "### 程序运行"
   ]
  },
  {
   "cell_type": "code",
   "execution_count": null,
   "metadata": {
    "ExecuteTime": {
     "end_time": "2020-07-07T03:58:11.996273Z",
     "start_time": "2020-07-07T03:58:11.971847Z"
    }
   },
   "outputs": [],
   "source": [
    "# 运行\n",
    "timeWindow = [20, 60, 120, 180, 240]        # 调仓周期\n",
    "ups = [0.50, 1.00]        # 上调幅度\n",
    "\n",
    "multiIDX = pd.MultiIndex.from_product([timeWindow, ups], names=['交易周期', '上调幅度'])\n",
    "leverNetValueDF_momentumX = pd.DataFrame(index=Returns.index, columns=multiIDX)\n",
    "leverDailyPnlDF_momentumX = pd.DataFrame(index=Returns.index, columns=multiIDX) \n",
    "leverDrawDownDF_momentumX = pd.DataFrame(index=Returns.index, columns=multiIDX)"
   ]
  },
  {
   "cell_type": "code",
   "execution_count": null,
   "metadata": {
    "ExecuteTime": {
     "end_time": "2020-07-07T04:10:33.004037Z",
     "start_time": "2020-07-07T03:58:12.537744Z"
    }
   },
   "outputs": [],
   "source": [
    "thrds = {'Equity':0.50, 'FixedIncome':0.90, 'Commodity':0.30}\n",
    "factors = {'momentumX':True, 'momentumT':False, \n",
    "           'reverseX':False, 'reverseT':False, \n",
    "           'turnover':False,  \n",
    "           'copperGold':False, 'copperGas':False}\n",
    "\n",
    "for t in timeWindow:\n",
    "    for u in ups:\n",
    "        tradeDF, weightDF = AlgoLoop.AlgoTrade(Assets, leverReturns, leverCumReturns, Turnovers, \n",
    "                                               mode='ema', dt=t, up=u, thresholds=thrds,\n",
    "                                               factorDict=factors)\n",
    "        StatisticFunc.WeightPlot(tradeDF, weightDF, '杠杆横截面动量（指数权重EMA）'+str(t+u))\n",
    "\n",
    "        leverNetValueDF_momentumX.loc[:, (t, u)] = tradeDF['投资组合净值'] / 10000\n",
    "        leverDailyPnlDF_momentumX.loc[:, (t, u)] = tradeDF['投资组合净值'] / tradeDF['投资组合净值'].shift(1) - 1.0\n",
    "        leverDrawDownDF_momentumX.loc[:, (t, u)] = tradeDF['最大回撤']                      "
   ]
  },
  {
   "cell_type": "markdown",
   "metadata": {},
   "source": [
    "### 回测表现汇总"
   ]
  },
  {
   "cell_type": "code",
   "execution_count": null,
   "metadata": {
    "ExecuteTime": {
     "end_time": "2020-07-07T04:10:33.027436Z",
     "start_time": "2020-07-07T04:10:33.007166Z"
    }
   },
   "outputs": [],
   "source": [
    "# 汇总\n",
    "leverSummaryDF_momentumX = pd.DataFrame(index=multiIDX)\n",
    "\n",
    "leverSummaryDF_momentumX[\"年平均收益率\"] = leverDailyPnlDF_momentumX.mean(axis=0).values * 250\n",
    "leverSummaryDF_momentumX[\"年平均标准差\"] = leverDailyPnlDF_momentumX.std(axis=0).values * np.sqrt(250)\n",
    "leverSummaryDF_momentumX[\"无基准夏普比率\"] = leverSummaryDF_momentumX[\"年平均收益率\"] / leverSummaryDF_momentumX[\"年平均标准差\"]\n",
    "leverSummaryDF_momentumX[\"最大回撤\"] = leverDrawDownDF_momentumX.min(axis=0).values\n",
    "\n",
    "leverSummaryDF_momentumX"
   ]
  },
  {
   "cell_type": "markdown",
   "metadata": {},
   "source": [
    "### 各投资组合净值曲线"
   ]
  },
  {
   "cell_type": "code",
   "execution_count": null,
   "metadata": {
    "ExecuteTime": {
     "end_time": "2020-07-07T04:10:33.758089Z",
     "start_time": "2020-07-07T04:10:33.029631Z"
    }
   },
   "outputs": [],
   "source": [
    "fig = plt.figure(figsize=(16, 8), dpi=200)\n",
    "\n",
    "for col in leverNetValueDF_momentumX.columns:\n",
    "    plt.plot(leverNetValueDF_momentumX.index, leverNetValueDF_momentumX[col], label=col)\n",
    "    \n",
    "plt.plot(cumReturns.index, cumReturns['信用债3-5AAA'], lw=3.5, label='信用债3-5AAA')\n",
    "\n",
    "plt.xlabel('时间')\n",
    "plt.ylabel('净值')\n",
    "plt.ylim(0.0, 5.0)\n",
    "plt.legend(loc='upper left')\n",
    "plt.title('杠杆横截面动量因子（指数权重EMA）')\n",
    "plt.show()"
   ]
  },
  {
   "cell_type": "markdown",
   "metadata": {},
   "source": [
    "## 动量因子（时序比较）"
   ]
  },
  {
   "cell_type": "markdown",
   "metadata": {},
   "source": [
    "### 程序运行"
   ]
  },
  {
   "cell_type": "code",
   "execution_count": null,
   "metadata": {
    "ExecuteTime": {
     "end_time": "2020-07-03T09:18:38.426435Z",
     "start_time": "2020-07-03T09:18:38.405398Z"
    }
   },
   "outputs": [],
   "source": [
    "# 运行\n",
    "timeWindow = [20, 60, 120, 180, 240]        # 调仓周期\n",
    "ups = [0.50, 1.00]                          # 上调幅度\n",
    "\n",
    "multiIDX = pd.MultiIndex.from_product([timeWindow, ups], names=['交易周期', '上调幅度'])\n",
    "leverNetValueDF_momentumT = pd.DataFrame(index=Returns.index, columns=multiIDX)\n",
    "leverDailyPnlDF_momentumT = pd.DataFrame(index=Returns.index, columns=multiIDX) \n",
    "leverDrawDownDF_momentumT = pd.DataFrame(index=Returns.index, columns=multiIDX)"
   ]
  },
  {
   "cell_type": "code",
   "execution_count": null,
   "metadata": {
    "ExecuteTime": {
     "end_time": "2020-07-03T09:32:08.692044Z",
     "start_time": "2020-07-03T09:18:38.428597Z"
    },
    "scrolled": true
   },
   "outputs": [],
   "source": [
    "thrds = {'Equity':0.50, 'FixedIncome':0.90, 'Commodity':0.30}\n",
    "factors = {'momentumX':False, 'momentumT':True, \n",
    "           'reverseX':False, 'reverseT':False, \n",
    "           'turnover':False, \n",
    "           'copperGold':False, 'copperGas':False}\n",
    "\n",
    "for t in timeWindow:\n",
    "    for u in ups:\n",
    "        tradeDF, weightDF = AlgoLoop.AlgoTrade(Assets, leverReturns, leverCumReturns, Turnovers, \n",
    "                                               mode='ema', dt=t, up=u, thresholds=thrds, \n",
    "                                               factorDict=factors)\n",
    "        StatisticFunc.WeightPlot(tradeDF, weightDF, '杠杆时序动量（指数权重EMA）'+str(t+u))\n",
    "\n",
    "        leverNetValueDF_momentumT.loc[:, (t, u)] = tradeDF['投资组合净值'] / 10000  \n",
    "        leverDailyPnlDF_momentumT.loc[:, (t, u)] = tradeDF['投资组合净值'] / tradeDF['投资组合净值'].shift(1) - 1.0\n",
    "        leverDrawDownDF_momentumT.loc[:, (t, u)] = tradeDF['最大回撤']                      "
   ]
  },
  {
   "cell_type": "markdown",
   "metadata": {},
   "source": [
    "### 回测表现汇总"
   ]
  },
  {
   "cell_type": "code",
   "execution_count": null,
   "metadata": {
    "ExecuteTime": {
     "end_time": "2020-07-03T09:32:08.713811Z",
     "start_time": "2020-07-03T09:32:08.694879Z"
    }
   },
   "outputs": [],
   "source": [
    "# 汇总\n",
    "leverSummaryDF_momentumT = pd.DataFrame(index=multiIDX)\n",
    "\n",
    "leverSummaryDF_momentumT[\"年平均收益率\"] = leverDailyPnlDF_momentumT.mean(axis=0).values * 250\n",
    "leverSummaryDF_momentumT[\"年平均标准差\"] = leverDailyPnlDF_momentumT.std(axis=0).values * np.sqrt(250)\n",
    "leverSummaryDF_momentumT[\"无基准夏普比率\"] = leverSummaryDF_momentumT[\"年平均收益率\"] / leverSummaryDF_momentumT[\"年平均标准差\"]\n",
    "leverSummaryDF_momentumT[\"最大回撤\"] = leverDrawDownDF_momentumT.min(axis=0).values\n",
    "\n",
    "leverSummaryDF_momentumT"
   ]
  },
  {
   "cell_type": "markdown",
   "metadata": {},
   "source": [
    "### 各投资组合净值曲线"
   ]
  },
  {
   "cell_type": "code",
   "execution_count": null,
   "metadata": {
    "ExecuteTime": {
     "end_time": "2020-07-03T09:32:09.482258Z",
     "start_time": "2020-07-03T09:32:08.715652Z"
    }
   },
   "outputs": [],
   "source": [
    "fig = plt.figure(figsize=(16, 8), dpi=200)\n",
    "\n",
    "for col in leverNetValueDF_momentumT.columns:\n",
    "    plt.plot(leverNetValueDF_momentumT.index, leverNetValueDF_momentumT[col], label=col)\n",
    "\n",
    "plt.plot(cumReturns.index, cumReturns['信用债3-5AAA'], lw=3.0, label='信用债3-5AAA')\n",
    "    \n",
    "plt.xlabel('时间')\n",
    "plt.ylabel('净值')\n",
    "plt.ylim(0.0, 5.0)\n",
    "plt.legend(loc='upper left')\n",
    "plt.title('杠杆时间序列动量因子（指数权重EMA）')\n",
    "plt.show()"
   ]
  },
  {
   "cell_type": "markdown",
   "metadata": {},
   "source": [
    "## 反转因子（横向比较）"
   ]
  },
  {
   "cell_type": "markdown",
   "metadata": {},
   "source": [
    "### 程序运行"
   ]
  },
  {
   "cell_type": "code",
   "execution_count": null,
   "metadata": {
    "ExecuteTime": {
     "end_time": "2020-07-06T02:42:31.636210Z",
     "start_time": "2020-07-06T02:42:31.610613Z"
    }
   },
   "outputs": [],
   "source": [
    "# 运行\n",
    "timeWindow = [20, 60, 120, 180, 240]        # 调仓周期\n",
    "ups = [0.50, 1.00]                          # 上调幅度\n",
    "\n",
    "multiIDX = pd.MultiIndex.from_product([timeWindow, ups], names=['交易周期', '上调幅度'])\n",
    "leverNetValueDF_reverseX = pd.DataFrame(index=Returns.index, columns=multiIDX)\n",
    "leverDailyPnlDF_reverseX = pd.DataFrame(index=Returns.index, columns=multiIDX) \n",
    "leverDrawDownDF_reverseX = pd.DataFrame(index=Returns.index, columns=multiIDX)"
   ]
  },
  {
   "cell_type": "code",
   "execution_count": null,
   "metadata": {
    "ExecuteTime": {
     "end_time": "2020-07-06T02:56:05.136725Z",
     "start_time": "2020-07-06T02:42:32.043520Z"
    }
   },
   "outputs": [],
   "source": [
    "thrds = {'Equity':0.50, 'FixedIncome':0.90, 'Commodity':0.30}\n",
    "factors = {'momentumX':False, 'momentumT':False, \n",
    "           'reverseX':True, 'reverseT':False, \n",
    "           'turnover':False,\n",
    "           'copperGold':False, 'copperGas':False}\n",
    "\n",
    "for t in timeWindow:\n",
    "    for u in ups:\n",
    "        tradeDF, weightDF = AlgoLoop.AlgoTrade(Assets, leverReturns, leverCumReturns, Turnovers, \n",
    "                                               mode='ema', dt=t, up=u, thresholds=thrds, \n",
    "                                               factorDict=factors)\n",
    "        StatisticFunc.WeightPlot(tradeDF, weightDF, '杠杆横截面反转（指数权重EMA）'+str(t+u))\n",
    "\n",
    "        leverNetValueDF_reverseX.loc[:, (t, u)] = tradeDF['投资组合净值'] / 10000  \n",
    "        leverDailyPnlDF_reverseX.loc[:, (t, u)] = tradeDF['投资组合净值'] / tradeDF['投资组合净值'].shift(1) - 1.0\n",
    "        leverDrawDownDF_reverseX.loc[:, (t, u)] = tradeDF['最大回撤']                      "
   ]
  },
  {
   "cell_type": "markdown",
   "metadata": {},
   "source": [
    "### 回测表现汇总"
   ]
  },
  {
   "cell_type": "code",
   "execution_count": null,
   "metadata": {
    "ExecuteTime": {
     "end_time": "2020-07-06T02:56:05.154306Z",
     "start_time": "2020-07-06T02:56:05.138513Z"
    }
   },
   "outputs": [],
   "source": [
    "# 汇总\n",
    "leverSummaryDF_reverseX = pd.DataFrame(index=multiIDX)\n",
    "\n",
    "leverSummaryDF_reverseX[\"年平均收益率\"] = leverDailyPnlDF_reverseX.mean(axis=0).values * 250\n",
    "leverSummaryDF_reverseX[\"年平均标准差\"] = leverDailyPnlDF_reverseX.std(axis=0).values * np.sqrt(250)\n",
    "leverSummaryDF_reverseX[\"无基准夏普比率\"] = leverSummaryDF_reverseX[\"年平均收益率\"] / leverSummaryDF_reverseX[\"年平均标准差\"]\n",
    "leverSummaryDF_reverseX[\"最大回撤\"] = leverDrawDownDF_reverseX.min(axis=0).values\n",
    "\n",
    "leverSummaryDF_reverseX"
   ]
  },
  {
   "cell_type": "markdown",
   "metadata": {},
   "source": [
    "### 各投资组合净值曲线"
   ]
  },
  {
   "cell_type": "code",
   "execution_count": null,
   "metadata": {
    "ExecuteTime": {
     "end_time": "2020-07-06T02:56:05.846752Z",
     "start_time": "2020-07-06T02:56:05.156710Z"
    }
   },
   "outputs": [],
   "source": [
    "fig = plt.figure(figsize=(16, 8), dpi=200)\n",
    "\n",
    "for col in leverNetValueDF_reverseX.columns:\n",
    "    plt.plot(leverNetValueDF_reverseX.index, leverNetValueDF_reverseX[col], label=col)\n",
    "    \n",
    "plt.plot(cumReturns.index, cumReturns['信用债3-5AAA'], lw=3.0, label='信用债3-5AAA')\n",
    "\n",
    "plt.xlabel('时间')\n",
    "plt.ylabel('净值')\n",
    "plt.ylim(0.0, 5.0)\n",
    "plt.legend(loc='upper left')\n",
    "plt.title('杠杆横截面反转因子（指数权重EMA）')\n",
    "plt.show()"
   ]
  },
  {
   "cell_type": "markdown",
   "metadata": {},
   "source": [
    "## 反转因子 （时序比较）"
   ]
  },
  {
   "cell_type": "markdown",
   "metadata": {},
   "source": [
    "### 程序运行"
   ]
  },
  {
   "cell_type": "code",
   "execution_count": null,
   "metadata": {
    "ExecuteTime": {
     "end_time": "2020-07-04T04:49:11.668030Z",
     "start_time": "2020-07-04T04:49:11.641899Z"
    }
   },
   "outputs": [],
   "source": [
    "# 运行\n",
    "timeWindow = [20, 60, 120, 180, 240]        # 调仓周期\n",
    "ups = [0.50, 1.00]                          # 上调幅度\n",
    "\n",
    "multiIDX = pd.MultiIndex.from_product([timeWindow, ups], names=['交易周期', '上调幅度'])\n",
    "leverNetValueDF_reverseT = pd.DataFrame(index=Returns.index, columns=multiIDX)\n",
    "leverDailyPnlDF_reverseT = pd.DataFrame(index=Returns.index, columns=multiIDX) \n",
    "leverDrawDownDF_reverseT = pd.DataFrame(index=Returns.index, columns=multiIDX)"
   ]
  },
  {
   "cell_type": "code",
   "execution_count": null,
   "metadata": {
    "ExecuteTime": {
     "end_time": "2020-07-04T05:01:22.746742Z",
     "start_time": "2020-07-04T04:49:11.670165Z"
    }
   },
   "outputs": [],
   "source": [
    "thrds = {'Equity':0.50, 'FixedIncome':0.90, 'Commodity':0.30}\n",
    "factors = {'momentumX':False, 'momentumT':False, \n",
    "           'reverseX':False, 'reverseT':True, \n",
    "           'turnover':False,\n",
    "           'copperGold':False, 'copperGas':False}\n",
    "\n",
    "for t in timeWindow:\n",
    "    for u in ups:\n",
    "        tradeDF, weightDF = AlgoLoop.AlgoTrade(Assets, leverReturns, leverCumReturns, Turnovers, \n",
    "                                               mode='ema', dt=t, up=u, thresholds=thrds, \n",
    "                                               factorDict=factors)\n",
    "        StatisticFunc.WeightPlot(tradeDF, weightDF, '杠杆时序反转（指数权重EMA）'+str(t+u))\n",
    "\n",
    "        leverNetValueDF_reverseT.loc[:, (t, u)] = tradeDF['投资组合净值'] / 10000  \n",
    "        leverDailyPnlDF_reverseT.loc[:, (t, u)] = tradeDF['投资组合净值'] / tradeDF['投资组合净值'].shift(1) - 1.0\n",
    "        leverDrawDownDF_reverseT.loc[:, (t, u)] = tradeDF['最大回撤']                      "
   ]
  },
  {
   "cell_type": "markdown",
   "metadata": {},
   "source": [
    "### 回测表现汇总"
   ]
  },
  {
   "cell_type": "code",
   "execution_count": null,
   "metadata": {
    "ExecuteTime": {
     "end_time": "2020-07-04T05:01:22.771523Z",
     "start_time": "2020-07-04T05:01:22.749157Z"
    }
   },
   "outputs": [],
   "source": [
    "# 汇总\n",
    "leverSummaryDF_reverseT = pd.DataFrame(index=multiIDX)\n",
    "\n",
    "leverSummaryDF_reverseT[\"年平均收益率\"] = leverDailyPnlDF_reverseT.mean(axis=0).values * 250\n",
    "leverSummaryDF_reverseT[\"年平均标准差\"] = leverDailyPnlDF_reverseT.std(axis=0).values * np.sqrt(250)\n",
    "leverSummaryDF_reverseT[\"无基准夏普比率\"] = leverSummaryDF_reverseT[\"年平均收益率\"] / leverSummaryDF_reverseT[\"年平均标准差\"]\n",
    "leverSummaryDF_reverseT[\"最大回撤\"] = leverDrawDownDF_reverseT.min(axis=0).values\n",
    "\n",
    "leverSummaryDF_reverseT"
   ]
  },
  {
   "cell_type": "markdown",
   "metadata": {},
   "source": [
    "### 各投资组合净值曲线"
   ]
  },
  {
   "cell_type": "code",
   "execution_count": null,
   "metadata": {
    "ExecuteTime": {
     "end_time": "2020-07-04T05:01:23.531426Z",
     "start_time": "2020-07-04T05:01:22.775414Z"
    }
   },
   "outputs": [],
   "source": [
    "fig = plt.figure(figsize=(16, 8), dpi=200)\n",
    "\n",
    "for col in leverNetValueDF_reverseT.columns:\n",
    "    plt.plot(leverNetValueDF_reverseT.index, leverNetValueDF_reverseT[col], label=col)\n",
    "\n",
    "plt.plot(cumReturns.index, cumReturns['信用债3-5AAA'], lw=3.0, label='信用债3-5AAA')\n",
    "    \n",
    "plt.xlabel('时间')\n",
    "plt.ylabel('净值')\n",
    "plt.ylim(0.0, 5.0)\n",
    "plt.legend(loc='upper left')\n",
    "plt.title('杠杆时序反转因子（指数权重EMA）')\n",
    "plt.show()"
   ]
  },
  {
   "cell_type": "markdown",
   "metadata": {},
   "source": [
    "## 情绪因子（股指换手率）"
   ]
  },
  {
   "cell_type": "markdown",
   "metadata": {},
   "source": [
    "### 程序运行"
   ]
  },
  {
   "cell_type": "code",
   "execution_count": null,
   "metadata": {
    "ExecuteTime": {
     "end_time": "2020-07-04T05:01:23.559601Z",
     "start_time": "2020-07-04T05:01:23.535036Z"
    }
   },
   "outputs": [],
   "source": [
    "# 运行\n",
    "timeWindow = [20, 60, 120, 180, 240]        # 调仓周期\n",
    "ups = [0.50, 1.00]                          # 上调幅度\n",
    "\n",
    "multiIDX = pd.MultiIndex.from_product([timeWindow, ups], names=['交易周期', '上调幅度'])\n",
    "leverNetValueDF_turnover = pd.DataFrame(index=Returns.index, columns=multiIDX)\n",
    "leverDailyPnlDF_turnover = pd.DataFrame(index=Returns.index, columns=multiIDX) \n",
    "leverDrawDownDF_turnover = pd.DataFrame(index=Returns.index, columns=multiIDX)"
   ]
  },
  {
   "cell_type": "code",
   "execution_count": null,
   "metadata": {
    "ExecuteTime": {
     "end_time": "2020-07-04T05:13:35.437572Z",
     "start_time": "2020-07-04T05:01:23.561998Z"
    }
   },
   "outputs": [],
   "source": [
    "thrds = {'Equity':0.50, 'FixedIncome':0.90, 'Commodity':0.30}\n",
    "factors = {'momentumX':False, 'momentumT':False, \n",
    "           'reverseX':False, 'reverseT':False, \n",
    "           'turnover':True, \n",
    "           'copperGold':False, 'copperGas':False}\n",
    "\n",
    "for t in timeWindow:\n",
    "    for u in ups:\n",
    "        tradeDF, weightDF = AlgoLoop.AlgoTrade(Assets, leverReturns, leverCumReturns, Turnovers, \n",
    "                                               mode='plain', dt=t, up=u, thresholds=thrds, \n",
    "                                               factorDict=factors)\n",
    "        StatisticFunc.WeightPlot(tradeDF, weightDF, '杠杆换手率（指数权重EMA）'+str(t+u))\n",
    "\n",
    "        leverNetValueDF_turnover.loc[:, (t, u)] = tradeDF['投资组合净值'] / 10000  \n",
    "        leverDailyPnlDF_turnover.loc[:, (t, u)] = tradeDF['投资组合净值'] / tradeDF['投资组合净值'].shift(1) - 1.0\n",
    "        leverDrawDownDF_turnover.loc[:, (t, u)] = tradeDF['最大回撤']                      "
   ]
  },
  {
   "cell_type": "markdown",
   "metadata": {},
   "source": [
    "### 回测表现汇总"
   ]
  },
  {
   "cell_type": "code",
   "execution_count": null,
   "metadata": {
    "ExecuteTime": {
     "end_time": "2020-07-04T05:13:35.457919Z",
     "start_time": "2020-07-04T05:13:35.439560Z"
    },
    "scrolled": false
   },
   "outputs": [],
   "source": [
    "# 汇总\n",
    "leverSummaryDF_turnover = pd.DataFrame(index=multiIDX)\n",
    "\n",
    "leverSummaryDF_turnover[\"年平均收益率\"] = leverDailyPnlDF_turnover.mean(axis=0).values * 250\n",
    "leverSummaryDF_turnover[\"年平均标准差\"] = leverDailyPnlDF_turnover.std(axis=0).values * np.sqrt(250)\n",
    "leverSummaryDF_turnover[\"无基准夏普比率\"] = leverSummaryDF_turnover[\"年平均收益率\"] / leverSummaryDF_turnover[\"年平均标准差\"]\n",
    "leverSummaryDF_turnover[\"最大回撤\"] = leverDrawDownDF_turnover.min(axis=0).values\n",
    "\n",
    "leverSummaryDF_turnover"
   ]
  },
  {
   "cell_type": "markdown",
   "metadata": {},
   "source": [
    "### 各投资组合净值曲线"
   ]
  },
  {
   "cell_type": "code",
   "execution_count": null,
   "metadata": {
    "ExecuteTime": {
     "end_time": "2020-07-04T05:13:36.133716Z",
     "start_time": "2020-07-04T05:13:35.459539Z"
    },
    "scrolled": false
   },
   "outputs": [],
   "source": [
    "fig = plt.figure(figsize=(16, 8), dpi=200)\n",
    "\n",
    "for col in leverNetValueDF_turnover.columns:\n",
    "    plt.plot(leverNetValueDF_turnover.index, leverNetValueDF_turnover[col], label=col)\n",
    "    \n",
    "plt.plot(cumReturns.index, cumReturns['信用债3-5AAA'], lw=3.0, label='信用债3-5AAA')\n",
    "\n",
    "plt.xlabel('时间')\n",
    "plt.ylabel('净值')\n",
    "plt.ylim(0.0, 5.0)\n",
    "plt.legend(loc='upper left')\n",
    "plt.title('杠杆股指换手率因子（指数权重EMA）')\n",
    "plt.show()"
   ]
  },
  {
   "cell_type": "markdown",
   "metadata": {},
   "source": [
    "## 铜金价格比因子（十年国债反转）"
   ]
  },
  {
   "cell_type": "markdown",
   "metadata": {},
   "source": [
    "### 程序运行"
   ]
  },
  {
   "cell_type": "code",
   "execution_count": null,
   "metadata": {
    "ExecuteTime": {
     "end_time": "2020-07-04T05:13:36.158292Z",
     "start_time": "2020-07-04T05:13:36.135661Z"
    }
   },
   "outputs": [],
   "source": [
    "# 运行\n",
    "timeWindow = [20, 60, 120, 180, 240]        # 调仓周期\n",
    "ups = [0.50, 1.00]                          # 上调幅度\n",
    "\n",
    "multiIDX = pd.MultiIndex.from_product([timeWindow, ups], names=['交易周期', '上调幅度'])\n",
    "leverNetValueDF_copperGold = pd.DataFrame(index=Returns.index, columns=multiIDX)\n",
    "leverDailyPnlDF_copperGold = pd.DataFrame(index=Returns.index, columns=multiIDX) \n",
    "leverDrawDownDF_copperGold = pd.DataFrame(index=Returns.index, columns=multiIDX)"
   ]
  },
  {
   "cell_type": "code",
   "execution_count": null,
   "metadata": {
    "ExecuteTime": {
     "end_time": "2020-07-04T05:25:46.847861Z",
     "start_time": "2020-07-04T05:13:36.160532Z"
    }
   },
   "outputs": [],
   "source": [
    "thrds = {'Equity':0.50, 'FixedIncome':0.90, 'Commodity':0.30}\n",
    "factors = {'momentumX':False, 'momentumT':False, \n",
    "            'reverseX':False, 'reverseT':False,\n",
    "            'turnover':False, \n",
    "            'copperGold':True, 'copperGas':False}\n",
    "\n",
    "for t in timeWindow:\n",
    "    for u in ups:\n",
    "        tradeDF, weightDF = AlgoLoop.AlgoTrade(Assets, leverReturns, leverCumReturns, Turnovers, \n",
    "                                               mode='ema', dt=t, up=u, thresholds=thrds, \n",
    "                                               factorDict=factors)\n",
    "        StatisticFunc.WeightPlot(tradeDF, weightDF, '杠杆铜金价格比（指数权重EMA）'+str(t+u))\n",
    "\n",
    "        leverNetValueDF_copperGold.loc[:, (t, u)] = tradeDF['投资组合净值'] / 10000  \n",
    "        leverDailyPnlDF_copperGold.loc[:, (t, u)] = tradeDF['投资组合净值'] / tradeDF['投资组合净值'].shift(1) - 1.0\n",
    "        leverDrawDownDF_copperGold.loc[:, (t, u)] = tradeDF['最大回撤']                      "
   ]
  },
  {
   "cell_type": "markdown",
   "metadata": {},
   "source": [
    "### 回测表现汇总"
   ]
  },
  {
   "cell_type": "code",
   "execution_count": null,
   "metadata": {
    "ExecuteTime": {
     "end_time": "2020-07-04T05:25:46.867891Z",
     "start_time": "2020-07-04T05:25:46.850498Z"
    },
    "scrolled": false
   },
   "outputs": [],
   "source": [
    "# 汇总\n",
    "leverSummaryDF_copperGold = pd.DataFrame(index=multiIDX)\n",
    "\n",
    "leverSummaryDF_copperGold[\"年平均收益率\"] = leverDailyPnlDF_copperGold.mean(axis=0).values * 250\n",
    "leverSummaryDF_copperGold[\"年平均标准差\"] = leverDailyPnlDF_copperGold.std(axis=0).values * np.sqrt(250)\n",
    "leverSummaryDF_copperGold[\"无基准夏普比率\"] = leverSummaryDF_copperGold[\"年平均收益率\"] / leverSummaryDF_copperGold[\"年平均标准差\"]\n",
    "leverSummaryDF_copperGold[\"最大回撤\"] = leverDrawDownDF_copperGold.min(axis=0).values\n",
    "\n",
    "leverSummaryDF_copperGold"
   ]
  },
  {
   "cell_type": "markdown",
   "metadata": {},
   "source": [
    "### 各投资组合净值曲线"
   ]
  },
  {
   "cell_type": "code",
   "execution_count": null,
   "metadata": {
    "ExecuteTime": {
     "end_time": "2020-07-06T01:47:46.795674Z",
     "start_time": "2020-07-06T01:47:46.075857Z"
    },
    "scrolled": false
   },
   "outputs": [],
   "source": [
    "fig = plt.figure(figsize=(16, 8), dpi=200)\n",
    "\n",
    "for col in leverNetValueDF_copperGold.columns:\n",
    "    plt.plot(leverNetValueDF_copperGold.index, leverNetValueDF_copperGold[col], label=col)\n",
    "    \n",
    "plt.plot(cumReturns.index, cumReturns['信用债3-5AAA'], lw=3.0, label='信用债3-5AAA')\n",
    "\n",
    "plt.xlabel('时间')\n",
    "plt.ylabel('净值')\n",
    "plt.ylim(0.0, 5.0)\n",
    "plt.legend(loc='upper left')\n",
    "plt.title('杠杆铜金价格比因子（指数权重EMA）')\n",
    "plt.show()"
   ]
  },
  {
   "cell_type": "markdown",
   "metadata": {},
   "source": [
    "## 铜油价格比因子（沪深300动量）"
   ]
  },
  {
   "cell_type": "markdown",
   "metadata": {},
   "source": [
    "### 程序运行"
   ]
  },
  {
   "cell_type": "code",
   "execution_count": null,
   "metadata": {
    "ExecuteTime": {
     "end_time": "2020-07-06T02:06:56.771548Z",
     "start_time": "2020-07-06T02:06:56.746260Z"
    }
   },
   "outputs": [],
   "source": [
    "# 运行\n",
    "timeWindow = [20, 60, 120, 180, 240]        # 调仓周期\n",
    "ups = [0.50, 1.00]                          # 上调幅度\n",
    "\n",
    "multiIDX = pd.MultiIndex.from_product([timeWindow, ups], names=['交易周期', '上调幅度'])\n",
    "leverNetValueDF_copperGas = pd.DataFrame(index=Returns.index, columns=multiIDX)\n",
    "leverDailyPnlDF_copperGas = pd.DataFrame(index=Returns.index, columns=multiIDX) \n",
    "leverDrawDownDF_copperGas = pd.DataFrame(index=Returns.index, columns=multiIDX)"
   ]
  },
  {
   "cell_type": "code",
   "execution_count": null,
   "metadata": {
    "ExecuteTime": {
     "end_time": "2020-07-06T02:20:47.437408Z",
     "start_time": "2020-07-06T02:06:56.773705Z"
    }
   },
   "outputs": [],
   "source": [
    "thrds = {'Equity':0.50, 'FixedIncome':0.90, 'Commodity':0.30}\n",
    "factors = {'momentumX':False, 'momentumT':False, \n",
    "            'reverseX':False, 'reverseT':False,\n",
    "            'turnover':False, \n",
    "            'copperGold':False, 'copperGas':True}\n",
    "\n",
    "for t in timeWindow:\n",
    "    for u in ups:\n",
    "        tradeDF, weightDF = AlgoLoop.AlgoTrade(Assets, leverReturns, leverCumReturns, Turnovers, \n",
    "                                               mode='ema', dt=t, up=u, thresholds=thrds, \n",
    "                                               factorDict=factors)\n",
    "        StatisticFunc.WeightPlot(tradeDF, weightDF, '杠杆铜油价格比（指数权重EMA）'+str(t+u))\n",
    "\n",
    "        leverNetValueDF_copperGas.loc[:, (t, u)] = tradeDF['投资组合净值'] / 10000  \n",
    "        leverDailyPnlDF_copperGas.loc[:, (t, u)] = tradeDF['投资组合净值'] / tradeDF['投资组合净值'].shift(1) - 1.0\n",
    "        leverDrawDownDF_copperGas.loc[:, (t, u)] = tradeDF['最大回撤']                      "
   ]
  },
  {
   "cell_type": "markdown",
   "metadata": {},
   "source": [
    "### 回测表现汇总"
   ]
  },
  {
   "cell_type": "code",
   "execution_count": null,
   "metadata": {
    "ExecuteTime": {
     "end_time": "2020-07-06T02:20:47.457150Z",
     "start_time": "2020-07-06T02:20:47.439349Z"
    },
    "scrolled": false
   },
   "outputs": [],
   "source": [
    "# 汇总\n",
    "leverSummaryDF_copperGas = pd.DataFrame(index=multiIDX)\n",
    "\n",
    "leverSummaryDF_copperGas[\"年平均收益率\"] = leverDailyPnlDF_copperGas.mean(axis=0).values * 250\n",
    "leverSummaryDF_copperGas[\"年平均标准差\"] = leverDailyPnlDF_copperGas.std(axis=0).values * np.sqrt(250)\n",
    "leverSummaryDF_copperGas[\"无基准夏普比率\"] = leverSummaryDF_copperGas[\"年平均收益率\"] / leverSummaryDF_copperGas[\"年平均标准差\"]\n",
    "leverSummaryDF_copperGas[\"最大回撤\"] = leverDrawDownDF_copperGas.min(axis=0).values\n",
    "\n",
    "leverSummaryDF_copperGas"
   ]
  },
  {
   "cell_type": "markdown",
   "metadata": {},
   "source": [
    "### 各投资组合净值曲线"
   ]
  },
  {
   "cell_type": "code",
   "execution_count": null,
   "metadata": {
    "ExecuteTime": {
     "end_time": "2020-07-06T02:20:48.268603Z",
     "start_time": "2020-07-06T02:20:47.458816Z"
    },
    "scrolled": true
   },
   "outputs": [],
   "source": [
    "fig = plt.figure(figsize=(16, 8), dpi=200)\n",
    "\n",
    "for col in leverNetValueDF_copperGas.columns:\n",
    "    plt.plot(leverNetValueDF_copperGas.index, leverNetValueDF_copperGas[col], label=col)\n",
    "    \n",
    "plt.plot(cumReturns.index, cumReturns['信用债3-5AAA'], lw=3.0, label='信用债3-5AAA')\n",
    "\n",
    "plt.xlabel('时间')\n",
    "plt.ylabel('净值')\n",
    "plt.ylim(0.0, 5.0)\n",
    "plt.legend(loc='upper left')\n",
    "plt.title('杠杆铜油价格比因子（指数权重EMA）')\n",
    "plt.show()"
   ]
  },
  {
   "cell_type": "markdown",
   "metadata": {},
   "source": [
    "# 风险平价+杠杆+多因子策略（指数平均EMA）"
   ]
  },
  {
   "cell_type": "markdown",
   "metadata": {},
   "source": [
    "## 多因子（铜金 + 时序反转）"
   ]
  },
  {
   "cell_type": "markdown",
   "metadata": {},
   "source": [
    "### 程序运行"
   ]
  },
  {
   "cell_type": "code",
   "execution_count": null,
   "metadata": {
    "ExecuteTime": {
     "end_time": "2020-07-06T13:57:01.501468Z",
     "start_time": "2020-07-06T13:57:01.480414Z"
    }
   },
   "outputs": [],
   "source": [
    "# 运行\n",
    "timeWindow = [20, 60, 120, 180, 240]        # 调仓周期\n",
    "ups = [0.50, 1.00]                          # 上调幅度\n",
    "\n",
    "multiIDX = pd.MultiIndex.from_product([timeWindow, ups], names=['交易周期', '上调幅度'])\n",
    "leverNetValueDF_multi = pd.DataFrame(index=Returns.index, columns=multiIDX)\n",
    "leverDailyPnlDF_multi = pd.DataFrame(index=Returns.index, columns=multiIDX) \n",
    "leverDrawDownDF_multi = pd.DataFrame(index=Returns.index, columns=multiIDX)"
   ]
  },
  {
   "cell_type": "code",
   "execution_count": null,
   "metadata": {
    "ExecuteTime": {
     "end_time": "2020-07-06T14:09:53.812774Z",
     "start_time": "2020-07-06T13:57:01.858610Z"
    }
   },
   "outputs": [],
   "source": [
    "thrds = {'Equity':0.50, 'FixedIncome':0.90, 'Commodity':0.30}\n",
    "factors = {'momentumX':False, 'momentumT':False, \n",
    "            'reverseX':False, 'reverseT':True,\n",
    "            'turnover':False, \n",
    "            'copperGold':True, 'copperGas':False}\n",
    "\n",
    "for t in timeWindow:\n",
    "    for u in ups:\n",
    "        tradeDF, weightDF = AlgoLoop.AlgoTrade(Assets, leverReturns, leverCumReturns, Turnovers, \n",
    "                                               mode='ema', dt=t, up=u, thresholds=thrds, \n",
    "                                               factorDict=factors)\n",
    "        StatisticFunc.WeightPlot(tradeDF, weightDF, '杠杆-铜金-时序反转（指数权重EMA）'+str(t+u))\n",
    "\n",
    "        leverNetValueDF_multi.loc[:, (t, u)] = tradeDF['投资组合净值'] / 10000  \n",
    "        leverDailyPnlDF_multi.loc[:, (t, u)] = tradeDF['投资组合净值'] / tradeDF['投资组合净值'].shift(1) - 1.0\n",
    "        leverDrawDownDF_multi.loc[:, (t, u)] = tradeDF['最大回撤']                      "
   ]
  },
  {
   "cell_type": "markdown",
   "metadata": {},
   "source": [
    "### 回测表现汇总"
   ]
  },
  {
   "cell_type": "code",
   "execution_count": null,
   "metadata": {
    "ExecuteTime": {
     "end_time": "2020-07-06T14:09:53.833327Z",
     "start_time": "2020-07-06T14:09:53.814861Z"
    },
    "scrolled": false
   },
   "outputs": [],
   "source": [
    "# 汇总\n",
    "leverSummaryDF_multi = pd.DataFrame(index=multiIDX)\n",
    "\n",
    "leverSummaryDF_multi[\"年平均收益率\"] = leverDailyPnlDF_multi.mean(axis=0).values * 250\n",
    "leverSummaryDF_multi[\"年平均标准差\"] = leverDailyPnlDF_multi.std(axis=0).values * np.sqrt(250)\n",
    "leverSummaryDF_multi[\"无基准夏普比率\"] = leverSummaryDF_multi[\"年平均收益率\"] / leverSummaryDF_multi[\"年平均标准差\"]\n",
    "leverSummaryDF_multi[\"最大回撤\"] = leverDrawDownDF_multi.min(axis=0).values\n",
    "\n",
    "leverSummaryDF_multi"
   ]
  },
  {
   "cell_type": "markdown",
   "metadata": {},
   "source": [
    "### 各投资组合净值曲线"
   ]
  },
  {
   "cell_type": "code",
   "execution_count": null,
   "metadata": {
    "ExecuteTime": {
     "end_time": "2020-07-06T14:09:54.554721Z",
     "start_time": "2020-07-06T14:09:53.835528Z"
    },
    "scrolled": false
   },
   "outputs": [],
   "source": [
    "fig = plt.figure(figsize=(16, 8), dpi=200)\n",
    "\n",
    "for col in leverNetValueDF_multi.columns:\n",
    "    plt.plot(leverNetValueDF_multi.index, leverNetValueDF_multi[col], label=col)\n",
    "    \n",
    "plt.plot(cumReturns.index, cumReturns['信用债3-5AAA'], lw=3.0, label='信用债3-5AAA')\n",
    "\n",
    "plt.xlabel('时间')\n",
    "plt.ylabel('净值')\n",
    "plt.ylim(0.0, 5.0)\n",
    "plt.legend(loc='upper left')\n",
    "plt.title('杠杆-铜金-时序反转（指数权重EMA）')\n",
    "plt.show()"
   ]
  },
  {
   "cell_type": "markdown",
   "metadata": {},
   "source": [
    "## 多因子（铜油 + 时序反转）"
   ]
  },
  {
   "cell_type": "markdown",
   "metadata": {},
   "source": [
    "### 程序运行"
   ]
  },
  {
   "cell_type": "code",
   "execution_count": null,
   "metadata": {
    "ExecuteTime": {
     "end_time": "2020-07-06T14:09:54.582027Z",
     "start_time": "2020-07-06T14:09:54.557197Z"
    }
   },
   "outputs": [],
   "source": [
    "# 运行\n",
    "timeWindow = [20, 60, 120, 180, 240]        # 调仓周期\n",
    "ups = [0.50, 1.00]                          # 上调幅度\n",
    "\n",
    "multiIDX = pd.MultiIndex.from_product([timeWindow, ups], names=['交易周期', '上调幅度'])\n",
    "leverNetValueDF_multi2 = pd.DataFrame(index=Returns.index, columns=multiIDX)\n",
    "leverDailyPnlDF_multi2 = pd.DataFrame(index=Returns.index, columns=multiIDX) \n",
    "leverDrawDownDF_multi2 = pd.DataFrame(index=Returns.index, columns=multiIDX)"
   ]
  },
  {
   "cell_type": "code",
   "execution_count": null,
   "metadata": {
    "ExecuteTime": {
     "end_time": "2020-07-06T14:22:07.546495Z",
     "start_time": "2020-07-06T14:09:54.583797Z"
    },
    "scrolled": true
   },
   "outputs": [],
   "source": [
    "thrds = {'Equity':0.50, 'FixedIncome':0.90, 'Commodity':0.30}\n",
    "factors = {'momentumX':False, 'momentumT':False, \n",
    "            'reverseX':False, 'reverseT':True,\n",
    "            'turnover':False, \n",
    "            'copperGold':False, 'copperGas':True}\n",
    "\n",
    "for t in timeWindow:\n",
    "    for u in ups:\n",
    "        tradeDF, weightDF = AlgoLoop.AlgoTrade(Assets, leverReturns, leverCumReturns, Turnovers, \n",
    "                                               mode='ema', dt=t, up=u, thresholds=thrds, \n",
    "                                               factorDict=factors)\n",
    "        StatisticFunc.WeightPlot(tradeDF, weightDF, '杠杆-铜油-时序反转（指数权重EMA）'+str(t+u))\n",
    "\n",
    "        leverNetValueDF_multi2.loc[:, (t, u)] = tradeDF['投资组合净值'] / 10000  \n",
    "        leverDailyPnlDF_multi2.loc[:, (t, u)] = tradeDF['投资组合净值'] / tradeDF['投资组合净值'].shift(1) - 1.0\n",
    "        leverDrawDownDF_multi2.loc[:, (t, u)] = tradeDF['最大回撤']                      "
   ]
  },
  {
   "cell_type": "markdown",
   "metadata": {},
   "source": [
    "### 回测表现汇总"
   ]
  },
  {
   "cell_type": "code",
   "execution_count": null,
   "metadata": {
    "ExecuteTime": {
     "end_time": "2020-07-06T14:22:07.566384Z",
     "start_time": "2020-07-06T14:22:07.549677Z"
    },
    "scrolled": false
   },
   "outputs": [],
   "source": [
    "# 汇总\n",
    "leverSummaryDF_multi2 = pd.DataFrame(index=multiIDX)\n",
    "\n",
    "leverSummaryDF_multi2[\"年平均收益率\"] = leverDailyPnlDF_multi2.mean(axis=0).values * 250\n",
    "leverSummaryDF_multi2[\"年平均标准差\"] = leverDailyPnlDF_multi2.std(axis=0).values * np.sqrt(250)\n",
    "leverSummaryDF_multi2[\"无基准夏普比率\"] = leverSummaryDF_multi2[\"年平均收益率\"] / leverSummaryDF_multi2[\"年平均标准差\"]\n",
    "leverSummaryDF_multi2[\"最大回撤\"] = leverDrawDownDF_multi2.min(axis=0).values\n",
    "\n",
    "leverSummaryDF_multi2"
   ]
  },
  {
   "cell_type": "markdown",
   "metadata": {},
   "source": [
    "### 各投资组合净值曲线"
   ]
  },
  {
   "cell_type": "code",
   "execution_count": null,
   "metadata": {
    "ExecuteTime": {
     "end_time": "2020-07-06T14:22:08.256465Z",
     "start_time": "2020-07-06T14:22:07.567954Z"
    },
    "scrolled": false
   },
   "outputs": [],
   "source": [
    "fig = plt.figure(figsize=(16, 8), dpi=200)\n",
    "\n",
    "for col in leverNetValueDF_multi2.columns:\n",
    "    plt.plot(leverNetValueDF_multi2.index, leverNetValueDF_multi2[col], label=col)\n",
    "    \n",
    "plt.plot(cumReturns.index, cumReturns['信用债3-5AAA'], lw=3.0, label='信用债3-5AAA')\n",
    "\n",
    "plt.xlabel('时间')\n",
    "plt.ylabel('净值')\n",
    "plt.ylim(0.0, 5.0)\n",
    "plt.legend(loc='upper left')\n",
    "plt.title('杠杆-铜油-时序反转（指数权重EMA）')\n",
    "plt.show()"
   ]
  },
  {
   "cell_type": "markdown",
   "metadata": {},
   "source": [
    "# 最佳组合（杠杆+时序动量+铜金）"
   ]
  },
  {
   "cell_type": "markdown",
   "metadata": {},
   "source": [
    "## 程序运行"
   ]
  },
  {
   "cell_type": "code",
   "execution_count": null,
   "metadata": {
    "ExecuteTime": {
     "end_time": "2020-07-07T05:06:22.345329Z",
     "start_time": "2020-07-07T05:06:22.324517Z"
    }
   },
   "outputs": [],
   "source": [
    "# 运行\n",
    "timeWindow = [20, 60, 120, 180, 240]        # 调仓周期\n",
    "ups = [0.50, 1.00]                          # 上调幅度\n",
    "\n",
    "multiIDX = pd.MultiIndex.from_product([timeWindow, ups], names=['交易周期', '上调幅度'])\n",
    "leverNetValueDF_best = pd.DataFrame(index=Returns.index, columns=multiIDX)\n",
    "leverDailyPnlDF_best = pd.DataFrame(index=Returns.index, columns=multiIDX) \n",
    "leverDrawDownDF_best = pd.DataFrame(index=Returns.index, columns=multiIDX)"
   ]
  },
  {
   "cell_type": "code",
   "execution_count": null,
   "metadata": {
    "ExecuteTime": {
     "end_time": "2020-07-07T05:19:19.888265Z",
     "start_time": "2020-07-07T05:06:22.736596Z"
    }
   },
   "outputs": [],
   "source": [
    "thrds = {'Equity':0.50, 'FixedIncome':0.90, 'Commodity':0.30}\n",
    "factors = {'momentumX':True, 'momentumT':True, \n",
    "            'reverseX':False, 'reverseT':False,\n",
    "            'turnover':True, \n",
    "            'copperGold':True, 'copperGas':True}\n",
    "\n",
    "for t in timeWindow:\n",
    "    for u in ups:\n",
    "        tradeDF, weightDF = AlgoLoop.AlgoTrade(Assets, leverReturns, leverCumReturns, Turnovers, \n",
    "                                               mode='ema', dt=t, up=u, thresholds=thrds, \n",
    "                                               factorDict=factors)\n",
    "        StatisticFunc.WeightPlot(tradeDF, weightDF, '杠杆+横截面动量+时序动量+换手率+铜金+铜油（指数权重）'+str(t+u))\n",
    "\n",
    "        leverNetValueDF_best.loc[:, (t, u)] = tradeDF['投资组合净值'] / 10000  \n",
    "        leverDailyPnlDF_best.loc[:, (t, u)] = tradeDF['投资组合净值'] / tradeDF['投资组合净值'].shift(1) - 1.0\n",
    "        leverDrawDownDF_best.loc[:, (t, u)] = tradeDF['最大回撤']                      "
   ]
  },
  {
   "cell_type": "markdown",
   "metadata": {},
   "source": [
    "## 回测表现汇总"
   ]
  },
  {
   "cell_type": "code",
   "execution_count": null,
   "metadata": {
    "ExecuteTime": {
     "end_time": "2020-07-07T05:19:19.913623Z",
     "start_time": "2020-07-07T05:19:19.890719Z"
    },
    "scrolled": true
   },
   "outputs": [],
   "source": [
    "# 汇总\n",
    "leverSummaryDF_best = pd.DataFrame(index=multiIDX)\n",
    "\n",
    "leverSummaryDF_best[\"年平均收益率\"] = leverDailyPnlDF_best.mean(axis=0).values * 250\n",
    "leverSummaryDF_best[\"年平均标准差\"] = leverDailyPnlDF_best.std(axis=0).values * np.sqrt(250)\n",
    "leverSummaryDF_best[\"无基准夏普比率\"] = leverSummaryDF_best[\"年平均收益率\"] / leverSummaryDF_best[\"年平均标准差\"]\n",
    "leverSummaryDF_best[\"最大回撤\"] = leverDrawDownDF_best.min(axis=0).values\n",
    "\n",
    "leverSummaryDF_best"
   ]
  },
  {
   "cell_type": "markdown",
   "metadata": {},
   "source": [
    "## 各投资组合净值曲线"
   ]
  },
  {
   "cell_type": "code",
   "execution_count": null,
   "metadata": {
    "ExecuteTime": {
     "end_time": "2020-07-07T05:19:20.640052Z",
     "start_time": "2020-07-07T05:19:19.916770Z"
    },
    "scrolled": false
   },
   "outputs": [],
   "source": [
    "fig = plt.figure(figsize=(16, 8), dpi=200)\n",
    "\n",
    "for col in leverNetValueDF_best.columns:\n",
    "    plt.plot(leverNetValueDF_best.index, leverNetValueDF_best[col], label=col)\n",
    "    \n",
    "plt.plot(cumReturns.index, cumReturns['信用债3-5AAA'], lw=3.0, label='信用债3-5AAA')\n",
    "\n",
    "plt.xlabel('时间')\n",
    "plt.ylabel('净值')\n",
    "plt.ylim(0.0, 5.0)\n",
    "plt.legend(loc='upper left')\n",
    "plt.title('杠杆+横截面动量+时序动量+换手率+铜金+铜油（指数权重）')\n",
    "plt.show()"
   ]
  },
  {
   "cell_type": "code",
   "execution_count": null,
   "metadata": {},
   "outputs": [],
   "source": []
  },
  {
   "cell_type": "code",
   "execution_count": null,
   "metadata": {},
   "outputs": [],
   "source": []
  }
 ],
 "metadata": {
  "kernelspec": {
   "display_name": "Python 3",
   "language": "python",
   "name": "python3"
  },
  "language_info": {
   "codemirror_mode": {
    "name": "ipython",
    "version": 3
   },
   "file_extension": ".py",
   "mimetype": "text/x-python",
   "name": "python",
   "nbconvert_exporter": "python",
   "pygments_lexer": "ipython3",
   "version": "3.7.7"
  },
  "latex_envs": {
   "LaTeX_envs_menu_present": true,
   "autoclose": false,
   "autocomplete": true,
   "bibliofile": "biblio.bib",
   "cite_by": "apalike",
   "current_citInitial": 1,
   "eqLabelWithNumbers": true,
   "eqNumInitial": 1,
   "hotkeys": {
    "equation": "Ctrl-E",
    "itemize": "Ctrl-I"
   },
   "labels_anchors": false,
   "latex_user_defs": false,
   "report_style_numbering": false,
   "user_envs_cfg": false
  },
  "toc": {
   "base_numbering": 1,
   "nav_menu": {},
   "number_sections": true,
   "sideBar": true,
   "skip_h1_title": false,
   "title_cell": "Table of Contents",
   "title_sidebar": "Contents",
   "toc_cell": false,
   "toc_position": {
    "height": "calc(100% - 180px)",
    "left": "10px",
    "top": "150px",
    "width": "301px"
   },
   "toc_section_display": true,
   "toc_window_display": true
  }
 },
 "nbformat": 4,
 "nbformat_minor": 4
}
